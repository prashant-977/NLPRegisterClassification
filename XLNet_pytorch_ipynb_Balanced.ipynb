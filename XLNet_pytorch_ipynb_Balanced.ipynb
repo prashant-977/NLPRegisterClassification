{
  "nbformat": 4,
  "nbformat_minor": 0,
  "metadata": {
    "accelerator": "GPU",
    "colab": {
      "name": " XLNet_pytorch.ipynb_Balanced",
      "provenance": [],
      "collapsed_sections": []
    },
    "kernelspec": {
      "display_name": "Python 3",
      "name": "python3"
    }
  },
  "cells": [
    {
      "cell_type": "code",
      "metadata": {
        "colab": {
          "base_uri": "https://localhost:8080/"
        },
        "id": "kMTFf3aGc8Jv",
        "outputId": "8a11f42b-57ff-4689-9ac6-394bf84b6f6b"
      },
      "source": [
        "from google.colab import drive\n",
        "drive.mount(\"/content/drive\")"
      ],
      "execution_count": null,
      "outputs": [
        {
          "output_type": "stream",
          "text": [
            "Drive already mounted at /content/drive; to attempt to forcibly remount, call drive.mount(\"/content/drive\", force_remount=True).\n"
          ],
          "name": "stdout"
        }
      ]
    },
    {
      "cell_type": "markdown",
      "metadata": {
        "id": "TCPQpIm_EJ20"
      },
      "source": [
        "**Installing Required Libraries**"
      ]
    },
    {
      "cell_type": "code",
      "metadata": {
        "colab": {
          "base_uri": "https://localhost:8080/"
        },
        "id": "25w_jP9H4X7J",
        "outputId": "117df2c2-a4e6-4df5-eb0b-95273d6e08f9"
      },
      "source": [
        "!pip install transformers"
      ],
      "execution_count": null,
      "outputs": [
        {
          "output_type": "stream",
          "text": [
            "Requirement already satisfied: transformers in /usr/local/lib/python3.6/dist-packages (4.0.1)\n",
            "Requirement already satisfied: packaging in /usr/local/lib/python3.6/dist-packages (from transformers) (20.7)\n",
            "Requirement already satisfied: tqdm>=4.27 in /usr/local/lib/python3.6/dist-packages (from transformers) (4.41.1)\n",
            "Requirement already satisfied: dataclasses; python_version < \"3.7\" in /usr/local/lib/python3.6/dist-packages (from transformers) (0.8)\n",
            "Requirement already satisfied: requests in /usr/local/lib/python3.6/dist-packages (from transformers) (2.23.0)\n",
            "Requirement already satisfied: regex!=2019.12.17 in /usr/local/lib/python3.6/dist-packages (from transformers) (2019.12.20)\n",
            "Requirement already satisfied: filelock in /usr/local/lib/python3.6/dist-packages (from transformers) (3.0.12)\n",
            "Requirement already satisfied: tokenizers==0.9.4 in /usr/local/lib/python3.6/dist-packages (from transformers) (0.9.4)\n",
            "Requirement already satisfied: sacremoses in /usr/local/lib/python3.6/dist-packages (from transformers) (0.0.43)\n",
            "Requirement already satisfied: numpy in /usr/local/lib/python3.6/dist-packages (from transformers) (1.18.5)\n",
            "Requirement already satisfied: pyparsing>=2.0.2 in /usr/local/lib/python3.6/dist-packages (from packaging->transformers) (2.4.7)\n",
            "Collecting urllib3!=1.25.0,!=1.25.1,<1.26,>=1.21.1\n",
            "\u001b[?25l  Downloading https://files.pythonhosted.org/packages/56/aa/4ef5aa67a9a62505db124a5cb5262332d1d4153462eb8fd89c9fa41e5d92/urllib3-1.25.11-py2.py3-none-any.whl (127kB)\n",
            "\u001b[K     |████████████████████████████████| 133kB 3.7MB/s \n",
            "\u001b[?25hRequirement already satisfied: certifi>=2017.4.17 in /usr/local/lib/python3.6/dist-packages (from requests->transformers) (2020.12.5)\n",
            "Requirement already satisfied: chardet<4,>=3.0.2 in /usr/local/lib/python3.6/dist-packages (from requests->transformers) (3.0.4)\n",
            "Requirement already satisfied: idna<3,>=2.5 in /usr/local/lib/python3.6/dist-packages (from requests->transformers) (2.10)\n",
            "Requirement already satisfied: click in /usr/local/lib/python3.6/dist-packages (from sacremoses->transformers) (7.1.2)\n",
            "Requirement already satisfied: six in /usr/local/lib/python3.6/dist-packages (from sacremoses->transformers) (1.15.0)\n",
            "Requirement already satisfied: joblib in /usr/local/lib/python3.6/dist-packages (from sacremoses->transformers) (0.17.0)\n",
            "\u001b[31mERROR: datascience 0.10.6 has requirement folium==0.2.1, but you'll have folium 0.8.3 which is incompatible.\u001b[0m\n",
            "\u001b[31mERROR: awsebcli 3.19.2 has requirement PyYAML<5.4,>=5.3.1, but you'll have pyyaml 3.13 which is incompatible.\u001b[0m\n",
            "Installing collected packages: urllib3\n",
            "  Found existing installation: urllib3 1.26.2\n",
            "    Uninstalling urllib3-1.26.2:\n",
            "      Successfully uninstalled urllib3-1.26.2\n",
            "Successfully installed urllib3-1.25.11\n"
          ],
          "name": "stdout"
        }
      ]
    },
    {
      "cell_type": "code",
      "metadata": {
        "colab": {
          "base_uri": "https://localhost:8080/"
        },
        "id": "akG4pjV4qxlA",
        "outputId": "fe12d1c3-972b-4c38-cc44-185b127bebc6"
      },
      "source": [
        "#\n",
        "!pip install torch"
      ],
      "execution_count": null,
      "outputs": [
        {
          "output_type": "stream",
          "text": [
            "Requirement already satisfied: torch in /usr/local/lib/python3.6/dist-packages (1.7.0+cu101)\n",
            "Requirement already satisfied: typing-extensions in /usr/local/lib/python3.6/dist-packages (from torch) (3.7.4.3)\n",
            "Requirement already satisfied: dataclasses in /usr/local/lib/python3.6/dist-packages (from torch) (0.8)\n",
            "Requirement already satisfied: numpy in /usr/local/lib/python3.6/dist-packages (from torch) (1.18.5)\n",
            "Requirement already satisfied: future in /usr/local/lib/python3.6/dist-packages (from torch) (0.16.0)\n"
          ],
          "name": "stdout"
        }
      ]
    },
    {
      "cell_type": "code",
      "metadata": {
        "id": "kD8aMONtcCd5"
      },
      "source": [
        "from transformers import XLNetConfig, XLNetTokenizer, XLNetForSequenceClassification\n"
      ],
      "execution_count": null,
      "outputs": []
    },
    {
      "cell_type": "code",
      "metadata": {
        "colab": {
          "base_uri": "https://localhost:8080/"
        },
        "id": "Dfg3YtVuqOle",
        "outputId": "01c186f9-fefd-4c90-980e-0538efec5451"
      },
      "source": [
        "!pip list | grep -E 'transformers|torch|Keras'\n"
      ],
      "execution_count": null,
      "outputs": [
        {
          "output_type": "stream",
          "text": [
            "Keras                         2.4.3          \n",
            "Keras-Preprocessing           1.1.2          \n",
            "pytorch-transformers          1.2.0          \n",
            "torch                         1.7.0+cu101    \n",
            "torchsummary                  1.5.1          \n",
            "torchtext                     0.3.1          \n",
            "torchvision                   0.8.1+cu101    \n",
            "transformers                  4.0.1          \n"
          ],
          "name": "stdout"
        }
      ]
    },
    {
      "cell_type": "markdown",
      "metadata": {
        "id": "AiGgeLWPE7sI"
      },
      "source": [
        "**Reading Train and Test Dataset**"
      ]
    },
    {
      "cell_type": "code",
      "metadata": {
        "id": "M_L813b_rHI0"
      },
      "source": [
        "import pandas as pd\n",
        "\n",
        "train = pd.read_csv('/content/drive/My Drive/Colab Notebooks/train_file.txt', sep='{}{}{}', engine = 'python')\n",
        "test = pd.read_csv(\"/content/drive/My Drive/Colab Notebooks/test_file.txt\", sep= '{}{}{}', engine = 'python')\n",
        "devset = pd.read_csv(\"/content/drive/My Drive/Colab Notebooks/devset.txt\", sep= '{}{}{}', engine = 'python')\n",
        "\n",
        "#from sklearn.model_selection import train_test_split\n",
        "\n",
        "train, val =  train,test"
      ],
      "execution_count": null,
      "outputs": []
    },
    {
      "cell_type": "markdown",
      "metadata": {
        "id": "LhIApHg1FASZ"
      },
      "source": [
        "**Data is Shuffled to Reduce Variance and Avoid Overfitting**"
      ]
    },
    {
      "cell_type": "code",
      "metadata": {
        "colab": {
          "base_uri": "https://localhost:8080/",
          "height": 196
        },
        "id": "1wqMkiny2Pke",
        "outputId": "66d33605-00b5-48ed-d480-c59b12df5a23"
      },
      "source": [
        "from sklearn.utils import shuffle\n",
        "\n",
        "train = shuffle(train)\n",
        "train.head()"
      ],
      "execution_count": null,
      "outputs": [
        {
          "output_type": "execute_result",
          "data": {
            "text/html": [
              "<div>\n",
              "<style scoped>\n",
              "    .dataframe tbody tr th:only-of-type {\n",
              "        vertical-align: middle;\n",
              "    }\n",
              "\n",
              "    .dataframe tbody tr th {\n",
              "        vertical-align: top;\n",
              "    }\n",
              "\n",
              "    .dataframe thead th {\n",
              "        text-align: right;\n",
              "    }\n",
              "</style>\n",
              "<table border=\"1\" class=\"dataframe\">\n",
              "  <thead>\n",
              "    <tr style=\"text-align: right;\">\n",
              "      <th></th>\n",
              "      <th>Label</th>\n",
              "      <th>Text</th>\n",
              "    </tr>\n",
              "  </thead>\n",
              "  <tbody>\n",
              "    <tr>\n",
              "      <th>3744</th>\n",
              "      <td>__label__ne</td>\n",
              "      <td>Pima County sheriff's deputies were able to id...</td>\n",
              "    </tr>\n",
              "    <tr>\n",
              "      <th>15590</th>\n",
              "      <td>__label__df</td>\n",
              "      <td>Trust me, I've installed Windows 8 now on 4 x ...</td>\n",
              "    </tr>\n",
              "    <tr>\n",
              "      <th>10846</th>\n",
              "      <td>__label__ds</td>\n",
              "      <td>Next Date  Straight talking with Blood Red Sho...</td>\n",
              "    </tr>\n",
              "    <tr>\n",
              "      <th>4108</th>\n",
              "      <td>__label__ne</td>\n",
              "      <td>Eurogamer Network Ltd. uses cookies on its web...</td>\n",
              "    </tr>\n",
              "    <tr>\n",
              "      <th>1262</th>\n",
              "      <td>__label__ob</td>\n",
              "      <td>Meta  I've been on the phone all week talking ...</td>\n",
              "    </tr>\n",
              "  </tbody>\n",
              "</table>\n",
              "</div>"
            ],
            "text/plain": [
              "             Label                                               Text\n",
              "3744   __label__ne  Pima County sheriff's deputies were able to id...\n",
              "15590  __label__df  Trust me, I've installed Windows 8 now on 4 x ...\n",
              "10846  __label__ds  Next Date  Straight talking with Blood Red Sho...\n",
              "4108   __label__ne  Eurogamer Network Ltd. uses cookies on its web...\n",
              "1262   __label__ob  Meta  I've been on the phone all week talking ..."
            ]
          },
          "metadata": {
            "tags": []
          },
          "execution_count": 7
        }
      ]
    },
    {
      "cell_type": "code",
      "metadata": {
        "colab": {
          "base_uri": "https://localhost:8080/"
        },
        "id": "iaG21f73-hE2",
        "outputId": "e41fbe28-b1ad-4e67-d93a-255cd46bde54"
      },
      "source": [
        "from sklearn.preprocessing import LabelEncoder\n",
        "\n",
        "labels =train['Label'].values\n",
        "label_encoder = LabelEncoder()    # Turns class labels into integers\n",
        "Y = label_encoder.fit_transform(labels)\n",
        "\n",
        "# Take note of how many unique labels there are in the data\n",
        "num_labels = len(set(Y))\n",
        "\n",
        "\n",
        "# Print out some examples\n",
        "print('Number of unique labels:', num_labels)\n",
        "print(type(labels), labels[:10])\n",
        "print(type(Y), Y[:10])"
      ],
      "execution_count": null,
      "outputs": [
        {
          "output_type": "stream",
          "text": [
            "Number of unique labels: 26\n",
            "<class 'numpy.ndarray'> ['__label__ne' '__label__df' '__label__ds' '__label__ne' '__label__ob'\n",
            " '__label__ob' '__label__df' '__label__ne' '__label__ne' '__label__dp']\n",
            "<class 'numpy.ndarray'> [12  1  3 12 13 13  1 12 12  2]\n"
          ],
          "name": "stdout"
        }
      ]
    },
    {
      "cell_type": "code",
      "metadata": {
        "colab": {
          "base_uri": "https://localhost:8080/",
          "height": 196
        },
        "id": "8nydViBs6T6D",
        "outputId": "796254d2-57b1-4894-ac07-ef63495b608f"
      },
      "source": [
        "train['labels'] = Y\n",
        "train.head()"
      ],
      "execution_count": null,
      "outputs": [
        {
          "output_type": "execute_result",
          "data": {
            "text/html": [
              "<div>\n",
              "<style scoped>\n",
              "    .dataframe tbody tr th:only-of-type {\n",
              "        vertical-align: middle;\n",
              "    }\n",
              "\n",
              "    .dataframe tbody tr th {\n",
              "        vertical-align: top;\n",
              "    }\n",
              "\n",
              "    .dataframe thead th {\n",
              "        text-align: right;\n",
              "    }\n",
              "</style>\n",
              "<table border=\"1\" class=\"dataframe\">\n",
              "  <thead>\n",
              "    <tr style=\"text-align: right;\">\n",
              "      <th></th>\n",
              "      <th>Label</th>\n",
              "      <th>Text</th>\n",
              "      <th>labels</th>\n",
              "    </tr>\n",
              "  </thead>\n",
              "  <tbody>\n",
              "    <tr>\n",
              "      <th>3744</th>\n",
              "      <td>__label__ne</td>\n",
              "      <td>Pima County sheriff's deputies were able to id...</td>\n",
              "      <td>12</td>\n",
              "    </tr>\n",
              "    <tr>\n",
              "      <th>15590</th>\n",
              "      <td>__label__df</td>\n",
              "      <td>Trust me, I've installed Windows 8 now on 4 x ...</td>\n",
              "      <td>1</td>\n",
              "    </tr>\n",
              "    <tr>\n",
              "      <th>10846</th>\n",
              "      <td>__label__ds</td>\n",
              "      <td>Next Date  Straight talking with Blood Red Sho...</td>\n",
              "      <td>3</td>\n",
              "    </tr>\n",
              "    <tr>\n",
              "      <th>4108</th>\n",
              "      <td>__label__ne</td>\n",
              "      <td>Eurogamer Network Ltd. uses cookies on its web...</td>\n",
              "      <td>12</td>\n",
              "    </tr>\n",
              "    <tr>\n",
              "      <th>1262</th>\n",
              "      <td>__label__ob</td>\n",
              "      <td>Meta  I've been on the phone all week talking ...</td>\n",
              "      <td>13</td>\n",
              "    </tr>\n",
              "  </tbody>\n",
              "</table>\n",
              "</div>"
            ],
            "text/plain": [
              "             Label                                               Text  labels\n",
              "3744   __label__ne  Pima County sheriff's deputies were able to id...      12\n",
              "15590  __label__df  Trust me, I've installed Windows 8 now on 4 x ...       1\n",
              "10846  __label__ds  Next Date  Straight talking with Blood Red Sho...       3\n",
              "4108   __label__ne  Eurogamer Network Ltd. uses cookies on its web...      12\n",
              "1262   __label__ob  Meta  I've been on the phone all week talking ...      13"
            ]
          },
          "metadata": {
            "tags": []
          },
          "execution_count": 9
        }
      ]
    },
    {
      "cell_type": "code",
      "metadata": {
        "id": "Vftym0bI-hHt"
      },
      "source": [
        "Y_val = label_encoder.fit_transform(test['Label'].values)"
      ],
      "execution_count": null,
      "outputs": []
    },
    {
      "cell_type": "code",
      "metadata": {
        "id": "zb7BlpzfTCnj"
      },
      "source": [
        "trainDown = train[train['labels'].map(train['labels'].value_counts()) >= 802]\n",
        "trainUp = train[train['labels'].map(train['labels'].value_counts()) <= 802]\n"
      ],
      "execution_count": null,
      "outputs": []
    },
    {
      "cell_type": "code",
      "metadata": {
        "colab": {
          "base_uri": "https://localhost:8080/"
        },
        "id": "v004q8EE6mUM",
        "outputId": "855cad92-8906-446e-9bff-5253c0193245"
      },
      "source": [
        "from imblearn.under_sampling import RandomUnderSampler\n",
        "from imblearn.over_sampling import RandomOverSampler\n",
        "\n",
        "rus = RandomUnderSampler(random_state=0)\n",
        "ros = RandomOverSampler(random_state = 0)\n",
        "\n",
        "X_down, y_down = rus.fit_resample(trainDown,trainDown['labels'])\n",
        "X_up, u_up = ros.fit_resample(trainUp, trainUp['labels'])"
      ],
      "execution_count": null,
      "outputs": [
        {
          "output_type": "stream",
          "text": [
            "/usr/local/lib/python3.6/dist-packages/sklearn/externals/six.py:31: FutureWarning: The module is deprecated in version 0.21 and will be removed in version 0.23 since we've dropped support for Python 2.7. Please rely on the official version of six (https://pypi.org/project/six/).\n",
            "  \"(https://pypi.org/project/six/).\", FutureWarning)\n",
            "/usr/local/lib/python3.6/dist-packages/sklearn/utils/deprecation.py:144: FutureWarning: The sklearn.neighbors.base module is  deprecated in version 0.22 and will be removed in version 0.24. The corresponding classes / functions should instead be imported from sklearn.neighbors. Anything that cannot be imported from sklearn.neighbors is now part of the private API.\n",
            "  warnings.warn(message, FutureWarning)\n",
            "/usr/local/lib/python3.6/dist-packages/sklearn/utils/deprecation.py:87: FutureWarning: Function safe_indexing is deprecated; safe_indexing is deprecated in version 0.22 and will be removed in version 0.24.\n",
            "  warnings.warn(msg, category=FutureWarning)\n",
            "/usr/local/lib/python3.6/dist-packages/sklearn/utils/deprecation.py:87: FutureWarning: Function safe_indexing is deprecated; safe_indexing is deprecated in version 0.22 and will be removed in version 0.24.\n",
            "  warnings.warn(msg, category=FutureWarning)\n"
          ],
          "name": "stderr"
        }
      ]
    },
    {
      "cell_type": "code",
      "metadata": {
        "colab": {
          "base_uri": "https://localhost:8080/",
          "height": 136
        },
        "id": "ZPL0JwCXA8lQ",
        "outputId": "dc42213f-67f9-460e-a751-67f874963366"
      },
      "source": [
        "\n",
        "# Get sentence data\n",
        "sentences = train.Text.to_list()\n",
        "sentences[0]"
      ],
      "execution_count": null,
      "outputs": [
        {
          "output_type": "execute_result",
          "data": {
            "application/vnd.google.colaboratory.intrinsic+json": {
              "type": "string"
            },
            "text/plain": [
              "\"Pima County sheriff's deputies were able to identify burglary suspects, and have arrested one of them following a tip from a viewer.  According to deputies, a burglary suspect cut a hole through a wall to break into a store. It happened on August 30. The owner of the Super H on Ruthrauff Road called deputies after she found her store ransacked. Deputies found a hole cut through the bathroom in the back of the store.  The suspect stole various things, including lottery tickets, which deputies were able to track. The suspects then tried to cash the tickets at various locations.  After releasing the surveillance photos, several tips came in about the suspect's identities. Donnie Wyatt Burt, 43, and David Aaron Mosseri, 29, are believed to be the suspects in the surveillance pictures.  Deputy Tom Peine tells Tucson News Now, Burt was located and arrested Friday night, following a tip from a viewer.  Anyone with information on Mosseri's whereabouts is asked to call 911 or 88-CRIME.  Deputies say the investigation continues and additional arrests are pending.\""
            ]
          },
          "metadata": {
            "tags": []
          },
          "execution_count": 13
        }
      ]
    },
    {
      "cell_type": "code",
      "metadata": {
        "colab": {
          "base_uri": "https://localhost:8080/"
        },
        "id": "Ux5TDQnQBLPs",
        "outputId": "ccf4ba40-5c19-483a-809d-71500c37f34a"
      },
      "source": [
        "labels = train.Label.to_list()\n",
        "print(labels[0])"
      ],
      "execution_count": null,
      "outputs": [
        {
          "output_type": "stream",
          "text": [
            "__label__ne\n"
          ],
          "name": "stdout"
        }
      ]
    },
    {
      "cell_type": "code",
      "metadata": {
        "id": "JOrtEoJYR2x_"
      },
      "source": [
        "labels_val = val.Label.to_list()\n"
      ],
      "execution_count": null,
      "outputs": []
    },
    {
      "cell_type": "code",
      "metadata": {
        "colab": {
          "base_uri": "https://localhost:8080/"
        },
        "id": "5RbZOJQ986zH",
        "outputId": "84b39178-88ce-4360-a5c2-9a7634699cde"
      },
      "source": [
        "Xd = pd.DataFrame(X_down, columns = ['Label','Text','label'])\n",
        "#Xd=Xd[Xd.Label_enc != 6]\n",
        "Xd['label'].value_counts()"
      ],
      "execution_count": null,
      "outputs": [
        {
          "output_type": "execute_result",
          "data": {
            "text/plain": [
              "22    802\n",
              "20    802\n",
              "14    802\n",
              "13    802\n",
              "12    802\n",
              "4     802\n",
              "1     802\n",
              "Name: label, dtype: int64"
            ]
          },
          "metadata": {
            "tags": []
          },
          "execution_count": 16
        }
      ]
    },
    {
      "cell_type": "code",
      "metadata": {
        "colab": {
          "base_uri": "https://localhost:8080/",
          "height": 196
        },
        "id": "WSLMRoQI8889",
        "outputId": "08a024a7-7f3e-4bc4-d3cc-a2c525e88307"
      },
      "source": [
        "Xd.head()"
      ],
      "execution_count": null,
      "outputs": [
        {
          "output_type": "execute_result",
          "data": {
            "text/html": [
              "<div>\n",
              "<style scoped>\n",
              "    .dataframe tbody tr th:only-of-type {\n",
              "        vertical-align: middle;\n",
              "    }\n",
              "\n",
              "    .dataframe tbody tr th {\n",
              "        vertical-align: top;\n",
              "    }\n",
              "\n",
              "    .dataframe thead th {\n",
              "        text-align: right;\n",
              "    }\n",
              "</style>\n",
              "<table border=\"1\" class=\"dataframe\">\n",
              "  <thead>\n",
              "    <tr style=\"text-align: right;\">\n",
              "      <th></th>\n",
              "      <th>Label</th>\n",
              "      <th>Text</th>\n",
              "      <th>label</th>\n",
              "    </tr>\n",
              "  </thead>\n",
              "  <tbody>\n",
              "    <tr>\n",
              "      <th>0</th>\n",
              "      <td>__label__df</td>\n",
              "      <td>One commenter had this to say \"... Here's a qu...</td>\n",
              "      <td>1</td>\n",
              "    </tr>\n",
              "    <tr>\n",
              "      <th>1</th>\n",
              "      <td>__label__df</td>\n",
              "      <td>BCFC.freeforums.org  Welcome to the forum. You...</td>\n",
              "      <td>1</td>\n",
              "    </tr>\n",
              "    <tr>\n",
              "      <th>2</th>\n",
              "      <td>__label__df</td>\n",
              "      <td>What is Spice Lifestyle? There are many curiou...</td>\n",
              "      <td>1</td>\n",
              "    </tr>\n",
              "    <tr>\n",
              "      <th>3</th>\n",
              "      <td>__label__df</td>\n",
              "      <td>I'll be in Aus for a week from Saturday. Does ...</td>\n",
              "      <td>1</td>\n",
              "    </tr>\n",
              "    <tr>\n",
              "      <th>4</th>\n",
              "      <td>__label__df</td>\n",
              "      <td>I have been searching for how to do this and I...</td>\n",
              "      <td>1</td>\n",
              "    </tr>\n",
              "  </tbody>\n",
              "</table>\n",
              "</div>"
            ],
            "text/plain": [
              "         Label                                               Text label\n",
              "0  __label__df  One commenter had this to say \"... Here's a qu...     1\n",
              "1  __label__df  BCFC.freeforums.org  Welcome to the forum. You...     1\n",
              "2  __label__df  What is Spice Lifestyle? There are many curiou...     1\n",
              "3  __label__df  I'll be in Aus for a week from Saturday. Does ...     1\n",
              "4  __label__df  I have been searching for how to do this and I...     1"
            ]
          },
          "metadata": {
            "tags": []
          },
          "execution_count": 17
        }
      ]
    },
    {
      "cell_type": "code",
      "metadata": {
        "colab": {
          "base_uri": "https://localhost:8080/"
        },
        "id": "MpC285li9Qwv",
        "outputId": "70e55af0-6720-4e54-ce58-ec5c7ca133bf"
      },
      "source": [
        "Xu = pd.DataFrame(X_up, columns = ['Label','Text','label'])\n",
        "Xu['label'].value_counts()"
      ],
      "execution_count": null,
      "outputs": [
        {
          "output_type": "execute_result",
          "data": {
            "text/plain": [
              "25    802\n",
              "24    802\n",
              "2     802\n",
              "3     802\n",
              "5     802\n",
              "6     802\n",
              "7     802\n",
              "8     802\n",
              "9     802\n",
              "10    802\n",
              "11    802\n",
              "15    802\n",
              "16    802\n",
              "17    802\n",
              "18    802\n",
              "19    802\n",
              "20    802\n",
              "21    802\n",
              "23    802\n",
              "0     802\n",
              "Name: label, dtype: int64"
            ]
          },
          "metadata": {
            "tags": []
          },
          "execution_count": 18
        }
      ]
    },
    {
      "cell_type": "code",
      "metadata": {
        "colab": {
          "base_uri": "https://localhost:8080/"
        },
        "id": "PnJuLKhU-Ibg",
        "outputId": "c60366eb-2562-4bcf-ee3a-440c896ff291"
      },
      "source": [
        "Xu = Xu[Xu.label != 20]\n",
        "Xu['label'].value_counts()"
      ],
      "execution_count": null,
      "outputs": [
        {
          "output_type": "execute_result",
          "data": {
            "text/plain": [
              "25    802\n",
              "10    802\n",
              "2     802\n",
              "3     802\n",
              "5     802\n",
              "6     802\n",
              "7     802\n",
              "8     802\n",
              "9     802\n",
              "11    802\n",
              "24    802\n",
              "15    802\n",
              "16    802\n",
              "17    802\n",
              "18    802\n",
              "19    802\n",
              "21    802\n",
              "23    802\n",
              "0     802\n",
              "Name: label, dtype: int64"
            ]
          },
          "metadata": {
            "tags": []
          },
          "execution_count": 19
        }
      ]
    },
    {
      "cell_type": "code",
      "metadata": {
        "colab": {
          "base_uri": "https://localhost:8080/"
        },
        "id": "NWXby3cN9I-O",
        "outputId": "abefd858-8898-4b8f-891c-36b67e247657"
      },
      "source": [
        "new_df = pd.concat([Xd,Xu]).reset_index(drop=True)\n",
        "new_df['label'].value_counts()"
      ],
      "execution_count": null,
      "outputs": [
        {
          "output_type": "execute_result",
          "data": {
            "text/plain": [
              "25    802\n",
              "24    802\n",
              "1     802\n",
              "2     802\n",
              "3     802\n",
              "4     802\n",
              "5     802\n",
              "6     802\n",
              "7     802\n",
              "8     802\n",
              "9     802\n",
              "10    802\n",
              "11    802\n",
              "12    802\n",
              "13    802\n",
              "14    802\n",
              "15    802\n",
              "16    802\n",
              "17    802\n",
              "18    802\n",
              "19    802\n",
              "20    802\n",
              "21    802\n",
              "22    802\n",
              "23    802\n",
              "0     802\n",
              "Name: label, dtype: int64"
            ]
          },
          "metadata": {
            "tags": []
          },
          "execution_count": 20
        }
      ]
    },
    {
      "cell_type": "code",
      "metadata": {
        "colab": {
          "base_uri": "https://localhost:8080/"
        },
        "id": "SsqJzrFWFE32",
        "outputId": "2522ac9d-076c-4563-d391-2cf90b4a3f99"
      },
      "source": [
        "new_df['label'].values"
      ],
      "execution_count": null,
      "outputs": [
        {
          "output_type": "execute_result",
          "data": {
            "text/plain": [
              "array([1, 1, 1, ..., 25, 25, 25], dtype=object)"
            ]
          },
          "metadata": {
            "tags": []
          },
          "execution_count": 21
        }
      ]
    },
    {
      "cell_type": "markdown",
      "metadata": {
        "id": "ozu10QQCF1L2"
      },
      "source": [
        "**Make training data**\n",
        "\n",
        "Make raw data into trainable data for XLNet, including:\n",
        "\n",
        "Set gpu environment\n",
        "Load tokenizer and tokenize\n",
        "Set 3 embedding, token embedding, mask word embedding, segmentation embedding\n",
        "Split data set into train and validate, then send them to dataloader"
      ]
    },
    {
      "cell_type": "code",
      "metadata": {
        "id": "aPraHf8ou8QS"
      },
      "source": [
        "import torch\n",
        "device = torch.device(\"cuda\" if torch.cuda.is_available() else \"cpu\")\n",
        "n_gpu = torch.cuda.device_count()"
      ],
      "execution_count": null,
      "outputs": []
    },
    {
      "cell_type": "code",
      "metadata": {
        "colab": {
          "base_uri": "https://localhost:8080/"
        },
        "id": "TO4EkhMVzn1O",
        "outputId": "65ea46ce-1e6b-473a-8319-3e8d8f02e709"
      },
      "source": [
        "n_gpu"
      ],
      "execution_count": null,
      "outputs": [
        {
          "output_type": "execute_result",
          "data": {
            "text/plain": [
              "1"
            ]
          },
          "metadata": {
            "tags": []
          },
          "execution_count": 23
        }
      ]
    },
    {
      "cell_type": "code",
      "metadata": {
        "colab": {
          "base_uri": "https://localhost:8080/",
          "height": 35
        },
        "id": "2N0ii0En3US7",
        "outputId": "e3c485d7-82fc-4784-bc3c-837a4228ad57"
      },
      "source": [
        "vocabulary = '/content/drive/My Drive/Colab Notebooks/xlnet-base-cased-spiece.model'\n",
        "vocabulary "
      ],
      "execution_count": null,
      "outputs": [
        {
          "output_type": "execute_result",
          "data": {
            "application/vnd.google.colaboratory.intrinsic+json": {
              "type": "string"
            },
            "text/plain": [
              "'/content/drive/My Drive/Colab Notebooks/xlnet-base-cased-spiece.model'"
            ]
          },
          "metadata": {
            "tags": []
          },
          "execution_count": 24
        }
      ]
    },
    {
      "cell_type": "markdown",
      "metadata": {
        "id": "FGeqwgUz3mFz"
      },
      "source": [
        "### Configuring MaxLen\n",
        "This is the most optimum length for training our model, I found"
      ]
    },
    {
      "cell_type": "code",
      "metadata": {
        "id": "7CYyk3yM3lGd"
      },
      "source": [
        "max_len  = 256"
      ],
      "execution_count": null,
      "outputs": []
    },
    {
      "cell_type": "markdown",
      "metadata": {
        "id": "51V8AUioF9dx"
      },
      "source": [
        "### Tokenizer"
      ]
    },
    {
      "cell_type": "code",
      "metadata": {
        "id": "_cj5j7EE3hMa"
      },
      "source": [
        "\n",
        "# With cased model, set do_lower_case = False\n",
        "tokenizer = XLNetTokenizer(vocab_file=vocabulary,do_lower_case=False)"
      ],
      "execution_count": null,
      "outputs": []
    },
    {
      "cell_type": "code",
      "metadata": {
        "colab": {
          "base_uri": "https://localhost:8080/"
        },
        "id": "8Cv18KzIRuFy",
        "outputId": "2044b931-d03d-4917-fbd5-c7aa933ee5d3"
      },
      "source": [
        "var = tokenizer(\"I am doing my NLP thesis, not project\")\n",
        "print(var['input_ids'])\n",
        "print(var['token_type_ids'])\n",
        "print(var['attention_mask'])\n",
        "print(tokenizer.tokenize(\"I am doing my NLP thesis, not project\"))\n",
        "print(tokenizer.encode('_thesis'))\n",
        "print(tokenizer.decode(3))"
      ],
      "execution_count": null,
      "outputs": [
        {
          "output_type": "stream",
          "text": [
            "[35, 569, 690, 94, 578, 7286, 13300, 19, 50, 686, 4, 3]\n",
            "[0, 0, 0, 0, 0, 0, 0, 0, 0, 0, 0, 2]\n",
            "[1, 1, 1, 1, 1, 1, 1, 1, 1, 1, 1, 1]\n",
            "['▁I', '▁am', '▁doing', '▁my', '▁N', 'LP', '▁thesis', ',', '▁not', '▁project']\n",
            "[225, 305, 6142, 4, 3]\n",
            "<cls>\n"
          ],
          "name": "stdout"
        }
      ]
    },
    {
      "cell_type": "code",
      "metadata": {
        "colab": {
          "base_uri": "https://localhost:8080/"
        },
        "id": "gTha6XR4ep4t",
        "outputId": "b4bf6443-e77d-4d25-bdc5-7ea4245a600b"
      },
      "source": [
        "tokenizer.convert_ids_to_tokens(var['input_ids'])\n"
      ],
      "execution_count": null,
      "outputs": [
        {
          "output_type": "execute_result",
          "data": {
            "text/plain": [
              "['▁I',\n",
              " '▁am',\n",
              " '▁doing',\n",
              " '▁my',\n",
              " '▁N',\n",
              " 'LP',\n",
              " '▁thesis',\n",
              " ',',\n",
              " '▁not',\n",
              " '▁project',\n",
              " '<sep>',\n",
              " '<cls>']"
            ]
          },
          "metadata": {
            "tags": []
          },
          "execution_count": 28
        }
      ]
    },
    {
      "cell_type": "code",
      "metadata": {
        "colab": {
          "base_uri": "https://localhost:8080/"
        },
        "id": "C8BRrSH9ZdNU",
        "outputId": "7d8cef53-a343-42fa-9250-dc829de0a75a"
      },
      "source": [
        "tokenizer.encode('word')"
      ],
      "execution_count": null,
      "outputs": [
        {
          "output_type": "execute_result",
          "data": {
            "text/plain": [
              "[1139, 4, 3]"
            ]
          },
          "metadata": {
            "tags": []
          },
          "execution_count": 29
        }
      ]
    },
    {
      "cell_type": "markdown",
      "metadata": {
        "id": "lrddJI01GJnY"
      },
      "source": [
        "### The Embedding Process"
      ]
    },
    {
      "cell_type": "code",
      "metadata": {
        "id": "GtUdi_CuEYer"
      },
      "source": [
        "# train.sample(10)"
      ],
      "execution_count": null,
      "outputs": []
    },
    {
      "cell_type": "code",
      "metadata": {
        "id": "l7-AL0f-Z9Lo"
      },
      "source": [
        "# Create sentence and label lists\n",
        "sentences = new_df.Text.values"
      ],
      "execution_count": null,
      "outputs": []
    },
    {
      "cell_type": "code",
      "metadata": {
        "id": "sZi4acdAPHDA"
      },
      "source": [
        "sent_val = val.Text.values"
      ],
      "execution_count": null,
      "outputs": []
    },
    {
      "cell_type": "code",
      "metadata": {
        "id": "EtA8ym9jE24_"
      },
      "source": [
        "sentences = [sentence + \" [SEP] [CLS]\" for sentence in sentences]\n",
        "sent_val = [sent + \" [SEP] [CLS]\" for sent in sent_val]\n",
        "labels = new_df['label'].values.astype(int)\n",
        "lab_val = Y_val"
      ],
      "execution_count": null,
      "outputs": []
    },
    {
      "cell_type": "code",
      "metadata": {
        "id": "XdH4x4_pFwk8"
      },
      "source": [
        "#new_df['label'].values.astype(int)"
      ],
      "execution_count": null,
      "outputs": []
    },
    {
      "cell_type": "code",
      "metadata": {
        "colab": {
          "base_uri": "https://localhost:8080/"
        },
        "id": "KBRShjH8FTO9",
        "outputId": "5cea2617-3bb0-4b1e-aa11-82818271cef9"
      },
      "source": [
        "tokenizer = XLNetTokenizer.from_pretrained('xlnet-base-cased', do_lower_case=True)\n",
        "\n",
        "tokenized_texts_train = [tokenizer.tokenize(sent) for sent in sentences]\n",
        "tokenized_texts_val = [tokenizer.tokenize(sent) for sent in sent_val]\n",
        "print (\"Tokenize the first sentence:\")\n",
        "print (tokenized_texts_train[0])\n",
        "print(\"Tokenized test sentence:\")\n",
        "print(tokenized_texts_val[0])"
      ],
      "execution_count": null,
      "outputs": [
        {
          "output_type": "stream",
          "text": [
            "Tokenize the first sentence:\n",
            "['▁one', '▁comment', 'er', '▁had', '▁this', '▁to', '▁say', '▁', '\"', '.', '.', '.', '▁here', \"'\", 's', '▁a', '▁quote', '▁and', '▁it', '▁is', '▁true', ':', '▁the', '▁line', '▁between', '▁', '\"', 'making', '\"', '▁and', '▁', '\"', 'taking', '\"', '▁is', '▁not', '▁a', '▁racial', '▁line', '.', '▁the', '▁biggest', '▁government', '▁program', '▁we', '▁have', ',', '▁medic', 'are', ',', '▁benefits', '▁a', '▁population', '▁that', '▁is', '▁8', '5%', '▁white', '.', '▁those', '▁are', '▁the', '▁same', '▁white', '▁people', '▁that', '▁voted', '▁for', '▁', 'rom', 'ney', '.', '▁according', '▁to', '▁the', '▁', 're', 'pub', 's', ',', '▁they', '▁are', '▁the', '▁', '\"', 'taker', 's', '\"', ',', '▁but', '▁blame', '▁those', '▁that', '▁voted', '▁for', '▁ob', 'ama', '.', '▁', '.', '.', '.', '.', '.', '.', '\"', '▁da', 've', '▁___', '_', '_', '_', '_', '_', '_', '_', '_', '_', '_', '_', '_', '_', '_', '_', '_', '_', '_', '_', '_', '_', '_', '▁10', '▁years', '▁ago', '▁the', '▁', 'usa', '▁had', '▁', 'ste', 've', '▁jobs', ',', '▁bob', '▁hope', '▁and', '▁', 'john', 'ny', '▁cash', '▁', '.', '.', '.', '.', '?', 'now', '▁they', '▁have', '▁no', '▁jobs', ',', '▁no', '▁hope', '▁and', '▁no', '▁cash', '.', '?', '▁oh', '▁the', '▁country', '▁is', '▁going', '▁to', '▁hell', ',', '▁but', '▁', 'i', '▁would', '▁not', '▁presume', '▁to', '▁say', '▁that', '▁a', '▁different', '▁result', '▁at', '▁the', '▁recent', '▁general', '▁election', '▁would', '▁have', '▁us', '▁not', '▁going', '▁there', '.', '▁___', '_', '_', '_', '_', '_', '_', '_', '_', '_', '_', '_', '_', '_', '_', '_', '_', '_', '_', '_', '_', '_', '_', '▁', 'i', '▁used', '▁to', '▁think', '▁it', '▁was', '▁terrible', '▁that', '▁life', '▁was', '▁unfair', '.', '▁then', '▁', 'i', '▁thought', '▁what', '▁if', '▁life', '▁were', '▁fair', '▁and', '▁all', '▁of', '▁the', '▁terrible', '▁things', '▁that', '▁happen', '▁came', '▁because', '▁we', '▁really', '▁deserved', '▁them', '?', '▁now', '▁', 'i', '▁take', '▁comfort', '▁in', '▁the', '▁general', '▁unfair', 'ness', '▁and', '▁hostility', '▁of', '▁the', '▁universe', '.', '▁well', '▁that', \"'\", 's', '▁true', '▁but', '▁', 'i', '▁will', '▁say', '▁we', '▁are', '▁headed', '▁to', '▁some', '▁rough', '▁fiscal', '▁times', '▁', ',', '▁', 'es', 'p', '▁if', '▁the', '▁financial', '▁cliff', '▁is', '▁hit', '.', '.', '.', '.', '▁major', '▁shake', '▁up', 's', '.', '.', '.', '.', '▁market', '▁will', '▁tumble', '.', '▁all', '▁set', '▁up', '▁by', '▁the', '▁wild', '▁spending', '▁and', '▁no', '▁revenue', '▁of', '▁8', '▁years', '▁of', '▁bush', '▁and', '▁his', '▁first', '▁6', '▁years', '▁of', '▁a', '▁go', 'p', '▁congress', '.', '▁', '(', '▁after', '▁all', ',', '▁our', '▁fiscal', '▁house', '▁was', '▁in', '▁order', '▁more', '▁or', '▁less', '▁when', '▁', 'clin', 'ton', '▁left', ')', '.', '▁we', ';', 're', '▁still', '▁feeling', '▁the', '▁effects', '▁of', '▁our', '▁fiscal', '▁policy', '▁being', '▁out', '▁of', '▁balance', '▁from', '▁that', '▁time', '-', '▁it', '▁doesn', \"'\", 't', '▁correct', '▁overnight', '▁or', '▁if', '▁it', '▁does', '▁you', '▁get', '▁a', '▁depression', '▁', '!!', '▁but', '▁warning', '▁to', '▁all', '▁', '!!', '▁if', '▁you', '▁have', '▁investments', '▁get', '▁them', '▁to', '▁conservative', '▁funds', '▁as', 'ap', '▁', '!!', '▁even', '▁', 'wo', '▁the', '▁cliff', '▁were', '▁headed', '▁into', '▁a', '▁market', '▁correction', '.', '.', '.', '▁hopefully', '▁not', '▁as', '▁bad', '▁as', '▁2008', '▁but', '▁still', '▁ugly', '.', '.', '▁got', '▁that', '▁from', '▁my', '▁online', '▁trading', '▁class', '.', '▁cover', '▁yourself', ',', '▁please', '▁', '!', '▁', 'dow', '▁has', '▁dropped', '▁&', 'g', 't', ';', '600', '▁points', '▁since', '▁the', '▁election', '▁', '!', '▁and', '▁&', 'g', 't', ';', '1000', '▁since', '▁the', '▁', 'oc', 't', '▁high', 's', '.', '.', '.', '▁still', '▁in', '▁a', '▁bear', 'ish', '▁trend', '.', '▁news', '▁from', '▁middle', '▁east', '▁and', '▁the', '▁fiscal', '▁cliff', '▁will', '▁drive', '▁it', '▁lower', '▁until', '▁something', '▁changes', '.', '▁but', '▁that', '▁said', '▁', ',', '▁traders', '▁say', '▁we', \"'\", 're', '▁in', '▁for', '▁10', '-', '2', '0%', '▁correction', '▁before', '▁or', '▁right', '▁after', '▁the', '▁new', '▁year', '.', '▁didn', \"'\", 't', '▁matter', '▁who', '▁was', '▁elected', '▁either', '.', '.', '.', '▁it', \"'\", 's', '▁been', '▁gathering', '▁for', '▁many', '▁months', '.', '▁', 'i', '▁hope', '▁not', '▁but', '▁many', '▁of', '▁these', '▁advisors', '▁have', '▁been', '▁around', '▁for', '▁decades', '▁', '!', '▁', 'i', '▁expect', '▁the', '▁', 'dow', '▁to', '▁retreat', '▁back', '▁below', '▁or', '▁very', '▁near', '▁10,000', '▁', '(', 'hope', 'fully', '▁no', '▁more', ')', '.', '▁we', '▁may', '▁be', '▁sliding', '▁as', '▁we', '▁speak', '▁', '!!', '▁x', 'plain', \"'\", 's', '▁use', '▁of', '▁mac', 'news', ',', '▁apple', 'central', '▁and', '▁apple', 'exp', 'o', '▁are', '▁not', '▁affiliated', '▁with', '▁apple', ',', '▁in', 'c', '.', '▁mac', 'tech', '▁is', '▁a', '▁registered', '▁trademark', '▁of', '▁x', 'plain', '▁corporation', '.', '▁apple', 'central', ',', '▁mac', 'news', ',', '▁x', 'plain', ',', '▁', '\"', 'the', '▁journal', '▁of', '▁apple', '▁technology', '\"', ',', '▁apple', '▁ex', 'po', ',', '▁explain', '▁it', ',', '▁mac', 'dev', ',', '▁mac', 'dev', '-', '1', ',', '▁think', '▁reference', ',', '▁net', 'professional', ',', '▁mac', 'tech', '▁central', ',', '▁mac', 'tech', '▁domains', ',', '▁mac', 'for', 'ge', ',', '▁and', '▁the', '▁mac', 'tu', 'tor', 'man', '▁are', '▁trademarks', '▁or', '▁service', '▁marks', '▁of', '▁x', 'plain', '▁', 'corp', '.', '▁', 's', 'pr', 'ocket', '▁is', '▁a', '▁registered', '▁trademark', '▁of', '▁', 'es', 'pr', 'ocket', '▁', 'corp', '.', '▁other', '▁trademarks', '▁and', '▁copyright', 's', '▁appearing', '▁in', '▁this', '▁printing', '▁or', '▁software', '▁remain', '▁the', '▁property', '▁of', '▁their', '▁respective', '▁holders', '.', '▁all', '▁contents', '▁are', '▁copyright', '▁1984', '-', '2010', '▁by', '▁x', 'plain', '▁corporation', '.', '▁all', '▁rights', '▁reserved', '.', '▁theme', '▁designed', '▁by', '▁', 'ic', 're', 'on', '▁', '.', '▁[', 's', 'ep', ']', '▁[', 'cl', 's', ']', '▁[', 's', 'ep', ']', '▁[', 'cl', 's', ']', '▁[', 's', 'ep', ']', '▁[', 'cl', 's', ']']\n",
            "Tokenized test sentence:\n",
            "['▁just', '▁another', '▁', 'ub', 'c', '▁blogs', '▁site', '▁main', '▁menu', '▁post', '▁navigation', '▁the', '▁growing', '▁in', 'equity', '▁', 'america', '▁is', '▁now', '▁experiencing', '▁an', '▁unequal', '▁economy', '▁growth', ',', '▁which', '▁means', '▁the', '▁richer', '▁get', '▁richer', '▁and', '▁the', '▁poorer', '▁get', '▁poor', '.', '▁', 'china', '▁is', '▁also', '▁undergoing', '▁this', '▁situation', '.', '▁some', '▁people', '▁believe', '▁that', '▁the', '▁inequality', '▁is', '▁essential', '▁in', '▁terms', '▁of', '▁rewarding', '▁success', '▁and', '▁', 'entrepreneurship', '.', '▁however', ',', '▁the', '▁inequality', '▁may', '▁also', '▁bring', '▁social', '▁unrest', '.', '▁there', '▁are', '▁several', '▁causes', '▁of', '▁the', '▁growing', '▁inequality', '.', '▁one', '▁of', '▁them', '▁is', '▁the', '▁weakness', '▁in', '▁basic', '▁education', '.', '▁take', '▁', 'america', '▁as', '▁an', '▁example', ',', '▁there', '▁is', '▁no', '▁doubt', '▁that', '▁', 'america', \"'\", 's', '▁superior', '▁post', '-', 'secondary', '▁education', '▁creates', '▁a', '▁group', '▁of', '▁high', '▁earn', 'ers', '.', '▁however', ',', '▁a', '▁significant', '▁number', '▁of', '▁low', '▁class', '▁population', '▁are', '▁not', '▁able', '▁to', '▁move', '▁up', '▁into', '▁an', '▁upper', '▁class', '▁because', '▁of', '▁bad', '▁basic', '▁education', '.', '▁another', '▁main', '▁reason', '▁of', '▁the', '▁inequality', '▁is', '▁the', '▁lack', '▁of', '▁regulation', '▁over', '▁businesses', '.', '▁some', '▁institutions', '▁create', '▁large', '▁profits', ',', '▁but', '▁at', '▁the', '▁same', '▁time', ',', '▁they', '▁in', 'cur', '▁costs', '▁that', '▁fall', '▁on', '▁everyone', '▁else', '▁such', '▁as', '▁pollution', '▁and', '▁bailout', 's', '▁that', '▁draw', '▁from', '▁tax', '▁pay', 'ers', \"'\", '▁money', '.', '▁as', '▁a', '▁result', '▁of', '▁social', '▁in', 'e', 'qual', 'ities', ',', '▁more', '▁and', '▁more', '▁social', '▁entrepreneurs', '▁appear', ',', '▁trying', '▁to', '▁improve', '▁this', '▁phenomenon', '.', '▁yet', ',', '▁it', '▁is', '▁still', '▁the', '▁government', \"'\", 's', '▁obligation', '▁to', '▁reduce', '▁the', '▁inequality', '▁and', '▁help', '▁everyone', '▁get', '▁better', '▁off', '.', '▁[', 's', 'ep', ']', '▁[', 'cl', 's', ']', '▁[', 's', 'ep', ']', '▁[', 'cl', 's', ']', '▁[', 's', 'ep', ']', '▁[', 'cl', 's', ']']\n"
          ],
          "name": "stdout"
        }
      ]
    },
    {
      "cell_type": "markdown",
      "metadata": {
        "id": "Zhga8m_0H6_Q"
      },
      "source": [
        "### Inputs"
      ]
    },
    {
      "cell_type": "markdown",
      "metadata": {
        "id": "GdzjW2OIITKz"
      },
      "source": [
        "For tokenizing sentence, we need following parameters:\n",
        "\n",
        "input ids: Input tokens matched to index number in tokenizer (numbers)\n",
        "\n",
        "segment mask: (optional) a sequence of 1s and 0s used to identify whether the input is one sentence or two sentences long. We dont use it in our task. \n",
        "\n",
        "attention mask: (optional) a sequence of 1s and 0s. 1s represent all input tokens and 0s represent all padding tokens \n",
        "\n",
        "labels: In our case, we have multilabel"
      ]
    },
    {
      "cell_type": "code",
      "metadata": {
        "id": "SYAQNXQ6Htaq"
      },
      "source": [
        "# Set the maximum sequence length. \n",
        "MAX_LEN = 256"
      ],
      "execution_count": null,
      "outputs": []
    },
    {
      "cell_type": "code",
      "metadata": {
        "id": "Y_4XBXruH9FB"
      },
      "source": [
        "# Use the XLNet tokenizer to convert the tokens to their index numbers in the XLNet vocabulary\n",
        "input_ids_train = [tokenizer.convert_tokens_to_ids(x) for x in tokenized_texts_train]\n",
        "input_ids_val = [tokenizer.convert_tokens_to_ids(x) for x in tokenized_texts_val]"
      ],
      "execution_count": null,
      "outputs": []
    },
    {
      "cell_type": "code",
      "metadata": {
        "id": "klk3E0m0Ih3y"
      },
      "source": [
        "# Pad our input tokens\n",
        "from keras.preprocessing.sequence import pad_sequences\n",
        "\n",
        "input_ids_train = pad_sequences(input_ids_train, maxlen=MAX_LEN, dtype=\"long\", truncating=\"post\", padding=\"post\")\n",
        "input_ids_val = pad_sequences(input_ids_val, maxlen = MAX_LEN, dtype = \"long\",truncating = \"post\", padding = \"post\")"
      ],
      "execution_count": null,
      "outputs": []
    },
    {
      "cell_type": "markdown",
      "metadata": {
        "id": "E6vEXc0qI_p0"
      },
      "source": [
        "### Creating Attention Masks"
      ]
    },
    {
      "cell_type": "code",
      "metadata": {
        "id": "AtQmSbowIlPs"
      },
      "source": [
        "# Create attention masks\n",
        "attention_masks_train = []\n",
        "\n",
        "# Create a mask of 1s for each token. 0s represent padding\n",
        "for sequence in input_ids_train:\n",
        "  sequence_mask = [float(i>0) for i in sequence]\n",
        "  attention_masks_train.append(sequence_mask)"
      ],
      "execution_count": null,
      "outputs": []
    },
    {
      "cell_type": "code",
      "metadata": {
        "id": "DaltiOeVRTIN"
      },
      "source": [
        "attention_masks_val = []\n",
        "\n",
        "# Create a mask of 1s for each token followed by 0s for padding\n",
        "for seq in input_ids_val:\n",
        "  seq_mask = [float(i>0) for i in seq]\n",
        "  attention_masks_val.append(seq_mask)"
      ],
      "execution_count": null,
      "outputs": []
    },
    {
      "cell_type": "code",
      "metadata": {
        "id": "atXL79RKJCUv"
      },
      "source": [
        "\n",
        "train_inputs, train_labels = input_ids_train, labels\n",
        "\n",
        "train_masks, _= attention_masks_train, input_ids_train"
      ],
      "execution_count": null,
      "outputs": []
    },
    {
      "cell_type": "code",
      "metadata": {
        "id": "MdKrGpCROXF-"
      },
      "source": [
        "#Now for validation input and validation mask\n",
        "validation_inputs, validation_labels = input_ids_val, lab_val\n",
        "validation_masks,_=attention_masks_val,input_ids_val"
      ],
      "execution_count": null,
      "outputs": []
    },
    {
      "cell_type": "code",
      "metadata": {
        "id": "V_pRR0xISNJN"
      },
      "source": [
        "# Convert all of our data into torch tensors, the required datatype for our model\n",
        "\n",
        "train_inputs = torch.tensor(train_inputs)\n",
        "validation_inputs = torch.tensor(validation_inputs)\n",
        "train_labels = torch.tensor(train_labels)\n",
        "validation_labels = torch.tensor(validation_labels)\n",
        "train_masks = torch.tensor(train_masks)\n",
        "validation_masks = torch.tensor(validation_masks)"
      ],
      "execution_count": null,
      "outputs": []
    },
    {
      "cell_type": "code",
      "metadata": {
        "id": "jDu_xfCoSWpo"
      },
      "source": [
        "from torch.utils.data import TensorDataset, DataLoader, RandomSampler, SequentialSampler\n",
        "\n",
        "# Select a batch size for training. For fine-tuning with XLNet, the authors recommend a batch size of 32, 48, or 128. We will use 32 here to avoid memory issues. In our case 16 gives best result\n",
        "batch_size = 16\n",
        "\n",
        "# Create an iterator of our data with torch DataLoader. This helps save on memory during training because, unlike a for loop, \n",
        "# with an iterator the entire dataset does not need to be loaded into memory\n",
        "\n",
        "train_data_tensor = TensorDataset(train_inputs, train_masks, train_labels)\n",
        "train_sampler_random = RandomSampler(train_data_tensor)\n",
        "train_dataloader = DataLoader(train_data_tensor, sampler=train_sampler_random, batch_size=batch_size)\n",
        "\n",
        "validation_data = TensorDataset(validation_inputs, validation_masks, validation_labels)\n",
        "validation_sampler = SequentialSampler(validation_data)\n",
        "validation_dataloader = DataLoader(validation_data, sampler=validation_sampler, batch_size=batch_size)\n"
      ],
      "execution_count": null,
      "outputs": []
    },
    {
      "cell_type": "code",
      "metadata": {
        "colab": {
          "base_uri": "https://localhost:8080/"
        },
        "id": "K-rGYSGNVZek",
        "outputId": "21345a1b-86f1-4916-c916-b5133bc8c62a"
      },
      "source": [
        "# Load XLNEtForSequenceClassification, the pretrained XLNet model with a single linear classification layer on top. \n",
        "\n",
        "model = XLNetForSequenceClassification.from_pretrained(\"xlnet-base-cased\", num_labels=26)\n",
        "model.cuda()"
      ],
      "execution_count": null,
      "outputs": [
        {
          "output_type": "stream",
          "text": [
            "Some weights of the model checkpoint at xlnet-base-cased were not used when initializing XLNetForSequenceClassification: ['lm_loss.weight', 'lm_loss.bias']\n",
            "- This IS expected if you are initializing XLNetForSequenceClassification from the checkpoint of a model trained on another task or with another architecture (e.g. initializing a BertForSequenceClassification model from a BertForPreTraining model).\n",
            "- This IS NOT expected if you are initializing XLNetForSequenceClassification from the checkpoint of a model that you expect to be exactly identical (initializing a BertForSequenceClassification model from a BertForSequenceClassification model).\n",
            "Some weights of XLNetForSequenceClassification were not initialized from the model checkpoint at xlnet-base-cased and are newly initialized: ['sequence_summary.summary.weight', 'sequence_summary.summary.bias', 'logits_proj.weight', 'logits_proj.bias']\n",
            "You should probably TRAIN this model on a down-stream task to be able to use it for predictions and inference.\n"
          ],
          "name": "stderr"
        },
        {
          "output_type": "execute_result",
          "data": {
            "text/plain": [
              "XLNetForSequenceClassification(\n",
              "  (transformer): XLNetModel(\n",
              "    (word_embedding): Embedding(32000, 768)\n",
              "    (layer): ModuleList(\n",
              "      (0): XLNetLayer(\n",
              "        (rel_attn): XLNetRelativeAttention(\n",
              "          (layer_norm): LayerNorm((768,), eps=1e-12, elementwise_affine=True)\n",
              "          (dropout): Dropout(p=0.1, inplace=False)\n",
              "        )\n",
              "        (ff): XLNetFeedForward(\n",
              "          (layer_norm): LayerNorm((768,), eps=1e-12, elementwise_affine=True)\n",
              "          (layer_1): Linear(in_features=768, out_features=3072, bias=True)\n",
              "          (layer_2): Linear(in_features=3072, out_features=768, bias=True)\n",
              "          (dropout): Dropout(p=0.1, inplace=False)\n",
              "        )\n",
              "        (dropout): Dropout(p=0.1, inplace=False)\n",
              "      )\n",
              "      (1): XLNetLayer(\n",
              "        (rel_attn): XLNetRelativeAttention(\n",
              "          (layer_norm): LayerNorm((768,), eps=1e-12, elementwise_affine=True)\n",
              "          (dropout): Dropout(p=0.1, inplace=False)\n",
              "        )\n",
              "        (ff): XLNetFeedForward(\n",
              "          (layer_norm): LayerNorm((768,), eps=1e-12, elementwise_affine=True)\n",
              "          (layer_1): Linear(in_features=768, out_features=3072, bias=True)\n",
              "          (layer_2): Linear(in_features=3072, out_features=768, bias=True)\n",
              "          (dropout): Dropout(p=0.1, inplace=False)\n",
              "        )\n",
              "        (dropout): Dropout(p=0.1, inplace=False)\n",
              "      )\n",
              "      (2): XLNetLayer(\n",
              "        (rel_attn): XLNetRelativeAttention(\n",
              "          (layer_norm): LayerNorm((768,), eps=1e-12, elementwise_affine=True)\n",
              "          (dropout): Dropout(p=0.1, inplace=False)\n",
              "        )\n",
              "        (ff): XLNetFeedForward(\n",
              "          (layer_norm): LayerNorm((768,), eps=1e-12, elementwise_affine=True)\n",
              "          (layer_1): Linear(in_features=768, out_features=3072, bias=True)\n",
              "          (layer_2): Linear(in_features=3072, out_features=768, bias=True)\n",
              "          (dropout): Dropout(p=0.1, inplace=False)\n",
              "        )\n",
              "        (dropout): Dropout(p=0.1, inplace=False)\n",
              "      )\n",
              "      (3): XLNetLayer(\n",
              "        (rel_attn): XLNetRelativeAttention(\n",
              "          (layer_norm): LayerNorm((768,), eps=1e-12, elementwise_affine=True)\n",
              "          (dropout): Dropout(p=0.1, inplace=False)\n",
              "        )\n",
              "        (ff): XLNetFeedForward(\n",
              "          (layer_norm): LayerNorm((768,), eps=1e-12, elementwise_affine=True)\n",
              "          (layer_1): Linear(in_features=768, out_features=3072, bias=True)\n",
              "          (layer_2): Linear(in_features=3072, out_features=768, bias=True)\n",
              "          (dropout): Dropout(p=0.1, inplace=False)\n",
              "        )\n",
              "        (dropout): Dropout(p=0.1, inplace=False)\n",
              "      )\n",
              "      (4): XLNetLayer(\n",
              "        (rel_attn): XLNetRelativeAttention(\n",
              "          (layer_norm): LayerNorm((768,), eps=1e-12, elementwise_affine=True)\n",
              "          (dropout): Dropout(p=0.1, inplace=False)\n",
              "        )\n",
              "        (ff): XLNetFeedForward(\n",
              "          (layer_norm): LayerNorm((768,), eps=1e-12, elementwise_affine=True)\n",
              "          (layer_1): Linear(in_features=768, out_features=3072, bias=True)\n",
              "          (layer_2): Linear(in_features=3072, out_features=768, bias=True)\n",
              "          (dropout): Dropout(p=0.1, inplace=False)\n",
              "        )\n",
              "        (dropout): Dropout(p=0.1, inplace=False)\n",
              "      )\n",
              "      (5): XLNetLayer(\n",
              "        (rel_attn): XLNetRelativeAttention(\n",
              "          (layer_norm): LayerNorm((768,), eps=1e-12, elementwise_affine=True)\n",
              "          (dropout): Dropout(p=0.1, inplace=False)\n",
              "        )\n",
              "        (ff): XLNetFeedForward(\n",
              "          (layer_norm): LayerNorm((768,), eps=1e-12, elementwise_affine=True)\n",
              "          (layer_1): Linear(in_features=768, out_features=3072, bias=True)\n",
              "          (layer_2): Linear(in_features=3072, out_features=768, bias=True)\n",
              "          (dropout): Dropout(p=0.1, inplace=False)\n",
              "        )\n",
              "        (dropout): Dropout(p=0.1, inplace=False)\n",
              "      )\n",
              "      (6): XLNetLayer(\n",
              "        (rel_attn): XLNetRelativeAttention(\n",
              "          (layer_norm): LayerNorm((768,), eps=1e-12, elementwise_affine=True)\n",
              "          (dropout): Dropout(p=0.1, inplace=False)\n",
              "        )\n",
              "        (ff): XLNetFeedForward(\n",
              "          (layer_norm): LayerNorm((768,), eps=1e-12, elementwise_affine=True)\n",
              "          (layer_1): Linear(in_features=768, out_features=3072, bias=True)\n",
              "          (layer_2): Linear(in_features=3072, out_features=768, bias=True)\n",
              "          (dropout): Dropout(p=0.1, inplace=False)\n",
              "        )\n",
              "        (dropout): Dropout(p=0.1, inplace=False)\n",
              "      )\n",
              "      (7): XLNetLayer(\n",
              "        (rel_attn): XLNetRelativeAttention(\n",
              "          (layer_norm): LayerNorm((768,), eps=1e-12, elementwise_affine=True)\n",
              "          (dropout): Dropout(p=0.1, inplace=False)\n",
              "        )\n",
              "        (ff): XLNetFeedForward(\n",
              "          (layer_norm): LayerNorm((768,), eps=1e-12, elementwise_affine=True)\n",
              "          (layer_1): Linear(in_features=768, out_features=3072, bias=True)\n",
              "          (layer_2): Linear(in_features=3072, out_features=768, bias=True)\n",
              "          (dropout): Dropout(p=0.1, inplace=False)\n",
              "        )\n",
              "        (dropout): Dropout(p=0.1, inplace=False)\n",
              "      )\n",
              "      (8): XLNetLayer(\n",
              "        (rel_attn): XLNetRelativeAttention(\n",
              "          (layer_norm): LayerNorm((768,), eps=1e-12, elementwise_affine=True)\n",
              "          (dropout): Dropout(p=0.1, inplace=False)\n",
              "        )\n",
              "        (ff): XLNetFeedForward(\n",
              "          (layer_norm): LayerNorm((768,), eps=1e-12, elementwise_affine=True)\n",
              "          (layer_1): Linear(in_features=768, out_features=3072, bias=True)\n",
              "          (layer_2): Linear(in_features=3072, out_features=768, bias=True)\n",
              "          (dropout): Dropout(p=0.1, inplace=False)\n",
              "        )\n",
              "        (dropout): Dropout(p=0.1, inplace=False)\n",
              "      )\n",
              "      (9): XLNetLayer(\n",
              "        (rel_attn): XLNetRelativeAttention(\n",
              "          (layer_norm): LayerNorm((768,), eps=1e-12, elementwise_affine=True)\n",
              "          (dropout): Dropout(p=0.1, inplace=False)\n",
              "        )\n",
              "        (ff): XLNetFeedForward(\n",
              "          (layer_norm): LayerNorm((768,), eps=1e-12, elementwise_affine=True)\n",
              "          (layer_1): Linear(in_features=768, out_features=3072, bias=True)\n",
              "          (layer_2): Linear(in_features=3072, out_features=768, bias=True)\n",
              "          (dropout): Dropout(p=0.1, inplace=False)\n",
              "        )\n",
              "        (dropout): Dropout(p=0.1, inplace=False)\n",
              "      )\n",
              "      (10): XLNetLayer(\n",
              "        (rel_attn): XLNetRelativeAttention(\n",
              "          (layer_norm): LayerNorm((768,), eps=1e-12, elementwise_affine=True)\n",
              "          (dropout): Dropout(p=0.1, inplace=False)\n",
              "        )\n",
              "        (ff): XLNetFeedForward(\n",
              "          (layer_norm): LayerNorm((768,), eps=1e-12, elementwise_affine=True)\n",
              "          (layer_1): Linear(in_features=768, out_features=3072, bias=True)\n",
              "          (layer_2): Linear(in_features=3072, out_features=768, bias=True)\n",
              "          (dropout): Dropout(p=0.1, inplace=False)\n",
              "        )\n",
              "        (dropout): Dropout(p=0.1, inplace=False)\n",
              "      )\n",
              "      (11): XLNetLayer(\n",
              "        (rel_attn): XLNetRelativeAttention(\n",
              "          (layer_norm): LayerNorm((768,), eps=1e-12, elementwise_affine=True)\n",
              "          (dropout): Dropout(p=0.1, inplace=False)\n",
              "        )\n",
              "        (ff): XLNetFeedForward(\n",
              "          (layer_norm): LayerNorm((768,), eps=1e-12, elementwise_affine=True)\n",
              "          (layer_1): Linear(in_features=768, out_features=3072, bias=True)\n",
              "          (layer_2): Linear(in_features=3072, out_features=768, bias=True)\n",
              "          (dropout): Dropout(p=0.1, inplace=False)\n",
              "        )\n",
              "        (dropout): Dropout(p=0.1, inplace=False)\n",
              "      )\n",
              "    )\n",
              "    (dropout): Dropout(p=0.1, inplace=False)\n",
              "  )\n",
              "  (sequence_summary): SequenceSummary(\n",
              "    (summary): Linear(in_features=768, out_features=768, bias=True)\n",
              "    (first_dropout): Identity()\n",
              "    (last_dropout): Dropout(p=0.1, inplace=False)\n",
              "  )\n",
              "  (logits_proj): Linear(in_features=768, out_features=26, bias=True)\n",
              ")"
            ]
          },
          "metadata": {
            "tags": []
          },
          "execution_count": 72
        }
      ]
    },
    {
      "cell_type": "code",
      "metadata": {
        "id": "IvyNgLKwVpVZ"
      },
      "source": [
        "\n",
        "param_optimizer = list(model.named_parameters())\n",
        "no_decay = ['bias', 'gamma', 'beta']\n",
        "optimizer_grouped_parameters = [\n",
        "    {'params': [p for n, p in param_optimizer if not any(nd in n for nd in no_decay)],\n",
        "     'weight_decay_rate': 0.01},\n",
        "    {'params': [p for n, p in param_optimizer if any(nd in n for nd in no_decay)],\n",
        "     'weight_decay_rate': 0.0}\n",
        "]"
      ],
      "execution_count": null,
      "outputs": []
    },
    {
      "cell_type": "code",
      "metadata": {
        "colab": {
          "base_uri": "https://localhost:8080/"
        },
        "id": "YI8P6Bk1WFhv",
        "outputId": "b686278e-1564-4508-dc36-9a6eddab2d86"
      },
      "source": [
        "!pip install pytorch-transformers"
      ],
      "execution_count": null,
      "outputs": [
        {
          "output_type": "stream",
          "text": [
            "Requirement already satisfied: pytorch-transformers in /usr/local/lib/python3.6/dist-packages (1.2.0)\n",
            "Requirement already satisfied: torch>=1.0.0 in /usr/local/lib/python3.6/dist-packages (from pytorch-transformers) (1.7.0+cu101)\n",
            "Requirement already satisfied: sentencepiece in /usr/local/lib/python3.6/dist-packages (from pytorch-transformers) (0.1.94)\n",
            "Requirement already satisfied: tqdm in /usr/local/lib/python3.6/dist-packages (from pytorch-transformers) (4.41.1)\n",
            "Requirement already satisfied: boto3 in /usr/local/lib/python3.6/dist-packages (from pytorch-transformers) (1.16.34)\n",
            "Requirement already satisfied: requests in /usr/local/lib/python3.6/dist-packages (from pytorch-transformers) (2.23.0)\n",
            "Requirement already satisfied: sacremoses in /usr/local/lib/python3.6/dist-packages (from pytorch-transformers) (0.0.43)\n",
            "Requirement already satisfied: numpy in /usr/local/lib/python3.6/dist-packages (from pytorch-transformers) (1.18.5)\n",
            "Requirement already satisfied: regex in /usr/local/lib/python3.6/dist-packages (from pytorch-transformers) (2019.12.20)\n",
            "Requirement already satisfied: dataclasses in /usr/local/lib/python3.6/dist-packages (from torch>=1.0.0->pytorch-transformers) (0.8)\n",
            "Requirement already satisfied: typing-extensions in /usr/local/lib/python3.6/dist-packages (from torch>=1.0.0->pytorch-transformers) (3.7.4.3)\n",
            "Requirement already satisfied: future in /usr/local/lib/python3.6/dist-packages (from torch>=1.0.0->pytorch-transformers) (0.16.0)\n",
            "Requirement already satisfied: botocore<1.20.0,>=1.19.34 in /usr/local/lib/python3.6/dist-packages (from boto3->pytorch-transformers) (1.19.34)\n",
            "Requirement already satisfied: jmespath<1.0.0,>=0.7.1 in /usr/local/lib/python3.6/dist-packages (from boto3->pytorch-transformers) (0.10.0)\n",
            "Requirement already satisfied: s3transfer<0.4.0,>=0.3.0 in /usr/local/lib/python3.6/dist-packages (from boto3->pytorch-transformers) (0.3.3)\n",
            "Requirement already satisfied: idna<3,>=2.5 in /usr/local/lib/python3.6/dist-packages (from requests->pytorch-transformers) (2.10)\n",
            "Requirement already satisfied: chardet<4,>=3.0.2 in /usr/local/lib/python3.6/dist-packages (from requests->pytorch-transformers) (3.0.4)\n",
            "Requirement already satisfied: certifi>=2017.4.17 in /usr/local/lib/python3.6/dist-packages (from requests->pytorch-transformers) (2020.12.5)\n",
            "Requirement already satisfied: urllib3!=1.25.0,!=1.25.1,<1.26,>=1.21.1 in /usr/local/lib/python3.6/dist-packages (from requests->pytorch-transformers) (1.25.11)\n",
            "Requirement already satisfied: six in /usr/local/lib/python3.6/dist-packages (from sacremoses->pytorch-transformers) (1.15.0)\n",
            "Requirement already satisfied: click in /usr/local/lib/python3.6/dist-packages (from sacremoses->pytorch-transformers) (7.1.2)\n",
            "Requirement already satisfied: joblib in /usr/local/lib/python3.6/dist-packages (from sacremoses->pytorch-transformers) (0.17.0)\n",
            "Requirement already satisfied: python-dateutil<3.0.0,>=2.1 in /usr/local/lib/python3.6/dist-packages (from botocore<1.20.0,>=1.19.34->boto3->pytorch-transformers) (2.8.1)\n"
          ],
          "name": "stdout"
        }
      ]
    },
    {
      "cell_type": "code",
      "metadata": {
        "colab": {
          "base_uri": "https://localhost:8080/"
        },
        "id": "_XupLK04ogVq",
        "outputId": "fee450e2-3d02-44a8-f55f-442bdc4574c8"
      },
      "source": [
        "!pip install awscli awsebcli urllib3>=1.25.4 --upgrade"
      ],
      "execution_count": null,
      "outputs": [
        {
          "output_type": "stream",
          "text": [
            "\u001b[31mERROR: requests 2.23.0 has requirement urllib3!=1.25.0,!=1.25.1,<1.26,>=1.21.1, but you'll have urllib3 1.26.2 which is incompatible.\u001b[0m\n",
            "\u001b[31mERROR: datascience 0.10.6 has requirement folium==0.2.1, but you'll have folium 0.8.3 which is incompatible.\u001b[0m\n",
            "\u001b[31mERROR: awsebcli 3.19.2 has requirement PyYAML<5.4,>=5.3.1, but you'll have pyyaml 3.13 which is incompatible.\u001b[0m\n",
            "\u001b[31mERROR: awsebcli 3.19.2 has requirement urllib3<1.26,>=1.25.4, but you'll have urllib3 1.26.2 which is incompatible.\u001b[0m\n"
          ],
          "name": "stdout"
        }
      ]
    },
    {
      "cell_type": "code",
      "metadata": {
        "id": "MzWchoOyV0k2"
      },
      "source": [
        "from pytorch_transformers import AdamW\n",
        "\n",
        "# This variable contains all of the hyperparemeter information our training loop needs\n",
        "optimizer = AdamW(optimizer_grouped_parameters,\n",
        "                     lr=2e-5)"
      ],
      "execution_count": null,
      "outputs": []
    },
    {
      "cell_type": "code",
      "metadata": {
        "id": "WTEDQf94V2xA"
      },
      "source": [
        "# Function to calculate the accuracy of our predictions vs labels\n",
        "def flat_accuracy(preds, labels):\n",
        "    pred_flat = np.argmax(preds, axis=1).flatten()\n",
        "    labels_flat = labels.flatten()\n",
        "    return np.sum(pred_flat == labels_flat) / len(labels_flat)"
      ],
      "execution_count": null,
      "outputs": []
    },
    {
      "cell_type": "code",
      "metadata": {
        "colab": {
          "base_uri": "https://localhost:8080/"
        },
        "id": "b04s80O6WPos",
        "outputId": "94521383-83cf-40ae-fd30-7fc958141310"
      },
      "source": [
        "\n",
        "import numpy as np\n",
        "from tqdm import tqdm, trange\n",
        "\n",
        "# Store our loss and accuracy for plotting\n",
        "train_loss_set = []\n",
        "train_loss_batch = []\n",
        "train_acc_set = []\n",
        "val_loss_set = []\n",
        "val_acc_set = []\n",
        "\n",
        "# Number of training epochs (authors recommend between 2 and 4)\n",
        "epochs = 4\n",
        "\n",
        "# trange is a tqdm wrapper around the normal python range\n",
        "for _ in trange(epochs, desc=\"Epoch\"):\n",
        "  \n",
        "  \n",
        "  # Training\n",
        "  \n",
        "  # Set our model to training mode (as opposed to evaluation mode)\n",
        "  model.train()\n",
        "  \n",
        "  # Tracking variables\n",
        "  tracking_loss = 0\n",
        "  nb_tracking_examples, nb_tracking_steps = 0, 0\n",
        "  \n",
        "  # Train the data for one epoch\n",
        "  for step, batch in enumerate(train_dataloader):\n",
        "    # Add batch to GPU\n",
        "    batch = tuple(t.to(device) for t in batch)\n",
        "    # Unpack the inputs from our dataloader\n",
        "    b_input_ids, b_input_mask, b_labels = batch\n",
        "    # Clear out the gradients (by default they accumulate)\n",
        "    optimizer.zero_grad()\n",
        "    # Forward pass\n",
        "    outputs = model(b_input_ids, token_type_ids=None, attention_mask=b_input_mask, labels=b_labels)\n",
        "    loss = outputs[0]\n",
        "    logits = outputs[1]\n",
        "    train_loss_set.append(loss.item())    \n",
        "    # Backward pass\n",
        "    loss.backward()\n",
        "    # Update parameters and take a step using the computed gradient\n",
        "    optimizer.step()\n",
        "    \n",
        "    \n",
        "    # Update tracking variables\n",
        "    epoch_train_acc = 0\n",
        "    epoch_train_loss = 0\n",
        "    tracking_loss += loss.item()\n",
        "    nb_tracking_examples += b_input_ids.size(0)\n",
        "    nb_tracking_steps += 1\n",
        "\n",
        "    logits = logits.detach().cpu().numpy()\n",
        "    label_ids = b_labels.to('cpu').numpy()\n",
        "    tmp_train_accuracy = flat_accuracy(logits,label_ids)\n",
        "    epoch_train_acc += tmp_train_accuracy\n",
        "    epoch_train_loss += loss\n",
        "    nb_tracking_steps +=1\n",
        "\n",
        "  train_acc = epoch_train_acc/nb_tracking_steps\n",
        "  train_loss = epoch_train_loss/nb_tracking_steps\n",
        "\n",
        "  train_loss_set.append(train_loss)\n",
        "  train_acc_set.append(train_acc)\n",
        "\n",
        "  print(\"Train loss: {}\".format(train_loss_set))\n",
        "  print(\"Train Accuracy: {}\".format(train_acc_set))  \n",
        "    \n",
        "  # Validation\n",
        "\n",
        "  # Put model in evaluation mode to evaluate loss on the validation set\n",
        "  model.eval()\n",
        "\n",
        "  # Tracking variables \n",
        "  eval_loss, eval_accuracy = 0, 0\n",
        "  nb_eval_steps, nb_eval_examples = 0, 0\n",
        "\n",
        "  # Evaluate data for one epoch\n",
        "  for batch in validation_dataloader:\n",
        "    # Add batch to GPU\n",
        "    batch = tuple(t.to(device) for t in batch)\n",
        "    # Unpack the inputs from our dataloader\n",
        "    b_input_ids, b_input_mask, b_labels = batch\n",
        "    # Telling the model not to compute or store gradients, saving memory and speeding up validation\n",
        "    with torch.no_grad():\n",
        "      # Forward pass, calculate logit predictions\n",
        "      output = model(b_input_ids, token_type_ids=None, attention_mask=b_input_mask)\n",
        "      logits = output[0]\n",
        "    \n",
        "    # Move logits and labels to CPU\n",
        "    logits = logits.detach().cpu().numpy()\n",
        "    label_ids = b_labels.to('cpu').numpy()\n",
        "\n",
        "    tmp_eval_accuracy = flat_accuracy(logits, label_ids)\n",
        "    \n",
        "    eval_accuracy += tmp_eval_accuracy\n",
        "    nb_eval_steps += 1\n",
        "\n",
        "    val_accuracy = eval_accuracy/nb_eval_steps\n",
        "\n",
        "  print(\"Validation Accuracy: {}\".format(val_accuracy))\n",
        "  #print(\"Train Accuracy: {}\".format(train_acc))"
      ],
      "execution_count": null,
      "outputs": [
        {
          "output_type": "stream",
          "text": [
            "\rEpoch:   0%|          | 0/4 [00:00<?, ?it/s]/usr/local/lib/python3.6/dist-packages/pytorch_transformers/optimization.py:166: UserWarning: This overload of add_ is deprecated:\n",
            "\tadd_(Number alpha, Tensor other)\n",
            "Consider using one of the following signatures instead:\n",
            "\tadd_(Tensor other, *, Number alpha) (Triggered internally at  /pytorch/torch/csrc/utils/python_arg_parser.cpp:882.)\n",
            "  exp_avg.mul_(beta1).add_(1.0 - beta1, grad)\n"
          ],
          "name": "stderr"
        },
        {
          "output_type": "stream",
          "text": [
            "Train loss: [3.5132558345794678, 3.4877476692199707, 3.3538637161254883, 3.3637609481811523, 3.210570812225342, 3.3549551963806152, 3.2374045848846436, 3.308347225189209, 3.405611038208008, 3.1994357109069824, 3.2423083782196045, 3.2877323627471924, 3.364497661590576, 3.239871025085449, 3.43900990486145, 3.3338613510131836, 3.2657792568206787, 3.3224494457244873, 3.3745529651641846, 3.2906079292297363, 3.1222035884857178, 3.289388418197632, 3.263108015060425, 3.13494873046875, 3.254863977432251, 3.2146828174591064, 3.114427328109741, 3.0436928272247314, 2.9417829513549805, 3.2938129901885986, 3.032174825668335, 3.2156198024749756, 3.120021343231201, 3.141101121902466, 3.2204012870788574, 3.1255552768707275, 3.2807719707489014, 3.0834100246429443, 3.146794319152832, 3.173523426055908, 3.043288230895996, 2.972917318344116, 3.0675010681152344, 3.227708578109741, 2.7833752632141113, 3.1488406658172607, 2.9757938385009766, 3.029768705368042, 3.060002565383911, 3.0299787521362305, 3.0412633419036865, 3.106377601623535, 2.943077564239502, 2.997532844543457, 3.0009965896606445, 2.6795318126678467, 2.69571852684021, 2.9182205200195312, 3.0071260929107666, 2.6323771476745605, 2.9555258750915527, 2.6182243824005127, 2.8043220043182373, 2.6770541667938232, 2.7571353912353516, 2.6665375232696533, 2.6170244216918945, 2.8122341632843018, 2.9167048931121826, 2.340830087661743, 2.638563394546509, 2.5405821800231934, 2.7989585399627686, 2.6950161457061768, 2.4757931232452393, 2.6419894695281982, 2.381258487701416, 2.530095338821411, 2.558927297592163, 2.2881579399108887, 2.5806643962860107, 2.407252073287964, 2.064629077911377, 2.5998778343200684, 2.440638542175293, 2.4407858848571777, 2.433419942855835, 2.366478681564331, 2.142374038696289, 2.5566468238830566, 2.5490520000457764, 1.9665491580963135, 2.2880806922912598, 1.998042106628418, 1.8036555051803589, 2.330812931060791, 2.0693798065185547, 2.229597330093384, 2.17108416557312, 2.3651764392852783, 1.9289392232894897, 2.224216938018799, 2.1385698318481445, 2.1144120693206787, 2.1886141300201416, 2.059007167816162, 2.1054718494415283, 1.6386997699737549, 1.602817177772522, 1.8370344638824463, 2.011878252029419, 1.8404927253723145, 1.8449190855026245, 1.9175149202346802, 2.130253791809082, 1.7954570055007935, 1.7950749397277832, 1.9920305013656616, 2.5167431831359863, 1.793960690498352, 1.7842812538146973, 1.4929331541061401, 2.042733669281006, 1.8361210823059082, 1.976405382156372, 1.379183053970337, 1.5263047218322754, 1.5916101932525635, 1.962778925895691, 1.9723337888717651, 1.2975679636001587, 2.606980323791504, 1.6509634256362915, 2.0670483112335205, 1.7547547817230225, 2.145172119140625, 1.6316930055618286, 1.7158311605453491, 1.9628899097442627, 1.8846110105514526, 1.5862997770309448, 1.876714825630188, 2.074268341064453, 1.4530137777328491, 1.655838131904602, 1.6293041706085205, 1.1610976457595825, 1.2155534029006958, 1.5097460746765137, 1.2459474802017212, 1.3545390367507935, 1.2845220565795898, 1.5146682262420654, 1.6369024515151978, 1.479704737663269, 1.1349083185195923, 1.5920202732086182, 2.0130953788757324, 2.0175068378448486, 1.2255700826644897, 1.05120050907135, 1.868294596672058, 2.0485546588897705, 1.370591163635254, 1.6299426555633545, 1.3498218059539795, 1.424652338027954, 1.2655221223831177, 1.424901008605957, 1.9418504238128662, 1.5889660120010376, 1.3573623895645142, 1.8778414726257324, 1.3543424606323242, 1.9526859521865845, 2.0774359703063965, 1.3382693529129028, 1.2706979513168335, 1.563279151916504, 1.887970209121704, 1.51682710647583, 1.3296715021133423, 1.308048963546753, 1.1256688833236694, 1.3843820095062256, 1.371232032775879, 1.534630298614502, 1.0708742141723633, 1.8414669036865234, 1.7361066341400146, 1.1524815559387207, 1.2759517431259155, 1.579594612121582, 1.2389036417007446, 1.1443217992782593, 1.2266712188720703, 1.1666067838668823, 2.0865824222564697, 1.2451977729797363, 1.4339351654052734, 1.2288614511489868, 1.083696722984314, 1.363982081413269, 1.0608965158462524, 1.260655164718628, 1.3933985233306885, 1.34148371219635, 2.079902172088623, 1.4323782920837402, 2.268900156021118, 0.9527902603149414, 1.6008968353271484, 1.458082914352417, 1.4256985187530518, 1.3013489246368408, 1.3445734977722168, 1.2025481462478638, 1.0935055017471313, 1.286791205406189, 1.5309652090072632, 1.7743415832519531, 1.1299052238464355, 1.098491907119751, 1.7659937143325806, 1.1336253881454468, 1.1914856433868408, 1.1597169637680054, 1.6542749404907227, 0.967943549156189, 1.252845048904419, 1.2864655256271362, 1.4862056970596313, 1.2392253875732422, 1.1590862274169922, 1.5481748580932617, 1.2869211435317993, 1.530205249786377, 1.0065534114837646, 0.9793797731399536, 0.9249087572097778, 1.2297388315200806, 1.2223072052001953, 1.256138801574707, 1.1724364757537842, 1.5851448774337769, 0.8846229910850525, 1.1686543226242065, 1.2473491430282593, 1.3843259811401367, 1.0005031824111938, 1.5492756366729736, 1.0438880920410156, 1.0190632343292236, 0.9556570053100586, 1.6192504167556763, 1.3470854759216309, 1.145809531211853, 1.6275290250778198, 1.243583083152771, 0.636699914932251, 0.9964712262153625, 1.0612800121307373, 1.4529132843017578, 1.0589057207107544, 1.4401519298553467, 1.431440830230713, 1.2874796390533447, 0.6906965374946594, 1.4760476350784302, 1.1549334526062012, 1.2894868850708008, 1.116957187652588, 1.305422306060791, 0.8855491280555725, 1.2170449495315552, 0.8009092807769775, 1.2977603673934937, 1.020738959312439, 1.5443994998931885, 0.8473318815231323, 1.0480058193206787, 1.1073553562164307, 1.1987683773040771, 1.294235110282898, 0.9303550124168396, 1.163446307182312, 0.9550082683563232, 1.243238091468811, 1.371622085571289, 1.4718289375305176, 1.2766857147216797, 1.5608940124511719, 0.7553722262382507, 0.9898715019226074, 0.6969226002693176, 1.2864981889724731, 0.9378378391265869, 0.657659113407135, 0.7797886729240417, 1.3281123638153076, 1.0719941854476929, 1.061161756515503, 1.2900652885437012, 0.961763858795166, 1.0097590684890747, 1.4811642169952393, 1.33245050907135, 1.3407222032546997, 0.9065995216369629, 1.4546140432357788, 1.462219476699829, 1.0636557340621948, 1.3468668460845947, 1.2523136138916016, 1.1607390642166138, 0.9903950691223145, 1.2547633647918701, 0.8766694664955139, 0.7243792414665222, 1.1825302839279175, 1.3878309726715088, 0.7161853909492493, 1.384684443473816, 1.1758136749267578, 1.1962475776672363, 1.082619071006775, 0.9789502024650574, 0.7913998365402222, 0.8582085967063904, 1.3309077024459839, 1.216740369796753, 0.6936991214752197, 0.834915041923523, 0.9441900253295898, 1.1188727617263794, 0.7639957070350647, 0.9667032957077026, 0.5661723613739014, 0.7385127544403076, 1.2892072200775146, 0.9787224531173706, 0.6669127941131592, 1.096317172050476, 1.2092701196670532, 0.9436144232749939, 1.241729974746704, 0.9304440021514893, 1.000652551651001, 1.0927902460098267, 1.1875028610229492, 1.236189842224121, 1.9049996137619019, 0.9393942952156067, 0.9934972524642944, 1.0463069677352905, 1.5078368186950684, 0.4990903437137604, 1.025572419166565, 1.3697547912597656, 1.139696717262268, 1.0820282697677612, 1.0902011394500732, 0.9504228830337524, 1.2457404136657715, 0.9828441739082336, 0.7317278385162354, 0.9595967531204224, 1.2297985553741455, 0.5293983221054077, 0.7082803249359131, 0.77177894115448, 0.8275033831596375, 0.9572452902793884, 0.9665550589561462, 0.7520565390586853, 0.9728797078132629, 1.1272084712982178, 1.3586981296539307, 1.0957987308502197, 1.0646207332611084, 0.725598931312561, 0.6667342185974121, 1.1104755401611328, 0.8368420600891113, 1.016667127609253, 1.0122857093811035, 0.6446801424026489, 0.5311887860298157, 0.905536413192749, 0.6018085479736328, 1.0514616966247559, 0.8928258419036865, 0.9861922860145569, 0.5165156722068787, 0.435696542263031, 0.8885031342506409, 0.5171980857849121, 0.6744887232780457, 1.0418955087661743, 0.8803507685661316, 0.7571718096733093, 0.8800448775291443, 0.7485424280166626, 0.7749162316322327, 0.7812933921813965, 0.7678567171096802, 1.008094310760498, 1.1183537244796753, 0.767501950263977, 0.8535377979278564, 0.5575899481773376, 1.0290278196334839, 1.0586378574371338, 0.6787769198417664, 0.5914930701255798, 1.177464485168457, 0.8807819485664368, 0.885085940361023, 0.8180932402610779, 0.5790119767189026, 0.9861791133880615, 0.7823296785354614, 1.133636713027954, 1.1787317991256714, 0.405259370803833, 0.8156964778900146, 0.8124006986618042, 0.8060401678085327, 0.6244630217552185, 1.3897912502288818, 0.6930009126663208, 0.44468942284584045, 0.8512022495269775, 0.9209680557250977, 1.3420144319534302, 0.33426398038864136, 1.0251115560531616, 0.7980642318725586, 0.9153484106063843, 1.1770902872085571, 0.7711220383644104, 0.4427548050880432, 0.4671367108821869, 1.148056149482727, 1.3778278827667236, 0.9861816167831421, 0.9778949022293091, 0.8180755972862244, 0.7309187054634094, 0.9153324365615845, 0.7464022636413574, 0.42356163263320923, 1.170278549194336, 1.2507922649383545, 0.8254041075706482, 0.6295515298843384, 0.5986812710762024, 0.576715886592865, 1.9835574626922607, 0.5566537380218506, 0.9121262431144714, 0.790887176990509, 0.2713503837585449, 0.991110622882843, 0.9069669842720032, 1.0321027040481567, 0.9340766668319702, 0.7175367474555969, 0.5697205066680908, 1.1431825160980225, 0.48507416248321533, 0.9335260391235352, 0.4203838109970093, 0.5593093633651733, 0.649418294429779, 0.25651881098747253, 0.7880234718322754, 0.7429138422012329, 0.8607921600341797, 0.4437620937824249, 0.8126655220985413, 0.6084719896316528, 0.7301345467567444, 0.5924542546272278, 1.8011250495910645, 0.25527966022491455, 0.7811655402183533, 1.0557283163070679, 0.6879156827926636, 0.5118712186813354, 0.8908290266990662, 1.016120433807373, 0.9650929570198059, 0.6792210936546326, 1.2390440702438354, 0.2541119456291199, 1.2101956605911255, 1.1497642993927002, 1.2054208517074585, 0.884341299533844, 0.8346518278121948, 0.6453689932823181, 0.5940632820129395, 0.4702986776828766, 0.7457034587860107, 0.6898938417434692, 0.6741626262664795, 0.5639166831970215, 0.9214115738868713, 0.4434257745742798, 0.7544581890106201, 0.6610768437385559, 0.8755718469619751, 1.0106526613235474, 0.8281366229057312, 0.5059829950332642, 0.7157291173934937, 0.578886091709137, 0.6007803678512573, 0.7229843735694885, 0.6432527303695679, 0.5148552060127258, 0.5349591970443726, 0.3474407494068146, 0.6066576242446899, 0.7786621451377869, 1.0430344343185425, 0.5775798559188843, 0.7777470946311951, 1.0404239892959595, 0.3874402344226837, 0.7342575192451477, 1.2487266063690186, 0.6630406379699707, 0.3775378465652466, 0.6871317625045776, 0.4431948661804199, 0.8972636461257935, 1.0492539405822754, 0.9941567778587341, 1.1901382207870483, 0.4848071336746216, 0.7739534378051758, 0.5794087052345276, 0.3032740354537964, 0.3275916278362274, 0.6050888299942017, 0.9223287105560303, 1.0912728309631348, 0.6184612512588501, 0.6489008069038391, 0.541192889213562, 0.6409258246421814, 0.5415729880332947, 0.5973539352416992, 0.6429318189620972, 0.6791260838508606, 0.2537039518356323, 0.7204775214195251, 0.547332763671875, 0.48639002442359924, 1.4347264766693115, 0.25910764932632446, 1.0282487869262695, 1.00942862033844, 0.47560450434684753, 0.4975847601890564, 0.5695784687995911, 1.237269639968872, 0.6533599495887756, 0.7595332860946655, 0.885303795337677, 0.5025991797447205, 0.7819305658340454, 0.6119964122772217, 1.3975038528442383, 0.5545215606689453, 0.7947772145271301, 0.506655216217041, 0.8093970417976379, 0.5543841123580933, 0.5784655213356018, 0.8415206670761108, 0.7567316293716431, 0.41823631525039673, 0.9157540798187256, 0.5276897549629211, 0.42551755905151367, 0.7176326513290405, 0.9336540102958679, 0.6153346300125122, 0.9106683731079102, 0.5141007900238037, 1.3045941591262817, 0.635444700717926, 0.619796633720398, 0.823691189289093, 1.2358981370925903, 1.2439756393432617, 1.278393268585205, 0.6456405520439148, 0.9191516637802124, 0.18122152984142303, 0.7063549160957336, 0.4399043917655945, 0.8252041935920715, 0.28106236457824707, 0.9296412467956543, 1.0027152299880981, 0.5800846815109253, 0.35623329877853394, 0.44252079725265503, 0.6684830188751221, 0.6396967768669128, 1.0268595218658447, 1.2900992631912231, 0.8278980255126953, 1.2303972244262695, 1.0996479988098145, 0.8707905411720276, 0.3425121605396271, 0.9450054168701172, 0.7403630018234253, 0.5760445594787598, 1.1159825325012207, 1.260462999343872, 0.8118334412574768, 0.618837833404541, 1.2511005401611328, 0.3829273283481598, 0.7638894319534302, 0.36788439750671387, 0.8938573002815247, 0.6820196509361267, 0.8705458641052246, 1.0031282901763916, 0.27983078360557556, 0.6382785439491272, 0.5991952419281006, 0.8454163074493408, 0.09266795963048935, 0.6750081181526184, 0.737212598323822, 0.25259849429130554, 0.28881311416625977, 1.257693886756897, 0.7998595833778381, 0.8245900273323059, 0.6859384775161743, 0.94022536277771, 1.0943511724472046, 0.3160858750343323, 0.9088656902313232, 0.6108797788619995, 0.434476763010025, 0.8237185478210449, 0.5705313682556152, 0.50949627161026, 1.0657553672790527, 0.5218425989151001, 0.6864851713180542, 0.5489090085029602, 0.9160321950912476, 0.7686342000961304, 0.666710615158081, 0.8431188464164734, 0.8299639225006104, 0.4885292947292328, 1.0620235204696655, 0.8766316175460815, 0.6084066033363342, 0.49918580055236816, 0.6980409622192383, 0.5767511129379272, 0.6765890717506409, 0.8138519525527954, 0.343312531709671, 0.8655833601951599, 0.5296298265457153, 0.7892173528671265, 0.6342099905014038, 0.7632043957710266, 1.4040316343307495, 0.5864555835723877, 0.2982296049594879, 0.8234995603561401, 0.9788079261779785, 0.5253037810325623, 0.6767522096633911, 0.5292636752128601, 0.9984392523765564, 0.46722865104675293, 0.3824828863143921, 0.9825059771537781, 1.129564881324768, 0.9226714968681335, 0.633844256401062, 0.49189552664756775, 0.8815767168998718, 0.9408488273620605, 0.5577392578125, 0.4886039197444916, 0.4895305335521698, 0.47803473472595215, 0.8599247336387634, 0.27836769819259644, 0.19424913823604584, 0.2998315393924713, 0.5406593680381775, 0.6656391024589539, 1.3827447891235352, 0.7425593733787537, 0.8608055114746094, 0.843092679977417, 0.5306257009506226, 0.47154656052589417, 0.5864033699035645, 0.4314146935939789, 0.18122868239879608, 0.48145920038223267, 0.43091118335723877, 0.9822598695755005, 0.6549662351608276, 0.4781716465950012, 0.6276191473007202, 0.5404762625694275, 1.0861587524414062, 0.8067087531089783, 0.8837047815322876, 0.5712031126022339, 0.2633485794067383, 1.036432147026062, 0.6399763822555542, 0.7065501809120178, 0.5291834473609924, 0.2598334848880768, 0.44460397958755493, 0.982755184173584, 0.41157832741737366, 0.7704735994338989, 0.6212995052337646, 0.38829171657562256, 0.3862939774990082, 0.8705605268478394, 0.8414875268936157, 0.6387903094291687, 0.24209779500961304, 0.6069408059120178, 0.3909207284450531, 0.7555756568908691, 0.518136203289032, 0.8339684009552002, 0.3425760865211487, 0.7375478148460388, 0.4329906105995178, 0.5461275577545166, 0.6258412599563599, 0.9425848722457886, 0.6081815958023071, 1.229491949081421, 0.9524313807487488, 0.790091872215271, 0.5420742630958557, 0.9430665373802185, 0.46475234627723694, 0.4973454177379608, 1.1960582733154297, 0.8559529185295105, 0.40784895420074463, 1.179402232170105, 0.5261982679367065, 0.2342553734779358, 0.39629095792770386, 0.3015343248844147, 0.3433610498905182, 0.5740116238594055, 0.49722909927368164, 1.4263815879821777, 0.6690228581428528, 0.32977038621902466, 0.3288414478302002, 0.9285109043121338, 0.723737359046936, 1.0805082321166992, 0.9879206418991089, 0.7367510199546814, 0.591337263584137, 1.193954586982727, 0.32561588287353516, 0.690909743309021, 0.33445069193840027, 0.4951115846633911, 0.35331258177757263, 0.21035964787006378, 0.5438160300254822, 0.4424471855163574, 0.4948151409626007, 0.589058518409729, 0.36417898535728455, 1.3126435279846191, 0.4788108468055725, 0.6080981492996216, 0.5086470246315002, 1.4680505990982056, 0.7351583242416382, 0.6258289217948914, 0.5943453311920166, 0.25906601548194885, 1.1282519102096558, 0.29192811250686646, 0.5786751508712769, 0.26772716641426086, 1.0754517316818237, 0.47214123606681824, 0.7609703540802002, 1.02802574634552, 0.3210301697254181, 1.052992820739746, 0.7981737852096558, 0.2229136973619461, 0.4891318082809448, 0.5546912550926208, 0.3020460605621338, 0.8527528047561646, 0.40000206232070923, 0.41638028621673584, 0.7001764178276062, 0.47822993993759155, 0.5450645089149475, 0.4075373113155365, 0.7773868441581726, 1.0876495838165283, 0.5996953845024109, 0.7398828864097595, 0.4477829039096832, 0.9273180961608887, 0.8156876564025879, 0.34137198328971863, 0.8249133825302124, 0.6592037677764893, 0.2808818817138672, 0.7458165287971497, 0.5808901786804199, 0.8790909051895142, 0.5468717813491821, 0.3855631947517395, 0.41386908292770386, 1.0662107467651367, 0.7032268643379211, 0.41848742961883545, 0.749136209487915, 0.1916758269071579, 0.6817999482154846, 0.6476805210113525, 0.4376881718635559, 0.8954694867134094, 0.4726351499557495, 0.5436158180236816, 0.9594861268997192, 0.19419243931770325, 0.8416388034820557, 1.022334098815918, 0.30518412590026855, 0.8427338600158691, 1.2234386205673218, 0.403688907623291, 0.4592571258544922, 0.25075966119766235, 0.5422039031982422, 0.9158235192298889, 0.6270710229873657, 0.45528051257133484, 0.851212739944458, 0.2649363577365875, 0.17503228783607483, 0.4437578618526459, 0.6000723838806152, 0.8370893001556396, 0.8250485062599182, 0.7315919995307922, 0.9043005108833313, 0.6487637758255005, 0.8040968179702759, 0.132152259349823, 0.4945613741874695, 0.25184038281440735, 0.39592671394348145, 0.5237879157066345, 0.915238618850708, 0.5055804252624512, 0.7783660888671875, 0.3771961033344269, 0.1264849603176117, 0.7462363243103027, 0.2537532448768616, 0.4136257469654083, 0.09507086873054504, 0.8495880961418152, 1.03252375125885, 0.405534952878952, 0.804375171661377, 0.5951306819915771, 0.2436816543340683, 0.13074594736099243, 0.9213942289352417, 0.21758443117141724, 1.4940733909606934, 0.47997593879699707, 0.8395686149597168, 0.7687220573425293, 0.29608890414237976, 0.6853520274162292, 0.760969340801239, 0.8164669871330261, 0.28862982988357544, 1.0765156745910645, 0.2690705358982086, 1.159246563911438, 0.6360034346580505, 0.4986831843852997, 0.6901476383209229, 0.8640109896659851, 0.5161392688751221, 0.499647319316864, 0.27889442443847656, 0.46393412351608276, 0.14740648865699768, 0.5420881509780884, 0.7933534383773804, 0.3952709436416626, 0.18495051562786102, 0.5174257755279541, 0.40465986728668213, 0.5984573364257812, 0.3649144470691681, 0.7691395878791809, 0.5004962682723999, 0.17002806067466736, 0.31553274393081665, 0.4888054430484772, 0.46451443433761597, 0.9942286610603333, 0.5554909706115723, 0.529938817024231, 0.526248574256897, 0.42956987023353577, 0.8003971576690674, 0.12584814429283142, 1.0204918384552002, 0.7533038854598999, 0.7498505115509033, 0.985723078250885, 0.8022769093513489, 0.4102109372615814, 0.378632515668869, 0.4461032450199127, 0.22928719222545624, 0.5678876042366028, 0.36293649673461914, 0.725935161113739, 0.3564319908618927, 1.704999327659607, 0.49797385931015015, 0.27655577659606934, 1.1836183071136475, 1.0759280920028687, 0.8438706398010254, 0.9132865071296692, 0.4529346823692322, 0.7487873435020447, 0.5059860944747925, 0.5382680296897888, 0.2138165980577469, 0.4912784695625305, 0.5102663636207581, 0.7667206525802612, 0.34910139441490173, 0.6882672905921936, 0.3115300238132477, 0.8075064420700073, 0.5937520861625671, 0.29496392607688904, 0.1939631700515747, 0.7588455080986023, 0.5159105062484741, 0.4160156548023224, 0.5103592872619629, 0.1772754192352295, 0.4291378855705261, 0.6019179224967957, 0.7791094183921814, 0.2607116997241974, 0.4024459421634674, 0.42567959427833557, 0.5029075145721436, 1.0588550567626953, 0.6941066384315491, 0.8400301337242126, 0.5370143055915833, 0.765770673751831, 0.3067067563533783, 0.3125208616256714, 0.5136877298355103, 0.5022723078727722, 0.8365180492401123, 0.7093369960784912, 0.41915127635002136, 0.5527206659317017, 0.5627340078353882, 0.6817005276679993, 0.25287628173828125, 0.6656906008720398, 0.6546176075935364, 0.4053943455219269, 0.8906089067459106, 0.568454921245575, 0.5799647569656372, 0.5227975249290466, 0.44070541858673096, 0.7250040769577026, 0.6912897825241089, 0.8529579043388367, 0.8115933537483215, 0.35650768876075745, 0.7512449026107788, 0.7170712947845459, 1.187927007675171, 0.4186301529407501, 0.27124953269958496, 0.8632611632347107, 0.8201655149459839, 1.1964662075042725, 0.6483567357063293, 0.6098260283470154, 0.2690381407737732, 0.48101362586021423, 0.4771954417228699, 1.0592042207717896, 0.4001648426055908, 0.34102335572242737, 0.11828643083572388, 0.49249911308288574, 0.5676461458206177, 0.3129488229751587, 0.7447891235351562, 0.8281866908073425, 0.533384382724762, 0.6469385027885437, 1.1392223834991455, 0.705735445022583, 0.9552083015441895, 0.5464351177215576, 0.8619053959846497, 0.6118131279945374, 0.6360540986061096, 0.3588615953922272, 0.7622037529945374, 0.7293113470077515, 0.3738144338130951, 0.5820346474647522, 0.5690582394599915, 0.677909255027771, 0.369886189699173, 0.5342562794685364, 0.44548243284225464, 1.0098623037338257, 0.4224613308906555, 0.7978289127349854, 0.3660227656364441, 0.5713067650794983, 0.7363417744636536, 0.3703429102897644, 0.2827526032924652, 1.0860772132873535, 0.6576359272003174, 0.46798211336135864, 0.3353221118450165, 0.6531801223754883, 0.6286492943763733, 0.9254820346832275, 0.8409906029701233, 0.5196205973625183, 0.7654028534889221, 0.1682870090007782, 0.11799164116382599, 0.13139688968658447, 0.46783247590065, 0.7064583897590637, 0.7874546647071838, 0.5675440430641174, 0.28423404693603516, 0.23403151333332062, 0.6047855615615845, 0.9410631656646729, 0.5037575364112854, 0.13263852894306183, 0.18999749422073364, 0.4441904127597809, 0.6718007922172546, 0.701735258102417, 1.33560049533844, 0.6324460506439209, 0.8648678660392761, 0.5711265206336975, 0.47414737939834595, 0.3784753680229187, 0.6958954334259033, 0.6164191961288452, 0.19983473420143127, 0.38634684681892395, 0.45541810989379883, 0.8435909748077393, 0.4113037884235382, 0.8273402452468872, 0.35999730229377747, 0.4172493815422058, 0.5158367156982422, 0.41823193430900574, 0.4710272252559662, 0.4768027663230896, 0.23707181215286255, 0.7717312574386597, 0.7171802520751953, 0.7737488746643066, 0.48012775182724, 0.8778823018074036, 0.6684898138046265, 0.3209105134010315, 0.42436683177948, 0.40833425521850586, 0.5947533845901489, 0.44722780585289, 0.4340614676475525, 0.5631943345069885, 0.8257541656494141, 0.468140572309494, 0.9893165826797485, 0.23057591915130615, 1.089308500289917, 1.0268683433532715, 0.6785975098609924, 0.3730483055114746, 0.47811269760131836, 0.38081109523773193, 0.6522361636161804, 0.7783891558647156, 0.4467635750770569, 0.32213345170021057, 1.0454227924346924, 0.39263099431991577, 0.42179903388023376, 1.0766304731369019, 0.6529961824417114, 0.19284974038600922, 0.8265110850334167, 0.8996985554695129, 0.5741119384765625, 0.20821231603622437, 0.8280634880065918, 0.7562227249145508, 0.4242475926876068, 0.19371825456619263, 1.009458065032959, 1.2658334970474243, 0.7892627716064453, 0.2957631051540375, 0.5870345830917358, 0.6260238885879517, 0.7407196760177612, 0.37011608481407166, 0.569645345211029, 0.3717980682849884, 0.6878659129142761, 0.765144944190979, 0.21759644150733948, 0.2375032901763916, 0.6919188499450684, 0.4757554829120636, 0.8188828825950623, 0.6889577507972717, 0.21779583394527435, 1.8287699222564697, 0.7232447266578674, 0.4873577058315277, 0.7918552756309509, 0.41924983263015747, 0.46294909715652466, 0.5868901610374451, 0.36343398690223694, 0.7991708517074585, 0.6515263915061951, 0.8944227695465088, 0.29149696230888367, 0.37881767749786377, 0.3190464973449707, 0.5307145118713379, 0.4672919809818268, 0.6758204698562622, 0.874782145023346, 0.7875295281410217, 0.1520562469959259, 0.6337559223175049, 0.5720961689949036, 0.6718027591705322, 0.28759077191352844, 0.6370532512664795, 0.6692786812782288, 0.7218025922775269, 0.6030604839324951, 0.2981228530406952, 0.5160167813301086, 1.1923468112945557, 0.7508519887924194, 0.3863741159439087, 0.6222827434539795, 0.7607899904251099, 0.2983465790748596, 0.6752417087554932, 0.34064972400665283, 0.3596070110797882, 0.6871146559715271, 0.40990692377090454, 0.7486340403556824, 0.3031397759914398, 0.18473711609840393, 0.6108836531639099, 0.519244909286499, 0.5631119608879089, 1.082638144493103, 0.9892462491989136, 0.18765172362327576, 0.3465602993965149, 0.33437469601631165, 0.6142542958259583, 0.4877408742904663, 1.277481198310852, 1.014291524887085, 0.6820235848426819, 1.0422868728637695, 1.01421320438385, 0.2203877568244934, 0.3468432128429413, 0.6856962442398071, 0.40461820363998413, 0.7841670513153076, 0.48946139216423035, 0.4190938174724579, 0.46912869811058044, 0.44443684816360474, 0.6364621520042419, 0.513049304485321, 0.7966995239257812, 0.7590751647949219, 0.5439510941505432, 1.097475290298462, 0.27962687611579895, 0.28860610723495483, 0.9264441132545471, 1.1118228435516357, 1.0868198871612549, 1.043121099472046, 0.6856846809387207, 0.5804283618927002, 0.6493541598320007, 0.22922712564468384, 0.3301435708999634, 0.5825526714324951, 0.6431878805160522, 0.4289839267730713, 0.2059893012046814, 0.47252705693244934, 0.3992030620574951, 0.8658067584037781, 1.0408661365509033, 0.13767501711845398, 0.40701863169670105, 0.3980896472930908, 0.23138272762298584, 0.3027818500995636, 0.5074921250343323, 0.45927098393440247, 0.6639214754104614, 0.23623427748680115, 0.13652978837490082, 0.6422423124313354, 0.26328742504119873, 0.9862945079803467, 0.6834321022033691, 0.8570740222930908, 0.23002773523330688, 0.42989081144332886, 0.6441611051559448, 0.24338236451148987, 0.5599209666252136, 0.39572009444236755, 0.8650367259979248, 0.14984039962291718, 0.392900288105011, 0.43564844131469727, 0.6969577074050903, 1.06644606590271, 0.6121618747711182, 1.0067270994186401, 0.12070788443088531, tensor(4.6284e-05, device='cuda:0', grad_fn=<DivBackward0>)]\n",
            "Train Accuracy: [0.0003834355828220859]\n"
          ],
          "name": "stdout"
        },
        {
          "output_type": "stream",
          "text": [
            "\rEpoch:  25%|██▌       | 1/4 [08:50<26:30, 530.26s/it]"
          ],
          "name": "stderr"
        },
        {
          "output_type": "stream",
          "text": [
            "Validation Accuracy: 0.697841726618705\n",
            "Train loss: [3.5132558345794678, 3.4877476692199707, 3.3538637161254883, 3.3637609481811523, 3.210570812225342, 3.3549551963806152, 3.2374045848846436, 3.308347225189209, 3.405611038208008, 3.1994357109069824, 3.2423083782196045, 3.2877323627471924, 3.364497661590576, 3.239871025085449, 3.43900990486145, 3.3338613510131836, 3.2657792568206787, 3.3224494457244873, 3.3745529651641846, 3.2906079292297363, 3.1222035884857178, 3.289388418197632, 3.263108015060425, 3.13494873046875, 3.254863977432251, 3.2146828174591064, 3.114427328109741, 3.0436928272247314, 2.9417829513549805, 3.2938129901885986, 3.032174825668335, 3.2156198024749756, 3.120021343231201, 3.141101121902466, 3.2204012870788574, 3.1255552768707275, 3.2807719707489014, 3.0834100246429443, 3.146794319152832, 3.173523426055908, 3.043288230895996, 2.972917318344116, 3.0675010681152344, 3.227708578109741, 2.7833752632141113, 3.1488406658172607, 2.9757938385009766, 3.029768705368042, 3.060002565383911, 3.0299787521362305, 3.0412633419036865, 3.106377601623535, 2.943077564239502, 2.997532844543457, 3.0009965896606445, 2.6795318126678467, 2.69571852684021, 2.9182205200195312, 3.0071260929107666, 2.6323771476745605, 2.9555258750915527, 2.6182243824005127, 2.8043220043182373, 2.6770541667938232, 2.7571353912353516, 2.6665375232696533, 2.6170244216918945, 2.8122341632843018, 2.9167048931121826, 2.340830087661743, 2.638563394546509, 2.5405821800231934, 2.7989585399627686, 2.6950161457061768, 2.4757931232452393, 2.6419894695281982, 2.381258487701416, 2.530095338821411, 2.558927297592163, 2.2881579399108887, 2.5806643962860107, 2.407252073287964, 2.064629077911377, 2.5998778343200684, 2.440638542175293, 2.4407858848571777, 2.433419942855835, 2.366478681564331, 2.142374038696289, 2.5566468238830566, 2.5490520000457764, 1.9665491580963135, 2.2880806922912598, 1.998042106628418, 1.8036555051803589, 2.330812931060791, 2.0693798065185547, 2.229597330093384, 2.17108416557312, 2.3651764392852783, 1.9289392232894897, 2.224216938018799, 2.1385698318481445, 2.1144120693206787, 2.1886141300201416, 2.059007167816162, 2.1054718494415283, 1.6386997699737549, 1.602817177772522, 1.8370344638824463, 2.011878252029419, 1.8404927253723145, 1.8449190855026245, 1.9175149202346802, 2.130253791809082, 1.7954570055007935, 1.7950749397277832, 1.9920305013656616, 2.5167431831359863, 1.793960690498352, 1.7842812538146973, 1.4929331541061401, 2.042733669281006, 1.8361210823059082, 1.976405382156372, 1.379183053970337, 1.5263047218322754, 1.5916101932525635, 1.962778925895691, 1.9723337888717651, 1.2975679636001587, 2.606980323791504, 1.6509634256362915, 2.0670483112335205, 1.7547547817230225, 2.145172119140625, 1.6316930055618286, 1.7158311605453491, 1.9628899097442627, 1.8846110105514526, 1.5862997770309448, 1.876714825630188, 2.074268341064453, 1.4530137777328491, 1.655838131904602, 1.6293041706085205, 1.1610976457595825, 1.2155534029006958, 1.5097460746765137, 1.2459474802017212, 1.3545390367507935, 1.2845220565795898, 1.5146682262420654, 1.6369024515151978, 1.479704737663269, 1.1349083185195923, 1.5920202732086182, 2.0130953788757324, 2.0175068378448486, 1.2255700826644897, 1.05120050907135, 1.868294596672058, 2.0485546588897705, 1.370591163635254, 1.6299426555633545, 1.3498218059539795, 1.424652338027954, 1.2655221223831177, 1.424901008605957, 1.9418504238128662, 1.5889660120010376, 1.3573623895645142, 1.8778414726257324, 1.3543424606323242, 1.9526859521865845, 2.0774359703063965, 1.3382693529129028, 1.2706979513168335, 1.563279151916504, 1.887970209121704, 1.51682710647583, 1.3296715021133423, 1.308048963546753, 1.1256688833236694, 1.3843820095062256, 1.371232032775879, 1.534630298614502, 1.0708742141723633, 1.8414669036865234, 1.7361066341400146, 1.1524815559387207, 1.2759517431259155, 1.579594612121582, 1.2389036417007446, 1.1443217992782593, 1.2266712188720703, 1.1666067838668823, 2.0865824222564697, 1.2451977729797363, 1.4339351654052734, 1.2288614511489868, 1.083696722984314, 1.363982081413269, 1.0608965158462524, 1.260655164718628, 1.3933985233306885, 1.34148371219635, 2.079902172088623, 1.4323782920837402, 2.268900156021118, 0.9527902603149414, 1.6008968353271484, 1.458082914352417, 1.4256985187530518, 1.3013489246368408, 1.3445734977722168, 1.2025481462478638, 1.0935055017471313, 1.286791205406189, 1.5309652090072632, 1.7743415832519531, 1.1299052238464355, 1.098491907119751, 1.7659937143325806, 1.1336253881454468, 1.1914856433868408, 1.1597169637680054, 1.6542749404907227, 0.967943549156189, 1.252845048904419, 1.2864655256271362, 1.4862056970596313, 1.2392253875732422, 1.1590862274169922, 1.5481748580932617, 1.2869211435317993, 1.530205249786377, 1.0065534114837646, 0.9793797731399536, 0.9249087572097778, 1.2297388315200806, 1.2223072052001953, 1.256138801574707, 1.1724364757537842, 1.5851448774337769, 0.8846229910850525, 1.1686543226242065, 1.2473491430282593, 1.3843259811401367, 1.0005031824111938, 1.5492756366729736, 1.0438880920410156, 1.0190632343292236, 0.9556570053100586, 1.6192504167556763, 1.3470854759216309, 1.145809531211853, 1.6275290250778198, 1.243583083152771, 0.636699914932251, 0.9964712262153625, 1.0612800121307373, 1.4529132843017578, 1.0589057207107544, 1.4401519298553467, 1.431440830230713, 1.2874796390533447, 0.6906965374946594, 1.4760476350784302, 1.1549334526062012, 1.2894868850708008, 1.116957187652588, 1.305422306060791, 0.8855491280555725, 1.2170449495315552, 0.8009092807769775, 1.2977603673934937, 1.020738959312439, 1.5443994998931885, 0.8473318815231323, 1.0480058193206787, 1.1073553562164307, 1.1987683773040771, 1.294235110282898, 0.9303550124168396, 1.163446307182312, 0.9550082683563232, 1.243238091468811, 1.371622085571289, 1.4718289375305176, 1.2766857147216797, 1.5608940124511719, 0.7553722262382507, 0.9898715019226074, 0.6969226002693176, 1.2864981889724731, 0.9378378391265869, 0.657659113407135, 0.7797886729240417, 1.3281123638153076, 1.0719941854476929, 1.061161756515503, 1.2900652885437012, 0.961763858795166, 1.0097590684890747, 1.4811642169952393, 1.33245050907135, 1.3407222032546997, 0.9065995216369629, 1.4546140432357788, 1.462219476699829, 1.0636557340621948, 1.3468668460845947, 1.2523136138916016, 1.1607390642166138, 0.9903950691223145, 1.2547633647918701, 0.8766694664955139, 0.7243792414665222, 1.1825302839279175, 1.3878309726715088, 0.7161853909492493, 1.384684443473816, 1.1758136749267578, 1.1962475776672363, 1.082619071006775, 0.9789502024650574, 0.7913998365402222, 0.8582085967063904, 1.3309077024459839, 1.216740369796753, 0.6936991214752197, 0.834915041923523, 0.9441900253295898, 1.1188727617263794, 0.7639957070350647, 0.9667032957077026, 0.5661723613739014, 0.7385127544403076, 1.2892072200775146, 0.9787224531173706, 0.6669127941131592, 1.096317172050476, 1.2092701196670532, 0.9436144232749939, 1.241729974746704, 0.9304440021514893, 1.000652551651001, 1.0927902460098267, 1.1875028610229492, 1.236189842224121, 1.9049996137619019, 0.9393942952156067, 0.9934972524642944, 1.0463069677352905, 1.5078368186950684, 0.4990903437137604, 1.025572419166565, 1.3697547912597656, 1.139696717262268, 1.0820282697677612, 1.0902011394500732, 0.9504228830337524, 1.2457404136657715, 0.9828441739082336, 0.7317278385162354, 0.9595967531204224, 1.2297985553741455, 0.5293983221054077, 0.7082803249359131, 0.77177894115448, 0.8275033831596375, 0.9572452902793884, 0.9665550589561462, 0.7520565390586853, 0.9728797078132629, 1.1272084712982178, 1.3586981296539307, 1.0957987308502197, 1.0646207332611084, 0.725598931312561, 0.6667342185974121, 1.1104755401611328, 0.8368420600891113, 1.016667127609253, 1.0122857093811035, 0.6446801424026489, 0.5311887860298157, 0.905536413192749, 0.6018085479736328, 1.0514616966247559, 0.8928258419036865, 0.9861922860145569, 0.5165156722068787, 0.435696542263031, 0.8885031342506409, 0.5171980857849121, 0.6744887232780457, 1.0418955087661743, 0.8803507685661316, 0.7571718096733093, 0.8800448775291443, 0.7485424280166626, 0.7749162316322327, 0.7812933921813965, 0.7678567171096802, 1.008094310760498, 1.1183537244796753, 0.767501950263977, 0.8535377979278564, 0.5575899481773376, 1.0290278196334839, 1.0586378574371338, 0.6787769198417664, 0.5914930701255798, 1.177464485168457, 0.8807819485664368, 0.885085940361023, 0.8180932402610779, 0.5790119767189026, 0.9861791133880615, 0.7823296785354614, 1.133636713027954, 1.1787317991256714, 0.405259370803833, 0.8156964778900146, 0.8124006986618042, 0.8060401678085327, 0.6244630217552185, 1.3897912502288818, 0.6930009126663208, 0.44468942284584045, 0.8512022495269775, 0.9209680557250977, 1.3420144319534302, 0.33426398038864136, 1.0251115560531616, 0.7980642318725586, 0.9153484106063843, 1.1770902872085571, 0.7711220383644104, 0.4427548050880432, 0.4671367108821869, 1.148056149482727, 1.3778278827667236, 0.9861816167831421, 0.9778949022293091, 0.8180755972862244, 0.7309187054634094, 0.9153324365615845, 0.7464022636413574, 0.42356163263320923, 1.170278549194336, 1.2507922649383545, 0.8254041075706482, 0.6295515298843384, 0.5986812710762024, 0.576715886592865, 1.9835574626922607, 0.5566537380218506, 0.9121262431144714, 0.790887176990509, 0.2713503837585449, 0.991110622882843, 0.9069669842720032, 1.0321027040481567, 0.9340766668319702, 0.7175367474555969, 0.5697205066680908, 1.1431825160980225, 0.48507416248321533, 0.9335260391235352, 0.4203838109970093, 0.5593093633651733, 0.649418294429779, 0.25651881098747253, 0.7880234718322754, 0.7429138422012329, 0.8607921600341797, 0.4437620937824249, 0.8126655220985413, 0.6084719896316528, 0.7301345467567444, 0.5924542546272278, 1.8011250495910645, 0.25527966022491455, 0.7811655402183533, 1.0557283163070679, 0.6879156827926636, 0.5118712186813354, 0.8908290266990662, 1.016120433807373, 0.9650929570198059, 0.6792210936546326, 1.2390440702438354, 0.2541119456291199, 1.2101956605911255, 1.1497642993927002, 1.2054208517074585, 0.884341299533844, 0.8346518278121948, 0.6453689932823181, 0.5940632820129395, 0.4702986776828766, 0.7457034587860107, 0.6898938417434692, 0.6741626262664795, 0.5639166831970215, 0.9214115738868713, 0.4434257745742798, 0.7544581890106201, 0.6610768437385559, 0.8755718469619751, 1.0106526613235474, 0.8281366229057312, 0.5059829950332642, 0.7157291173934937, 0.578886091709137, 0.6007803678512573, 0.7229843735694885, 0.6432527303695679, 0.5148552060127258, 0.5349591970443726, 0.3474407494068146, 0.6066576242446899, 0.7786621451377869, 1.0430344343185425, 0.5775798559188843, 0.7777470946311951, 1.0404239892959595, 0.3874402344226837, 0.7342575192451477, 1.2487266063690186, 0.6630406379699707, 0.3775378465652466, 0.6871317625045776, 0.4431948661804199, 0.8972636461257935, 1.0492539405822754, 0.9941567778587341, 1.1901382207870483, 0.4848071336746216, 0.7739534378051758, 0.5794087052345276, 0.3032740354537964, 0.3275916278362274, 0.6050888299942017, 0.9223287105560303, 1.0912728309631348, 0.6184612512588501, 0.6489008069038391, 0.541192889213562, 0.6409258246421814, 0.5415729880332947, 0.5973539352416992, 0.6429318189620972, 0.6791260838508606, 0.2537039518356323, 0.7204775214195251, 0.547332763671875, 0.48639002442359924, 1.4347264766693115, 0.25910764932632446, 1.0282487869262695, 1.00942862033844, 0.47560450434684753, 0.4975847601890564, 0.5695784687995911, 1.237269639968872, 0.6533599495887756, 0.7595332860946655, 0.885303795337677, 0.5025991797447205, 0.7819305658340454, 0.6119964122772217, 1.3975038528442383, 0.5545215606689453, 0.7947772145271301, 0.506655216217041, 0.8093970417976379, 0.5543841123580933, 0.5784655213356018, 0.8415206670761108, 0.7567316293716431, 0.41823631525039673, 0.9157540798187256, 0.5276897549629211, 0.42551755905151367, 0.7176326513290405, 0.9336540102958679, 0.6153346300125122, 0.9106683731079102, 0.5141007900238037, 1.3045941591262817, 0.635444700717926, 0.619796633720398, 0.823691189289093, 1.2358981370925903, 1.2439756393432617, 1.278393268585205, 0.6456405520439148, 0.9191516637802124, 0.18122152984142303, 0.7063549160957336, 0.4399043917655945, 0.8252041935920715, 0.28106236457824707, 0.9296412467956543, 1.0027152299880981, 0.5800846815109253, 0.35623329877853394, 0.44252079725265503, 0.6684830188751221, 0.6396967768669128, 1.0268595218658447, 1.2900992631912231, 0.8278980255126953, 1.2303972244262695, 1.0996479988098145, 0.8707905411720276, 0.3425121605396271, 0.9450054168701172, 0.7403630018234253, 0.5760445594787598, 1.1159825325012207, 1.260462999343872, 0.8118334412574768, 0.618837833404541, 1.2511005401611328, 0.3829273283481598, 0.7638894319534302, 0.36788439750671387, 0.8938573002815247, 0.6820196509361267, 0.8705458641052246, 1.0031282901763916, 0.27983078360557556, 0.6382785439491272, 0.5991952419281006, 0.8454163074493408, 0.09266795963048935, 0.6750081181526184, 0.737212598323822, 0.25259849429130554, 0.28881311416625977, 1.257693886756897, 0.7998595833778381, 0.8245900273323059, 0.6859384775161743, 0.94022536277771, 1.0943511724472046, 0.3160858750343323, 0.9088656902313232, 0.6108797788619995, 0.434476763010025, 0.8237185478210449, 0.5705313682556152, 0.50949627161026, 1.0657553672790527, 0.5218425989151001, 0.6864851713180542, 0.5489090085029602, 0.9160321950912476, 0.7686342000961304, 0.666710615158081, 0.8431188464164734, 0.8299639225006104, 0.4885292947292328, 1.0620235204696655, 0.8766316175460815, 0.6084066033363342, 0.49918580055236816, 0.6980409622192383, 0.5767511129379272, 0.6765890717506409, 0.8138519525527954, 0.343312531709671, 0.8655833601951599, 0.5296298265457153, 0.7892173528671265, 0.6342099905014038, 0.7632043957710266, 1.4040316343307495, 0.5864555835723877, 0.2982296049594879, 0.8234995603561401, 0.9788079261779785, 0.5253037810325623, 0.6767522096633911, 0.5292636752128601, 0.9984392523765564, 0.46722865104675293, 0.3824828863143921, 0.9825059771537781, 1.129564881324768, 0.9226714968681335, 0.633844256401062, 0.49189552664756775, 0.8815767168998718, 0.9408488273620605, 0.5577392578125, 0.4886039197444916, 0.4895305335521698, 0.47803473472595215, 0.8599247336387634, 0.27836769819259644, 0.19424913823604584, 0.2998315393924713, 0.5406593680381775, 0.6656391024589539, 1.3827447891235352, 0.7425593733787537, 0.8608055114746094, 0.843092679977417, 0.5306257009506226, 0.47154656052589417, 0.5864033699035645, 0.4314146935939789, 0.18122868239879608, 0.48145920038223267, 0.43091118335723877, 0.9822598695755005, 0.6549662351608276, 0.4781716465950012, 0.6276191473007202, 0.5404762625694275, 1.0861587524414062, 0.8067087531089783, 0.8837047815322876, 0.5712031126022339, 0.2633485794067383, 1.036432147026062, 0.6399763822555542, 0.7065501809120178, 0.5291834473609924, 0.2598334848880768, 0.44460397958755493, 0.982755184173584, 0.41157832741737366, 0.7704735994338989, 0.6212995052337646, 0.38829171657562256, 0.3862939774990082, 0.8705605268478394, 0.8414875268936157, 0.6387903094291687, 0.24209779500961304, 0.6069408059120178, 0.3909207284450531, 0.7555756568908691, 0.518136203289032, 0.8339684009552002, 0.3425760865211487, 0.7375478148460388, 0.4329906105995178, 0.5461275577545166, 0.6258412599563599, 0.9425848722457886, 0.6081815958023071, 1.229491949081421, 0.9524313807487488, 0.790091872215271, 0.5420742630958557, 0.9430665373802185, 0.46475234627723694, 0.4973454177379608, 1.1960582733154297, 0.8559529185295105, 0.40784895420074463, 1.179402232170105, 0.5261982679367065, 0.2342553734779358, 0.39629095792770386, 0.3015343248844147, 0.3433610498905182, 0.5740116238594055, 0.49722909927368164, 1.4263815879821777, 0.6690228581428528, 0.32977038621902466, 0.3288414478302002, 0.9285109043121338, 0.723737359046936, 1.0805082321166992, 0.9879206418991089, 0.7367510199546814, 0.591337263584137, 1.193954586982727, 0.32561588287353516, 0.690909743309021, 0.33445069193840027, 0.4951115846633911, 0.35331258177757263, 0.21035964787006378, 0.5438160300254822, 0.4424471855163574, 0.4948151409626007, 0.589058518409729, 0.36417898535728455, 1.3126435279846191, 0.4788108468055725, 0.6080981492996216, 0.5086470246315002, 1.4680505990982056, 0.7351583242416382, 0.6258289217948914, 0.5943453311920166, 0.25906601548194885, 1.1282519102096558, 0.29192811250686646, 0.5786751508712769, 0.26772716641426086, 1.0754517316818237, 0.47214123606681824, 0.7609703540802002, 1.02802574634552, 0.3210301697254181, 1.052992820739746, 0.7981737852096558, 0.2229136973619461, 0.4891318082809448, 0.5546912550926208, 0.3020460605621338, 0.8527528047561646, 0.40000206232070923, 0.41638028621673584, 0.7001764178276062, 0.47822993993759155, 0.5450645089149475, 0.4075373113155365, 0.7773868441581726, 1.0876495838165283, 0.5996953845024109, 0.7398828864097595, 0.4477829039096832, 0.9273180961608887, 0.8156876564025879, 0.34137198328971863, 0.8249133825302124, 0.6592037677764893, 0.2808818817138672, 0.7458165287971497, 0.5808901786804199, 0.8790909051895142, 0.5468717813491821, 0.3855631947517395, 0.41386908292770386, 1.0662107467651367, 0.7032268643379211, 0.41848742961883545, 0.749136209487915, 0.1916758269071579, 0.6817999482154846, 0.6476805210113525, 0.4376881718635559, 0.8954694867134094, 0.4726351499557495, 0.5436158180236816, 0.9594861268997192, 0.19419243931770325, 0.8416388034820557, 1.022334098815918, 0.30518412590026855, 0.8427338600158691, 1.2234386205673218, 0.403688907623291, 0.4592571258544922, 0.25075966119766235, 0.5422039031982422, 0.9158235192298889, 0.6270710229873657, 0.45528051257133484, 0.851212739944458, 0.2649363577365875, 0.17503228783607483, 0.4437578618526459, 0.6000723838806152, 0.8370893001556396, 0.8250485062599182, 0.7315919995307922, 0.9043005108833313, 0.6487637758255005, 0.8040968179702759, 0.132152259349823, 0.4945613741874695, 0.25184038281440735, 0.39592671394348145, 0.5237879157066345, 0.915238618850708, 0.5055804252624512, 0.7783660888671875, 0.3771961033344269, 0.1264849603176117, 0.7462363243103027, 0.2537532448768616, 0.4136257469654083, 0.09507086873054504, 0.8495880961418152, 1.03252375125885, 0.405534952878952, 0.804375171661377, 0.5951306819915771, 0.2436816543340683, 0.13074594736099243, 0.9213942289352417, 0.21758443117141724, 1.4940733909606934, 0.47997593879699707, 0.8395686149597168, 0.7687220573425293, 0.29608890414237976, 0.6853520274162292, 0.760969340801239, 0.8164669871330261, 0.28862982988357544, 1.0765156745910645, 0.2690705358982086, 1.159246563911438, 0.6360034346580505, 0.4986831843852997, 0.6901476383209229, 0.8640109896659851, 0.5161392688751221, 0.499647319316864, 0.27889442443847656, 0.46393412351608276, 0.14740648865699768, 0.5420881509780884, 0.7933534383773804, 0.3952709436416626, 0.18495051562786102, 0.5174257755279541, 0.40465986728668213, 0.5984573364257812, 0.3649144470691681, 0.7691395878791809, 0.5004962682723999, 0.17002806067466736, 0.31553274393081665, 0.4888054430484772, 0.46451443433761597, 0.9942286610603333, 0.5554909706115723, 0.529938817024231, 0.526248574256897, 0.42956987023353577, 0.8003971576690674, 0.12584814429283142, 1.0204918384552002, 0.7533038854598999, 0.7498505115509033, 0.985723078250885, 0.8022769093513489, 0.4102109372615814, 0.378632515668869, 0.4461032450199127, 0.22928719222545624, 0.5678876042366028, 0.36293649673461914, 0.725935161113739, 0.3564319908618927, 1.704999327659607, 0.49797385931015015, 0.27655577659606934, 1.1836183071136475, 1.0759280920028687, 0.8438706398010254, 0.9132865071296692, 0.4529346823692322, 0.7487873435020447, 0.5059860944747925, 0.5382680296897888, 0.2138165980577469, 0.4912784695625305, 0.5102663636207581, 0.7667206525802612, 0.34910139441490173, 0.6882672905921936, 0.3115300238132477, 0.8075064420700073, 0.5937520861625671, 0.29496392607688904, 0.1939631700515747, 0.7588455080986023, 0.5159105062484741, 0.4160156548023224, 0.5103592872619629, 0.1772754192352295, 0.4291378855705261, 0.6019179224967957, 0.7791094183921814, 0.2607116997241974, 0.4024459421634674, 0.42567959427833557, 0.5029075145721436, 1.0588550567626953, 0.6941066384315491, 0.8400301337242126, 0.5370143055915833, 0.765770673751831, 0.3067067563533783, 0.3125208616256714, 0.5136877298355103, 0.5022723078727722, 0.8365180492401123, 0.7093369960784912, 0.41915127635002136, 0.5527206659317017, 0.5627340078353882, 0.6817005276679993, 0.25287628173828125, 0.6656906008720398, 0.6546176075935364, 0.4053943455219269, 0.8906089067459106, 0.568454921245575, 0.5799647569656372, 0.5227975249290466, 0.44070541858673096, 0.7250040769577026, 0.6912897825241089, 0.8529579043388367, 0.8115933537483215, 0.35650768876075745, 0.7512449026107788, 0.7170712947845459, 1.187927007675171, 0.4186301529407501, 0.27124953269958496, 0.8632611632347107, 0.8201655149459839, 1.1964662075042725, 0.6483567357063293, 0.6098260283470154, 0.2690381407737732, 0.48101362586021423, 0.4771954417228699, 1.0592042207717896, 0.4001648426055908, 0.34102335572242737, 0.11828643083572388, 0.49249911308288574, 0.5676461458206177, 0.3129488229751587, 0.7447891235351562, 0.8281866908073425, 0.533384382724762, 0.6469385027885437, 1.1392223834991455, 0.705735445022583, 0.9552083015441895, 0.5464351177215576, 0.8619053959846497, 0.6118131279945374, 0.6360540986061096, 0.3588615953922272, 0.7622037529945374, 0.7293113470077515, 0.3738144338130951, 0.5820346474647522, 0.5690582394599915, 0.677909255027771, 0.369886189699173, 0.5342562794685364, 0.44548243284225464, 1.0098623037338257, 0.4224613308906555, 0.7978289127349854, 0.3660227656364441, 0.5713067650794983, 0.7363417744636536, 0.3703429102897644, 0.2827526032924652, 1.0860772132873535, 0.6576359272003174, 0.46798211336135864, 0.3353221118450165, 0.6531801223754883, 0.6286492943763733, 0.9254820346832275, 0.8409906029701233, 0.5196205973625183, 0.7654028534889221, 0.1682870090007782, 0.11799164116382599, 0.13139688968658447, 0.46783247590065, 0.7064583897590637, 0.7874546647071838, 0.5675440430641174, 0.28423404693603516, 0.23403151333332062, 0.6047855615615845, 0.9410631656646729, 0.5037575364112854, 0.13263852894306183, 0.18999749422073364, 0.4441904127597809, 0.6718007922172546, 0.701735258102417, 1.33560049533844, 0.6324460506439209, 0.8648678660392761, 0.5711265206336975, 0.47414737939834595, 0.3784753680229187, 0.6958954334259033, 0.6164191961288452, 0.19983473420143127, 0.38634684681892395, 0.45541810989379883, 0.8435909748077393, 0.4113037884235382, 0.8273402452468872, 0.35999730229377747, 0.4172493815422058, 0.5158367156982422, 0.41823193430900574, 0.4710272252559662, 0.4768027663230896, 0.23707181215286255, 0.7717312574386597, 0.7171802520751953, 0.7737488746643066, 0.48012775182724, 0.8778823018074036, 0.6684898138046265, 0.3209105134010315, 0.42436683177948, 0.40833425521850586, 0.5947533845901489, 0.44722780585289, 0.4340614676475525, 0.5631943345069885, 0.8257541656494141, 0.468140572309494, 0.9893165826797485, 0.23057591915130615, 1.089308500289917, 1.0268683433532715, 0.6785975098609924, 0.3730483055114746, 0.47811269760131836, 0.38081109523773193, 0.6522361636161804, 0.7783891558647156, 0.4467635750770569, 0.32213345170021057, 1.0454227924346924, 0.39263099431991577, 0.42179903388023376, 1.0766304731369019, 0.6529961824417114, 0.19284974038600922, 0.8265110850334167, 0.8996985554695129, 0.5741119384765625, 0.20821231603622437, 0.8280634880065918, 0.7562227249145508, 0.4242475926876068, 0.19371825456619263, 1.009458065032959, 1.2658334970474243, 0.7892627716064453, 0.2957631051540375, 0.5870345830917358, 0.6260238885879517, 0.7407196760177612, 0.37011608481407166, 0.569645345211029, 0.3717980682849884, 0.6878659129142761, 0.765144944190979, 0.21759644150733948, 0.2375032901763916, 0.6919188499450684, 0.4757554829120636, 0.8188828825950623, 0.6889577507972717, 0.21779583394527435, 1.8287699222564697, 0.7232447266578674, 0.4873577058315277, 0.7918552756309509, 0.41924983263015747, 0.46294909715652466, 0.5868901610374451, 0.36343398690223694, 0.7991708517074585, 0.6515263915061951, 0.8944227695465088, 0.29149696230888367, 0.37881767749786377, 0.3190464973449707, 0.5307145118713379, 0.4672919809818268, 0.6758204698562622, 0.874782145023346, 0.7875295281410217, 0.1520562469959259, 0.6337559223175049, 0.5720961689949036, 0.6718027591705322, 0.28759077191352844, 0.6370532512664795, 0.6692786812782288, 0.7218025922775269, 0.6030604839324951, 0.2981228530406952, 0.5160167813301086, 1.1923468112945557, 0.7508519887924194, 0.3863741159439087, 0.6222827434539795, 0.7607899904251099, 0.2983465790748596, 0.6752417087554932, 0.34064972400665283, 0.3596070110797882, 0.6871146559715271, 0.40990692377090454, 0.7486340403556824, 0.3031397759914398, 0.18473711609840393, 0.6108836531639099, 0.519244909286499, 0.5631119608879089, 1.082638144493103, 0.9892462491989136, 0.18765172362327576, 0.3465602993965149, 0.33437469601631165, 0.6142542958259583, 0.4877408742904663, 1.277481198310852, 1.014291524887085, 0.6820235848426819, 1.0422868728637695, 1.01421320438385, 0.2203877568244934, 0.3468432128429413, 0.6856962442398071, 0.40461820363998413, 0.7841670513153076, 0.48946139216423035, 0.4190938174724579, 0.46912869811058044, 0.44443684816360474, 0.6364621520042419, 0.513049304485321, 0.7966995239257812, 0.7590751647949219, 0.5439510941505432, 1.097475290298462, 0.27962687611579895, 0.28860610723495483, 0.9264441132545471, 1.1118228435516357, 1.0868198871612549, 1.043121099472046, 0.6856846809387207, 0.5804283618927002, 0.6493541598320007, 0.22922712564468384, 0.3301435708999634, 0.5825526714324951, 0.6431878805160522, 0.4289839267730713, 0.2059893012046814, 0.47252705693244934, 0.3992030620574951, 0.8658067584037781, 1.0408661365509033, 0.13767501711845398, 0.40701863169670105, 0.3980896472930908, 0.23138272762298584, 0.3027818500995636, 0.5074921250343323, 0.45927098393440247, 0.6639214754104614, 0.23623427748680115, 0.13652978837490082, 0.6422423124313354, 0.26328742504119873, 0.9862945079803467, 0.6834321022033691, 0.8570740222930908, 0.23002773523330688, 0.42989081144332886, 0.6441611051559448, 0.24338236451148987, 0.5599209666252136, 0.39572009444236755, 0.8650367259979248, 0.14984039962291718, 0.392900288105011, 0.43564844131469727, 0.6969577074050903, 1.06644606590271, 0.6121618747711182, 1.0067270994186401, 0.12070788443088531, tensor(4.6284e-05, device='cuda:0', grad_fn=<DivBackward0>), 0.4314337372779846, 0.5476681590080261, 0.7916957139968872, 0.46465209126472473, 0.1403193473815918, 0.5705087780952454, 0.28954988718032837, 0.18148115277290344, 0.17479777336120605, 0.3363746106624603, 0.1683085709810257, 0.47283411026000977, 0.3404175639152527, 0.5907966494560242, 0.16409048438072205, 0.13312497735023499, 0.6827091574668884, 0.6729051470756531, 0.3447685241699219, 0.35843750834465027, 0.37341073155403137, 0.3228600025177002, 0.5717920064926147, 0.29509180784225464, 0.18975895643234253, 0.42003530263900757, 0.42938268184661865, 0.4360215663909912, 0.45486363768577576, 0.36576029658317566, 0.06969597190618515, 0.24828660488128662, 0.07105887681245804, 0.28525131940841675, 0.30962419509887695, 0.09640771150588989, 0.462184339761734, 0.16867980360984802, 0.09924441576004028, 0.31841787695884705, 0.6445046067237854, 0.3762975335121155, 0.4181608259677887, 0.4869104027748108, 0.41951775550842285, 0.1395513117313385, 0.28453174233436584, 0.3732634484767914, 0.8055280447006226, 0.3273960053920746, 0.22828413546085358, 0.24867939949035645, 0.32154908776283264, 0.18254666030406952, 0.7942378520965576, 0.9538446664810181, 0.05944105610251427, 0.49655619263648987, 0.5750534534454346, 0.39429545402526855, 0.17467831075191498, 0.18907037377357483, 0.5126681327819824, 0.7245129942893982, 0.4045538306236267, 0.3133697509765625, 0.28094053268432617, 0.33051878213882446, 0.34156322479248047, 0.07420498132705688, 0.9184185266494751, 0.5100821256637573, 0.1845782846212387, 0.5062585473060608, 0.23044857382774353, 1.043555736541748, 0.6624003648757935, 0.2005450278520584, 0.3855964243412018, 0.3083530366420746, 0.15997253358364105, 0.6051753759384155, 0.268674373626709, 0.061207130551338196, 0.08328628540039062, 0.22489924728870392, 0.6319464445114136, 0.3146026134490967, 0.7232162952423096, 0.2673506736755371, 0.522843599319458, 0.24849888682365417, 0.2923271059989929, 0.14422959089279175, 0.1784074902534485, 1.2401889562606812, 0.2746398150920868, 0.4291412830352783, 0.3688948154449463, 1.0591421127319336, 0.18607132136821747, 0.0957007110118866, 0.5461848974227905, 0.17492744326591492, 0.23155808448791504, 0.4079504609107971, 0.6248352527618408, 0.9432917833328247, 0.5256364941596985, 0.38807520270347595, 0.24700400233268738, 0.4842131733894348, 0.38890162110328674, 0.7616245746612549, 0.4382967948913574, 0.28321486711502075, 0.07303550094366074, 0.4749428629875183, 0.05829646438360214, 0.3191981613636017, 0.14636632800102234, 0.8492186665534973, 0.3717195689678192, 0.6480056047439575, 0.5186440348625183, 0.5920700430870056, 0.2165900468826294, 0.2152204066514969, 0.6362854838371277, 0.41705432534217834, 0.14557041227817535, 0.12502312660217285, 0.07886389642953873, 0.39024344086647034, 0.2458646446466446, 0.15298232436180115, 0.3399677872657776, 0.06123353913426399, 0.10322096198797226, 0.7006443738937378, 0.20038926601409912, 0.3933538794517517, 0.04065610095858574, 0.5862933993339539, 0.44767123460769653, 0.39884424209594727, 0.26373055577278137, 0.44905412197113037, 0.39290785789489746, 0.1557321846485138, 0.16529440879821777, 0.29977935552597046, 0.1448807716369629, 0.3615776002407074, 0.3320167362689972, 0.5484241247177124, 0.08818259835243225, 0.2665674388408661, 0.23020921647548676, 0.4432455599308014, 0.2892591059207916, 0.17472389340400696, 0.2655288875102997, 0.21825796365737915, 0.5737959146499634, 0.30748850107192993, 0.29129496216773987, 0.32278677821159363, 0.8684394359588623, 0.38289108872413635, 0.41092416644096375, 0.6128270030021667, 0.2641932964324951, 0.42412230372428894, 0.060785066336393356, 0.33106571435928345, 0.24489685893058777, 0.1624407321214676, 0.5552271008491516, 0.2960233986377716, 0.6269994378089905, 0.6479965448379517, 0.791564404964447, 0.5112584829330444, 0.04208999499678612, 0.31855809688568115, 0.38146451115608215, 0.22817672789096832, 0.3529984652996063, 0.2205078899860382, 0.6499596238136292, 0.36843565106391907, 0.277952641248703, 0.1704663187265396, 0.540427029132843, 0.376589834690094, 0.14634712040424347, 0.31484976410865784, 0.37791988253593445, 0.08188797533512115, 0.35181349515914917, 0.49177777767181396, 0.08550304919481277, 0.04740280658006668, 0.17175143957138062, 0.12031953781843185, 0.37933605909347534, 0.6103241443634033, 0.13111741840839386, 0.39584457874298096, 0.47029078006744385, 0.4926983714103699, 0.08921554684638977, 0.2581394910812378, 0.24069835245609283, 0.23375381529331207, 0.8863838911056519, 0.22176967561244965, 0.048168081790208817, 0.9742999076843262, 0.09124661982059479, 0.15745800733566284, 0.12126637995243073, 0.3924159109592438, 0.23551267385482788, 0.15798138082027435, 0.15468958020210266, 0.7205502390861511, 0.29051733016967773, 0.3348276913166046, 0.3107333779335022, 0.2689616084098816, 0.44735047221183777, 0.616374671459198, 0.6048590540885925, 0.759202241897583, 0.4777083396911621, 0.32395419478416443, 0.2098878175020218, 0.7484686374664307, 0.07009731978178024, 0.15495945513248444, 0.4365972876548767, 0.08592269569635391, 0.6871129274368286, 0.1953083723783493, 0.1975412517786026, 0.1750078797340393, 0.7451083660125732, 0.34394705295562744, 0.4383145570755005, 0.5806542634963989, 0.31145724654197693, 0.3207630217075348, 0.2631233334541321, 0.31408387422561646, 0.560455858707428, 0.45945221185684204, 0.9295521974563599, 0.26352933049201965, 0.503460705280304, 0.08107864856719971, 0.05902973562479019, 1.1720428466796875, 0.7243093252182007, 0.2779366672039032, 0.19702839851379395, 0.036969106644392014, 0.14103901386260986, 0.5237025618553162, 0.13728246092796326, 0.6231059432029724, 0.8996813893318176, 0.4422021806240082, 0.34773528575897217, 0.17090371251106262, 0.7659018039703369, 0.3100505471229553, 0.18060775101184845, 0.09286301583051682, 0.1715940684080124, 0.7969877123832703, 0.1464652568101883, 0.7754288911819458, 0.21695148944854736, 0.37280675768852234, 0.7798988223075867, 0.5778700709342957, 0.10896798223257065, 0.37959012389183044, 0.1829630732536316, 0.22986803948879242, 0.15259429812431335, 0.2764360308647156, 0.22521983087062836, 0.38039955496788025, 0.5108842849731445, 0.1497325301170349, 0.201670303940773, 0.21884223818778992, 0.5139642357826233, 0.2464086413383484, 0.5854372978210449, 0.3346882164478302, 0.9188450574874878, 0.22750648856163025, 0.812325119972229, 0.4621645212173462, 0.12258169800043106, 0.43013495206832886, 0.09567869454622269, 0.33363771438598633, 0.45411232113838196, 0.20815783739089966, 0.9302964806556702, 0.4767792820930481, 0.1066550463438034, 0.493826299905777, 0.33456745743751526, 0.5197829604148865, 0.23109513521194458, 0.23797667026519775, 0.4967966675758362, 0.37626707553863525, 0.21919609606266022, 0.045256856828927994, 0.6833144426345825, 0.3632989525794983, 0.0784250870347023, 0.4719323217868805, 0.42371782660484314, 0.13954702019691467, 0.22011059522628784, 0.49179956316947937, 0.3471676707267761, 0.3067871332168579, 0.2232053279876709, 0.18214008212089539, 0.33553704619407654, 0.40306541323661804, 0.5704261660575867, 0.28882652521133423, 0.25633320212364197, 0.5929036736488342, 0.20487986505031586, 0.15456989407539368, 0.3145425319671631, 0.4590572714805603, 0.23154397308826447, 0.13311444222927094, 0.851456880569458, 0.04084930196404457, 0.22062461078166962, 0.5388651490211487, 0.3289106786251068, 0.10119374841451645, 0.29898202419281006, 0.3134770095348358, 0.428035169839859, 0.20435547828674316, 0.307671457529068, 0.2286219298839569, 0.04859795421361923, 0.1337405890226364, 0.5042161345481873, 0.5359159111976624, 0.062006108462810516, 0.29251575469970703, 0.18708190321922302, 0.37082964181900024, 0.5052757263183594, 0.45921948552131653, 0.43538177013397217, 0.3742640018463135, 0.13340097665786743, 0.570590615272522, 0.3916015923023224, 0.6159984469413757, 0.18869248032569885, 0.4066532850265503, 0.3610077202320099, 0.29949653148651123, 0.1447848379611969, 0.32013213634490967, 0.7775194644927979, 0.4478820562362671, 0.6196390986442566, 0.17617765069007874, 0.11857335269451141, 0.11789797246456146, 0.21539746224880219, 0.4188709855079651, 0.540934681892395, 0.21986064314842224, 0.3931518793106079, 0.4694504737854004, 0.3561362028121948, 0.6275591254234314, 0.7252605557441711, 0.12017935514450073, 0.4230913817882538, 0.9899933338165283, 0.4144647419452667, 0.6545372605323792, 0.3737363815307617, 0.16373828053474426, 0.18505419790744781, 0.061752259731292725, 0.8784672617912292, 0.17690284550189972, 0.090941421687603, 0.20212560892105103, 0.23886656761169434, 0.4070703685283661, 0.08937553316354752, 0.22720426321029663, 0.09416678547859192, 0.3265668451786041, 0.112452931702137, 0.08011605590581894, 0.35334843397140503, 0.3220269978046417, 0.09024378657341003, 0.20578251779079437, 0.17852672934532166, 0.041670385748147964, 0.39915931224823, 0.6861862540245056, 0.2184387743473053, 0.032331183552742004, 0.3604556620121002, 0.0458282046020031, 0.6890265941619873, 0.466500848531723, 0.2559865117073059, 0.11887482553720474, 1.0432407855987549, 0.1328386664390564, 0.13976821303367615, 0.42483359575271606, 0.14833983778953552, 0.35543787479400635, 0.24312643706798553, 0.14375275373458862, 0.05877304822206497, 0.6919957995414734, 0.2047385424375534, 0.14434848725795746, 0.2509669363498688, 0.5535546541213989, 0.536583423614502, 0.2937399744987488, 0.28587350249290466, 0.10957704484462738, 0.08035513758659363, 0.27835774421691895, 0.4400307238101959, 0.19561737775802612, 0.6027414798736572, 0.41938260197639465, 0.11522085219621658, 0.17648513615131378, 0.026763463392853737, 0.21828289330005646, 0.1740569770336151, 0.2659807503223419, 0.1499680131673813, 0.49921220541000366, 0.17004208266735077, 0.3524099886417389, 0.29906556010246277, 0.1075548380613327, 0.6082366704940796, 0.02084042690694332, 0.21663424372673035, 0.5818560719490051, 0.29095253348350525, 0.2590372562408447, 0.5171358585357666, 0.20870009064674377, 0.05868721008300781, 0.26651912927627563, 0.6383697390556335, 0.19501398503780365, 0.08670378476381302, 0.18301428854465485, 0.12446457892656326, 0.2813091576099396, 0.06512121856212616, 0.7935293316841125, 0.3936976194381714, 0.09696546941995621, 0.5483028888702393, 0.9435669183731079, 0.286115437746048, 0.4900049567222595, 0.18751519918441772, 0.6457321643829346, 0.2902889549732208, 0.3269582688808441, 0.30129173398017883, 0.27890411019325256, 0.12460854649543762, 0.32592329382896423, 0.2881167531013489, 0.32131555676460266, 0.08701842278242111, 0.07934024184942245, 0.19937646389007568, 0.4460769593715668, 0.18407079577445984, 0.3746059536933899, 0.42237377166748047, 0.09228577464818954, 0.11975005269050598, 0.22979703545570374, 0.3672139644622803, 0.3321322202682495, 0.12971416115760803, 0.11268361657857895, 0.36494022607803345, 0.3929106593132019, 0.22920343279838562, 0.35875827074050903, 0.30473792552948, 0.2827913463115692, 0.19998788833618164, 0.3971615433692932, 0.4171507656574249, 0.32576707005500793, 0.21081313490867615, 0.37069055438041687, 0.3803560137748718, 0.6193033456802368, 0.5262002944946289, 0.6790811419487, 0.05611411854624748, 0.5260390639305115, 0.6423622369766235, 0.36680662631988525, 0.531017005443573, 0.54805988073349, 0.16899113357067108, 0.10896249860525131, 0.2959456443786621, 0.4998721480369568, 0.8531875014305115, 0.16398794949054718, 0.18856312334537506, 0.4509669542312622, 0.2397533506155014, 0.11310477554798126, 0.13433107733726501, 0.1391032338142395, 0.6319099068641663, 0.24787797033786774, 0.6949969530105591, 0.2539065480232239, 0.4157055616378784, 0.6683564186096191, 0.125907763838768, 0.8019044399261475, 0.5676031112670898, 0.06419310718774796, 0.46045953035354614, 0.3027080297470093, 0.09766413271427155, 0.06421002745628357, 1.0101146697998047, 0.3736356794834137, 0.6737722754478455, 0.35911837220191956, 0.1583068072795868, 0.14804509282112122, 0.07954216748476028, 0.2442294955253601, 0.10870038717985153, 0.355812132358551, 0.5556521415710449, 0.2899658977985382, 0.6033790111541748, 0.22167262434959412, 0.27065396308898926, 0.24094702303409576, 0.33068445324897766, 0.7209814786911011, 0.5401212573051453, 0.5119858384132385, 0.29785242676734924, 0.3313106894493103, 0.08107791841030121, 0.2649119198322296, 0.15313105285167694, 0.3729029595851898, 0.04079696536064148, 0.34134969115257263, 0.1499003767967224, 0.9049312472343445, 0.13579091429710388, 0.1978204846382141, 0.05239451676607132, 0.5482383966445923, 0.18756578862667084, 0.3883516192436218, 0.4977401793003082, 0.659660279750824, 0.16999763250350952, 0.3338262438774109, 1.1576749086380005, 0.2671355903148651, 0.5739938616752625, 0.42556238174438477, 0.5537660121917725, 0.7166759371757507, 0.5578744411468506, 0.2212558090686798, 0.7942203283309937, 0.030406933277845383, 0.15827205777168274, 0.2085675597190857, 0.4990886151790619, 0.20787489414215088, 0.465045690536499, 0.19668197631835938, 1.006818413734436, 0.1337093561887741, 0.1339571177959442, 0.27844735980033875, 0.1525201052427292, 0.5709057450294495, 0.21112392842769623, 0.3514469265937805, 0.12323025614023209, 0.43425893783569336, 0.3380904197692871, 0.8106155395507812, 0.12175023555755615, 0.11760616302490234, 0.07894676923751831, 0.2866121530532837, 0.19269327819347382, 0.1840776801109314, 0.1777842491865158, 0.059194859117269516, 0.16198517382144928, 0.31920337677001953, 0.4699349105358124, 0.17199337482452393, 0.8281130790710449, 0.3513435423374176, 0.2957282066345215, 0.2066257745027542, 1.0199708938598633, 0.8040898442268372, 0.20975203812122345, 0.2958191931247711, 0.5439674854278564, 0.12868744134902954, 0.10301187634468079, 0.41574862599372864, 0.7497180700302124, 0.33522742986679077, 1.2982789278030396, 0.3138018846511841, 0.3665173053741455, 0.14751408994197845, 0.09956694394350052, 0.1904887557029724, 0.5580955147743225, 0.24854297935962677, 0.5136547088623047, 0.24520725011825562, 0.6734120845794678, 0.6014748215675354, 0.32549750804901123, 0.21252459287643433, 0.269170880317688, 0.11407293379306793, 0.387994647026062, 0.23282916843891144, 0.1453377604484558, 0.1948154717683792, 0.4564092457294464, 0.036685653030872345, 0.947677731513977, 0.22479337453842163, 0.2571488320827484, 0.15835356712341309, 0.5586133003234863, 0.29731816053390503, 0.15702389180660248, 0.2837200164794922, 0.09353332966566086, 0.3230263590812683, 0.5326982140541077, 0.06252870708703995, 0.09163396060466766, 0.3817833662033081, 0.029886655509471893, 0.5042205452919006, 0.09119346737861633, 0.5275296568870544, 0.4217209219932556, 0.3227967917919159, 0.11321185529232025, 0.2201017439365387, 0.26391252875328064, 0.3229340612888336, 0.08159003406763077, 0.12760494649410248, 0.09041913598775864, 0.23157566785812378, 0.39519715309143066, 0.5730583667755127, 0.2240440547466278, 0.3742821514606476, 0.8741809129714966, 0.5969650149345398, 0.09618007391691208, 0.19165126979351044, 0.2892696261405945, 0.5463386178016663, 0.37590041756629944, 0.43020159006118774, 0.4501320421695709, 0.40851014852523804, 0.2196691781282425, 0.04925405979156494, 0.10160838812589645, 0.1928379088640213, 0.0316142812371254, 0.424033522605896, 0.1618141531944275, 0.157518669962883, 0.393623948097229, 0.06912928819656372, 0.0876796767115593, 0.6008437871932983, 0.4597684442996979, 0.5167511701583862, 0.07720138877630234, 0.08756811171770096, 0.3793274164199829, 0.10922730714082718, 0.6021597385406494, 0.1253627985715866, 0.14328758418560028, 0.4810718595981598, 0.2894119620323181, 0.40090760588645935, 0.46164342761039734, 0.16233448684215546, 0.3055303394794464, 0.21516364812850952, 0.08515183627605438, 0.32959049940109253, 0.17889100313186646, 0.4004327654838562, 0.5750276446342468, 0.20684324204921722, 0.2938815951347351, 0.5637277364730835, 0.42645788192749023, 0.23481622338294983, 0.06638037413358688, 0.3368988037109375, 0.6147584915161133, 0.0911736786365509, 0.0804145485162735, 0.07756242901086807, 0.10198534280061722, 0.4565678834915161, 0.432841956615448, 0.07595374435186386, 0.17271795868873596, 0.3523850440979004, 0.8451494574546814, 0.6064960360527039, 0.27754509449005127, 0.5512071847915649, 0.27287113666534424, 0.28153735399246216, 0.10228157043457031, 0.3473188877105713, 0.1264803260564804, 0.3463883697986603, 0.05426279455423355, 0.12757106125354767, 0.05953655019402504, 0.2897610366344452, 0.5520211458206177, 0.135751411318779, 0.10201193392276764, 0.38077789545059204, 0.24566717445850372, 0.04776697978377342, 0.2909659445285797, 0.14493049681186676, 0.18140247464179993, 0.1535419523715973, 0.5246779918670654, 0.40054234862327576, 0.5416286587715149, 0.7091246247291565, 0.2808244228363037, 0.08209196478128433, 0.05251576006412506, 0.06733448058366776, 0.2866443991661072, 0.3578021228313446, 0.6637669205665588, 0.6503632664680481, 0.3198162317276001, 0.8633191585540771, 0.5717446208000183, 0.09873194992542267, 0.6165639758110046, 0.4639526903629303, 0.3030824065208435, 0.5102410912513733, 0.1286589354276657, 0.7717249393463135, 0.40837904810905457, 0.022441664710640907, 0.5246812701225281, 1.1443690061569214, 0.42252254486083984, 0.3296607434749603, 0.5388257503509521, 0.45055660605430603, 0.10504662245512009, 0.3382903039455414, 0.14354485273361206, 0.36707785725593567, 0.43384507298469543, 0.8044318556785583, 0.4726398289203644, 0.12382685393095016, 0.25442227721214294, 0.7647709250450134, 0.40698978304862976, 0.18414080142974854, 0.08831493556499481, 0.3499666154384613, 0.7814677953720093, 0.09541036933660507, 0.35581648349761963, 0.27897170186042786, 0.03609719127416611, 0.4562145471572876, 0.16345107555389404, 0.1592363715171814, 0.7451132535934448, 0.25890418887138367, 0.969544529914856, 0.2811287045478821, 0.5069509744644165, 0.5050944089889526, 0.2996426820755005, 0.21776342391967773, 0.40187063813209534, 0.17143261432647705, 0.3153909742832184, 0.5008841753005981, 0.23986318707466125, 0.21432244777679443, 0.5272020101547241, 0.990676760673523, 0.28755900263786316, 0.29422321915626526, 0.0889301747083664, 0.5211360454559326, 0.6897789239883423, 0.1265249401330948, 0.1062239482998848, 0.16249613463878632, 0.1273362785577774, 0.17367522418498993, 0.48003217577934265, 0.4009718894958496, 0.06052498146891594, 0.10050851851701736, 0.15971124172210693, 0.18174265325069427, 0.37672024965286255, 0.45538970828056335, 0.35190656781196594, 0.10439842939376831, 0.62795090675354, 0.20673009753227234, 0.41523656249046326, 0.596664547920227, 0.8656185865402222, 0.7558244466781616, 0.38327914476394653, 0.522908627986908, 0.42321962118148804, 0.21409274637699127, 0.07532753050327301, 0.021009888499975204, 0.20283262431621552, 0.36811965703964233, 0.058346185833215714, 0.15395021438598633, 0.3449205756187439, 0.450869083404541, 0.42938971519470215, 0.18802890181541443, 0.6609041690826416, 0.3922130763530731, 0.33543503284454346, 0.19394642114639282, 0.3209964334964752, 0.10042409598827362, 0.6268666386604309, 0.14694726467132568, 0.24802842736244202, 0.08878584206104279, 0.14601734280586243, 0.5996968746185303, 0.13740620017051697, 0.3522210419178009, 0.41890379786491394, 0.08182644844055176, 0.21259407699108124, 0.492917001247406, 0.18352743983268738, 0.21967890858650208, 0.08972116559743881, 0.2984428405761719, 0.504967212677002, 0.35828274488449097, 0.03332848846912384, 0.07806110382080078, 0.5156816840171814, 0.08361832052469254, 0.1676040142774582, 0.25898006558418274, 0.30730903148651123, 0.14316882193088531, 0.5770831108093262, 0.24403619766235352, 0.6831150650978088, 1.142338514328003, 0.0912441834807396, 0.39420008659362793, 0.5081261992454529, 0.22198177874088287, 0.873296856880188, 0.3499743640422821, 0.09793984889984131, 0.10050713270902634, 0.4338771104812622, 0.028684105724096298, 0.2937135696411133, 0.7670396566390991, 0.8219924569129944, 0.41764259338378906, 0.6135609149932861, 0.28886955976486206, 0.33395031094551086, 0.21861931681632996, 0.33516550064086914, 0.2893965244293213, 0.21517977118492126, 0.5920397043228149, 0.22474396228790283, 0.0570119172334671, 0.07513489574193954, 0.6197603344917297, 0.08638882637023926, 0.1982223093509674, 0.04833709076046944, 0.11192554980516434, 0.09252318739891052, 0.2569850981235504, 1.1626269817352295, 0.4457457363605499, 0.10375525057315826, 0.05945810303092003, 0.15030451118946075, 0.06461711972951889, 0.1558104008436203, 0.6170739531517029, 0.4444613754749298, 0.5350615978240967, 0.266657292842865, 0.15165826678276062, 0.3046457767486572, 0.5154595375061035, 0.2671085000038147, 0.5590078830718994, 0.2117997705936432, 0.761504590511322, 0.33980417251586914, 0.11064797639846802, 0.16659598052501678, 0.27937763929367065, 0.2836684286594391, 0.6477873921394348, 0.06810547411441803, 0.7215052247047424, 0.0690336599946022, 0.17490729689598083, 0.491565465927124, 0.1856008768081665, 0.4778989553451538, 0.2560923099517822, 0.5843538045883179, 0.2613156735897064, 0.2937276363372803, 0.3698643445968628, 0.40253984928131104, 0.11225010454654694, 0.4584972858428955, 0.47243332862854004, 0.5314838886260986, 0.4127998352050781, 0.6610623598098755, 0.16136915981769562, 0.022206569090485573, 0.6233274340629578, 0.2866423428058624, 0.38798749446868896, 0.11448465287685394, 0.18715381622314453, 0.7708433866500854, 0.2836242616176605, 0.10663154721260071, 0.025839464738965034, 0.31044793128967285, 0.04447323828935623, 0.24745610356330872, 0.11239300668239594, 0.3802827298641205, 0.3087139129638672, 0.17987090349197388, 0.307741641998291, 0.18248310685157776, 0.7565920948982239, 1.0758914947509766, 0.6045957803726196, 0.198053777217865, 0.5629424452781677, 0.1581106036901474, 0.41436558961868286, 0.14561553299427032, 0.8579396605491638, 0.3534010350704193, 0.4503607153892517, 0.2999706566333771, 0.2934841513633728, 0.16017785668373108, 0.2326449751853943, 0.6810640096664429, 0.44279900193214417, 0.046942345798015594, 0.19921255111694336, 0.7138796448707581, 0.2526550590991974, 0.4536820650100708, 0.25848376750946045, 0.5295130610466003, 0.4342708885669708, 0.24130429327487946, 0.4276205897331238, 0.4739239513874054, 0.12199854105710983, 0.19265738129615784, 0.5506410598754883, 0.23103229701519012, 0.6341310143470764, 0.44395387172698975, 0.16527414321899414, 0.21511684358119965, 0.4753251075744629, 0.4440372884273529, 0.5257932543754578, 0.37884384393692017, 0.0969938263297081, 0.2554544508457184, 0.5872043967247009, 0.12158141285181046, 0.5289917588233948, 0.38133710622787476, 0.18479155004024506, 0.5326690673828125, 0.14656060934066772, 0.29556161165237427, 0.7553313970565796, 0.3808419108390808, 0.22910045087337494, 0.7253214120864868, 0.5448445081710815, 0.0807969942688942, 0.49316027760505676, 0.1059846356511116, 0.36932387948036194, 0.181243896484375, 0.9233458042144775, 0.4993259906768799, 0.31135666370391846, 0.4861547648906708, 0.3917924165725708, 0.40911388397216797, 0.05004322901368141, 0.09381153434515, 0.5481538772583008, 0.1565920114517212, 0.039937637746334076, 0.27074459195137024, 0.22173282504081726, 0.24098363518714905, 0.8711302280426025, 0.2959579527378082, 0.34328439831733704, 0.09546105563640594, 0.33621567487716675, 0.4390907287597656, 0.1132427230477333, 0.39619603753089905, 0.2329040914773941, 0.0755888819694519, 0.4108181595802307, 0.20268931984901428, 0.3431570529937744, 0.32223764061927795, 0.10378408432006836, 0.11467152833938599, 0.08758857846260071, 0.15294967591762543, 0.8222161531448364, 0.16257497668266296, 0.13863761723041534, 0.9842550754547119, 0.1921808123588562, 0.6566822528839111, 0.5432249903678894, 0.10793977230787277, 0.14208967983722687, 0.061988942325115204, 0.12843680381774902, 0.45361340045928955, 0.14620926976203918, 0.2094268649816513, 0.08122291415929794, 0.4403797686100006, 0.051096078008413315, 0.19426938891410828, 0.12953275442123413, 0.2750803530216217, 0.29876813292503357, 0.0450000986456871, 0.432452917098999, 0.23486840724945068, 0.5134763121604919, 0.3090282380580902, 0.36867448687553406, 0.22599557042121887, 0.5728996396064758, 0.3318416476249695, 0.07616537809371948, 0.4054732322692871, 0.09142670035362244, 0.04418428614735603, 0.04004770144820213, 0.08950589597225189, 0.07819760590791702, 0.17912128567695618, 0.33374977111816406, 0.2841916084289551, 0.32634979486465454, 0.22907507419586182, 0.2504136264324188, 0.267515629529953, 0.39051327109336853, 0.4905315935611725, 0.4532970190048218, 0.22233043611049652, 0.0755910724401474, 0.19283293187618256, 0.05715344846248627, 0.5368665456771851, 0.04417555034160614, 0.22343818843364716, 0.2937418818473816, 0.1193283349275589, 0.09481324255466461, 0.2569327652454376, 0.5078592896461487, 0.06622076034545898, 0.5095970034599304, 0.14971069991588593, 0.21215367317199707, 0.2442709505558014, 0.6829648613929749, 0.671950101852417, 0.6751384735107422, 0.07430119067430496, 0.6946062445640564, 0.10496404767036438, 0.7151939272880554, 0.421118825674057, 0.21569950878620148, 0.0808105394244194, 0.12075963616371155, 0.017061226069927216, 0.27537983655929565, 0.1510932743549347, 0.07886505126953125, 0.4189331531524658, 0.06668613106012344, 0.33127298951148987, 0.6055073738098145, 0.4346204400062561, 0.4115867614746094, 0.029717791825532913, 0.041739314794540405, 0.13011004030704498, 0.44513189792633057, 0.19131796061992645, 0.08084797859191895, 0.25620394945144653, 0.15089792013168335, 1.0137258768081665, 0.28111201524734497, 0.36011117696762085, 0.06400517374277115, 0.06605546176433563, 0.8771487474441528, 0.11317920684814453, 0.3550332486629486, 0.024601804092526436, 0.7294329404830933, 0.04313009977340698, 0.7366182208061218, 0.9505685567855835, 0.45160967111587524, 0.14331252872943878, 0.7146130204200745, 1.0803883075714111, 0.23909924924373627, 0.07480903714895248, 0.32353976368904114, 0.2821195721626282, 0.4529106020927429, 0.3202815055847168, 0.053605906665325165, 0.33080965280532837, 0.7844988107681274, 0.4501250088214874, 0.2206476330757141, 0.12235286831855774, 0.6573731303215027, 0.5853098630905151, 0.19419081509113312, 0.7748033404350281, 0.31886863708496094, 0.3704655170440674, 0.300459623336792, 0.08632516115903854, 0.03372887149453163, 0.09422009438276291, 0.10016372799873352, 0.14249421656131744, 0.14878913760185242, 0.47552943229675293, 0.21648576855659485, 0.39994916319847107, 0.800270140171051, 0.06967873871326447, 0.08432690054178238, 0.8429422378540039, 0.4401306211948395, 0.25673791766166687, 0.2422289252281189, 0.17365190386772156, 0.14306767284870148, 0.39620375633239746, 0.15670210123062134, 0.48610761761665344, 0.23006334900856018, 0.04851622134447098, 0.1428469717502594, 0.08966578543186188, 0.05624787136912346, 0.35054904222488403, 0.518283486366272, 0.3331482708454132, 0.04778064787387848, 0.7336195111274719, 0.6024034023284912, 0.12295866757631302, 0.13462930917739868, 0.3276958465576172, 0.21611616015434265, 0.6786766648292542, 0.49434414505958557, 0.3837588131427765, 0.3777136504650116, 0.3130287826061249, 0.09184391796588898, 0.08670534938573837, 0.360275536775589, tensor(0.0001, device='cuda:0', grad_fn=<DivBackward0>)]\n",
            "Train Accuracy: [0.0003834355828220859, 0.00028757668711656444]\n"
          ],
          "name": "stdout"
        },
        {
          "output_type": "stream",
          "text": [
            "\rEpoch:  50%|█████     | 2/4 [17:41<17:40, 530.41s/it]"
          ],
          "name": "stderr"
        },
        {
          "output_type": "stream",
          "text": [
            "Validation Accuracy: 0.7014388489208633\n",
            "Train loss: [3.5132558345794678, 3.4877476692199707, 3.3538637161254883, 3.3637609481811523, 3.210570812225342, 3.3549551963806152, 3.2374045848846436, 3.308347225189209, 3.405611038208008, 3.1994357109069824, 3.2423083782196045, 3.2877323627471924, 3.364497661590576, 3.239871025085449, 3.43900990486145, 3.3338613510131836, 3.2657792568206787, 3.3224494457244873, 3.3745529651641846, 3.2906079292297363, 3.1222035884857178, 3.289388418197632, 3.263108015060425, 3.13494873046875, 3.254863977432251, 3.2146828174591064, 3.114427328109741, 3.0436928272247314, 2.9417829513549805, 3.2938129901885986, 3.032174825668335, 3.2156198024749756, 3.120021343231201, 3.141101121902466, 3.2204012870788574, 3.1255552768707275, 3.2807719707489014, 3.0834100246429443, 3.146794319152832, 3.173523426055908, 3.043288230895996, 2.972917318344116, 3.0675010681152344, 3.227708578109741, 2.7833752632141113, 3.1488406658172607, 2.9757938385009766, 3.029768705368042, 3.060002565383911, 3.0299787521362305, 3.0412633419036865, 3.106377601623535, 2.943077564239502, 2.997532844543457, 3.0009965896606445, 2.6795318126678467, 2.69571852684021, 2.9182205200195312, 3.0071260929107666, 2.6323771476745605, 2.9555258750915527, 2.6182243824005127, 2.8043220043182373, 2.6770541667938232, 2.7571353912353516, 2.6665375232696533, 2.6170244216918945, 2.8122341632843018, 2.9167048931121826, 2.340830087661743, 2.638563394546509, 2.5405821800231934, 2.7989585399627686, 2.6950161457061768, 2.4757931232452393, 2.6419894695281982, 2.381258487701416, 2.530095338821411, 2.558927297592163, 2.2881579399108887, 2.5806643962860107, 2.407252073287964, 2.064629077911377, 2.5998778343200684, 2.440638542175293, 2.4407858848571777, 2.433419942855835, 2.366478681564331, 2.142374038696289, 2.5566468238830566, 2.5490520000457764, 1.9665491580963135, 2.2880806922912598, 1.998042106628418, 1.8036555051803589, 2.330812931060791, 2.0693798065185547, 2.229597330093384, 2.17108416557312, 2.3651764392852783, 1.9289392232894897, 2.224216938018799, 2.1385698318481445, 2.1144120693206787, 2.1886141300201416, 2.059007167816162, 2.1054718494415283, 1.6386997699737549, 1.602817177772522, 1.8370344638824463, 2.011878252029419, 1.8404927253723145, 1.8449190855026245, 1.9175149202346802, 2.130253791809082, 1.7954570055007935, 1.7950749397277832, 1.9920305013656616, 2.5167431831359863, 1.793960690498352, 1.7842812538146973, 1.4929331541061401, 2.042733669281006, 1.8361210823059082, 1.976405382156372, 1.379183053970337, 1.5263047218322754, 1.5916101932525635, 1.962778925895691, 1.9723337888717651, 1.2975679636001587, 2.606980323791504, 1.6509634256362915, 2.0670483112335205, 1.7547547817230225, 2.145172119140625, 1.6316930055618286, 1.7158311605453491, 1.9628899097442627, 1.8846110105514526, 1.5862997770309448, 1.876714825630188, 2.074268341064453, 1.4530137777328491, 1.655838131904602, 1.6293041706085205, 1.1610976457595825, 1.2155534029006958, 1.5097460746765137, 1.2459474802017212, 1.3545390367507935, 1.2845220565795898, 1.5146682262420654, 1.6369024515151978, 1.479704737663269, 1.1349083185195923, 1.5920202732086182, 2.0130953788757324, 2.0175068378448486, 1.2255700826644897, 1.05120050907135, 1.868294596672058, 2.0485546588897705, 1.370591163635254, 1.6299426555633545, 1.3498218059539795, 1.424652338027954, 1.2655221223831177, 1.424901008605957, 1.9418504238128662, 1.5889660120010376, 1.3573623895645142, 1.8778414726257324, 1.3543424606323242, 1.9526859521865845, 2.0774359703063965, 1.3382693529129028, 1.2706979513168335, 1.563279151916504, 1.887970209121704, 1.51682710647583, 1.3296715021133423, 1.308048963546753, 1.1256688833236694, 1.3843820095062256, 1.371232032775879, 1.534630298614502, 1.0708742141723633, 1.8414669036865234, 1.7361066341400146, 1.1524815559387207, 1.2759517431259155, 1.579594612121582, 1.2389036417007446, 1.1443217992782593, 1.2266712188720703, 1.1666067838668823, 2.0865824222564697, 1.2451977729797363, 1.4339351654052734, 1.2288614511489868, 1.083696722984314, 1.363982081413269, 1.0608965158462524, 1.260655164718628, 1.3933985233306885, 1.34148371219635, 2.079902172088623, 1.4323782920837402, 2.268900156021118, 0.9527902603149414, 1.6008968353271484, 1.458082914352417, 1.4256985187530518, 1.3013489246368408, 1.3445734977722168, 1.2025481462478638, 1.0935055017471313, 1.286791205406189, 1.5309652090072632, 1.7743415832519531, 1.1299052238464355, 1.098491907119751, 1.7659937143325806, 1.1336253881454468, 1.1914856433868408, 1.1597169637680054, 1.6542749404907227, 0.967943549156189, 1.252845048904419, 1.2864655256271362, 1.4862056970596313, 1.2392253875732422, 1.1590862274169922, 1.5481748580932617, 1.2869211435317993, 1.530205249786377, 1.0065534114837646, 0.9793797731399536, 0.9249087572097778, 1.2297388315200806, 1.2223072052001953, 1.256138801574707, 1.1724364757537842, 1.5851448774337769, 0.8846229910850525, 1.1686543226242065, 1.2473491430282593, 1.3843259811401367, 1.0005031824111938, 1.5492756366729736, 1.0438880920410156, 1.0190632343292236, 0.9556570053100586, 1.6192504167556763, 1.3470854759216309, 1.145809531211853, 1.6275290250778198, 1.243583083152771, 0.636699914932251, 0.9964712262153625, 1.0612800121307373, 1.4529132843017578, 1.0589057207107544, 1.4401519298553467, 1.431440830230713, 1.2874796390533447, 0.6906965374946594, 1.4760476350784302, 1.1549334526062012, 1.2894868850708008, 1.116957187652588, 1.305422306060791, 0.8855491280555725, 1.2170449495315552, 0.8009092807769775, 1.2977603673934937, 1.020738959312439, 1.5443994998931885, 0.8473318815231323, 1.0480058193206787, 1.1073553562164307, 1.1987683773040771, 1.294235110282898, 0.9303550124168396, 1.163446307182312, 0.9550082683563232, 1.243238091468811, 1.371622085571289, 1.4718289375305176, 1.2766857147216797, 1.5608940124511719, 0.7553722262382507, 0.9898715019226074, 0.6969226002693176, 1.2864981889724731, 0.9378378391265869, 0.657659113407135, 0.7797886729240417, 1.3281123638153076, 1.0719941854476929, 1.061161756515503, 1.2900652885437012, 0.961763858795166, 1.0097590684890747, 1.4811642169952393, 1.33245050907135, 1.3407222032546997, 0.9065995216369629, 1.4546140432357788, 1.462219476699829, 1.0636557340621948, 1.3468668460845947, 1.2523136138916016, 1.1607390642166138, 0.9903950691223145, 1.2547633647918701, 0.8766694664955139, 0.7243792414665222, 1.1825302839279175, 1.3878309726715088, 0.7161853909492493, 1.384684443473816, 1.1758136749267578, 1.1962475776672363, 1.082619071006775, 0.9789502024650574, 0.7913998365402222, 0.8582085967063904, 1.3309077024459839, 1.216740369796753, 0.6936991214752197, 0.834915041923523, 0.9441900253295898, 1.1188727617263794, 0.7639957070350647, 0.9667032957077026, 0.5661723613739014, 0.7385127544403076, 1.2892072200775146, 0.9787224531173706, 0.6669127941131592, 1.096317172050476, 1.2092701196670532, 0.9436144232749939, 1.241729974746704, 0.9304440021514893, 1.000652551651001, 1.0927902460098267, 1.1875028610229492, 1.236189842224121, 1.9049996137619019, 0.9393942952156067, 0.9934972524642944, 1.0463069677352905, 1.5078368186950684, 0.4990903437137604, 1.025572419166565, 1.3697547912597656, 1.139696717262268, 1.0820282697677612, 1.0902011394500732, 0.9504228830337524, 1.2457404136657715, 0.9828441739082336, 0.7317278385162354, 0.9595967531204224, 1.2297985553741455, 0.5293983221054077, 0.7082803249359131, 0.77177894115448, 0.8275033831596375, 0.9572452902793884, 0.9665550589561462, 0.7520565390586853, 0.9728797078132629, 1.1272084712982178, 1.3586981296539307, 1.0957987308502197, 1.0646207332611084, 0.725598931312561, 0.6667342185974121, 1.1104755401611328, 0.8368420600891113, 1.016667127609253, 1.0122857093811035, 0.6446801424026489, 0.5311887860298157, 0.905536413192749, 0.6018085479736328, 1.0514616966247559, 0.8928258419036865, 0.9861922860145569, 0.5165156722068787, 0.435696542263031, 0.8885031342506409, 0.5171980857849121, 0.6744887232780457, 1.0418955087661743, 0.8803507685661316, 0.7571718096733093, 0.8800448775291443, 0.7485424280166626, 0.7749162316322327, 0.7812933921813965, 0.7678567171096802, 1.008094310760498, 1.1183537244796753, 0.767501950263977, 0.8535377979278564, 0.5575899481773376, 1.0290278196334839, 1.0586378574371338, 0.6787769198417664, 0.5914930701255798, 1.177464485168457, 0.8807819485664368, 0.885085940361023, 0.8180932402610779, 0.5790119767189026, 0.9861791133880615, 0.7823296785354614, 1.133636713027954, 1.1787317991256714, 0.405259370803833, 0.8156964778900146, 0.8124006986618042, 0.8060401678085327, 0.6244630217552185, 1.3897912502288818, 0.6930009126663208, 0.44468942284584045, 0.8512022495269775, 0.9209680557250977, 1.3420144319534302, 0.33426398038864136, 1.0251115560531616, 0.7980642318725586, 0.9153484106063843, 1.1770902872085571, 0.7711220383644104, 0.4427548050880432, 0.4671367108821869, 1.148056149482727, 1.3778278827667236, 0.9861816167831421, 0.9778949022293091, 0.8180755972862244, 0.7309187054634094, 0.9153324365615845, 0.7464022636413574, 0.42356163263320923, 1.170278549194336, 1.2507922649383545, 0.8254041075706482, 0.6295515298843384, 0.5986812710762024, 0.576715886592865, 1.9835574626922607, 0.5566537380218506, 0.9121262431144714, 0.790887176990509, 0.2713503837585449, 0.991110622882843, 0.9069669842720032, 1.0321027040481567, 0.9340766668319702, 0.7175367474555969, 0.5697205066680908, 1.1431825160980225, 0.48507416248321533, 0.9335260391235352, 0.4203838109970093, 0.5593093633651733, 0.649418294429779, 0.25651881098747253, 0.7880234718322754, 0.7429138422012329, 0.8607921600341797, 0.4437620937824249, 0.8126655220985413, 0.6084719896316528, 0.7301345467567444, 0.5924542546272278, 1.8011250495910645, 0.25527966022491455, 0.7811655402183533, 1.0557283163070679, 0.6879156827926636, 0.5118712186813354, 0.8908290266990662, 1.016120433807373, 0.9650929570198059, 0.6792210936546326, 1.2390440702438354, 0.2541119456291199, 1.2101956605911255, 1.1497642993927002, 1.2054208517074585, 0.884341299533844, 0.8346518278121948, 0.6453689932823181, 0.5940632820129395, 0.4702986776828766, 0.7457034587860107, 0.6898938417434692, 0.6741626262664795, 0.5639166831970215, 0.9214115738868713, 0.4434257745742798, 0.7544581890106201, 0.6610768437385559, 0.8755718469619751, 1.0106526613235474, 0.8281366229057312, 0.5059829950332642, 0.7157291173934937, 0.578886091709137, 0.6007803678512573, 0.7229843735694885, 0.6432527303695679, 0.5148552060127258, 0.5349591970443726, 0.3474407494068146, 0.6066576242446899, 0.7786621451377869, 1.0430344343185425, 0.5775798559188843, 0.7777470946311951, 1.0404239892959595, 0.3874402344226837, 0.7342575192451477, 1.2487266063690186, 0.6630406379699707, 0.3775378465652466, 0.6871317625045776, 0.4431948661804199, 0.8972636461257935, 1.0492539405822754, 0.9941567778587341, 1.1901382207870483, 0.4848071336746216, 0.7739534378051758, 0.5794087052345276, 0.3032740354537964, 0.3275916278362274, 0.6050888299942017, 0.9223287105560303, 1.0912728309631348, 0.6184612512588501, 0.6489008069038391, 0.541192889213562, 0.6409258246421814, 0.5415729880332947, 0.5973539352416992, 0.6429318189620972, 0.6791260838508606, 0.2537039518356323, 0.7204775214195251, 0.547332763671875, 0.48639002442359924, 1.4347264766693115, 0.25910764932632446, 1.0282487869262695, 1.00942862033844, 0.47560450434684753, 0.4975847601890564, 0.5695784687995911, 1.237269639968872, 0.6533599495887756, 0.7595332860946655, 0.885303795337677, 0.5025991797447205, 0.7819305658340454, 0.6119964122772217, 1.3975038528442383, 0.5545215606689453, 0.7947772145271301, 0.506655216217041, 0.8093970417976379, 0.5543841123580933, 0.5784655213356018, 0.8415206670761108, 0.7567316293716431, 0.41823631525039673, 0.9157540798187256, 0.5276897549629211, 0.42551755905151367, 0.7176326513290405, 0.9336540102958679, 0.6153346300125122, 0.9106683731079102, 0.5141007900238037, 1.3045941591262817, 0.635444700717926, 0.619796633720398, 0.823691189289093, 1.2358981370925903, 1.2439756393432617, 1.278393268585205, 0.6456405520439148, 0.9191516637802124, 0.18122152984142303, 0.7063549160957336, 0.4399043917655945, 0.8252041935920715, 0.28106236457824707, 0.9296412467956543, 1.0027152299880981, 0.5800846815109253, 0.35623329877853394, 0.44252079725265503, 0.6684830188751221, 0.6396967768669128, 1.0268595218658447, 1.2900992631912231, 0.8278980255126953, 1.2303972244262695, 1.0996479988098145, 0.8707905411720276, 0.3425121605396271, 0.9450054168701172, 0.7403630018234253, 0.5760445594787598, 1.1159825325012207, 1.260462999343872, 0.8118334412574768, 0.618837833404541, 1.2511005401611328, 0.3829273283481598, 0.7638894319534302, 0.36788439750671387, 0.8938573002815247, 0.6820196509361267, 0.8705458641052246, 1.0031282901763916, 0.27983078360557556, 0.6382785439491272, 0.5991952419281006, 0.8454163074493408, 0.09266795963048935, 0.6750081181526184, 0.737212598323822, 0.25259849429130554, 0.28881311416625977, 1.257693886756897, 0.7998595833778381, 0.8245900273323059, 0.6859384775161743, 0.94022536277771, 1.0943511724472046, 0.3160858750343323, 0.9088656902313232, 0.6108797788619995, 0.434476763010025, 0.8237185478210449, 0.5705313682556152, 0.50949627161026, 1.0657553672790527, 0.5218425989151001, 0.6864851713180542, 0.5489090085029602, 0.9160321950912476, 0.7686342000961304, 0.666710615158081, 0.8431188464164734, 0.8299639225006104, 0.4885292947292328, 1.0620235204696655, 0.8766316175460815, 0.6084066033363342, 0.49918580055236816, 0.6980409622192383, 0.5767511129379272, 0.6765890717506409, 0.8138519525527954, 0.343312531709671, 0.8655833601951599, 0.5296298265457153, 0.7892173528671265, 0.6342099905014038, 0.7632043957710266, 1.4040316343307495, 0.5864555835723877, 0.2982296049594879, 0.8234995603561401, 0.9788079261779785, 0.5253037810325623, 0.6767522096633911, 0.5292636752128601, 0.9984392523765564, 0.46722865104675293, 0.3824828863143921, 0.9825059771537781, 1.129564881324768, 0.9226714968681335, 0.633844256401062, 0.49189552664756775, 0.8815767168998718, 0.9408488273620605, 0.5577392578125, 0.4886039197444916, 0.4895305335521698, 0.47803473472595215, 0.8599247336387634, 0.27836769819259644, 0.19424913823604584, 0.2998315393924713, 0.5406593680381775, 0.6656391024589539, 1.3827447891235352, 0.7425593733787537, 0.8608055114746094, 0.843092679977417, 0.5306257009506226, 0.47154656052589417, 0.5864033699035645, 0.4314146935939789, 0.18122868239879608, 0.48145920038223267, 0.43091118335723877, 0.9822598695755005, 0.6549662351608276, 0.4781716465950012, 0.6276191473007202, 0.5404762625694275, 1.0861587524414062, 0.8067087531089783, 0.8837047815322876, 0.5712031126022339, 0.2633485794067383, 1.036432147026062, 0.6399763822555542, 0.7065501809120178, 0.5291834473609924, 0.2598334848880768, 0.44460397958755493, 0.982755184173584, 0.41157832741737366, 0.7704735994338989, 0.6212995052337646, 0.38829171657562256, 0.3862939774990082, 0.8705605268478394, 0.8414875268936157, 0.6387903094291687, 0.24209779500961304, 0.6069408059120178, 0.3909207284450531, 0.7555756568908691, 0.518136203289032, 0.8339684009552002, 0.3425760865211487, 0.7375478148460388, 0.4329906105995178, 0.5461275577545166, 0.6258412599563599, 0.9425848722457886, 0.6081815958023071, 1.229491949081421, 0.9524313807487488, 0.790091872215271, 0.5420742630958557, 0.9430665373802185, 0.46475234627723694, 0.4973454177379608, 1.1960582733154297, 0.8559529185295105, 0.40784895420074463, 1.179402232170105, 0.5261982679367065, 0.2342553734779358, 0.39629095792770386, 0.3015343248844147, 0.3433610498905182, 0.5740116238594055, 0.49722909927368164, 1.4263815879821777, 0.6690228581428528, 0.32977038621902466, 0.3288414478302002, 0.9285109043121338, 0.723737359046936, 1.0805082321166992, 0.9879206418991089, 0.7367510199546814, 0.591337263584137, 1.193954586982727, 0.32561588287353516, 0.690909743309021, 0.33445069193840027, 0.4951115846633911, 0.35331258177757263, 0.21035964787006378, 0.5438160300254822, 0.4424471855163574, 0.4948151409626007, 0.589058518409729, 0.36417898535728455, 1.3126435279846191, 0.4788108468055725, 0.6080981492996216, 0.5086470246315002, 1.4680505990982056, 0.7351583242416382, 0.6258289217948914, 0.5943453311920166, 0.25906601548194885, 1.1282519102096558, 0.29192811250686646, 0.5786751508712769, 0.26772716641426086, 1.0754517316818237, 0.47214123606681824, 0.7609703540802002, 1.02802574634552, 0.3210301697254181, 1.052992820739746, 0.7981737852096558, 0.2229136973619461, 0.4891318082809448, 0.5546912550926208, 0.3020460605621338, 0.8527528047561646, 0.40000206232070923, 0.41638028621673584, 0.7001764178276062, 0.47822993993759155, 0.5450645089149475, 0.4075373113155365, 0.7773868441581726, 1.0876495838165283, 0.5996953845024109, 0.7398828864097595, 0.4477829039096832, 0.9273180961608887, 0.8156876564025879, 0.34137198328971863, 0.8249133825302124, 0.6592037677764893, 0.2808818817138672, 0.7458165287971497, 0.5808901786804199, 0.8790909051895142, 0.5468717813491821, 0.3855631947517395, 0.41386908292770386, 1.0662107467651367, 0.7032268643379211, 0.41848742961883545, 0.749136209487915, 0.1916758269071579, 0.6817999482154846, 0.6476805210113525, 0.4376881718635559, 0.8954694867134094, 0.4726351499557495, 0.5436158180236816, 0.9594861268997192, 0.19419243931770325, 0.8416388034820557, 1.022334098815918, 0.30518412590026855, 0.8427338600158691, 1.2234386205673218, 0.403688907623291, 0.4592571258544922, 0.25075966119766235, 0.5422039031982422, 0.9158235192298889, 0.6270710229873657, 0.45528051257133484, 0.851212739944458, 0.2649363577365875, 0.17503228783607483, 0.4437578618526459, 0.6000723838806152, 0.8370893001556396, 0.8250485062599182, 0.7315919995307922, 0.9043005108833313, 0.6487637758255005, 0.8040968179702759, 0.132152259349823, 0.4945613741874695, 0.25184038281440735, 0.39592671394348145, 0.5237879157066345, 0.915238618850708, 0.5055804252624512, 0.7783660888671875, 0.3771961033344269, 0.1264849603176117, 0.7462363243103027, 0.2537532448768616, 0.4136257469654083, 0.09507086873054504, 0.8495880961418152, 1.03252375125885, 0.405534952878952, 0.804375171661377, 0.5951306819915771, 0.2436816543340683, 0.13074594736099243, 0.9213942289352417, 0.21758443117141724, 1.4940733909606934, 0.47997593879699707, 0.8395686149597168, 0.7687220573425293, 0.29608890414237976, 0.6853520274162292, 0.760969340801239, 0.8164669871330261, 0.28862982988357544, 1.0765156745910645, 0.2690705358982086, 1.159246563911438, 0.6360034346580505, 0.4986831843852997, 0.6901476383209229, 0.8640109896659851, 0.5161392688751221, 0.499647319316864, 0.27889442443847656, 0.46393412351608276, 0.14740648865699768, 0.5420881509780884, 0.7933534383773804, 0.3952709436416626, 0.18495051562786102, 0.5174257755279541, 0.40465986728668213, 0.5984573364257812, 0.3649144470691681, 0.7691395878791809, 0.5004962682723999, 0.17002806067466736, 0.31553274393081665, 0.4888054430484772, 0.46451443433761597, 0.9942286610603333, 0.5554909706115723, 0.529938817024231, 0.526248574256897, 0.42956987023353577, 0.8003971576690674, 0.12584814429283142, 1.0204918384552002, 0.7533038854598999, 0.7498505115509033, 0.985723078250885, 0.8022769093513489, 0.4102109372615814, 0.378632515668869, 0.4461032450199127, 0.22928719222545624, 0.5678876042366028, 0.36293649673461914, 0.725935161113739, 0.3564319908618927, 1.704999327659607, 0.49797385931015015, 0.27655577659606934, 1.1836183071136475, 1.0759280920028687, 0.8438706398010254, 0.9132865071296692, 0.4529346823692322, 0.7487873435020447, 0.5059860944747925, 0.5382680296897888, 0.2138165980577469, 0.4912784695625305, 0.5102663636207581, 0.7667206525802612, 0.34910139441490173, 0.6882672905921936, 0.3115300238132477, 0.8075064420700073, 0.5937520861625671, 0.29496392607688904, 0.1939631700515747, 0.7588455080986023, 0.5159105062484741, 0.4160156548023224, 0.5103592872619629, 0.1772754192352295, 0.4291378855705261, 0.6019179224967957, 0.7791094183921814, 0.2607116997241974, 0.4024459421634674, 0.42567959427833557, 0.5029075145721436, 1.0588550567626953, 0.6941066384315491, 0.8400301337242126, 0.5370143055915833, 0.765770673751831, 0.3067067563533783, 0.3125208616256714, 0.5136877298355103, 0.5022723078727722, 0.8365180492401123, 0.7093369960784912, 0.41915127635002136, 0.5527206659317017, 0.5627340078353882, 0.6817005276679993, 0.25287628173828125, 0.6656906008720398, 0.6546176075935364, 0.4053943455219269, 0.8906089067459106, 0.568454921245575, 0.5799647569656372, 0.5227975249290466, 0.44070541858673096, 0.7250040769577026, 0.6912897825241089, 0.8529579043388367, 0.8115933537483215, 0.35650768876075745, 0.7512449026107788, 0.7170712947845459, 1.187927007675171, 0.4186301529407501, 0.27124953269958496, 0.8632611632347107, 0.8201655149459839, 1.1964662075042725, 0.6483567357063293, 0.6098260283470154, 0.2690381407737732, 0.48101362586021423, 0.4771954417228699, 1.0592042207717896, 0.4001648426055908, 0.34102335572242737, 0.11828643083572388, 0.49249911308288574, 0.5676461458206177, 0.3129488229751587, 0.7447891235351562, 0.8281866908073425, 0.533384382724762, 0.6469385027885437, 1.1392223834991455, 0.705735445022583, 0.9552083015441895, 0.5464351177215576, 0.8619053959846497, 0.6118131279945374, 0.6360540986061096, 0.3588615953922272, 0.7622037529945374, 0.7293113470077515, 0.3738144338130951, 0.5820346474647522, 0.5690582394599915, 0.677909255027771, 0.369886189699173, 0.5342562794685364, 0.44548243284225464, 1.0098623037338257, 0.4224613308906555, 0.7978289127349854, 0.3660227656364441, 0.5713067650794983, 0.7363417744636536, 0.3703429102897644, 0.2827526032924652, 1.0860772132873535, 0.6576359272003174, 0.46798211336135864, 0.3353221118450165, 0.6531801223754883, 0.6286492943763733, 0.9254820346832275, 0.8409906029701233, 0.5196205973625183, 0.7654028534889221, 0.1682870090007782, 0.11799164116382599, 0.13139688968658447, 0.46783247590065, 0.7064583897590637, 0.7874546647071838, 0.5675440430641174, 0.28423404693603516, 0.23403151333332062, 0.6047855615615845, 0.9410631656646729, 0.5037575364112854, 0.13263852894306183, 0.18999749422073364, 0.4441904127597809, 0.6718007922172546, 0.701735258102417, 1.33560049533844, 0.6324460506439209, 0.8648678660392761, 0.5711265206336975, 0.47414737939834595, 0.3784753680229187, 0.6958954334259033, 0.6164191961288452, 0.19983473420143127, 0.38634684681892395, 0.45541810989379883, 0.8435909748077393, 0.4113037884235382, 0.8273402452468872, 0.35999730229377747, 0.4172493815422058, 0.5158367156982422, 0.41823193430900574, 0.4710272252559662, 0.4768027663230896, 0.23707181215286255, 0.7717312574386597, 0.7171802520751953, 0.7737488746643066, 0.48012775182724, 0.8778823018074036, 0.6684898138046265, 0.3209105134010315, 0.42436683177948, 0.40833425521850586, 0.5947533845901489, 0.44722780585289, 0.4340614676475525, 0.5631943345069885, 0.8257541656494141, 0.468140572309494, 0.9893165826797485, 0.23057591915130615, 1.089308500289917, 1.0268683433532715, 0.6785975098609924, 0.3730483055114746, 0.47811269760131836, 0.38081109523773193, 0.6522361636161804, 0.7783891558647156, 0.4467635750770569, 0.32213345170021057, 1.0454227924346924, 0.39263099431991577, 0.42179903388023376, 1.0766304731369019, 0.6529961824417114, 0.19284974038600922, 0.8265110850334167, 0.8996985554695129, 0.5741119384765625, 0.20821231603622437, 0.8280634880065918, 0.7562227249145508, 0.4242475926876068, 0.19371825456619263, 1.009458065032959, 1.2658334970474243, 0.7892627716064453, 0.2957631051540375, 0.5870345830917358, 0.6260238885879517, 0.7407196760177612, 0.37011608481407166, 0.569645345211029, 0.3717980682849884, 0.6878659129142761, 0.765144944190979, 0.21759644150733948, 0.2375032901763916, 0.6919188499450684, 0.4757554829120636, 0.8188828825950623, 0.6889577507972717, 0.21779583394527435, 1.8287699222564697, 0.7232447266578674, 0.4873577058315277, 0.7918552756309509, 0.41924983263015747, 0.46294909715652466, 0.5868901610374451, 0.36343398690223694, 0.7991708517074585, 0.6515263915061951, 0.8944227695465088, 0.29149696230888367, 0.37881767749786377, 0.3190464973449707, 0.5307145118713379, 0.4672919809818268, 0.6758204698562622, 0.874782145023346, 0.7875295281410217, 0.1520562469959259, 0.6337559223175049, 0.5720961689949036, 0.6718027591705322, 0.28759077191352844, 0.6370532512664795, 0.6692786812782288, 0.7218025922775269, 0.6030604839324951, 0.2981228530406952, 0.5160167813301086, 1.1923468112945557, 0.7508519887924194, 0.3863741159439087, 0.6222827434539795, 0.7607899904251099, 0.2983465790748596, 0.6752417087554932, 0.34064972400665283, 0.3596070110797882, 0.6871146559715271, 0.40990692377090454, 0.7486340403556824, 0.3031397759914398, 0.18473711609840393, 0.6108836531639099, 0.519244909286499, 0.5631119608879089, 1.082638144493103, 0.9892462491989136, 0.18765172362327576, 0.3465602993965149, 0.33437469601631165, 0.6142542958259583, 0.4877408742904663, 1.277481198310852, 1.014291524887085, 0.6820235848426819, 1.0422868728637695, 1.01421320438385, 0.2203877568244934, 0.3468432128429413, 0.6856962442398071, 0.40461820363998413, 0.7841670513153076, 0.48946139216423035, 0.4190938174724579, 0.46912869811058044, 0.44443684816360474, 0.6364621520042419, 0.513049304485321, 0.7966995239257812, 0.7590751647949219, 0.5439510941505432, 1.097475290298462, 0.27962687611579895, 0.28860610723495483, 0.9264441132545471, 1.1118228435516357, 1.0868198871612549, 1.043121099472046, 0.6856846809387207, 0.5804283618927002, 0.6493541598320007, 0.22922712564468384, 0.3301435708999634, 0.5825526714324951, 0.6431878805160522, 0.4289839267730713, 0.2059893012046814, 0.47252705693244934, 0.3992030620574951, 0.8658067584037781, 1.0408661365509033, 0.13767501711845398, 0.40701863169670105, 0.3980896472930908, 0.23138272762298584, 0.3027818500995636, 0.5074921250343323, 0.45927098393440247, 0.6639214754104614, 0.23623427748680115, 0.13652978837490082, 0.6422423124313354, 0.26328742504119873, 0.9862945079803467, 0.6834321022033691, 0.8570740222930908, 0.23002773523330688, 0.42989081144332886, 0.6441611051559448, 0.24338236451148987, 0.5599209666252136, 0.39572009444236755, 0.8650367259979248, 0.14984039962291718, 0.392900288105011, 0.43564844131469727, 0.6969577074050903, 1.06644606590271, 0.6121618747711182, 1.0067270994186401, 0.12070788443088531, tensor(4.6284e-05, device='cuda:0', grad_fn=<DivBackward0>), 0.4314337372779846, 0.5476681590080261, 0.7916957139968872, 0.46465209126472473, 0.1403193473815918, 0.5705087780952454, 0.28954988718032837, 0.18148115277290344, 0.17479777336120605, 0.3363746106624603, 0.1683085709810257, 0.47283411026000977, 0.3404175639152527, 0.5907966494560242, 0.16409048438072205, 0.13312497735023499, 0.6827091574668884, 0.6729051470756531, 0.3447685241699219, 0.35843750834465027, 0.37341073155403137, 0.3228600025177002, 0.5717920064926147, 0.29509180784225464, 0.18975895643234253, 0.42003530263900757, 0.42938268184661865, 0.4360215663909912, 0.45486363768577576, 0.36576029658317566, 0.06969597190618515, 0.24828660488128662, 0.07105887681245804, 0.28525131940841675, 0.30962419509887695, 0.09640771150588989, 0.462184339761734, 0.16867980360984802, 0.09924441576004028, 0.31841787695884705, 0.6445046067237854, 0.3762975335121155, 0.4181608259677887, 0.4869104027748108, 0.41951775550842285, 0.1395513117313385, 0.28453174233436584, 0.3732634484767914, 0.8055280447006226, 0.3273960053920746, 0.22828413546085358, 0.24867939949035645, 0.32154908776283264, 0.18254666030406952, 0.7942378520965576, 0.9538446664810181, 0.05944105610251427, 0.49655619263648987, 0.5750534534454346, 0.39429545402526855, 0.17467831075191498, 0.18907037377357483, 0.5126681327819824, 0.7245129942893982, 0.4045538306236267, 0.3133697509765625, 0.28094053268432617, 0.33051878213882446, 0.34156322479248047, 0.07420498132705688, 0.9184185266494751, 0.5100821256637573, 0.1845782846212387, 0.5062585473060608, 0.23044857382774353, 1.043555736541748, 0.6624003648757935, 0.2005450278520584, 0.3855964243412018, 0.3083530366420746, 0.15997253358364105, 0.6051753759384155, 0.268674373626709, 0.061207130551338196, 0.08328628540039062, 0.22489924728870392, 0.6319464445114136, 0.3146026134490967, 0.7232162952423096, 0.2673506736755371, 0.522843599319458, 0.24849888682365417, 0.2923271059989929, 0.14422959089279175, 0.1784074902534485, 1.2401889562606812, 0.2746398150920868, 0.4291412830352783, 0.3688948154449463, 1.0591421127319336, 0.18607132136821747, 0.0957007110118866, 0.5461848974227905, 0.17492744326591492, 0.23155808448791504, 0.4079504609107971, 0.6248352527618408, 0.9432917833328247, 0.5256364941596985, 0.38807520270347595, 0.24700400233268738, 0.4842131733894348, 0.38890162110328674, 0.7616245746612549, 0.4382967948913574, 0.28321486711502075, 0.07303550094366074, 0.4749428629875183, 0.05829646438360214, 0.3191981613636017, 0.14636632800102234, 0.8492186665534973, 0.3717195689678192, 0.6480056047439575, 0.5186440348625183, 0.5920700430870056, 0.2165900468826294, 0.2152204066514969, 0.6362854838371277, 0.41705432534217834, 0.14557041227817535, 0.12502312660217285, 0.07886389642953873, 0.39024344086647034, 0.2458646446466446, 0.15298232436180115, 0.3399677872657776, 0.06123353913426399, 0.10322096198797226, 0.7006443738937378, 0.20038926601409912, 0.3933538794517517, 0.04065610095858574, 0.5862933993339539, 0.44767123460769653, 0.39884424209594727, 0.26373055577278137, 0.44905412197113037, 0.39290785789489746, 0.1557321846485138, 0.16529440879821777, 0.29977935552597046, 0.1448807716369629, 0.3615776002407074, 0.3320167362689972, 0.5484241247177124, 0.08818259835243225, 0.2665674388408661, 0.23020921647548676, 0.4432455599308014, 0.2892591059207916, 0.17472389340400696, 0.2655288875102997, 0.21825796365737915, 0.5737959146499634, 0.30748850107192993, 0.29129496216773987, 0.32278677821159363, 0.8684394359588623, 0.38289108872413635, 0.41092416644096375, 0.6128270030021667, 0.2641932964324951, 0.42412230372428894, 0.060785066336393356, 0.33106571435928345, 0.24489685893058777, 0.1624407321214676, 0.5552271008491516, 0.2960233986377716, 0.6269994378089905, 0.6479965448379517, 0.791564404964447, 0.5112584829330444, 0.04208999499678612, 0.31855809688568115, 0.38146451115608215, 0.22817672789096832, 0.3529984652996063, 0.2205078899860382, 0.6499596238136292, 0.36843565106391907, 0.277952641248703, 0.1704663187265396, 0.540427029132843, 0.376589834690094, 0.14634712040424347, 0.31484976410865784, 0.37791988253593445, 0.08188797533512115, 0.35181349515914917, 0.49177777767181396, 0.08550304919481277, 0.04740280658006668, 0.17175143957138062, 0.12031953781843185, 0.37933605909347534, 0.6103241443634033, 0.13111741840839386, 0.39584457874298096, 0.47029078006744385, 0.4926983714103699, 0.08921554684638977, 0.2581394910812378, 0.24069835245609283, 0.23375381529331207, 0.8863838911056519, 0.22176967561244965, 0.048168081790208817, 0.9742999076843262, 0.09124661982059479, 0.15745800733566284, 0.12126637995243073, 0.3924159109592438, 0.23551267385482788, 0.15798138082027435, 0.15468958020210266, 0.7205502390861511, 0.29051733016967773, 0.3348276913166046, 0.3107333779335022, 0.2689616084098816, 0.44735047221183777, 0.616374671459198, 0.6048590540885925, 0.759202241897583, 0.4777083396911621, 0.32395419478416443, 0.2098878175020218, 0.7484686374664307, 0.07009731978178024, 0.15495945513248444, 0.4365972876548767, 0.08592269569635391, 0.6871129274368286, 0.1953083723783493, 0.1975412517786026, 0.1750078797340393, 0.7451083660125732, 0.34394705295562744, 0.4383145570755005, 0.5806542634963989, 0.31145724654197693, 0.3207630217075348, 0.2631233334541321, 0.31408387422561646, 0.560455858707428, 0.45945221185684204, 0.9295521974563599, 0.26352933049201965, 0.503460705280304, 0.08107864856719971, 0.05902973562479019, 1.1720428466796875, 0.7243093252182007, 0.2779366672039032, 0.19702839851379395, 0.036969106644392014, 0.14103901386260986, 0.5237025618553162, 0.13728246092796326, 0.6231059432029724, 0.8996813893318176, 0.4422021806240082, 0.34773528575897217, 0.17090371251106262, 0.7659018039703369, 0.3100505471229553, 0.18060775101184845, 0.09286301583051682, 0.1715940684080124, 0.7969877123832703, 0.1464652568101883, 0.7754288911819458, 0.21695148944854736, 0.37280675768852234, 0.7798988223075867, 0.5778700709342957, 0.10896798223257065, 0.37959012389183044, 0.1829630732536316, 0.22986803948879242, 0.15259429812431335, 0.2764360308647156, 0.22521983087062836, 0.38039955496788025, 0.5108842849731445, 0.1497325301170349, 0.201670303940773, 0.21884223818778992, 0.5139642357826233, 0.2464086413383484, 0.5854372978210449, 0.3346882164478302, 0.9188450574874878, 0.22750648856163025, 0.812325119972229, 0.4621645212173462, 0.12258169800043106, 0.43013495206832886, 0.09567869454622269, 0.33363771438598633, 0.45411232113838196, 0.20815783739089966, 0.9302964806556702, 0.4767792820930481, 0.1066550463438034, 0.493826299905777, 0.33456745743751526, 0.5197829604148865, 0.23109513521194458, 0.23797667026519775, 0.4967966675758362, 0.37626707553863525, 0.21919609606266022, 0.045256856828927994, 0.6833144426345825, 0.3632989525794983, 0.0784250870347023, 0.4719323217868805, 0.42371782660484314, 0.13954702019691467, 0.22011059522628784, 0.49179956316947937, 0.3471676707267761, 0.3067871332168579, 0.2232053279876709, 0.18214008212089539, 0.33553704619407654, 0.40306541323661804, 0.5704261660575867, 0.28882652521133423, 0.25633320212364197, 0.5929036736488342, 0.20487986505031586, 0.15456989407539368, 0.3145425319671631, 0.4590572714805603, 0.23154397308826447, 0.13311444222927094, 0.851456880569458, 0.04084930196404457, 0.22062461078166962, 0.5388651490211487, 0.3289106786251068, 0.10119374841451645, 0.29898202419281006, 0.3134770095348358, 0.428035169839859, 0.20435547828674316, 0.307671457529068, 0.2286219298839569, 0.04859795421361923, 0.1337405890226364, 0.5042161345481873, 0.5359159111976624, 0.062006108462810516, 0.29251575469970703, 0.18708190321922302, 0.37082964181900024, 0.5052757263183594, 0.45921948552131653, 0.43538177013397217, 0.3742640018463135, 0.13340097665786743, 0.570590615272522, 0.3916015923023224, 0.6159984469413757, 0.18869248032569885, 0.4066532850265503, 0.3610077202320099, 0.29949653148651123, 0.1447848379611969, 0.32013213634490967, 0.7775194644927979, 0.4478820562362671, 0.6196390986442566, 0.17617765069007874, 0.11857335269451141, 0.11789797246456146, 0.21539746224880219, 0.4188709855079651, 0.540934681892395, 0.21986064314842224, 0.3931518793106079, 0.4694504737854004, 0.3561362028121948, 0.6275591254234314, 0.7252605557441711, 0.12017935514450073, 0.4230913817882538, 0.9899933338165283, 0.4144647419452667, 0.6545372605323792, 0.3737363815307617, 0.16373828053474426, 0.18505419790744781, 0.061752259731292725, 0.8784672617912292, 0.17690284550189972, 0.090941421687603, 0.20212560892105103, 0.23886656761169434, 0.4070703685283661, 0.08937553316354752, 0.22720426321029663, 0.09416678547859192, 0.3265668451786041, 0.112452931702137, 0.08011605590581894, 0.35334843397140503, 0.3220269978046417, 0.09024378657341003, 0.20578251779079437, 0.17852672934532166, 0.041670385748147964, 0.39915931224823, 0.6861862540245056, 0.2184387743473053, 0.032331183552742004, 0.3604556620121002, 0.0458282046020031, 0.6890265941619873, 0.466500848531723, 0.2559865117073059, 0.11887482553720474, 1.0432407855987549, 0.1328386664390564, 0.13976821303367615, 0.42483359575271606, 0.14833983778953552, 0.35543787479400635, 0.24312643706798553, 0.14375275373458862, 0.05877304822206497, 0.6919957995414734, 0.2047385424375534, 0.14434848725795746, 0.2509669363498688, 0.5535546541213989, 0.536583423614502, 0.2937399744987488, 0.28587350249290466, 0.10957704484462738, 0.08035513758659363, 0.27835774421691895, 0.4400307238101959, 0.19561737775802612, 0.6027414798736572, 0.41938260197639465, 0.11522085219621658, 0.17648513615131378, 0.026763463392853737, 0.21828289330005646, 0.1740569770336151, 0.2659807503223419, 0.1499680131673813, 0.49921220541000366, 0.17004208266735077, 0.3524099886417389, 0.29906556010246277, 0.1075548380613327, 0.6082366704940796, 0.02084042690694332, 0.21663424372673035, 0.5818560719490051, 0.29095253348350525, 0.2590372562408447, 0.5171358585357666, 0.20870009064674377, 0.05868721008300781, 0.26651912927627563, 0.6383697390556335, 0.19501398503780365, 0.08670378476381302, 0.18301428854465485, 0.12446457892656326, 0.2813091576099396, 0.06512121856212616, 0.7935293316841125, 0.3936976194381714, 0.09696546941995621, 0.5483028888702393, 0.9435669183731079, 0.286115437746048, 0.4900049567222595, 0.18751519918441772, 0.6457321643829346, 0.2902889549732208, 0.3269582688808441, 0.30129173398017883, 0.27890411019325256, 0.12460854649543762, 0.32592329382896423, 0.2881167531013489, 0.32131555676460266, 0.08701842278242111, 0.07934024184942245, 0.19937646389007568, 0.4460769593715668, 0.18407079577445984, 0.3746059536933899, 0.42237377166748047, 0.09228577464818954, 0.11975005269050598, 0.22979703545570374, 0.3672139644622803, 0.3321322202682495, 0.12971416115760803, 0.11268361657857895, 0.36494022607803345, 0.3929106593132019, 0.22920343279838562, 0.35875827074050903, 0.30473792552948, 0.2827913463115692, 0.19998788833618164, 0.3971615433692932, 0.4171507656574249, 0.32576707005500793, 0.21081313490867615, 0.37069055438041687, 0.3803560137748718, 0.6193033456802368, 0.5262002944946289, 0.6790811419487, 0.05611411854624748, 0.5260390639305115, 0.6423622369766235, 0.36680662631988525, 0.531017005443573, 0.54805988073349, 0.16899113357067108, 0.10896249860525131, 0.2959456443786621, 0.4998721480369568, 0.8531875014305115, 0.16398794949054718, 0.18856312334537506, 0.4509669542312622, 0.2397533506155014, 0.11310477554798126, 0.13433107733726501, 0.1391032338142395, 0.6319099068641663, 0.24787797033786774, 0.6949969530105591, 0.2539065480232239, 0.4157055616378784, 0.6683564186096191, 0.125907763838768, 0.8019044399261475, 0.5676031112670898, 0.06419310718774796, 0.46045953035354614, 0.3027080297470093, 0.09766413271427155, 0.06421002745628357, 1.0101146697998047, 0.3736356794834137, 0.6737722754478455, 0.35911837220191956, 0.1583068072795868, 0.14804509282112122, 0.07954216748476028, 0.2442294955253601, 0.10870038717985153, 0.355812132358551, 0.5556521415710449, 0.2899658977985382, 0.6033790111541748, 0.22167262434959412, 0.27065396308898926, 0.24094702303409576, 0.33068445324897766, 0.7209814786911011, 0.5401212573051453, 0.5119858384132385, 0.29785242676734924, 0.3313106894493103, 0.08107791841030121, 0.2649119198322296, 0.15313105285167694, 0.3729029595851898, 0.04079696536064148, 0.34134969115257263, 0.1499003767967224, 0.9049312472343445, 0.13579091429710388, 0.1978204846382141, 0.05239451676607132, 0.5482383966445923, 0.18756578862667084, 0.3883516192436218, 0.4977401793003082, 0.659660279750824, 0.16999763250350952, 0.3338262438774109, 1.1576749086380005, 0.2671355903148651, 0.5739938616752625, 0.42556238174438477, 0.5537660121917725, 0.7166759371757507, 0.5578744411468506, 0.2212558090686798, 0.7942203283309937, 0.030406933277845383, 0.15827205777168274, 0.2085675597190857, 0.4990886151790619, 0.20787489414215088, 0.465045690536499, 0.19668197631835938, 1.006818413734436, 0.1337093561887741, 0.1339571177959442, 0.27844735980033875, 0.1525201052427292, 0.5709057450294495, 0.21112392842769623, 0.3514469265937805, 0.12323025614023209, 0.43425893783569336, 0.3380904197692871, 0.8106155395507812, 0.12175023555755615, 0.11760616302490234, 0.07894676923751831, 0.2866121530532837, 0.19269327819347382, 0.1840776801109314, 0.1777842491865158, 0.059194859117269516, 0.16198517382144928, 0.31920337677001953, 0.4699349105358124, 0.17199337482452393, 0.8281130790710449, 0.3513435423374176, 0.2957282066345215, 0.2066257745027542, 1.0199708938598633, 0.8040898442268372, 0.20975203812122345, 0.2958191931247711, 0.5439674854278564, 0.12868744134902954, 0.10301187634468079, 0.41574862599372864, 0.7497180700302124, 0.33522742986679077, 1.2982789278030396, 0.3138018846511841, 0.3665173053741455, 0.14751408994197845, 0.09956694394350052, 0.1904887557029724, 0.5580955147743225, 0.24854297935962677, 0.5136547088623047, 0.24520725011825562, 0.6734120845794678, 0.6014748215675354, 0.32549750804901123, 0.21252459287643433, 0.269170880317688, 0.11407293379306793, 0.387994647026062, 0.23282916843891144, 0.1453377604484558, 0.1948154717683792, 0.4564092457294464, 0.036685653030872345, 0.947677731513977, 0.22479337453842163, 0.2571488320827484, 0.15835356712341309, 0.5586133003234863, 0.29731816053390503, 0.15702389180660248, 0.2837200164794922, 0.09353332966566086, 0.3230263590812683, 0.5326982140541077, 0.06252870708703995, 0.09163396060466766, 0.3817833662033081, 0.029886655509471893, 0.5042205452919006, 0.09119346737861633, 0.5275296568870544, 0.4217209219932556, 0.3227967917919159, 0.11321185529232025, 0.2201017439365387, 0.26391252875328064, 0.3229340612888336, 0.08159003406763077, 0.12760494649410248, 0.09041913598775864, 0.23157566785812378, 0.39519715309143066, 0.5730583667755127, 0.2240440547466278, 0.3742821514606476, 0.8741809129714966, 0.5969650149345398, 0.09618007391691208, 0.19165126979351044, 0.2892696261405945, 0.5463386178016663, 0.37590041756629944, 0.43020159006118774, 0.4501320421695709, 0.40851014852523804, 0.2196691781282425, 0.04925405979156494, 0.10160838812589645, 0.1928379088640213, 0.0316142812371254, 0.424033522605896, 0.1618141531944275, 0.157518669962883, 0.393623948097229, 0.06912928819656372, 0.0876796767115593, 0.6008437871932983, 0.4597684442996979, 0.5167511701583862, 0.07720138877630234, 0.08756811171770096, 0.3793274164199829, 0.10922730714082718, 0.6021597385406494, 0.1253627985715866, 0.14328758418560028, 0.4810718595981598, 0.2894119620323181, 0.40090760588645935, 0.46164342761039734, 0.16233448684215546, 0.3055303394794464, 0.21516364812850952, 0.08515183627605438, 0.32959049940109253, 0.17889100313186646, 0.4004327654838562, 0.5750276446342468, 0.20684324204921722, 0.2938815951347351, 0.5637277364730835, 0.42645788192749023, 0.23481622338294983, 0.06638037413358688, 0.3368988037109375, 0.6147584915161133, 0.0911736786365509, 0.0804145485162735, 0.07756242901086807, 0.10198534280061722, 0.4565678834915161, 0.432841956615448, 0.07595374435186386, 0.17271795868873596, 0.3523850440979004, 0.8451494574546814, 0.6064960360527039, 0.27754509449005127, 0.5512071847915649, 0.27287113666534424, 0.28153735399246216, 0.10228157043457031, 0.3473188877105713, 0.1264803260564804, 0.3463883697986603, 0.05426279455423355, 0.12757106125354767, 0.05953655019402504, 0.2897610366344452, 0.5520211458206177, 0.135751411318779, 0.10201193392276764, 0.38077789545059204, 0.24566717445850372, 0.04776697978377342, 0.2909659445285797, 0.14493049681186676, 0.18140247464179993, 0.1535419523715973, 0.5246779918670654, 0.40054234862327576, 0.5416286587715149, 0.7091246247291565, 0.2808244228363037, 0.08209196478128433, 0.05251576006412506, 0.06733448058366776, 0.2866443991661072, 0.3578021228313446, 0.6637669205665588, 0.6503632664680481, 0.3198162317276001, 0.8633191585540771, 0.5717446208000183, 0.09873194992542267, 0.6165639758110046, 0.4639526903629303, 0.3030824065208435, 0.5102410912513733, 0.1286589354276657, 0.7717249393463135, 0.40837904810905457, 0.022441664710640907, 0.5246812701225281, 1.1443690061569214, 0.42252254486083984, 0.3296607434749603, 0.5388257503509521, 0.45055660605430603, 0.10504662245512009, 0.3382903039455414, 0.14354485273361206, 0.36707785725593567, 0.43384507298469543, 0.8044318556785583, 0.4726398289203644, 0.12382685393095016, 0.25442227721214294, 0.7647709250450134, 0.40698978304862976, 0.18414080142974854, 0.08831493556499481, 0.3499666154384613, 0.7814677953720093, 0.09541036933660507, 0.35581648349761963, 0.27897170186042786, 0.03609719127416611, 0.4562145471572876, 0.16345107555389404, 0.1592363715171814, 0.7451132535934448, 0.25890418887138367, 0.969544529914856, 0.2811287045478821, 0.5069509744644165, 0.5050944089889526, 0.2996426820755005, 0.21776342391967773, 0.40187063813209534, 0.17143261432647705, 0.3153909742832184, 0.5008841753005981, 0.23986318707466125, 0.21432244777679443, 0.5272020101547241, 0.990676760673523, 0.28755900263786316, 0.29422321915626526, 0.0889301747083664, 0.5211360454559326, 0.6897789239883423, 0.1265249401330948, 0.1062239482998848, 0.16249613463878632, 0.1273362785577774, 0.17367522418498993, 0.48003217577934265, 0.4009718894958496, 0.06052498146891594, 0.10050851851701736, 0.15971124172210693, 0.18174265325069427, 0.37672024965286255, 0.45538970828056335, 0.35190656781196594, 0.10439842939376831, 0.62795090675354, 0.20673009753227234, 0.41523656249046326, 0.596664547920227, 0.8656185865402222, 0.7558244466781616, 0.38327914476394653, 0.522908627986908, 0.42321962118148804, 0.21409274637699127, 0.07532753050327301, 0.021009888499975204, 0.20283262431621552, 0.36811965703964233, 0.058346185833215714, 0.15395021438598633, 0.3449205756187439, 0.450869083404541, 0.42938971519470215, 0.18802890181541443, 0.6609041690826416, 0.3922130763530731, 0.33543503284454346, 0.19394642114639282, 0.3209964334964752, 0.10042409598827362, 0.6268666386604309, 0.14694726467132568, 0.24802842736244202, 0.08878584206104279, 0.14601734280586243, 0.5996968746185303, 0.13740620017051697, 0.3522210419178009, 0.41890379786491394, 0.08182644844055176, 0.21259407699108124, 0.492917001247406, 0.18352743983268738, 0.21967890858650208, 0.08972116559743881, 0.2984428405761719, 0.504967212677002, 0.35828274488449097, 0.03332848846912384, 0.07806110382080078, 0.5156816840171814, 0.08361832052469254, 0.1676040142774582, 0.25898006558418274, 0.30730903148651123, 0.14316882193088531, 0.5770831108093262, 0.24403619766235352, 0.6831150650978088, 1.142338514328003, 0.0912441834807396, 0.39420008659362793, 0.5081261992454529, 0.22198177874088287, 0.873296856880188, 0.3499743640422821, 0.09793984889984131, 0.10050713270902634, 0.4338771104812622, 0.028684105724096298, 0.2937135696411133, 0.7670396566390991, 0.8219924569129944, 0.41764259338378906, 0.6135609149932861, 0.28886955976486206, 0.33395031094551086, 0.21861931681632996, 0.33516550064086914, 0.2893965244293213, 0.21517977118492126, 0.5920397043228149, 0.22474396228790283, 0.0570119172334671, 0.07513489574193954, 0.6197603344917297, 0.08638882637023926, 0.1982223093509674, 0.04833709076046944, 0.11192554980516434, 0.09252318739891052, 0.2569850981235504, 1.1626269817352295, 0.4457457363605499, 0.10375525057315826, 0.05945810303092003, 0.15030451118946075, 0.06461711972951889, 0.1558104008436203, 0.6170739531517029, 0.4444613754749298, 0.5350615978240967, 0.266657292842865, 0.15165826678276062, 0.3046457767486572, 0.5154595375061035, 0.2671085000038147, 0.5590078830718994, 0.2117997705936432, 0.761504590511322, 0.33980417251586914, 0.11064797639846802, 0.16659598052501678, 0.27937763929367065, 0.2836684286594391, 0.6477873921394348, 0.06810547411441803, 0.7215052247047424, 0.0690336599946022, 0.17490729689598083, 0.491565465927124, 0.1856008768081665, 0.4778989553451538, 0.2560923099517822, 0.5843538045883179, 0.2613156735897064, 0.2937276363372803, 0.3698643445968628, 0.40253984928131104, 0.11225010454654694, 0.4584972858428955, 0.47243332862854004, 0.5314838886260986, 0.4127998352050781, 0.6610623598098755, 0.16136915981769562, 0.022206569090485573, 0.6233274340629578, 0.2866423428058624, 0.38798749446868896, 0.11448465287685394, 0.18715381622314453, 0.7708433866500854, 0.2836242616176605, 0.10663154721260071, 0.025839464738965034, 0.31044793128967285, 0.04447323828935623, 0.24745610356330872, 0.11239300668239594, 0.3802827298641205, 0.3087139129638672, 0.17987090349197388, 0.307741641998291, 0.18248310685157776, 0.7565920948982239, 1.0758914947509766, 0.6045957803726196, 0.198053777217865, 0.5629424452781677, 0.1581106036901474, 0.41436558961868286, 0.14561553299427032, 0.8579396605491638, 0.3534010350704193, 0.4503607153892517, 0.2999706566333771, 0.2934841513633728, 0.16017785668373108, 0.2326449751853943, 0.6810640096664429, 0.44279900193214417, 0.046942345798015594, 0.19921255111694336, 0.7138796448707581, 0.2526550590991974, 0.4536820650100708, 0.25848376750946045, 0.5295130610466003, 0.4342708885669708, 0.24130429327487946, 0.4276205897331238, 0.4739239513874054, 0.12199854105710983, 0.19265738129615784, 0.5506410598754883, 0.23103229701519012, 0.6341310143470764, 0.44395387172698975, 0.16527414321899414, 0.21511684358119965, 0.4753251075744629, 0.4440372884273529, 0.5257932543754578, 0.37884384393692017, 0.0969938263297081, 0.2554544508457184, 0.5872043967247009, 0.12158141285181046, 0.5289917588233948, 0.38133710622787476, 0.18479155004024506, 0.5326690673828125, 0.14656060934066772, 0.29556161165237427, 0.7553313970565796, 0.3808419108390808, 0.22910045087337494, 0.7253214120864868, 0.5448445081710815, 0.0807969942688942, 0.49316027760505676, 0.1059846356511116, 0.36932387948036194, 0.181243896484375, 0.9233458042144775, 0.4993259906768799, 0.31135666370391846, 0.4861547648906708, 0.3917924165725708, 0.40911388397216797, 0.05004322901368141, 0.09381153434515, 0.5481538772583008, 0.1565920114517212, 0.039937637746334076, 0.27074459195137024, 0.22173282504081726, 0.24098363518714905, 0.8711302280426025, 0.2959579527378082, 0.34328439831733704, 0.09546105563640594, 0.33621567487716675, 0.4390907287597656, 0.1132427230477333, 0.39619603753089905, 0.2329040914773941, 0.0755888819694519, 0.4108181595802307, 0.20268931984901428, 0.3431570529937744, 0.32223764061927795, 0.10378408432006836, 0.11467152833938599, 0.08758857846260071, 0.15294967591762543, 0.8222161531448364, 0.16257497668266296, 0.13863761723041534, 0.9842550754547119, 0.1921808123588562, 0.6566822528839111, 0.5432249903678894, 0.10793977230787277, 0.14208967983722687, 0.061988942325115204, 0.12843680381774902, 0.45361340045928955, 0.14620926976203918, 0.2094268649816513, 0.08122291415929794, 0.4403797686100006, 0.051096078008413315, 0.19426938891410828, 0.12953275442123413, 0.2750803530216217, 0.29876813292503357, 0.0450000986456871, 0.432452917098999, 0.23486840724945068, 0.5134763121604919, 0.3090282380580902, 0.36867448687553406, 0.22599557042121887, 0.5728996396064758, 0.3318416476249695, 0.07616537809371948, 0.4054732322692871, 0.09142670035362244, 0.04418428614735603, 0.04004770144820213, 0.08950589597225189, 0.07819760590791702, 0.17912128567695618, 0.33374977111816406, 0.2841916084289551, 0.32634979486465454, 0.22907507419586182, 0.2504136264324188, 0.267515629529953, 0.39051327109336853, 0.4905315935611725, 0.4532970190048218, 0.22233043611049652, 0.0755910724401474, 0.19283293187618256, 0.05715344846248627, 0.5368665456771851, 0.04417555034160614, 0.22343818843364716, 0.2937418818473816, 0.1193283349275589, 0.09481324255466461, 0.2569327652454376, 0.5078592896461487, 0.06622076034545898, 0.5095970034599304, 0.14971069991588593, 0.21215367317199707, 0.2442709505558014, 0.6829648613929749, 0.671950101852417, 0.6751384735107422, 0.07430119067430496, 0.6946062445640564, 0.10496404767036438, 0.7151939272880554, 0.421118825674057, 0.21569950878620148, 0.0808105394244194, 0.12075963616371155, 0.017061226069927216, 0.27537983655929565, 0.1510932743549347, 0.07886505126953125, 0.4189331531524658, 0.06668613106012344, 0.33127298951148987, 0.6055073738098145, 0.4346204400062561, 0.4115867614746094, 0.029717791825532913, 0.041739314794540405, 0.13011004030704498, 0.44513189792633057, 0.19131796061992645, 0.08084797859191895, 0.25620394945144653, 0.15089792013168335, 1.0137258768081665, 0.28111201524734497, 0.36011117696762085, 0.06400517374277115, 0.06605546176433563, 0.8771487474441528, 0.11317920684814453, 0.3550332486629486, 0.024601804092526436, 0.7294329404830933, 0.04313009977340698, 0.7366182208061218, 0.9505685567855835, 0.45160967111587524, 0.14331252872943878, 0.7146130204200745, 1.0803883075714111, 0.23909924924373627, 0.07480903714895248, 0.32353976368904114, 0.2821195721626282, 0.4529106020927429, 0.3202815055847168, 0.053605906665325165, 0.33080965280532837, 0.7844988107681274, 0.4501250088214874, 0.2206476330757141, 0.12235286831855774, 0.6573731303215027, 0.5853098630905151, 0.19419081509113312, 0.7748033404350281, 0.31886863708496094, 0.3704655170440674, 0.300459623336792, 0.08632516115903854, 0.03372887149453163, 0.09422009438276291, 0.10016372799873352, 0.14249421656131744, 0.14878913760185242, 0.47552943229675293, 0.21648576855659485, 0.39994916319847107, 0.800270140171051, 0.06967873871326447, 0.08432690054178238, 0.8429422378540039, 0.4401306211948395, 0.25673791766166687, 0.2422289252281189, 0.17365190386772156, 0.14306767284870148, 0.39620375633239746, 0.15670210123062134, 0.48610761761665344, 0.23006334900856018, 0.04851622134447098, 0.1428469717502594, 0.08966578543186188, 0.05624787136912346, 0.35054904222488403, 0.518283486366272, 0.3331482708454132, 0.04778064787387848, 0.7336195111274719, 0.6024034023284912, 0.12295866757631302, 0.13462930917739868, 0.3276958465576172, 0.21611616015434265, 0.6786766648292542, 0.49434414505958557, 0.3837588131427765, 0.3777136504650116, 0.3130287826061249, 0.09184391796588898, 0.08670534938573837, 0.360275536775589, tensor(0.0001, device='cuda:0', grad_fn=<DivBackward0>), 0.10701176524162292, 0.4346393048763275, 0.21845772862434387, 0.08296792209148407, 0.3329857587814331, 0.2654567360877991, 0.39384716749191284, 0.016435710713267326, 0.675392210483551, 0.39411282539367676, 0.8037160634994507, 0.06558976322412491, 0.27890515327453613, 0.2531049847602844, 0.030939267948269844, 0.19096426665782928, 0.4833439588546753, 0.028972309082746506, 0.012348663061857224, 0.09153665602207184, 0.1519414633512497, 0.09012351185083389, 0.4420318007469177, 0.15329700708389282, 0.2182673066854477, 0.10343165695667267, 0.699018657207489, 0.0865548625588417, 0.17275922000408173, 0.460614949464798, 0.020847832784056664, 0.19442497193813324, 0.13312052190303802, 0.5255627036094666, 0.5464596748352051, 0.27094918489456177, 0.05565953627228737, 0.24089883267879486, 0.08525874465703964, 0.2525653839111328, 0.061495330184698105, 0.0726056769490242, 0.05262334644794464, 0.1863725781440735, 0.42903098464012146, 0.4363069534301758, 0.17523667216300964, 0.07927712053060532, 0.5477080941200256, 0.471640408039093, 0.21176545321941376, 0.05263982340693474, 0.15804290771484375, 0.04208988696336746, 0.034768231213092804, 0.025198526680469513, 0.10897982120513916, 0.11957951635122299, 0.16207584738731384, 0.243037149310112, 0.3550199568271637, 0.14421944320201874, 0.037476055324077606, 0.03009513020515442, 0.15860223770141602, 0.04305802658200264, 0.04758962243795395, 0.13461855053901672, 0.0643749013543129, 0.2725434899330139, 0.15283963084220886, 0.059800758957862854, 0.20985378324985504, 0.04289679601788521, 0.03586890175938606, 0.06384831666946411, 0.12712867558002472, 0.3298476040363312, 0.12906157970428467, 0.07809978723526001, 0.016104843467473984, 0.45628345012664795, 0.21626943349838257, 0.06273803114891052, 0.23652955889701843, 0.12074857950210571, 0.11924608796834946, 0.057932354509830475, 0.24353961646556854, 0.022357359528541565, 0.21072594821453094, 0.0756133422255516, 0.3227153420448303, 0.10920897126197815, 0.06023865565657616, 0.22950118780136108, 0.2152869552373886, 0.10289106518030167, 0.026680847629904747, 0.06835774332284927, 0.37410277128219604, 0.05468421429395676, 0.14898811280727386, 0.2619676887989044, 0.15306103229522705, 0.03910655155777931, 0.04783489182591438, 0.14875315129756927, 0.08634661138057709, 0.07914246618747711, 0.24999532103538513, 0.10876511037349701, 0.03332884982228279, 0.04498698189854622, 0.23350217938423157, 0.26611411571502686, 0.03697505220770836, 0.04242909327149391, 0.08332880586385727, 0.04284865781664848, 0.11107415705919266, 0.06403981149196625, 0.18954326212406158, 0.2678556442260742, 0.05104079097509384, 0.23476853966712952, 0.22863085567951202, 0.04341692477464676, 0.030993055552244186, 0.07318101078271866, 0.11841890960931778, 0.2584376633167267, 0.5775872468948364, 0.15567125380039215, 0.24066850543022156, 0.09745079278945923, 0.6568926572799683, 0.40785205364227295, 0.1537773609161377, 0.04564478620886803, 0.02173181064426899, 0.05859244987368584, 0.041286859661340714, 0.21326184272766113, 0.14113186299800873, 0.3205510675907135, 0.06370332092046738, 0.2494499385356903, 0.13957597315311432, 0.29227912425994873, 0.023713255301117897, 0.3253493905067444, 0.18579185009002686, 0.2284400314092636, 0.15215711295604706, 0.3649768829345703, 0.36410272121429443, 0.0754237249493599, 0.09914137423038483, 0.03693009540438652, 0.17648901045322418, 0.32160884141921997, 0.16019056737422943, 0.1891966313123703, 0.31641659140586853, 0.01004586461931467, 0.230856791138649, 0.1514328122138977, 0.18519705533981323, 0.12015537172555923, 0.5893188118934631, 0.14647750556468964, 0.1646391749382019, 0.4838275909423828, 0.22475413978099823, 0.4747580289840698, 0.08889326453208923, 0.037903860211372375, 0.2776288390159607, 0.14223924279212952, 0.2240721881389618, 0.21109867095947266, 0.26492416858673096, 0.02737661451101303, 0.159195676445961, 0.2784169912338257, 0.3736284375190735, 0.2292809784412384, 0.43694886565208435, 0.3029937148094177, 0.12954258918762207, 0.10626073181629181, 0.03371432423591614, 0.0496651828289032, 0.18763387203216553, 0.051499731838703156, 0.07340220361948013, 0.2778970003128052, 0.05064360797405243, 0.0943755954504013, 0.08805930614471436, 0.35638245940208435, 0.2747204005718231, 0.24074728786945343, 0.05646409094333649, 0.08600428700447083, 0.46584686636924744, 0.4080233573913574, 0.24844728410243988, 0.06913796812295914, 0.0767752155661583, 0.08375199884176254, 0.45501580834388733, 0.456985205411911, 0.8157179355621338, 0.06259540468454361, 0.06144443899393082, 0.13759739696979523, 0.04387509822845459, 0.02407711371779442, 0.17683783173561096, 0.10430646687746048, 0.1615767627954483, 0.0797809436917305, 0.05515450984239578, 0.5336108803749084, 0.15553785860538483, 0.02829262800514698, 0.13077126443386078, 0.06688002496957779, 0.03807655721902847, 0.039509546011686325, 0.13480374217033386, 0.10838606208562851, 0.049417901784181595, 0.05768400430679321, 0.11123491078615189, 0.2328965961933136, 0.04170934855937958, 0.2991921305656433, 0.028340565040707588, 0.5448337197303772, 0.06556008011102676, 0.14793133735656738, 0.2176758199930191, 0.03886750712990761, 0.16302244365215302, 0.04160814359784126, 0.5310148000717163, 0.019700493663549423, 0.4429396092891693, 0.16067567467689514, 0.07066848129034042, 0.07098473608493805, 0.014941288158297539, 0.33147114515304565, 0.04614734649658203, 0.04646263271570206, 0.2598966062068939, 0.08627380430698395, 0.024455972015857697, 0.11916754394769669, 0.290169358253479, 0.06065339595079422, 0.7620899677276611, 0.023195838555693626, 0.2544364035129547, 0.10911199450492859, 0.11941027641296387, 0.07739373296499252, 0.2803758382797241, 0.24577495455741882, 0.6308921575546265, 0.051814641803503036, 0.36655911803245544, 0.09887818247079849, 0.4432010352611542, 0.02126159332692623, 0.06915614753961563, 0.012042191810905933, 0.046259161084890366, 0.4925243556499481, 0.135803684592247, 0.42352309823036194, 0.22390149533748627, 0.08880042284727097, 0.19525673985481262, 0.07382936775684357, 0.2973330020904541, 0.023208996281027794, 0.22890838980674744, 0.19793906807899475, 0.2897009551525116, 0.04973745346069336, 0.056086208671331406, 0.5794939398765564, 0.5287843942642212, 0.39642852544784546, 0.0519605427980423, 0.044690974056720734, 0.13283216953277588, 0.15228192508220673, 0.41401350498199463, 0.02544083632528782, 0.054205529391765594, 0.025111500173807144, 0.05549183487892151, 0.05281499773263931, 0.4408687949180603, 0.40637025237083435, 0.1674940139055252, 0.07037083059549332, 0.2003951370716095, 0.38181549310684204, 0.396780788898468, 0.19346776604652405, 0.09720301628112793, 0.09317092597484589, 0.03138713538646698, 0.4629790484905243, 0.3396827280521393, 0.03948599472641945, 0.016125479713082314, 0.08980585634708405, 0.24613924324512482, 0.39015355706214905, 0.6601119041442871, 0.19063811004161835, 0.11566070467233658, 0.038269657641649246, 0.11342854052782059, 0.06205835938453674, 0.586810827255249, 0.23313280940055847, 0.018847882747650146, 0.2598300576210022, 0.07560759782791138, 0.2562085688114166, 0.08291249722242355, 0.11058501154184341, 0.09024456888437271, 0.12795227766036987, 0.07261303067207336, 0.08931394666433334, 0.18984322249889374, 0.059792306274175644, 0.052641142159700394, 0.043977200984954834, 0.3851000964641571, 0.05731859803199768, 0.07917316257953644, 0.05752045661211014, 0.0849444642663002, 0.13783617317676544, 0.18894343078136444, 0.2058446854352951, 0.07774168998003006, 0.04807378724217415, 0.11570101231336594, 0.39508408308029175, 0.019365785643458366, 0.21343448758125305, 0.07288005203008652, 0.3570449650287628, 0.1174296960234642, 0.03905053436756134, 0.057641416788101196, 0.015579712577164173, 0.3254416286945343, 0.07922978699207306, 0.021180782467126846, 0.2397855520248413, 0.2202124446630478, 0.05352703109383583, 0.06322567164897919, 0.38499176502227783, 0.20773105323314667, 0.12156926095485687, 0.06920351088047028, 0.11379236727952957, 0.32904210686683655, 0.03928256034851074, 0.33209311962127686, 0.09093500673770905, 0.032163213938474655, 0.16544312238693237, 0.35870617628097534, 0.09206580370664597, 0.09276416897773743, 0.07755298912525177, 0.18206758797168732, 0.02890072949230671, 0.41797396540641785, 0.11573227494955063, 0.03531138226389885, 0.21303850412368774, 0.22017309069633484, 0.18886682391166687, 0.05987869203090668, 0.350654661655426, 0.04037591814994812, 0.32447823882102966, 0.044767215847969055, 0.08275091648101807, 0.33883410692214966, 0.03195115923881531, 0.28169503808021545, 0.04723179340362549, 0.03290482610464096, 0.061895642429590225, 0.36373960971832275, 0.2694905996322632, 0.5612001419067383, 0.023334119468927383, 0.2123168557882309, 0.08081740140914917, 0.5280535221099854, 0.012780255638062954, 0.07576455175876617, 0.13553547859191895, 0.14701029658317566, 0.10737484693527222, 0.03554908186197281, 0.09511258453130722, 0.1367766112089157, 0.12381534278392792, 1.3270732164382935, 0.37865695357322693, 0.04988284409046173, 0.11155497282743454, 0.3059313893318176, 0.06491036713123322, 0.1961846649646759, 0.15624721348285675, 0.15051305294036865, 0.03975175693631172, 0.49788564443588257, 0.1817237138748169, 0.08704251050949097, 0.14870424568653107, 0.11749142408370972, 0.10732375085353851, 0.2715902030467987, 0.3001997470855713, 0.07021360099315643, 0.2727162837982178, 0.3247855305671692, 0.47242268919944763, 0.09532914310693741, 0.586234450340271, 0.0986987054347992, 0.12943574786186218, 0.14576368033885956, 0.1987980306148529, 0.03613954037427902, 0.07824691385030746, 0.18014782667160034, 0.10569500178098679, 0.08888284116983414, 0.07100016623735428, 0.022461455315351486, 0.051001518964767456, 0.03686429560184479, 0.34696871042251587, 0.23858089745044708, 0.30593597888946533, 0.16588568687438965, 0.030819585546851158, 0.024578290060162544, 0.050711650401353836, 0.10409372299909592, 0.1458147019147873, 0.3596426844596863, 0.09643221646547318, 0.13671065866947174, 0.2887716293334961, 0.12777069211006165, 0.028728313744068146, 0.025783447548747063, 0.11589118838310242, 0.1607157438993454, 0.14397643506526947, 0.022701075300574303, 0.02619432471692562, 0.015787426382303238, 0.3343307077884674, 0.5735498666763306, 0.10461370646953583, 0.49897846579551697, 0.514906108379364, 0.009192290715873241, 0.08627712726593018, 0.43200233578681946, 0.20713204145431519, 0.44172462821006775, 0.036890968680381775, 0.14902232587337494, 0.39089909195899963, 0.11500680446624756, 0.16264411807060242, 0.05910827964544296, 0.04704499989748001, 0.6076254844665527, 0.03393461927771568, 0.46264541149139404, 0.12375211715698242, 0.14161282777786255, 0.07079631835222244, 0.08742985129356384, 0.19877159595489502, 0.29944589734077454, 0.35002970695495605, 0.021355660632252693, 0.022524870932102203, 0.32224294543266296, 0.3701499402523041, 0.022169824689626694, 0.017169823870062828, 0.1766929179430008, 0.0877864733338356, 0.4114079773426056, 0.31298312544822693, 0.0485934242606163, 0.030818337574601173, 0.11931107938289642, 0.06558823585510254, 0.04955759271979332, 0.2840085029602051, 0.04968984052538872, 0.58576899766922, 0.41469210386276245, 0.024379611015319824, 0.022048668935894966, 0.019685978069901466, 0.06574953347444534, 0.4657175540924072, 0.09549324959516525, 0.06672628223896027, 0.23138859868049622, 0.08691268414258957, 0.10635333508253098, 0.2336266189813614, 0.04308682680130005, 0.4188842177391052, 0.2745130956172943, 0.15939202904701233, 0.5884845852851868, 0.06239410117268562, 0.15387237071990967, 0.9913691282272339, 0.06099839508533478, 0.08941460400819778, 0.4307907223701477, 0.10184042155742645, 0.13162897527217865, 0.5261751413345337, 0.05747506767511368, 0.017430517822504044, 0.0895121842622757, 0.03194344788789749, 0.06398078799247742, 0.037833377718925476, 0.230457603931427, 0.06571601331233978, 0.06573572754859924, 0.3667384088039398, 0.025920391082763672, 0.16907072067260742, 0.09141717106103897, 0.4852316081523895, 0.11584118008613586, 0.40086662769317627, 0.48188838362693787, 0.4628622829914093, 0.16570350527763367, 0.48884323239326477, 0.06459911167621613, 0.025633923709392548, 0.2054237723350525, 0.23757442831993103, 0.03652087226510048, 0.03659788891673088, 0.07242432981729507, 0.35985830426216125, 0.15114106237888336, 0.028976481407880783, 0.04823564738035202, 0.02357661724090576, 0.5455952882766724, 0.057194847613573074, 0.18223054707050323, 0.11658446490764618, 0.24837510287761688, 0.3612786531448364, 0.2007599025964737, 0.5742247104644775, 0.27175062894821167, 0.22017432749271393, 0.07474943995475769, 0.45212674140930176, 0.04723551496863365, 0.02821284718811512, 0.08066508919000626, 0.36342480778694153, 0.0617191381752491, 0.41968464851379395, 0.09647580236196518, 0.0863768607378006, 0.12876859307289124, 0.019146041944622993, 0.2364901304244995, 0.37855327129364014, 0.22960564494132996, 0.46755146980285645, 0.036925189197063446, 0.06771297007799149, 0.08913204818964005, 0.0836564153432846, 0.37290480732917786, 0.1917426884174347, 0.20181827247142792, 0.38409844040870667, 0.3963173031806946, 0.3681277930736542, 0.029385298490524292, 0.03098134696483612, 0.4994485080242157, 0.06019295006990433, 0.5006458163261414, 0.453960657119751, 0.16559001803398132, 0.060439154505729675, 0.13297371566295624, 0.03555980697274208, 0.7274345755577087, 0.1821233332157135, 0.40806764364242554, 0.2201358526945114, 0.17162151634693146, 0.2987495958805084, 0.01660281792283058, 0.15136730670928955, 0.08391698449850082, 0.47519925236701965, 0.06413804739713669, 0.07893006503582001, 0.13487030565738678, 0.7673294544219971, 1.0738741159439087, 0.14162538945674896, 0.06827379018068314, 0.4691956639289856, 0.08824679255485535, 0.09111319482326508, 0.24141612648963928, 0.09296953678131104, 0.07476569712162018, 0.8584772944450378, 0.352245956659317, 0.39951106905937195, 0.20276251435279846, 0.6019032001495361, 0.047145016491413116, 0.059810250997543335, 0.03332766890525818, 0.08585192263126373, 0.08914592117071152, 0.24604752659797668, 0.09056433290243149, 0.01836329512298107, 0.05334147810935974, 0.5950261950492859, 0.014432063326239586, 0.6056354641914368, 0.08292032778263092, 0.04221190884709358, 0.32571539282798767, 0.1309662163257599, 0.18079769611358643, 0.011197751387953758, 0.15618841350078583, 0.17058739066123962, 0.0995674729347229, 0.03709910809993744, 0.11018536984920502, 0.04939071461558342, 0.2848093807697296, 0.31258779764175415, 0.13886933028697968, 0.020790226757526398, 0.07285633683204651, 0.18568499386310577, 0.28724366426467896, 0.01395677961409092, 0.04619379714131355, 0.030241835862398148, 0.20125609636306763, 0.23746882379055023, 0.20545704662799835, 0.5277490615844727, 0.039782311767339706, 0.061089981347322464, 0.01763450726866722, 0.04426707699894905, 0.08570972084999084, 0.11253134906291962, 0.187986820936203, 0.052399568259716034, 0.4447873532772064, 0.044784896075725555, 0.6899945139884949, 0.050284817814826965, 0.1233905628323555, 0.3725651204586029, 0.04443942755460739, 0.09286440163850784, 0.024312391877174377, 0.11396156251430511, 0.3070593476295471, 0.051471225917339325, 0.3781321346759796, 0.3170490562915802, 0.2222617119550705, 0.25542381405830383, 0.046408094465732574, 0.02334945648908615, 0.017455507069826126, 0.28601059317588806, 0.07537748664617538, 0.1992456316947937, 0.10908003151416779, 0.059157244861125946, 0.03162926807999611, 0.06005435436964035, 0.25256749987602234, 0.3243391513824463, 0.05545084550976753, 0.10133075714111328, 0.21675483882427216, 0.5908921957015991, 0.06343334168195724, 0.3183750808238983, 0.1647556722164154, 0.048081714659929276, 0.3187585175037384, 0.24852384626865387, 0.07811984419822693, 0.2915952205657959, 0.4956144392490387, 0.07689663767814636, 0.05950527638196945, 0.06010640040040016, 0.4178242087364197, 0.06965606659650803, 0.08797753602266312, 0.15550917387008667, 0.21479785442352295, 0.0852663442492485, 0.1186753660440445, 0.03841580078005791, 0.037987105548381805, 0.06227851286530495, 0.309467613697052, 0.008344014175236225, 0.14461548626422882, 0.2721134126186371, 0.05634075403213501, 0.3011670708656311, 0.04903415963053703, 0.04749743640422821, 0.02199627086520195, 0.31844860315322876, 0.22502785921096802, 0.2374669909477234, 0.13957110047340393, 0.39030107855796814, 0.14987091720104218, 0.27739283442497253, 0.36216726899147034, 0.012544198893010616, 0.4106265604496002, 0.39446762204170227, 0.4865858256816864, 0.024668162688612938, 0.05881384015083313, 0.3259015679359436, 0.5333236455917358, 0.1425361931324005, 0.1219957172870636, 0.2591787278652191, 0.20630723237991333, 0.046413008123636246, 0.02552962861955166, 0.04354686290025711, 0.139686718583107, 0.15889810025691986, 0.036101341247558594, 0.014289370737969875, 0.09193409979343414, 0.031647052615880966, 0.24758407473564148, 0.29505348205566406, 0.049464818090200424, 0.5040311217308044, 0.3055276870727539, 0.2371276170015335, 0.14396438002586365, 0.17420169711112976, 0.18758642673492432, 0.24434822797775269, 0.10292824357748032, 0.3709096312522888, 0.02764659933745861, 0.13702620565891266, 0.03625804930925369, 0.2658204734325409, 0.12133827060461044, 0.03132231533527374, 0.3907659947872162, 0.057063668966293335, 0.08060760796070099, 0.04059538245201111, 0.22299519181251526, 0.11894240975379944, 0.015659086406230927, 0.054444923996925354, 0.03605755791068077, 0.11819274723529816, 0.14823879301548004, 0.03674705699086189, 0.14452271163463593, 0.7197854518890381, 0.05065852776169777, 0.3415052592754364, 0.018126532435417175, 0.49899572134017944, 0.03459380567073822, 0.20715196430683136, 0.09971391409635544, 0.6465145945549011, 0.09722080081701279, 0.41332292556762695, 0.029958076775074005, 0.18912091851234436, 0.5491819977760315, 0.18755215406417847, 0.28837621212005615, 0.14356082677841187, 0.21884271502494812, 0.08405187726020813, 0.058998022228479385, 0.20760193467140198, 0.18043892085552216, 0.3202509582042694, 0.24792970716953278, 0.5878704786300659, 0.21267235279083252, 0.45335865020751953, 0.07511556148529053, 0.10898978263139725, 0.12451909482479095, 0.4231773316860199, 0.24581323564052582, 0.045695338398218155, 0.07032201439142227, 0.29725930094718933, 0.04494846239686012, 0.0544256828725338, 0.4870600700378418, 0.023188794031739235, 0.13228662312030792, 0.014496192336082458, 0.07117670774459839, 0.17238037288188934, 0.12103339284658432, 0.35153281688690186, 0.08739423006772995, 0.1866857409477234, 0.5271868705749512, 0.1470140665769577, 0.10880938917398453, 0.1718982756137848, 0.409736692905426, 0.12095827609300613, 0.1853942573070526, 0.062394000589847565, 0.025198031216859818, 0.44609367847442627, 0.1400400698184967, 0.049235790967941284, 0.21027536690235138, 0.2810312807559967, 0.1551496684551239, 0.11893966048955917, 0.06303361058235168, 0.038025159388780594, 0.12830685079097748, 0.05457685515284538, 0.16053315997123718, 0.2929629981517792, 0.6227152347564697, 0.15585431456565857, 0.4773162603378296, 0.21818630397319794, 0.08452615141868591, 0.4079282879829407, 0.37077638506889343, 0.05771126225590706, 0.06383240222930908, 0.12218676507472992, 0.2553095519542694, 0.11178278177976608, 0.611088216304779, 0.01052763219922781, 0.1587902307510376, 0.10535894334316254, 0.13746283948421478, 0.2979843318462372, 0.39624398946762085, 0.08964353799819946, 0.15632516145706177, 0.050361040979623795, 0.22532585263252258, 0.13085967302322388, 0.1786133050918579, 0.8620728850364685, 0.04750381037592888, 0.02569243125617504, 0.3318908214569092, 0.10109314322471619, 0.1966964602470398, 0.11962756514549255, 0.06450465321540833, 0.06122260540723801, 0.11680494248867035, 0.2929266095161438, 0.3466119170188904, 0.22556743025779724, 0.1769513040781021, 0.021564148366451263, 0.09065064787864685, 0.228292778134346, 0.15034447610378265, 0.21840697526931763, 0.29988211393356323, 0.21453748643398285, 0.020567914471030235, 0.042729876935482025, 0.24681656062602997, 0.3856155574321747, 0.0845479667186737, 0.16056126356124878, 0.618349552154541, 0.04960969462990761, 0.08236196637153625, 0.2333584725856781, 0.1772698014974594, 0.3938968777656555, 0.05170217901468277, 0.019421176984906197, 0.17365609109401703, 0.23400376737117767, 0.08389358967542648, 0.7533856630325317, 0.08443517237901688, 0.2536042630672455, 0.28358083963394165, 0.30872443318367004, 0.02223288267850876, 0.2304181158542633, 0.09168863296508789, 0.12646807730197906, 0.3624248802661896, 0.18723729252815247, 0.1747332662343979, 0.5145285725593567, 0.2542807459831238, 0.08125438541173935, 0.1753523349761963, 0.06393548101186752, 0.20990028977394104, 0.1358131468296051, 0.18521927297115326, 0.1925361007452011, 0.20015983283519745, 0.35110151767730713, 0.02439289353787899, 0.03611419349908829, 0.05184049904346466, 0.23242945969104767, 0.31161800026893616, 0.05048264190554619, 0.0780702531337738, 0.19060207903385162, 0.016070185229182243, 0.21997599303722382, 0.0912686139345169, 0.3330620527267456, 0.2423916757106781, 0.30681535601615906, 0.3433385193347931, 0.3392319083213806, 0.14630986750125885, 0.13301897048950195, 0.04826509207487106, 0.1801735907793045, 0.5252646803855896, 0.2772412598133087, 0.48128488659858704, 0.04740678146481514, 0.165552020072937, 0.030802611261606216, 0.028355173766613007, 0.06240566074848175, 0.15139944851398468, 0.09063325822353363, 0.41294828057289124, 0.042225904762744904, 0.1933150589466095, 0.028033502399921417, 0.17443116009235382, 0.058327097445726395, 0.15704621374607086, 0.2522751986980438, 0.6753284335136414, 0.3616264760494232, 0.03126758337020874, 0.066130131483078, 0.21012204885482788, 0.17910237610340118, 0.06691502034664154, 0.0907471776008606, 0.10089699178934097, 0.16227805614471436, 0.0845746323466301, 0.26312538981437683, 0.21625010669231415, 0.26735416054725647, 0.15382029116153717, 0.6729638576507568, 0.09280902147293091, 0.3856763541698456, 0.07396752387285233, 0.06868042796850204, 0.08803591132164001, 0.06616324186325073, 0.5529040694236755, 0.11668196320533752, 0.10336059331893921, 0.0798061341047287, 0.20197360217571259, 0.255474716424942, 0.09742293506860733, 0.10016097128391266, 0.1372154802083969, 0.4441956579685211, 0.06145431101322174, 0.43131113052368164, 0.31458356976509094, 0.08428052067756653, 0.566224217414856, 0.059727828949689865, 0.07353414595127106, 0.051341235637664795, 0.020761821419000626, 0.24289070069789886, 0.024996226653456688, 0.2821435034275055, 0.08859436959028244, 0.0126741798594594, 0.4604152739048004, 0.0724383145570755, 0.2110481709241867, 0.029430219903588295, 0.612504780292511, 0.19046299159526825, 0.04142303019762039, 0.4101414084434509, 0.23519235849380493, 0.23135977983474731, 0.3129712641239166, 0.4054858386516571, 0.23330684006214142, 0.20205651223659515, 0.7115120887756348, 0.038539204746484756, 0.51376873254776, 0.34596800804138184, 0.18794435262680054, 0.11462094634771347, 0.031323712319135666, 0.35859420895576477, 0.06389859318733215, 0.1452714055776596, 0.09218721091747284, 0.38172003626823425, 0.1498751938343048, 0.0598396472632885, 0.03828342258930206, 0.04904557392001152, 0.10086239129304886, 0.5997769832611084, 0.13909396529197693, 0.18186070024967194, 0.0180601067841053, 0.25048843026161194, 0.2131488174200058, 0.055022526532411575, 0.18114110827445984, 0.2493637651205063, 0.2415214329957962, 0.6354385614395142, 0.1840846836566925, 0.12823480367660522, 0.18300309777259827, 0.04712653532624245, 0.2363092601299286, 0.061761755496263504, 0.09055346250534058, 0.017613744363188744, 0.19151046872138977, 0.050062328577041626, 0.045664943754673004, 0.17046603560447693, 0.3473551571369171, 0.18946492671966553, 0.05476656183600426, 0.5894067883491516, 0.027535876259207726, 0.09963924437761307, 0.020345935598015785, 0.0868096798658371, 0.2407396137714386, 0.2070273607969284, 0.05536530166864395, 0.034997183829545975, 0.11527112126350403, 0.052304718643426895, 0.4766397476196289, 0.06625208258628845, 0.0295015349984169, 0.04901111498475075, 0.01431015133857727, 0.14277517795562744, 0.08707977086305618, 0.10927341878414154, 0.08446002006530762, 0.017434636130928993, 0.425160676240921, 0.08741618692874908, 0.06211056560277939, 0.6511057019233704, 0.013042127713561058, 0.03543626144528389, 0.01349346898496151, 0.03754371404647827, 0.11616562306880951, 0.0168628953397274, 0.014915586449205875, 0.07172108441591263, 0.23888111114501953, 0.16692356765270233, 0.16774320602416992, 0.04464411363005638, 0.028765464201569557, 0.02576945163309574, 0.18745511770248413, 0.26889196038246155, 0.4767884910106659, 0.10435732454061508, 0.08220189064741135, 0.48730406165122986, 0.08633776754140854, 0.09395867586135864, 0.05847025662660599, 0.3682034909725189, 0.018429184332489967, 0.27387261390686035, 0.337474524974823, 0.08022739738225937, 0.20453336834907532, 0.0540226548910141, 0.07848343998193741, 0.20454175770282745, 0.4438680112361908, 0.05785851925611496, 0.1673978567123413, 0.02824823372066021, 0.2608901262283325, 0.34551095962524414, 0.045477401465177536, 0.1772923618555069, 0.07911981642246246, 0.03425513580441475, 0.21005471050739288, 0.012913297861814499, 0.12333393096923828, 0.019194720312952995, 0.04511771723628044, 0.023478087037801743, 0.15873046219348907, 0.06847351044416428, 0.05565816909074783, 0.20816411077976227, 0.015446043573319912, 0.2607553005218506, 0.3362601399421692, 0.16702838242053986, 0.02942134253680706, 0.5116084218025208, 0.3413289487361908, 0.8411182761192322, 0.06877443194389343, 0.06057565286755562, 0.015132569707930088, 0.05277480557560921, 0.5765036344528198, 0.1871655136346817, 0.11251193284988403, 0.02106897532939911, 0.22409771382808685, 0.04516664147377014, 0.40336355566978455, 0.4856260418891907, 0.009118163026869297, 0.07085622847080231, 0.1935010701417923, 0.031231854110956192, 0.3475577235221863, 0.036146651953458786, 0.2102079689502716, 0.4680722653865814, 0.1103837788105011, 0.1209946796298027, 0.7470863461494446, 0.081378273665905, 0.20643047988414764, 0.010364213958382607, 0.3184956908226013, 0.6236300468444824, 0.0436776801943779, 0.33561286330223083, 0.1158200353384018, 0.052541639655828476, 0.24166959524154663, 0.42766138911247253, 0.5360517501831055, 0.09935078769922256, 0.19239990413188934, 0.2857392728328705, 0.5829787254333496, 0.7949699759483337, 0.03316771611571312, 0.02932119555771351, 0.29125872254371643, 0.04005063697695732, 0.10989420861005783, 0.6217441558837891, 0.5402299761772156, 0.1455000936985016, 0.5849222540855408, 0.0638003796339035, 0.09515510499477386, 0.047255441546440125, 0.08191484212875366, 0.3632817268371582, 0.012553749606013298, 0.12647324800491333, 0.2454472780227661, 0.15809036791324615, 0.24808736145496368, 0.12258756905794144, 0.14910387992858887, 0.057892829179763794, 0.21641765534877777, 0.36427485942840576, 0.31226304173469543, 0.14616741240024567, 0.04885454103350639, 0.01729532517492771, 0.029855545610189438, 0.014735560864210129, 0.053821831941604614, 0.3935288190841675, 0.8321101665496826, 0.2894112765789032, 0.12879879772663116, 0.07677091658115387, 0.25191324949264526, 0.1462741196155548, 0.892536997795105, 0.23985569179058075, 0.06126360595226288, 0.030276404693722725, 0.028367280960083008, 0.24358013272285461, 0.11367255449295044, 0.43811914324760437, 0.04399427771568298, 0.038048725575208664, 0.3059718906879425, 0.05743074417114258, 0.07826048880815506, 0.03172169253230095, tensor(1.2163e-05, device='cuda:0', grad_fn=<DivBackward0>)]\n",
            "Train Accuracy: [0.0003834355828220859, 0.00028757668711656444, 0.0003834355828220859]\n"
          ],
          "name": "stdout"
        },
        {
          "output_type": "stream",
          "text": [
            "\rEpoch:  75%|███████▌  | 3/4 [26:25<08:48, 528.76s/it]"
          ],
          "name": "stderr"
        },
        {
          "output_type": "stream",
          "text": [
            "Validation Accuracy: 0.7153776978417267\n",
            "Train loss: [3.5132558345794678, 3.4877476692199707, 3.3538637161254883, 3.3637609481811523, 3.210570812225342, 3.3549551963806152, 3.2374045848846436, 3.308347225189209, 3.405611038208008, 3.1994357109069824, 3.2423083782196045, 3.2877323627471924, 3.364497661590576, 3.239871025085449, 3.43900990486145, 3.3338613510131836, 3.2657792568206787, 3.3224494457244873, 3.3745529651641846, 3.2906079292297363, 3.1222035884857178, 3.289388418197632, 3.263108015060425, 3.13494873046875, 3.254863977432251, 3.2146828174591064, 3.114427328109741, 3.0436928272247314, 2.9417829513549805, 3.2938129901885986, 3.032174825668335, 3.2156198024749756, 3.120021343231201, 3.141101121902466, 3.2204012870788574, 3.1255552768707275, 3.2807719707489014, 3.0834100246429443, 3.146794319152832, 3.173523426055908, 3.043288230895996, 2.972917318344116, 3.0675010681152344, 3.227708578109741, 2.7833752632141113, 3.1488406658172607, 2.9757938385009766, 3.029768705368042, 3.060002565383911, 3.0299787521362305, 3.0412633419036865, 3.106377601623535, 2.943077564239502, 2.997532844543457, 3.0009965896606445, 2.6795318126678467, 2.69571852684021, 2.9182205200195312, 3.0071260929107666, 2.6323771476745605, 2.9555258750915527, 2.6182243824005127, 2.8043220043182373, 2.6770541667938232, 2.7571353912353516, 2.6665375232696533, 2.6170244216918945, 2.8122341632843018, 2.9167048931121826, 2.340830087661743, 2.638563394546509, 2.5405821800231934, 2.7989585399627686, 2.6950161457061768, 2.4757931232452393, 2.6419894695281982, 2.381258487701416, 2.530095338821411, 2.558927297592163, 2.2881579399108887, 2.5806643962860107, 2.407252073287964, 2.064629077911377, 2.5998778343200684, 2.440638542175293, 2.4407858848571777, 2.433419942855835, 2.366478681564331, 2.142374038696289, 2.5566468238830566, 2.5490520000457764, 1.9665491580963135, 2.2880806922912598, 1.998042106628418, 1.8036555051803589, 2.330812931060791, 2.0693798065185547, 2.229597330093384, 2.17108416557312, 2.3651764392852783, 1.9289392232894897, 2.224216938018799, 2.1385698318481445, 2.1144120693206787, 2.1886141300201416, 2.059007167816162, 2.1054718494415283, 1.6386997699737549, 1.602817177772522, 1.8370344638824463, 2.011878252029419, 1.8404927253723145, 1.8449190855026245, 1.9175149202346802, 2.130253791809082, 1.7954570055007935, 1.7950749397277832, 1.9920305013656616, 2.5167431831359863, 1.793960690498352, 1.7842812538146973, 1.4929331541061401, 2.042733669281006, 1.8361210823059082, 1.976405382156372, 1.379183053970337, 1.5263047218322754, 1.5916101932525635, 1.962778925895691, 1.9723337888717651, 1.2975679636001587, 2.606980323791504, 1.6509634256362915, 2.0670483112335205, 1.7547547817230225, 2.145172119140625, 1.6316930055618286, 1.7158311605453491, 1.9628899097442627, 1.8846110105514526, 1.5862997770309448, 1.876714825630188, 2.074268341064453, 1.4530137777328491, 1.655838131904602, 1.6293041706085205, 1.1610976457595825, 1.2155534029006958, 1.5097460746765137, 1.2459474802017212, 1.3545390367507935, 1.2845220565795898, 1.5146682262420654, 1.6369024515151978, 1.479704737663269, 1.1349083185195923, 1.5920202732086182, 2.0130953788757324, 2.0175068378448486, 1.2255700826644897, 1.05120050907135, 1.868294596672058, 2.0485546588897705, 1.370591163635254, 1.6299426555633545, 1.3498218059539795, 1.424652338027954, 1.2655221223831177, 1.424901008605957, 1.9418504238128662, 1.5889660120010376, 1.3573623895645142, 1.8778414726257324, 1.3543424606323242, 1.9526859521865845, 2.0774359703063965, 1.3382693529129028, 1.2706979513168335, 1.563279151916504, 1.887970209121704, 1.51682710647583, 1.3296715021133423, 1.308048963546753, 1.1256688833236694, 1.3843820095062256, 1.371232032775879, 1.534630298614502, 1.0708742141723633, 1.8414669036865234, 1.7361066341400146, 1.1524815559387207, 1.2759517431259155, 1.579594612121582, 1.2389036417007446, 1.1443217992782593, 1.2266712188720703, 1.1666067838668823, 2.0865824222564697, 1.2451977729797363, 1.4339351654052734, 1.2288614511489868, 1.083696722984314, 1.363982081413269, 1.0608965158462524, 1.260655164718628, 1.3933985233306885, 1.34148371219635, 2.079902172088623, 1.4323782920837402, 2.268900156021118, 0.9527902603149414, 1.6008968353271484, 1.458082914352417, 1.4256985187530518, 1.3013489246368408, 1.3445734977722168, 1.2025481462478638, 1.0935055017471313, 1.286791205406189, 1.5309652090072632, 1.7743415832519531, 1.1299052238464355, 1.098491907119751, 1.7659937143325806, 1.1336253881454468, 1.1914856433868408, 1.1597169637680054, 1.6542749404907227, 0.967943549156189, 1.252845048904419, 1.2864655256271362, 1.4862056970596313, 1.2392253875732422, 1.1590862274169922, 1.5481748580932617, 1.2869211435317993, 1.530205249786377, 1.0065534114837646, 0.9793797731399536, 0.9249087572097778, 1.2297388315200806, 1.2223072052001953, 1.256138801574707, 1.1724364757537842, 1.5851448774337769, 0.8846229910850525, 1.1686543226242065, 1.2473491430282593, 1.3843259811401367, 1.0005031824111938, 1.5492756366729736, 1.0438880920410156, 1.0190632343292236, 0.9556570053100586, 1.6192504167556763, 1.3470854759216309, 1.145809531211853, 1.6275290250778198, 1.243583083152771, 0.636699914932251, 0.9964712262153625, 1.0612800121307373, 1.4529132843017578, 1.0589057207107544, 1.4401519298553467, 1.431440830230713, 1.2874796390533447, 0.6906965374946594, 1.4760476350784302, 1.1549334526062012, 1.2894868850708008, 1.116957187652588, 1.305422306060791, 0.8855491280555725, 1.2170449495315552, 0.8009092807769775, 1.2977603673934937, 1.020738959312439, 1.5443994998931885, 0.8473318815231323, 1.0480058193206787, 1.1073553562164307, 1.1987683773040771, 1.294235110282898, 0.9303550124168396, 1.163446307182312, 0.9550082683563232, 1.243238091468811, 1.371622085571289, 1.4718289375305176, 1.2766857147216797, 1.5608940124511719, 0.7553722262382507, 0.9898715019226074, 0.6969226002693176, 1.2864981889724731, 0.9378378391265869, 0.657659113407135, 0.7797886729240417, 1.3281123638153076, 1.0719941854476929, 1.061161756515503, 1.2900652885437012, 0.961763858795166, 1.0097590684890747, 1.4811642169952393, 1.33245050907135, 1.3407222032546997, 0.9065995216369629, 1.4546140432357788, 1.462219476699829, 1.0636557340621948, 1.3468668460845947, 1.2523136138916016, 1.1607390642166138, 0.9903950691223145, 1.2547633647918701, 0.8766694664955139, 0.7243792414665222, 1.1825302839279175, 1.3878309726715088, 0.7161853909492493, 1.384684443473816, 1.1758136749267578, 1.1962475776672363, 1.082619071006775, 0.9789502024650574, 0.7913998365402222, 0.8582085967063904, 1.3309077024459839, 1.216740369796753, 0.6936991214752197, 0.834915041923523, 0.9441900253295898, 1.1188727617263794, 0.7639957070350647, 0.9667032957077026, 0.5661723613739014, 0.7385127544403076, 1.2892072200775146, 0.9787224531173706, 0.6669127941131592, 1.096317172050476, 1.2092701196670532, 0.9436144232749939, 1.241729974746704, 0.9304440021514893, 1.000652551651001, 1.0927902460098267, 1.1875028610229492, 1.236189842224121, 1.9049996137619019, 0.9393942952156067, 0.9934972524642944, 1.0463069677352905, 1.5078368186950684, 0.4990903437137604, 1.025572419166565, 1.3697547912597656, 1.139696717262268, 1.0820282697677612, 1.0902011394500732, 0.9504228830337524, 1.2457404136657715, 0.9828441739082336, 0.7317278385162354, 0.9595967531204224, 1.2297985553741455, 0.5293983221054077, 0.7082803249359131, 0.77177894115448, 0.8275033831596375, 0.9572452902793884, 0.9665550589561462, 0.7520565390586853, 0.9728797078132629, 1.1272084712982178, 1.3586981296539307, 1.0957987308502197, 1.0646207332611084, 0.725598931312561, 0.6667342185974121, 1.1104755401611328, 0.8368420600891113, 1.016667127609253, 1.0122857093811035, 0.6446801424026489, 0.5311887860298157, 0.905536413192749, 0.6018085479736328, 1.0514616966247559, 0.8928258419036865, 0.9861922860145569, 0.5165156722068787, 0.435696542263031, 0.8885031342506409, 0.5171980857849121, 0.6744887232780457, 1.0418955087661743, 0.8803507685661316, 0.7571718096733093, 0.8800448775291443, 0.7485424280166626, 0.7749162316322327, 0.7812933921813965, 0.7678567171096802, 1.008094310760498, 1.1183537244796753, 0.767501950263977, 0.8535377979278564, 0.5575899481773376, 1.0290278196334839, 1.0586378574371338, 0.6787769198417664, 0.5914930701255798, 1.177464485168457, 0.8807819485664368, 0.885085940361023, 0.8180932402610779, 0.5790119767189026, 0.9861791133880615, 0.7823296785354614, 1.133636713027954, 1.1787317991256714, 0.405259370803833, 0.8156964778900146, 0.8124006986618042, 0.8060401678085327, 0.6244630217552185, 1.3897912502288818, 0.6930009126663208, 0.44468942284584045, 0.8512022495269775, 0.9209680557250977, 1.3420144319534302, 0.33426398038864136, 1.0251115560531616, 0.7980642318725586, 0.9153484106063843, 1.1770902872085571, 0.7711220383644104, 0.4427548050880432, 0.4671367108821869, 1.148056149482727, 1.3778278827667236, 0.9861816167831421, 0.9778949022293091, 0.8180755972862244, 0.7309187054634094, 0.9153324365615845, 0.7464022636413574, 0.42356163263320923, 1.170278549194336, 1.2507922649383545, 0.8254041075706482, 0.6295515298843384, 0.5986812710762024, 0.576715886592865, 1.9835574626922607, 0.5566537380218506, 0.9121262431144714, 0.790887176990509, 0.2713503837585449, 0.991110622882843, 0.9069669842720032, 1.0321027040481567, 0.9340766668319702, 0.7175367474555969, 0.5697205066680908, 1.1431825160980225, 0.48507416248321533, 0.9335260391235352, 0.4203838109970093, 0.5593093633651733, 0.649418294429779, 0.25651881098747253, 0.7880234718322754, 0.7429138422012329, 0.8607921600341797, 0.4437620937824249, 0.8126655220985413, 0.6084719896316528, 0.7301345467567444, 0.5924542546272278, 1.8011250495910645, 0.25527966022491455, 0.7811655402183533, 1.0557283163070679, 0.6879156827926636, 0.5118712186813354, 0.8908290266990662, 1.016120433807373, 0.9650929570198059, 0.6792210936546326, 1.2390440702438354, 0.2541119456291199, 1.2101956605911255, 1.1497642993927002, 1.2054208517074585, 0.884341299533844, 0.8346518278121948, 0.6453689932823181, 0.5940632820129395, 0.4702986776828766, 0.7457034587860107, 0.6898938417434692, 0.6741626262664795, 0.5639166831970215, 0.9214115738868713, 0.4434257745742798, 0.7544581890106201, 0.6610768437385559, 0.8755718469619751, 1.0106526613235474, 0.8281366229057312, 0.5059829950332642, 0.7157291173934937, 0.578886091709137, 0.6007803678512573, 0.7229843735694885, 0.6432527303695679, 0.5148552060127258, 0.5349591970443726, 0.3474407494068146, 0.6066576242446899, 0.7786621451377869, 1.0430344343185425, 0.5775798559188843, 0.7777470946311951, 1.0404239892959595, 0.3874402344226837, 0.7342575192451477, 1.2487266063690186, 0.6630406379699707, 0.3775378465652466, 0.6871317625045776, 0.4431948661804199, 0.8972636461257935, 1.0492539405822754, 0.9941567778587341, 1.1901382207870483, 0.4848071336746216, 0.7739534378051758, 0.5794087052345276, 0.3032740354537964, 0.3275916278362274, 0.6050888299942017, 0.9223287105560303, 1.0912728309631348, 0.6184612512588501, 0.6489008069038391, 0.541192889213562, 0.6409258246421814, 0.5415729880332947, 0.5973539352416992, 0.6429318189620972, 0.6791260838508606, 0.2537039518356323, 0.7204775214195251, 0.547332763671875, 0.48639002442359924, 1.4347264766693115, 0.25910764932632446, 1.0282487869262695, 1.00942862033844, 0.47560450434684753, 0.4975847601890564, 0.5695784687995911, 1.237269639968872, 0.6533599495887756, 0.7595332860946655, 0.885303795337677, 0.5025991797447205, 0.7819305658340454, 0.6119964122772217, 1.3975038528442383, 0.5545215606689453, 0.7947772145271301, 0.506655216217041, 0.8093970417976379, 0.5543841123580933, 0.5784655213356018, 0.8415206670761108, 0.7567316293716431, 0.41823631525039673, 0.9157540798187256, 0.5276897549629211, 0.42551755905151367, 0.7176326513290405, 0.9336540102958679, 0.6153346300125122, 0.9106683731079102, 0.5141007900238037, 1.3045941591262817, 0.635444700717926, 0.619796633720398, 0.823691189289093, 1.2358981370925903, 1.2439756393432617, 1.278393268585205, 0.6456405520439148, 0.9191516637802124, 0.18122152984142303, 0.7063549160957336, 0.4399043917655945, 0.8252041935920715, 0.28106236457824707, 0.9296412467956543, 1.0027152299880981, 0.5800846815109253, 0.35623329877853394, 0.44252079725265503, 0.6684830188751221, 0.6396967768669128, 1.0268595218658447, 1.2900992631912231, 0.8278980255126953, 1.2303972244262695, 1.0996479988098145, 0.8707905411720276, 0.3425121605396271, 0.9450054168701172, 0.7403630018234253, 0.5760445594787598, 1.1159825325012207, 1.260462999343872, 0.8118334412574768, 0.618837833404541, 1.2511005401611328, 0.3829273283481598, 0.7638894319534302, 0.36788439750671387, 0.8938573002815247, 0.6820196509361267, 0.8705458641052246, 1.0031282901763916, 0.27983078360557556, 0.6382785439491272, 0.5991952419281006, 0.8454163074493408, 0.09266795963048935, 0.6750081181526184, 0.737212598323822, 0.25259849429130554, 0.28881311416625977, 1.257693886756897, 0.7998595833778381, 0.8245900273323059, 0.6859384775161743, 0.94022536277771, 1.0943511724472046, 0.3160858750343323, 0.9088656902313232, 0.6108797788619995, 0.434476763010025, 0.8237185478210449, 0.5705313682556152, 0.50949627161026, 1.0657553672790527, 0.5218425989151001, 0.6864851713180542, 0.5489090085029602, 0.9160321950912476, 0.7686342000961304, 0.666710615158081, 0.8431188464164734, 0.8299639225006104, 0.4885292947292328, 1.0620235204696655, 0.8766316175460815, 0.6084066033363342, 0.49918580055236816, 0.6980409622192383, 0.5767511129379272, 0.6765890717506409, 0.8138519525527954, 0.343312531709671, 0.8655833601951599, 0.5296298265457153, 0.7892173528671265, 0.6342099905014038, 0.7632043957710266, 1.4040316343307495, 0.5864555835723877, 0.2982296049594879, 0.8234995603561401, 0.9788079261779785, 0.5253037810325623, 0.6767522096633911, 0.5292636752128601, 0.9984392523765564, 0.46722865104675293, 0.3824828863143921, 0.9825059771537781, 1.129564881324768, 0.9226714968681335, 0.633844256401062, 0.49189552664756775, 0.8815767168998718, 0.9408488273620605, 0.5577392578125, 0.4886039197444916, 0.4895305335521698, 0.47803473472595215, 0.8599247336387634, 0.27836769819259644, 0.19424913823604584, 0.2998315393924713, 0.5406593680381775, 0.6656391024589539, 1.3827447891235352, 0.7425593733787537, 0.8608055114746094, 0.843092679977417, 0.5306257009506226, 0.47154656052589417, 0.5864033699035645, 0.4314146935939789, 0.18122868239879608, 0.48145920038223267, 0.43091118335723877, 0.9822598695755005, 0.6549662351608276, 0.4781716465950012, 0.6276191473007202, 0.5404762625694275, 1.0861587524414062, 0.8067087531089783, 0.8837047815322876, 0.5712031126022339, 0.2633485794067383, 1.036432147026062, 0.6399763822555542, 0.7065501809120178, 0.5291834473609924, 0.2598334848880768, 0.44460397958755493, 0.982755184173584, 0.41157832741737366, 0.7704735994338989, 0.6212995052337646, 0.38829171657562256, 0.3862939774990082, 0.8705605268478394, 0.8414875268936157, 0.6387903094291687, 0.24209779500961304, 0.6069408059120178, 0.3909207284450531, 0.7555756568908691, 0.518136203289032, 0.8339684009552002, 0.3425760865211487, 0.7375478148460388, 0.4329906105995178, 0.5461275577545166, 0.6258412599563599, 0.9425848722457886, 0.6081815958023071, 1.229491949081421, 0.9524313807487488, 0.790091872215271, 0.5420742630958557, 0.9430665373802185, 0.46475234627723694, 0.4973454177379608, 1.1960582733154297, 0.8559529185295105, 0.40784895420074463, 1.179402232170105, 0.5261982679367065, 0.2342553734779358, 0.39629095792770386, 0.3015343248844147, 0.3433610498905182, 0.5740116238594055, 0.49722909927368164, 1.4263815879821777, 0.6690228581428528, 0.32977038621902466, 0.3288414478302002, 0.9285109043121338, 0.723737359046936, 1.0805082321166992, 0.9879206418991089, 0.7367510199546814, 0.591337263584137, 1.193954586982727, 0.32561588287353516, 0.690909743309021, 0.33445069193840027, 0.4951115846633911, 0.35331258177757263, 0.21035964787006378, 0.5438160300254822, 0.4424471855163574, 0.4948151409626007, 0.589058518409729, 0.36417898535728455, 1.3126435279846191, 0.4788108468055725, 0.6080981492996216, 0.5086470246315002, 1.4680505990982056, 0.7351583242416382, 0.6258289217948914, 0.5943453311920166, 0.25906601548194885, 1.1282519102096558, 0.29192811250686646, 0.5786751508712769, 0.26772716641426086, 1.0754517316818237, 0.47214123606681824, 0.7609703540802002, 1.02802574634552, 0.3210301697254181, 1.052992820739746, 0.7981737852096558, 0.2229136973619461, 0.4891318082809448, 0.5546912550926208, 0.3020460605621338, 0.8527528047561646, 0.40000206232070923, 0.41638028621673584, 0.7001764178276062, 0.47822993993759155, 0.5450645089149475, 0.4075373113155365, 0.7773868441581726, 1.0876495838165283, 0.5996953845024109, 0.7398828864097595, 0.4477829039096832, 0.9273180961608887, 0.8156876564025879, 0.34137198328971863, 0.8249133825302124, 0.6592037677764893, 0.2808818817138672, 0.7458165287971497, 0.5808901786804199, 0.8790909051895142, 0.5468717813491821, 0.3855631947517395, 0.41386908292770386, 1.0662107467651367, 0.7032268643379211, 0.41848742961883545, 0.749136209487915, 0.1916758269071579, 0.6817999482154846, 0.6476805210113525, 0.4376881718635559, 0.8954694867134094, 0.4726351499557495, 0.5436158180236816, 0.9594861268997192, 0.19419243931770325, 0.8416388034820557, 1.022334098815918, 0.30518412590026855, 0.8427338600158691, 1.2234386205673218, 0.403688907623291, 0.4592571258544922, 0.25075966119766235, 0.5422039031982422, 0.9158235192298889, 0.6270710229873657, 0.45528051257133484, 0.851212739944458, 0.2649363577365875, 0.17503228783607483, 0.4437578618526459, 0.6000723838806152, 0.8370893001556396, 0.8250485062599182, 0.7315919995307922, 0.9043005108833313, 0.6487637758255005, 0.8040968179702759, 0.132152259349823, 0.4945613741874695, 0.25184038281440735, 0.39592671394348145, 0.5237879157066345, 0.915238618850708, 0.5055804252624512, 0.7783660888671875, 0.3771961033344269, 0.1264849603176117, 0.7462363243103027, 0.2537532448768616, 0.4136257469654083, 0.09507086873054504, 0.8495880961418152, 1.03252375125885, 0.405534952878952, 0.804375171661377, 0.5951306819915771, 0.2436816543340683, 0.13074594736099243, 0.9213942289352417, 0.21758443117141724, 1.4940733909606934, 0.47997593879699707, 0.8395686149597168, 0.7687220573425293, 0.29608890414237976, 0.6853520274162292, 0.760969340801239, 0.8164669871330261, 0.28862982988357544, 1.0765156745910645, 0.2690705358982086, 1.159246563911438, 0.6360034346580505, 0.4986831843852997, 0.6901476383209229, 0.8640109896659851, 0.5161392688751221, 0.499647319316864, 0.27889442443847656, 0.46393412351608276, 0.14740648865699768, 0.5420881509780884, 0.7933534383773804, 0.3952709436416626, 0.18495051562786102, 0.5174257755279541, 0.40465986728668213, 0.5984573364257812, 0.3649144470691681, 0.7691395878791809, 0.5004962682723999, 0.17002806067466736, 0.31553274393081665, 0.4888054430484772, 0.46451443433761597, 0.9942286610603333, 0.5554909706115723, 0.529938817024231, 0.526248574256897, 0.42956987023353577, 0.8003971576690674, 0.12584814429283142, 1.0204918384552002, 0.7533038854598999, 0.7498505115509033, 0.985723078250885, 0.8022769093513489, 0.4102109372615814, 0.378632515668869, 0.4461032450199127, 0.22928719222545624, 0.5678876042366028, 0.36293649673461914, 0.725935161113739, 0.3564319908618927, 1.704999327659607, 0.49797385931015015, 0.27655577659606934, 1.1836183071136475, 1.0759280920028687, 0.8438706398010254, 0.9132865071296692, 0.4529346823692322, 0.7487873435020447, 0.5059860944747925, 0.5382680296897888, 0.2138165980577469, 0.4912784695625305, 0.5102663636207581, 0.7667206525802612, 0.34910139441490173, 0.6882672905921936, 0.3115300238132477, 0.8075064420700073, 0.5937520861625671, 0.29496392607688904, 0.1939631700515747, 0.7588455080986023, 0.5159105062484741, 0.4160156548023224, 0.5103592872619629, 0.1772754192352295, 0.4291378855705261, 0.6019179224967957, 0.7791094183921814, 0.2607116997241974, 0.4024459421634674, 0.42567959427833557, 0.5029075145721436, 1.0588550567626953, 0.6941066384315491, 0.8400301337242126, 0.5370143055915833, 0.765770673751831, 0.3067067563533783, 0.3125208616256714, 0.5136877298355103, 0.5022723078727722, 0.8365180492401123, 0.7093369960784912, 0.41915127635002136, 0.5527206659317017, 0.5627340078353882, 0.6817005276679993, 0.25287628173828125, 0.6656906008720398, 0.6546176075935364, 0.4053943455219269, 0.8906089067459106, 0.568454921245575, 0.5799647569656372, 0.5227975249290466, 0.44070541858673096, 0.7250040769577026, 0.6912897825241089, 0.8529579043388367, 0.8115933537483215, 0.35650768876075745, 0.7512449026107788, 0.7170712947845459, 1.187927007675171, 0.4186301529407501, 0.27124953269958496, 0.8632611632347107, 0.8201655149459839, 1.1964662075042725, 0.6483567357063293, 0.6098260283470154, 0.2690381407737732, 0.48101362586021423, 0.4771954417228699, 1.0592042207717896, 0.4001648426055908, 0.34102335572242737, 0.11828643083572388, 0.49249911308288574, 0.5676461458206177, 0.3129488229751587, 0.7447891235351562, 0.8281866908073425, 0.533384382724762, 0.6469385027885437, 1.1392223834991455, 0.705735445022583, 0.9552083015441895, 0.5464351177215576, 0.8619053959846497, 0.6118131279945374, 0.6360540986061096, 0.3588615953922272, 0.7622037529945374, 0.7293113470077515, 0.3738144338130951, 0.5820346474647522, 0.5690582394599915, 0.677909255027771, 0.369886189699173, 0.5342562794685364, 0.44548243284225464, 1.0098623037338257, 0.4224613308906555, 0.7978289127349854, 0.3660227656364441, 0.5713067650794983, 0.7363417744636536, 0.3703429102897644, 0.2827526032924652, 1.0860772132873535, 0.6576359272003174, 0.46798211336135864, 0.3353221118450165, 0.6531801223754883, 0.6286492943763733, 0.9254820346832275, 0.8409906029701233, 0.5196205973625183, 0.7654028534889221, 0.1682870090007782, 0.11799164116382599, 0.13139688968658447, 0.46783247590065, 0.7064583897590637, 0.7874546647071838, 0.5675440430641174, 0.28423404693603516, 0.23403151333332062, 0.6047855615615845, 0.9410631656646729, 0.5037575364112854, 0.13263852894306183, 0.18999749422073364, 0.4441904127597809, 0.6718007922172546, 0.701735258102417, 1.33560049533844, 0.6324460506439209, 0.8648678660392761, 0.5711265206336975, 0.47414737939834595, 0.3784753680229187, 0.6958954334259033, 0.6164191961288452, 0.19983473420143127, 0.38634684681892395, 0.45541810989379883, 0.8435909748077393, 0.4113037884235382, 0.8273402452468872, 0.35999730229377747, 0.4172493815422058, 0.5158367156982422, 0.41823193430900574, 0.4710272252559662, 0.4768027663230896, 0.23707181215286255, 0.7717312574386597, 0.7171802520751953, 0.7737488746643066, 0.48012775182724, 0.8778823018074036, 0.6684898138046265, 0.3209105134010315, 0.42436683177948, 0.40833425521850586, 0.5947533845901489, 0.44722780585289, 0.4340614676475525, 0.5631943345069885, 0.8257541656494141, 0.468140572309494, 0.9893165826797485, 0.23057591915130615, 1.089308500289917, 1.0268683433532715, 0.6785975098609924, 0.3730483055114746, 0.47811269760131836, 0.38081109523773193, 0.6522361636161804, 0.7783891558647156, 0.4467635750770569, 0.32213345170021057, 1.0454227924346924, 0.39263099431991577, 0.42179903388023376, 1.0766304731369019, 0.6529961824417114, 0.19284974038600922, 0.8265110850334167, 0.8996985554695129, 0.5741119384765625, 0.20821231603622437, 0.8280634880065918, 0.7562227249145508, 0.4242475926876068, 0.19371825456619263, 1.009458065032959, 1.2658334970474243, 0.7892627716064453, 0.2957631051540375, 0.5870345830917358, 0.6260238885879517, 0.7407196760177612, 0.37011608481407166, 0.569645345211029, 0.3717980682849884, 0.6878659129142761, 0.765144944190979, 0.21759644150733948, 0.2375032901763916, 0.6919188499450684, 0.4757554829120636, 0.8188828825950623, 0.6889577507972717, 0.21779583394527435, 1.8287699222564697, 0.7232447266578674, 0.4873577058315277, 0.7918552756309509, 0.41924983263015747, 0.46294909715652466, 0.5868901610374451, 0.36343398690223694, 0.7991708517074585, 0.6515263915061951, 0.8944227695465088, 0.29149696230888367, 0.37881767749786377, 0.3190464973449707, 0.5307145118713379, 0.4672919809818268, 0.6758204698562622, 0.874782145023346, 0.7875295281410217, 0.1520562469959259, 0.6337559223175049, 0.5720961689949036, 0.6718027591705322, 0.28759077191352844, 0.6370532512664795, 0.6692786812782288, 0.7218025922775269, 0.6030604839324951, 0.2981228530406952, 0.5160167813301086, 1.1923468112945557, 0.7508519887924194, 0.3863741159439087, 0.6222827434539795, 0.7607899904251099, 0.2983465790748596, 0.6752417087554932, 0.34064972400665283, 0.3596070110797882, 0.6871146559715271, 0.40990692377090454, 0.7486340403556824, 0.3031397759914398, 0.18473711609840393, 0.6108836531639099, 0.519244909286499, 0.5631119608879089, 1.082638144493103, 0.9892462491989136, 0.18765172362327576, 0.3465602993965149, 0.33437469601631165, 0.6142542958259583, 0.4877408742904663, 1.277481198310852, 1.014291524887085, 0.6820235848426819, 1.0422868728637695, 1.01421320438385, 0.2203877568244934, 0.3468432128429413, 0.6856962442398071, 0.40461820363998413, 0.7841670513153076, 0.48946139216423035, 0.4190938174724579, 0.46912869811058044, 0.44443684816360474, 0.6364621520042419, 0.513049304485321, 0.7966995239257812, 0.7590751647949219, 0.5439510941505432, 1.097475290298462, 0.27962687611579895, 0.28860610723495483, 0.9264441132545471, 1.1118228435516357, 1.0868198871612549, 1.043121099472046, 0.6856846809387207, 0.5804283618927002, 0.6493541598320007, 0.22922712564468384, 0.3301435708999634, 0.5825526714324951, 0.6431878805160522, 0.4289839267730713, 0.2059893012046814, 0.47252705693244934, 0.3992030620574951, 0.8658067584037781, 1.0408661365509033, 0.13767501711845398, 0.40701863169670105, 0.3980896472930908, 0.23138272762298584, 0.3027818500995636, 0.5074921250343323, 0.45927098393440247, 0.6639214754104614, 0.23623427748680115, 0.13652978837490082, 0.6422423124313354, 0.26328742504119873, 0.9862945079803467, 0.6834321022033691, 0.8570740222930908, 0.23002773523330688, 0.42989081144332886, 0.6441611051559448, 0.24338236451148987, 0.5599209666252136, 0.39572009444236755, 0.8650367259979248, 0.14984039962291718, 0.392900288105011, 0.43564844131469727, 0.6969577074050903, 1.06644606590271, 0.6121618747711182, 1.0067270994186401, 0.12070788443088531, tensor(4.6284e-05, device='cuda:0', grad_fn=<DivBackward0>), 0.4314337372779846, 0.5476681590080261, 0.7916957139968872, 0.46465209126472473, 0.1403193473815918, 0.5705087780952454, 0.28954988718032837, 0.18148115277290344, 0.17479777336120605, 0.3363746106624603, 0.1683085709810257, 0.47283411026000977, 0.3404175639152527, 0.5907966494560242, 0.16409048438072205, 0.13312497735023499, 0.6827091574668884, 0.6729051470756531, 0.3447685241699219, 0.35843750834465027, 0.37341073155403137, 0.3228600025177002, 0.5717920064926147, 0.29509180784225464, 0.18975895643234253, 0.42003530263900757, 0.42938268184661865, 0.4360215663909912, 0.45486363768577576, 0.36576029658317566, 0.06969597190618515, 0.24828660488128662, 0.07105887681245804, 0.28525131940841675, 0.30962419509887695, 0.09640771150588989, 0.462184339761734, 0.16867980360984802, 0.09924441576004028, 0.31841787695884705, 0.6445046067237854, 0.3762975335121155, 0.4181608259677887, 0.4869104027748108, 0.41951775550842285, 0.1395513117313385, 0.28453174233436584, 0.3732634484767914, 0.8055280447006226, 0.3273960053920746, 0.22828413546085358, 0.24867939949035645, 0.32154908776283264, 0.18254666030406952, 0.7942378520965576, 0.9538446664810181, 0.05944105610251427, 0.49655619263648987, 0.5750534534454346, 0.39429545402526855, 0.17467831075191498, 0.18907037377357483, 0.5126681327819824, 0.7245129942893982, 0.4045538306236267, 0.3133697509765625, 0.28094053268432617, 0.33051878213882446, 0.34156322479248047, 0.07420498132705688, 0.9184185266494751, 0.5100821256637573, 0.1845782846212387, 0.5062585473060608, 0.23044857382774353, 1.043555736541748, 0.6624003648757935, 0.2005450278520584, 0.3855964243412018, 0.3083530366420746, 0.15997253358364105, 0.6051753759384155, 0.268674373626709, 0.061207130551338196, 0.08328628540039062, 0.22489924728870392, 0.6319464445114136, 0.3146026134490967, 0.7232162952423096, 0.2673506736755371, 0.522843599319458, 0.24849888682365417, 0.2923271059989929, 0.14422959089279175, 0.1784074902534485, 1.2401889562606812, 0.2746398150920868, 0.4291412830352783, 0.3688948154449463, 1.0591421127319336, 0.18607132136821747, 0.0957007110118866, 0.5461848974227905, 0.17492744326591492, 0.23155808448791504, 0.4079504609107971, 0.6248352527618408, 0.9432917833328247, 0.5256364941596985, 0.38807520270347595, 0.24700400233268738, 0.4842131733894348, 0.38890162110328674, 0.7616245746612549, 0.4382967948913574, 0.28321486711502075, 0.07303550094366074, 0.4749428629875183, 0.05829646438360214, 0.3191981613636017, 0.14636632800102234, 0.8492186665534973, 0.3717195689678192, 0.6480056047439575, 0.5186440348625183, 0.5920700430870056, 0.2165900468826294, 0.2152204066514969, 0.6362854838371277, 0.41705432534217834, 0.14557041227817535, 0.12502312660217285, 0.07886389642953873, 0.39024344086647034, 0.2458646446466446, 0.15298232436180115, 0.3399677872657776, 0.06123353913426399, 0.10322096198797226, 0.7006443738937378, 0.20038926601409912, 0.3933538794517517, 0.04065610095858574, 0.5862933993339539, 0.44767123460769653, 0.39884424209594727, 0.26373055577278137, 0.44905412197113037, 0.39290785789489746, 0.1557321846485138, 0.16529440879821777, 0.29977935552597046, 0.1448807716369629, 0.3615776002407074, 0.3320167362689972, 0.5484241247177124, 0.08818259835243225, 0.2665674388408661, 0.23020921647548676, 0.4432455599308014, 0.2892591059207916, 0.17472389340400696, 0.2655288875102997, 0.21825796365737915, 0.5737959146499634, 0.30748850107192993, 0.29129496216773987, 0.32278677821159363, 0.8684394359588623, 0.38289108872413635, 0.41092416644096375, 0.6128270030021667, 0.2641932964324951, 0.42412230372428894, 0.060785066336393356, 0.33106571435928345, 0.24489685893058777, 0.1624407321214676, 0.5552271008491516, 0.2960233986377716, 0.6269994378089905, 0.6479965448379517, 0.791564404964447, 0.5112584829330444, 0.04208999499678612, 0.31855809688568115, 0.38146451115608215, 0.22817672789096832, 0.3529984652996063, 0.2205078899860382, 0.6499596238136292, 0.36843565106391907, 0.277952641248703, 0.1704663187265396, 0.540427029132843, 0.376589834690094, 0.14634712040424347, 0.31484976410865784, 0.37791988253593445, 0.08188797533512115, 0.35181349515914917, 0.49177777767181396, 0.08550304919481277, 0.04740280658006668, 0.17175143957138062, 0.12031953781843185, 0.37933605909347534, 0.6103241443634033, 0.13111741840839386, 0.39584457874298096, 0.47029078006744385, 0.4926983714103699, 0.08921554684638977, 0.2581394910812378, 0.24069835245609283, 0.23375381529331207, 0.8863838911056519, 0.22176967561244965, 0.048168081790208817, 0.9742999076843262, 0.09124661982059479, 0.15745800733566284, 0.12126637995243073, 0.3924159109592438, 0.23551267385482788, 0.15798138082027435, 0.15468958020210266, 0.7205502390861511, 0.29051733016967773, 0.3348276913166046, 0.3107333779335022, 0.2689616084098816, 0.44735047221183777, 0.616374671459198, 0.6048590540885925, 0.759202241897583, 0.4777083396911621, 0.32395419478416443, 0.2098878175020218, 0.7484686374664307, 0.07009731978178024, 0.15495945513248444, 0.4365972876548767, 0.08592269569635391, 0.6871129274368286, 0.1953083723783493, 0.1975412517786026, 0.1750078797340393, 0.7451083660125732, 0.34394705295562744, 0.4383145570755005, 0.5806542634963989, 0.31145724654197693, 0.3207630217075348, 0.2631233334541321, 0.31408387422561646, 0.560455858707428, 0.45945221185684204, 0.9295521974563599, 0.26352933049201965, 0.503460705280304, 0.08107864856719971, 0.05902973562479019, 1.1720428466796875, 0.7243093252182007, 0.2779366672039032, 0.19702839851379395, 0.036969106644392014, 0.14103901386260986, 0.5237025618553162, 0.13728246092796326, 0.6231059432029724, 0.8996813893318176, 0.4422021806240082, 0.34773528575897217, 0.17090371251106262, 0.7659018039703369, 0.3100505471229553, 0.18060775101184845, 0.09286301583051682, 0.1715940684080124, 0.7969877123832703, 0.1464652568101883, 0.7754288911819458, 0.21695148944854736, 0.37280675768852234, 0.7798988223075867, 0.5778700709342957, 0.10896798223257065, 0.37959012389183044, 0.1829630732536316, 0.22986803948879242, 0.15259429812431335, 0.2764360308647156, 0.22521983087062836, 0.38039955496788025, 0.5108842849731445, 0.1497325301170349, 0.201670303940773, 0.21884223818778992, 0.5139642357826233, 0.2464086413383484, 0.5854372978210449, 0.3346882164478302, 0.9188450574874878, 0.22750648856163025, 0.812325119972229, 0.4621645212173462, 0.12258169800043106, 0.43013495206832886, 0.09567869454622269, 0.33363771438598633, 0.45411232113838196, 0.20815783739089966, 0.9302964806556702, 0.4767792820930481, 0.1066550463438034, 0.493826299905777, 0.33456745743751526, 0.5197829604148865, 0.23109513521194458, 0.23797667026519775, 0.4967966675758362, 0.37626707553863525, 0.21919609606266022, 0.045256856828927994, 0.6833144426345825, 0.3632989525794983, 0.0784250870347023, 0.4719323217868805, 0.42371782660484314, 0.13954702019691467, 0.22011059522628784, 0.49179956316947937, 0.3471676707267761, 0.3067871332168579, 0.2232053279876709, 0.18214008212089539, 0.33553704619407654, 0.40306541323661804, 0.5704261660575867, 0.28882652521133423, 0.25633320212364197, 0.5929036736488342, 0.20487986505031586, 0.15456989407539368, 0.3145425319671631, 0.4590572714805603, 0.23154397308826447, 0.13311444222927094, 0.851456880569458, 0.04084930196404457, 0.22062461078166962, 0.5388651490211487, 0.3289106786251068, 0.10119374841451645, 0.29898202419281006, 0.3134770095348358, 0.428035169839859, 0.20435547828674316, 0.307671457529068, 0.2286219298839569, 0.04859795421361923, 0.1337405890226364, 0.5042161345481873, 0.5359159111976624, 0.062006108462810516, 0.29251575469970703, 0.18708190321922302, 0.37082964181900024, 0.5052757263183594, 0.45921948552131653, 0.43538177013397217, 0.3742640018463135, 0.13340097665786743, 0.570590615272522, 0.3916015923023224, 0.6159984469413757, 0.18869248032569885, 0.4066532850265503, 0.3610077202320099, 0.29949653148651123, 0.1447848379611969, 0.32013213634490967, 0.7775194644927979, 0.4478820562362671, 0.6196390986442566, 0.17617765069007874, 0.11857335269451141, 0.11789797246456146, 0.21539746224880219, 0.4188709855079651, 0.540934681892395, 0.21986064314842224, 0.3931518793106079, 0.4694504737854004, 0.3561362028121948, 0.6275591254234314, 0.7252605557441711, 0.12017935514450073, 0.4230913817882538, 0.9899933338165283, 0.4144647419452667, 0.6545372605323792, 0.3737363815307617, 0.16373828053474426, 0.18505419790744781, 0.061752259731292725, 0.8784672617912292, 0.17690284550189972, 0.090941421687603, 0.20212560892105103, 0.23886656761169434, 0.4070703685283661, 0.08937553316354752, 0.22720426321029663, 0.09416678547859192, 0.3265668451786041, 0.112452931702137, 0.08011605590581894, 0.35334843397140503, 0.3220269978046417, 0.09024378657341003, 0.20578251779079437, 0.17852672934532166, 0.041670385748147964, 0.39915931224823, 0.6861862540245056, 0.2184387743473053, 0.032331183552742004, 0.3604556620121002, 0.0458282046020031, 0.6890265941619873, 0.466500848531723, 0.2559865117073059, 0.11887482553720474, 1.0432407855987549, 0.1328386664390564, 0.13976821303367615, 0.42483359575271606, 0.14833983778953552, 0.35543787479400635, 0.24312643706798553, 0.14375275373458862, 0.05877304822206497, 0.6919957995414734, 0.2047385424375534, 0.14434848725795746, 0.2509669363498688, 0.5535546541213989, 0.536583423614502, 0.2937399744987488, 0.28587350249290466, 0.10957704484462738, 0.08035513758659363, 0.27835774421691895, 0.4400307238101959, 0.19561737775802612, 0.6027414798736572, 0.41938260197639465, 0.11522085219621658, 0.17648513615131378, 0.026763463392853737, 0.21828289330005646, 0.1740569770336151, 0.2659807503223419, 0.1499680131673813, 0.49921220541000366, 0.17004208266735077, 0.3524099886417389, 0.29906556010246277, 0.1075548380613327, 0.6082366704940796, 0.02084042690694332, 0.21663424372673035, 0.5818560719490051, 0.29095253348350525, 0.2590372562408447, 0.5171358585357666, 0.20870009064674377, 0.05868721008300781, 0.26651912927627563, 0.6383697390556335, 0.19501398503780365, 0.08670378476381302, 0.18301428854465485, 0.12446457892656326, 0.2813091576099396, 0.06512121856212616, 0.7935293316841125, 0.3936976194381714, 0.09696546941995621, 0.5483028888702393, 0.9435669183731079, 0.286115437746048, 0.4900049567222595, 0.18751519918441772, 0.6457321643829346, 0.2902889549732208, 0.3269582688808441, 0.30129173398017883, 0.27890411019325256, 0.12460854649543762, 0.32592329382896423, 0.2881167531013489, 0.32131555676460266, 0.08701842278242111, 0.07934024184942245, 0.19937646389007568, 0.4460769593715668, 0.18407079577445984, 0.3746059536933899, 0.42237377166748047, 0.09228577464818954, 0.11975005269050598, 0.22979703545570374, 0.3672139644622803, 0.3321322202682495, 0.12971416115760803, 0.11268361657857895, 0.36494022607803345, 0.3929106593132019, 0.22920343279838562, 0.35875827074050903, 0.30473792552948, 0.2827913463115692, 0.19998788833618164, 0.3971615433692932, 0.4171507656574249, 0.32576707005500793, 0.21081313490867615, 0.37069055438041687, 0.3803560137748718, 0.6193033456802368, 0.5262002944946289, 0.6790811419487, 0.05611411854624748, 0.5260390639305115, 0.6423622369766235, 0.36680662631988525, 0.531017005443573, 0.54805988073349, 0.16899113357067108, 0.10896249860525131, 0.2959456443786621, 0.4998721480369568, 0.8531875014305115, 0.16398794949054718, 0.18856312334537506, 0.4509669542312622, 0.2397533506155014, 0.11310477554798126, 0.13433107733726501, 0.1391032338142395, 0.6319099068641663, 0.24787797033786774, 0.6949969530105591, 0.2539065480232239, 0.4157055616378784, 0.6683564186096191, 0.125907763838768, 0.8019044399261475, 0.5676031112670898, 0.06419310718774796, 0.46045953035354614, 0.3027080297470093, 0.09766413271427155, 0.06421002745628357, 1.0101146697998047, 0.3736356794834137, 0.6737722754478455, 0.35911837220191956, 0.1583068072795868, 0.14804509282112122, 0.07954216748476028, 0.2442294955253601, 0.10870038717985153, 0.355812132358551, 0.5556521415710449, 0.2899658977985382, 0.6033790111541748, 0.22167262434959412, 0.27065396308898926, 0.24094702303409576, 0.33068445324897766, 0.7209814786911011, 0.5401212573051453, 0.5119858384132385, 0.29785242676734924, 0.3313106894493103, 0.08107791841030121, 0.2649119198322296, 0.15313105285167694, 0.3729029595851898, 0.04079696536064148, 0.34134969115257263, 0.1499003767967224, 0.9049312472343445, 0.13579091429710388, 0.1978204846382141, 0.05239451676607132, 0.5482383966445923, 0.18756578862667084, 0.3883516192436218, 0.4977401793003082, 0.659660279750824, 0.16999763250350952, 0.3338262438774109, 1.1576749086380005, 0.2671355903148651, 0.5739938616752625, 0.42556238174438477, 0.5537660121917725, 0.7166759371757507, 0.5578744411468506, 0.2212558090686798, 0.7942203283309937, 0.030406933277845383, 0.15827205777168274, 0.2085675597190857, 0.4990886151790619, 0.20787489414215088, 0.465045690536499, 0.19668197631835938, 1.006818413734436, 0.1337093561887741, 0.1339571177959442, 0.27844735980033875, 0.1525201052427292, 0.5709057450294495, 0.21112392842769623, 0.3514469265937805, 0.12323025614023209, 0.43425893783569336, 0.3380904197692871, 0.8106155395507812, 0.12175023555755615, 0.11760616302490234, 0.07894676923751831, 0.2866121530532837, 0.19269327819347382, 0.1840776801109314, 0.1777842491865158, 0.059194859117269516, 0.16198517382144928, 0.31920337677001953, 0.4699349105358124, 0.17199337482452393, 0.8281130790710449, 0.3513435423374176, 0.2957282066345215, 0.2066257745027542, 1.0199708938598633, 0.8040898442268372, 0.20975203812122345, 0.2958191931247711, 0.5439674854278564, 0.12868744134902954, 0.10301187634468079, 0.41574862599372864, 0.7497180700302124, 0.33522742986679077, 1.2982789278030396, 0.3138018846511841, 0.3665173053741455, 0.14751408994197845, 0.09956694394350052, 0.1904887557029724, 0.5580955147743225, 0.24854297935962677, 0.5136547088623047, 0.24520725011825562, 0.6734120845794678, 0.6014748215675354, 0.32549750804901123, 0.21252459287643433, 0.269170880317688, 0.11407293379306793, 0.387994647026062, 0.23282916843891144, 0.1453377604484558, 0.1948154717683792, 0.4564092457294464, 0.036685653030872345, 0.947677731513977, 0.22479337453842163, 0.2571488320827484, 0.15835356712341309, 0.5586133003234863, 0.29731816053390503, 0.15702389180660248, 0.2837200164794922, 0.09353332966566086, 0.3230263590812683, 0.5326982140541077, 0.06252870708703995, 0.09163396060466766, 0.3817833662033081, 0.029886655509471893, 0.5042205452919006, 0.09119346737861633, 0.5275296568870544, 0.4217209219932556, 0.3227967917919159, 0.11321185529232025, 0.2201017439365387, 0.26391252875328064, 0.3229340612888336, 0.08159003406763077, 0.12760494649410248, 0.09041913598775864, 0.23157566785812378, 0.39519715309143066, 0.5730583667755127, 0.2240440547466278, 0.3742821514606476, 0.8741809129714966, 0.5969650149345398, 0.09618007391691208, 0.19165126979351044, 0.2892696261405945, 0.5463386178016663, 0.37590041756629944, 0.43020159006118774, 0.4501320421695709, 0.40851014852523804, 0.2196691781282425, 0.04925405979156494, 0.10160838812589645, 0.1928379088640213, 0.0316142812371254, 0.424033522605896, 0.1618141531944275, 0.157518669962883, 0.393623948097229, 0.06912928819656372, 0.0876796767115593, 0.6008437871932983, 0.4597684442996979, 0.5167511701583862, 0.07720138877630234, 0.08756811171770096, 0.3793274164199829, 0.10922730714082718, 0.6021597385406494, 0.1253627985715866, 0.14328758418560028, 0.4810718595981598, 0.2894119620323181, 0.40090760588645935, 0.46164342761039734, 0.16233448684215546, 0.3055303394794464, 0.21516364812850952, 0.08515183627605438, 0.32959049940109253, 0.17889100313186646, 0.4004327654838562, 0.5750276446342468, 0.20684324204921722, 0.2938815951347351, 0.5637277364730835, 0.42645788192749023, 0.23481622338294983, 0.06638037413358688, 0.3368988037109375, 0.6147584915161133, 0.0911736786365509, 0.0804145485162735, 0.07756242901086807, 0.10198534280061722, 0.4565678834915161, 0.432841956615448, 0.07595374435186386, 0.17271795868873596, 0.3523850440979004, 0.8451494574546814, 0.6064960360527039, 0.27754509449005127, 0.5512071847915649, 0.27287113666534424, 0.28153735399246216, 0.10228157043457031, 0.3473188877105713, 0.1264803260564804, 0.3463883697986603, 0.05426279455423355, 0.12757106125354767, 0.05953655019402504, 0.2897610366344452, 0.5520211458206177, 0.135751411318779, 0.10201193392276764, 0.38077789545059204, 0.24566717445850372, 0.04776697978377342, 0.2909659445285797, 0.14493049681186676, 0.18140247464179993, 0.1535419523715973, 0.5246779918670654, 0.40054234862327576, 0.5416286587715149, 0.7091246247291565, 0.2808244228363037, 0.08209196478128433, 0.05251576006412506, 0.06733448058366776, 0.2866443991661072, 0.3578021228313446, 0.6637669205665588, 0.6503632664680481, 0.3198162317276001, 0.8633191585540771, 0.5717446208000183, 0.09873194992542267, 0.6165639758110046, 0.4639526903629303, 0.3030824065208435, 0.5102410912513733, 0.1286589354276657, 0.7717249393463135, 0.40837904810905457, 0.022441664710640907, 0.5246812701225281, 1.1443690061569214, 0.42252254486083984, 0.3296607434749603, 0.5388257503509521, 0.45055660605430603, 0.10504662245512009, 0.3382903039455414, 0.14354485273361206, 0.36707785725593567, 0.43384507298469543, 0.8044318556785583, 0.4726398289203644, 0.12382685393095016, 0.25442227721214294, 0.7647709250450134, 0.40698978304862976, 0.18414080142974854, 0.08831493556499481, 0.3499666154384613, 0.7814677953720093, 0.09541036933660507, 0.35581648349761963, 0.27897170186042786, 0.03609719127416611, 0.4562145471572876, 0.16345107555389404, 0.1592363715171814, 0.7451132535934448, 0.25890418887138367, 0.969544529914856, 0.2811287045478821, 0.5069509744644165, 0.5050944089889526, 0.2996426820755005, 0.21776342391967773, 0.40187063813209534, 0.17143261432647705, 0.3153909742832184, 0.5008841753005981, 0.23986318707466125, 0.21432244777679443, 0.5272020101547241, 0.990676760673523, 0.28755900263786316, 0.29422321915626526, 0.0889301747083664, 0.5211360454559326, 0.6897789239883423, 0.1265249401330948, 0.1062239482998848, 0.16249613463878632, 0.1273362785577774, 0.17367522418498993, 0.48003217577934265, 0.4009718894958496, 0.06052498146891594, 0.10050851851701736, 0.15971124172210693, 0.18174265325069427, 0.37672024965286255, 0.45538970828056335, 0.35190656781196594, 0.10439842939376831, 0.62795090675354, 0.20673009753227234, 0.41523656249046326, 0.596664547920227, 0.8656185865402222, 0.7558244466781616, 0.38327914476394653, 0.522908627986908, 0.42321962118148804, 0.21409274637699127, 0.07532753050327301, 0.021009888499975204, 0.20283262431621552, 0.36811965703964233, 0.058346185833215714, 0.15395021438598633, 0.3449205756187439, 0.450869083404541, 0.42938971519470215, 0.18802890181541443, 0.6609041690826416, 0.3922130763530731, 0.33543503284454346, 0.19394642114639282, 0.3209964334964752, 0.10042409598827362, 0.6268666386604309, 0.14694726467132568, 0.24802842736244202, 0.08878584206104279, 0.14601734280586243, 0.5996968746185303, 0.13740620017051697, 0.3522210419178009, 0.41890379786491394, 0.08182644844055176, 0.21259407699108124, 0.492917001247406, 0.18352743983268738, 0.21967890858650208, 0.08972116559743881, 0.2984428405761719, 0.504967212677002, 0.35828274488449097, 0.03332848846912384, 0.07806110382080078, 0.5156816840171814, 0.08361832052469254, 0.1676040142774582, 0.25898006558418274, 0.30730903148651123, 0.14316882193088531, 0.5770831108093262, 0.24403619766235352, 0.6831150650978088, 1.142338514328003, 0.0912441834807396, 0.39420008659362793, 0.5081261992454529, 0.22198177874088287, 0.873296856880188, 0.3499743640422821, 0.09793984889984131, 0.10050713270902634, 0.4338771104812622, 0.028684105724096298, 0.2937135696411133, 0.7670396566390991, 0.8219924569129944, 0.41764259338378906, 0.6135609149932861, 0.28886955976486206, 0.33395031094551086, 0.21861931681632996, 0.33516550064086914, 0.2893965244293213, 0.21517977118492126, 0.5920397043228149, 0.22474396228790283, 0.0570119172334671, 0.07513489574193954, 0.6197603344917297, 0.08638882637023926, 0.1982223093509674, 0.04833709076046944, 0.11192554980516434, 0.09252318739891052, 0.2569850981235504, 1.1626269817352295, 0.4457457363605499, 0.10375525057315826, 0.05945810303092003, 0.15030451118946075, 0.06461711972951889, 0.1558104008436203, 0.6170739531517029, 0.4444613754749298, 0.5350615978240967, 0.266657292842865, 0.15165826678276062, 0.3046457767486572, 0.5154595375061035, 0.2671085000038147, 0.5590078830718994, 0.2117997705936432, 0.761504590511322, 0.33980417251586914, 0.11064797639846802, 0.16659598052501678, 0.27937763929367065, 0.2836684286594391, 0.6477873921394348, 0.06810547411441803, 0.7215052247047424, 0.0690336599946022, 0.17490729689598083, 0.491565465927124, 0.1856008768081665, 0.4778989553451538, 0.2560923099517822, 0.5843538045883179, 0.2613156735897064, 0.2937276363372803, 0.3698643445968628, 0.40253984928131104, 0.11225010454654694, 0.4584972858428955, 0.47243332862854004, 0.5314838886260986, 0.4127998352050781, 0.6610623598098755, 0.16136915981769562, 0.022206569090485573, 0.6233274340629578, 0.2866423428058624, 0.38798749446868896, 0.11448465287685394, 0.18715381622314453, 0.7708433866500854, 0.2836242616176605, 0.10663154721260071, 0.025839464738965034, 0.31044793128967285, 0.04447323828935623, 0.24745610356330872, 0.11239300668239594, 0.3802827298641205, 0.3087139129638672, 0.17987090349197388, 0.307741641998291, 0.18248310685157776, 0.7565920948982239, 1.0758914947509766, 0.6045957803726196, 0.198053777217865, 0.5629424452781677, 0.1581106036901474, 0.41436558961868286, 0.14561553299427032, 0.8579396605491638, 0.3534010350704193, 0.4503607153892517, 0.2999706566333771, 0.2934841513633728, 0.16017785668373108, 0.2326449751853943, 0.6810640096664429, 0.44279900193214417, 0.046942345798015594, 0.19921255111694336, 0.7138796448707581, 0.2526550590991974, 0.4536820650100708, 0.25848376750946045, 0.5295130610466003, 0.4342708885669708, 0.24130429327487946, 0.4276205897331238, 0.4739239513874054, 0.12199854105710983, 0.19265738129615784, 0.5506410598754883, 0.23103229701519012, 0.6341310143470764, 0.44395387172698975, 0.16527414321899414, 0.21511684358119965, 0.4753251075744629, 0.4440372884273529, 0.5257932543754578, 0.37884384393692017, 0.0969938263297081, 0.2554544508457184, 0.5872043967247009, 0.12158141285181046, 0.5289917588233948, 0.38133710622787476, 0.18479155004024506, 0.5326690673828125, 0.14656060934066772, 0.29556161165237427, 0.7553313970565796, 0.3808419108390808, 0.22910045087337494, 0.7253214120864868, 0.5448445081710815, 0.0807969942688942, 0.49316027760505676, 0.1059846356511116, 0.36932387948036194, 0.181243896484375, 0.9233458042144775, 0.4993259906768799, 0.31135666370391846, 0.4861547648906708, 0.3917924165725708, 0.40911388397216797, 0.05004322901368141, 0.09381153434515, 0.5481538772583008, 0.1565920114517212, 0.039937637746334076, 0.27074459195137024, 0.22173282504081726, 0.24098363518714905, 0.8711302280426025, 0.2959579527378082, 0.34328439831733704, 0.09546105563640594, 0.33621567487716675, 0.4390907287597656, 0.1132427230477333, 0.39619603753089905, 0.2329040914773941, 0.0755888819694519, 0.4108181595802307, 0.20268931984901428, 0.3431570529937744, 0.32223764061927795, 0.10378408432006836, 0.11467152833938599, 0.08758857846260071, 0.15294967591762543, 0.8222161531448364, 0.16257497668266296, 0.13863761723041534, 0.9842550754547119, 0.1921808123588562, 0.6566822528839111, 0.5432249903678894, 0.10793977230787277, 0.14208967983722687, 0.061988942325115204, 0.12843680381774902, 0.45361340045928955, 0.14620926976203918, 0.2094268649816513, 0.08122291415929794, 0.4403797686100006, 0.051096078008413315, 0.19426938891410828, 0.12953275442123413, 0.2750803530216217, 0.29876813292503357, 0.0450000986456871, 0.432452917098999, 0.23486840724945068, 0.5134763121604919, 0.3090282380580902, 0.36867448687553406, 0.22599557042121887, 0.5728996396064758, 0.3318416476249695, 0.07616537809371948, 0.4054732322692871, 0.09142670035362244, 0.04418428614735603, 0.04004770144820213, 0.08950589597225189, 0.07819760590791702, 0.17912128567695618, 0.33374977111816406, 0.2841916084289551, 0.32634979486465454, 0.22907507419586182, 0.2504136264324188, 0.267515629529953, 0.39051327109336853, 0.4905315935611725, 0.4532970190048218, 0.22233043611049652, 0.0755910724401474, 0.19283293187618256, 0.05715344846248627, 0.5368665456771851, 0.04417555034160614, 0.22343818843364716, 0.2937418818473816, 0.1193283349275589, 0.09481324255466461, 0.2569327652454376, 0.5078592896461487, 0.06622076034545898, 0.5095970034599304, 0.14971069991588593, 0.21215367317199707, 0.2442709505558014, 0.6829648613929749, 0.671950101852417, 0.6751384735107422, 0.07430119067430496, 0.6946062445640564, 0.10496404767036438, 0.7151939272880554, 0.421118825674057, 0.21569950878620148, 0.0808105394244194, 0.12075963616371155, 0.017061226069927216, 0.27537983655929565, 0.1510932743549347, 0.07886505126953125, 0.4189331531524658, 0.06668613106012344, 0.33127298951148987, 0.6055073738098145, 0.4346204400062561, 0.4115867614746094, 0.029717791825532913, 0.041739314794540405, 0.13011004030704498, 0.44513189792633057, 0.19131796061992645, 0.08084797859191895, 0.25620394945144653, 0.15089792013168335, 1.0137258768081665, 0.28111201524734497, 0.36011117696762085, 0.06400517374277115, 0.06605546176433563, 0.8771487474441528, 0.11317920684814453, 0.3550332486629486, 0.024601804092526436, 0.7294329404830933, 0.04313009977340698, 0.7366182208061218, 0.9505685567855835, 0.45160967111587524, 0.14331252872943878, 0.7146130204200745, 1.0803883075714111, 0.23909924924373627, 0.07480903714895248, 0.32353976368904114, 0.2821195721626282, 0.4529106020927429, 0.3202815055847168, 0.053605906665325165, 0.33080965280532837, 0.7844988107681274, 0.4501250088214874, 0.2206476330757141, 0.12235286831855774, 0.6573731303215027, 0.5853098630905151, 0.19419081509113312, 0.7748033404350281, 0.31886863708496094, 0.3704655170440674, 0.300459623336792, 0.08632516115903854, 0.03372887149453163, 0.09422009438276291, 0.10016372799873352, 0.14249421656131744, 0.14878913760185242, 0.47552943229675293, 0.21648576855659485, 0.39994916319847107, 0.800270140171051, 0.06967873871326447, 0.08432690054178238, 0.8429422378540039, 0.4401306211948395, 0.25673791766166687, 0.2422289252281189, 0.17365190386772156, 0.14306767284870148, 0.39620375633239746, 0.15670210123062134, 0.48610761761665344, 0.23006334900856018, 0.04851622134447098, 0.1428469717502594, 0.08966578543186188, 0.05624787136912346, 0.35054904222488403, 0.518283486366272, 0.3331482708454132, 0.04778064787387848, 0.7336195111274719, 0.6024034023284912, 0.12295866757631302, 0.13462930917739868, 0.3276958465576172, 0.21611616015434265, 0.6786766648292542, 0.49434414505958557, 0.3837588131427765, 0.3777136504650116, 0.3130287826061249, 0.09184391796588898, 0.08670534938573837, 0.360275536775589, tensor(0.0001, device='cuda:0', grad_fn=<DivBackward0>), 0.10701176524162292, 0.4346393048763275, 0.21845772862434387, 0.08296792209148407, 0.3329857587814331, 0.2654567360877991, 0.39384716749191284, 0.016435710713267326, 0.675392210483551, 0.39411282539367676, 0.8037160634994507, 0.06558976322412491, 0.27890515327453613, 0.2531049847602844, 0.030939267948269844, 0.19096426665782928, 0.4833439588546753, 0.028972309082746506, 0.012348663061857224, 0.09153665602207184, 0.1519414633512497, 0.09012351185083389, 0.4420318007469177, 0.15329700708389282, 0.2182673066854477, 0.10343165695667267, 0.699018657207489, 0.0865548625588417, 0.17275922000408173, 0.460614949464798, 0.020847832784056664, 0.19442497193813324, 0.13312052190303802, 0.5255627036094666, 0.5464596748352051, 0.27094918489456177, 0.05565953627228737, 0.24089883267879486, 0.08525874465703964, 0.2525653839111328, 0.061495330184698105, 0.0726056769490242, 0.05262334644794464, 0.1863725781440735, 0.42903098464012146, 0.4363069534301758, 0.17523667216300964, 0.07927712053060532, 0.5477080941200256, 0.471640408039093, 0.21176545321941376, 0.05263982340693474, 0.15804290771484375, 0.04208988696336746, 0.034768231213092804, 0.025198526680469513, 0.10897982120513916, 0.11957951635122299, 0.16207584738731384, 0.243037149310112, 0.3550199568271637, 0.14421944320201874, 0.037476055324077606, 0.03009513020515442, 0.15860223770141602, 0.04305802658200264, 0.04758962243795395, 0.13461855053901672, 0.0643749013543129, 0.2725434899330139, 0.15283963084220886, 0.059800758957862854, 0.20985378324985504, 0.04289679601788521, 0.03586890175938606, 0.06384831666946411, 0.12712867558002472, 0.3298476040363312, 0.12906157970428467, 0.07809978723526001, 0.016104843467473984, 0.45628345012664795, 0.21626943349838257, 0.06273803114891052, 0.23652955889701843, 0.12074857950210571, 0.11924608796834946, 0.057932354509830475, 0.24353961646556854, 0.022357359528541565, 0.21072594821453094, 0.0756133422255516, 0.3227153420448303, 0.10920897126197815, 0.06023865565657616, 0.22950118780136108, 0.2152869552373886, 0.10289106518030167, 0.026680847629904747, 0.06835774332284927, 0.37410277128219604, 0.05468421429395676, 0.14898811280727386, 0.2619676887989044, 0.15306103229522705, 0.03910655155777931, 0.04783489182591438, 0.14875315129756927, 0.08634661138057709, 0.07914246618747711, 0.24999532103538513, 0.10876511037349701, 0.03332884982228279, 0.04498698189854622, 0.23350217938423157, 0.26611411571502686, 0.03697505220770836, 0.04242909327149391, 0.08332880586385727, 0.04284865781664848, 0.11107415705919266, 0.06403981149196625, 0.18954326212406158, 0.2678556442260742, 0.05104079097509384, 0.23476853966712952, 0.22863085567951202, 0.04341692477464676, 0.030993055552244186, 0.07318101078271866, 0.11841890960931778, 0.2584376633167267, 0.5775872468948364, 0.15567125380039215, 0.24066850543022156, 0.09745079278945923, 0.6568926572799683, 0.40785205364227295, 0.1537773609161377, 0.04564478620886803, 0.02173181064426899, 0.05859244987368584, 0.041286859661340714, 0.21326184272766113, 0.14113186299800873, 0.3205510675907135, 0.06370332092046738, 0.2494499385356903, 0.13957597315311432, 0.29227912425994873, 0.023713255301117897, 0.3253493905067444, 0.18579185009002686, 0.2284400314092636, 0.15215711295604706, 0.3649768829345703, 0.36410272121429443, 0.0754237249493599, 0.09914137423038483, 0.03693009540438652, 0.17648901045322418, 0.32160884141921997, 0.16019056737422943, 0.1891966313123703, 0.31641659140586853, 0.01004586461931467, 0.230856791138649, 0.1514328122138977, 0.18519705533981323, 0.12015537172555923, 0.5893188118934631, 0.14647750556468964, 0.1646391749382019, 0.4838275909423828, 0.22475413978099823, 0.4747580289840698, 0.08889326453208923, 0.037903860211372375, 0.2776288390159607, 0.14223924279212952, 0.2240721881389618, 0.21109867095947266, 0.26492416858673096, 0.02737661451101303, 0.159195676445961, 0.2784169912338257, 0.3736284375190735, 0.2292809784412384, 0.43694886565208435, 0.3029937148094177, 0.12954258918762207, 0.10626073181629181, 0.03371432423591614, 0.0496651828289032, 0.18763387203216553, 0.051499731838703156, 0.07340220361948013, 0.2778970003128052, 0.05064360797405243, 0.0943755954504013, 0.08805930614471436, 0.35638245940208435, 0.2747204005718231, 0.24074728786945343, 0.05646409094333649, 0.08600428700447083, 0.46584686636924744, 0.4080233573913574, 0.24844728410243988, 0.06913796812295914, 0.0767752155661583, 0.08375199884176254, 0.45501580834388733, 0.456985205411911, 0.8157179355621338, 0.06259540468454361, 0.06144443899393082, 0.13759739696979523, 0.04387509822845459, 0.02407711371779442, 0.17683783173561096, 0.10430646687746048, 0.1615767627954483, 0.0797809436917305, 0.05515450984239578, 0.5336108803749084, 0.15553785860538483, 0.02829262800514698, 0.13077126443386078, 0.06688002496957779, 0.03807655721902847, 0.039509546011686325, 0.13480374217033386, 0.10838606208562851, 0.049417901784181595, 0.05768400430679321, 0.11123491078615189, 0.2328965961933136, 0.04170934855937958, 0.2991921305656433, 0.028340565040707588, 0.5448337197303772, 0.06556008011102676, 0.14793133735656738, 0.2176758199930191, 0.03886750712990761, 0.16302244365215302, 0.04160814359784126, 0.5310148000717163, 0.019700493663549423, 0.4429396092891693, 0.16067567467689514, 0.07066848129034042, 0.07098473608493805, 0.014941288158297539, 0.33147114515304565, 0.04614734649658203, 0.04646263271570206, 0.2598966062068939, 0.08627380430698395, 0.024455972015857697, 0.11916754394769669, 0.290169358253479, 0.06065339595079422, 0.7620899677276611, 0.023195838555693626, 0.2544364035129547, 0.10911199450492859, 0.11941027641296387, 0.07739373296499252, 0.2803758382797241, 0.24577495455741882, 0.6308921575546265, 0.051814641803503036, 0.36655911803245544, 0.09887818247079849, 0.4432010352611542, 0.02126159332692623, 0.06915614753961563, 0.012042191810905933, 0.046259161084890366, 0.4925243556499481, 0.135803684592247, 0.42352309823036194, 0.22390149533748627, 0.08880042284727097, 0.19525673985481262, 0.07382936775684357, 0.2973330020904541, 0.023208996281027794, 0.22890838980674744, 0.19793906807899475, 0.2897009551525116, 0.04973745346069336, 0.056086208671331406, 0.5794939398765564, 0.5287843942642212, 0.39642852544784546, 0.0519605427980423, 0.044690974056720734, 0.13283216953277588, 0.15228192508220673, 0.41401350498199463, 0.02544083632528782, 0.054205529391765594, 0.025111500173807144, 0.05549183487892151, 0.05281499773263931, 0.4408687949180603, 0.40637025237083435, 0.1674940139055252, 0.07037083059549332, 0.2003951370716095, 0.38181549310684204, 0.396780788898468, 0.19346776604652405, 0.09720301628112793, 0.09317092597484589, 0.03138713538646698, 0.4629790484905243, 0.3396827280521393, 0.03948599472641945, 0.016125479713082314, 0.08980585634708405, 0.24613924324512482, 0.39015355706214905, 0.6601119041442871, 0.19063811004161835, 0.11566070467233658, 0.038269657641649246, 0.11342854052782059, 0.06205835938453674, 0.586810827255249, 0.23313280940055847, 0.018847882747650146, 0.2598300576210022, 0.07560759782791138, 0.2562085688114166, 0.08291249722242355, 0.11058501154184341, 0.09024456888437271, 0.12795227766036987, 0.07261303067207336, 0.08931394666433334, 0.18984322249889374, 0.059792306274175644, 0.052641142159700394, 0.043977200984954834, 0.3851000964641571, 0.05731859803199768, 0.07917316257953644, 0.05752045661211014, 0.0849444642663002, 0.13783617317676544, 0.18894343078136444, 0.2058446854352951, 0.07774168998003006, 0.04807378724217415, 0.11570101231336594, 0.39508408308029175, 0.019365785643458366, 0.21343448758125305, 0.07288005203008652, 0.3570449650287628, 0.1174296960234642, 0.03905053436756134, 0.057641416788101196, 0.015579712577164173, 0.3254416286945343, 0.07922978699207306, 0.021180782467126846, 0.2397855520248413, 0.2202124446630478, 0.05352703109383583, 0.06322567164897919, 0.38499176502227783, 0.20773105323314667, 0.12156926095485687, 0.06920351088047028, 0.11379236727952957, 0.32904210686683655, 0.03928256034851074, 0.33209311962127686, 0.09093500673770905, 0.032163213938474655, 0.16544312238693237, 0.35870617628097534, 0.09206580370664597, 0.09276416897773743, 0.07755298912525177, 0.18206758797168732, 0.02890072949230671, 0.41797396540641785, 0.11573227494955063, 0.03531138226389885, 0.21303850412368774, 0.22017309069633484, 0.18886682391166687, 0.05987869203090668, 0.350654661655426, 0.04037591814994812, 0.32447823882102966, 0.044767215847969055, 0.08275091648101807, 0.33883410692214966, 0.03195115923881531, 0.28169503808021545, 0.04723179340362549, 0.03290482610464096, 0.061895642429590225, 0.36373960971832275, 0.2694905996322632, 0.5612001419067383, 0.023334119468927383, 0.2123168557882309, 0.08081740140914917, 0.5280535221099854, 0.012780255638062954, 0.07576455175876617, 0.13553547859191895, 0.14701029658317566, 0.10737484693527222, 0.03554908186197281, 0.09511258453130722, 0.1367766112089157, 0.12381534278392792, 1.3270732164382935, 0.37865695357322693, 0.04988284409046173, 0.11155497282743454, 0.3059313893318176, 0.06491036713123322, 0.1961846649646759, 0.15624721348285675, 0.15051305294036865, 0.03975175693631172, 0.49788564443588257, 0.1817237138748169, 0.08704251050949097, 0.14870424568653107, 0.11749142408370972, 0.10732375085353851, 0.2715902030467987, 0.3001997470855713, 0.07021360099315643, 0.2727162837982178, 0.3247855305671692, 0.47242268919944763, 0.09532914310693741, 0.586234450340271, 0.0986987054347992, 0.12943574786186218, 0.14576368033885956, 0.1987980306148529, 0.03613954037427902, 0.07824691385030746, 0.18014782667160034, 0.10569500178098679, 0.08888284116983414, 0.07100016623735428, 0.022461455315351486, 0.051001518964767456, 0.03686429560184479, 0.34696871042251587, 0.23858089745044708, 0.30593597888946533, 0.16588568687438965, 0.030819585546851158, 0.024578290060162544, 0.050711650401353836, 0.10409372299909592, 0.1458147019147873, 0.3596426844596863, 0.09643221646547318, 0.13671065866947174, 0.2887716293334961, 0.12777069211006165, 0.028728313744068146, 0.025783447548747063, 0.11589118838310242, 0.1607157438993454, 0.14397643506526947, 0.022701075300574303, 0.02619432471692562, 0.015787426382303238, 0.3343307077884674, 0.5735498666763306, 0.10461370646953583, 0.49897846579551697, 0.514906108379364, 0.009192290715873241, 0.08627712726593018, 0.43200233578681946, 0.20713204145431519, 0.44172462821006775, 0.036890968680381775, 0.14902232587337494, 0.39089909195899963, 0.11500680446624756, 0.16264411807060242, 0.05910827964544296, 0.04704499989748001, 0.6076254844665527, 0.03393461927771568, 0.46264541149139404, 0.12375211715698242, 0.14161282777786255, 0.07079631835222244, 0.08742985129356384, 0.19877159595489502, 0.29944589734077454, 0.35002970695495605, 0.021355660632252693, 0.022524870932102203, 0.32224294543266296, 0.3701499402523041, 0.022169824689626694, 0.017169823870062828, 0.1766929179430008, 0.0877864733338356, 0.4114079773426056, 0.31298312544822693, 0.0485934242606163, 0.030818337574601173, 0.11931107938289642, 0.06558823585510254, 0.04955759271979332, 0.2840085029602051, 0.04968984052538872, 0.58576899766922, 0.41469210386276245, 0.024379611015319824, 0.022048668935894966, 0.019685978069901466, 0.06574953347444534, 0.4657175540924072, 0.09549324959516525, 0.06672628223896027, 0.23138859868049622, 0.08691268414258957, 0.10635333508253098, 0.2336266189813614, 0.04308682680130005, 0.4188842177391052, 0.2745130956172943, 0.15939202904701233, 0.5884845852851868, 0.06239410117268562, 0.15387237071990967, 0.9913691282272339, 0.06099839508533478, 0.08941460400819778, 0.4307907223701477, 0.10184042155742645, 0.13162897527217865, 0.5261751413345337, 0.05747506767511368, 0.017430517822504044, 0.0895121842622757, 0.03194344788789749, 0.06398078799247742, 0.037833377718925476, 0.230457603931427, 0.06571601331233978, 0.06573572754859924, 0.3667384088039398, 0.025920391082763672, 0.16907072067260742, 0.09141717106103897, 0.4852316081523895, 0.11584118008613586, 0.40086662769317627, 0.48188838362693787, 0.4628622829914093, 0.16570350527763367, 0.48884323239326477, 0.06459911167621613, 0.025633923709392548, 0.2054237723350525, 0.23757442831993103, 0.03652087226510048, 0.03659788891673088, 0.07242432981729507, 0.35985830426216125, 0.15114106237888336, 0.028976481407880783, 0.04823564738035202, 0.02357661724090576, 0.5455952882766724, 0.057194847613573074, 0.18223054707050323, 0.11658446490764618, 0.24837510287761688, 0.3612786531448364, 0.2007599025964737, 0.5742247104644775, 0.27175062894821167, 0.22017432749271393, 0.07474943995475769, 0.45212674140930176, 0.04723551496863365, 0.02821284718811512, 0.08066508919000626, 0.36342480778694153, 0.0617191381752491, 0.41968464851379395, 0.09647580236196518, 0.0863768607378006, 0.12876859307289124, 0.019146041944622993, 0.2364901304244995, 0.37855327129364014, 0.22960564494132996, 0.46755146980285645, 0.036925189197063446, 0.06771297007799149, 0.08913204818964005, 0.0836564153432846, 0.37290480732917786, 0.1917426884174347, 0.20181827247142792, 0.38409844040870667, 0.3963173031806946, 0.3681277930736542, 0.029385298490524292, 0.03098134696483612, 0.4994485080242157, 0.06019295006990433, 0.5006458163261414, 0.453960657119751, 0.16559001803398132, 0.060439154505729675, 0.13297371566295624, 0.03555980697274208, 0.7274345755577087, 0.1821233332157135, 0.40806764364242554, 0.2201358526945114, 0.17162151634693146, 0.2987495958805084, 0.01660281792283058, 0.15136730670928955, 0.08391698449850082, 0.47519925236701965, 0.06413804739713669, 0.07893006503582001, 0.13487030565738678, 0.7673294544219971, 1.0738741159439087, 0.14162538945674896, 0.06827379018068314, 0.4691956639289856, 0.08824679255485535, 0.09111319482326508, 0.24141612648963928, 0.09296953678131104, 0.07476569712162018, 0.8584772944450378, 0.352245956659317, 0.39951106905937195, 0.20276251435279846, 0.6019032001495361, 0.047145016491413116, 0.059810250997543335, 0.03332766890525818, 0.08585192263126373, 0.08914592117071152, 0.24604752659797668, 0.09056433290243149, 0.01836329512298107, 0.05334147810935974, 0.5950261950492859, 0.014432063326239586, 0.6056354641914368, 0.08292032778263092, 0.04221190884709358, 0.32571539282798767, 0.1309662163257599, 0.18079769611358643, 0.011197751387953758, 0.15618841350078583, 0.17058739066123962, 0.0995674729347229, 0.03709910809993744, 0.11018536984920502, 0.04939071461558342, 0.2848093807697296, 0.31258779764175415, 0.13886933028697968, 0.020790226757526398, 0.07285633683204651, 0.18568499386310577, 0.28724366426467896, 0.01395677961409092, 0.04619379714131355, 0.030241835862398148, 0.20125609636306763, 0.23746882379055023, 0.20545704662799835, 0.5277490615844727, 0.039782311767339706, 0.061089981347322464, 0.01763450726866722, 0.04426707699894905, 0.08570972084999084, 0.11253134906291962, 0.187986820936203, 0.052399568259716034, 0.4447873532772064, 0.044784896075725555, 0.6899945139884949, 0.050284817814826965, 0.1233905628323555, 0.3725651204586029, 0.04443942755460739, 0.09286440163850784, 0.024312391877174377, 0.11396156251430511, 0.3070593476295471, 0.051471225917339325, 0.3781321346759796, 0.3170490562915802, 0.2222617119550705, 0.25542381405830383, 0.046408094465732574, 0.02334945648908615, 0.017455507069826126, 0.28601059317588806, 0.07537748664617538, 0.1992456316947937, 0.10908003151416779, 0.059157244861125946, 0.03162926807999611, 0.06005435436964035, 0.25256749987602234, 0.3243391513824463, 0.05545084550976753, 0.10133075714111328, 0.21675483882427216, 0.5908921957015991, 0.06343334168195724, 0.3183750808238983, 0.1647556722164154, 0.048081714659929276, 0.3187585175037384, 0.24852384626865387, 0.07811984419822693, 0.2915952205657959, 0.4956144392490387, 0.07689663767814636, 0.05950527638196945, 0.06010640040040016, 0.4178242087364197, 0.06965606659650803, 0.08797753602266312, 0.15550917387008667, 0.21479785442352295, 0.0852663442492485, 0.1186753660440445, 0.03841580078005791, 0.037987105548381805, 0.06227851286530495, 0.309467613697052, 0.008344014175236225, 0.14461548626422882, 0.2721134126186371, 0.05634075403213501, 0.3011670708656311, 0.04903415963053703, 0.04749743640422821, 0.02199627086520195, 0.31844860315322876, 0.22502785921096802, 0.2374669909477234, 0.13957110047340393, 0.39030107855796814, 0.14987091720104218, 0.27739283442497253, 0.36216726899147034, 0.012544198893010616, 0.4106265604496002, 0.39446762204170227, 0.4865858256816864, 0.024668162688612938, 0.05881384015083313, 0.3259015679359436, 0.5333236455917358, 0.1425361931324005, 0.1219957172870636, 0.2591787278652191, 0.20630723237991333, 0.046413008123636246, 0.02552962861955166, 0.04354686290025711, 0.139686718583107, 0.15889810025691986, 0.036101341247558594, 0.014289370737969875, 0.09193409979343414, 0.031647052615880966, 0.24758407473564148, 0.29505348205566406, 0.049464818090200424, 0.5040311217308044, 0.3055276870727539, 0.2371276170015335, 0.14396438002586365, 0.17420169711112976, 0.18758642673492432, 0.24434822797775269, 0.10292824357748032, 0.3709096312522888, 0.02764659933745861, 0.13702620565891266, 0.03625804930925369, 0.2658204734325409, 0.12133827060461044, 0.03132231533527374, 0.3907659947872162, 0.057063668966293335, 0.08060760796070099, 0.04059538245201111, 0.22299519181251526, 0.11894240975379944, 0.015659086406230927, 0.054444923996925354, 0.03605755791068077, 0.11819274723529816, 0.14823879301548004, 0.03674705699086189, 0.14452271163463593, 0.7197854518890381, 0.05065852776169777, 0.3415052592754364, 0.018126532435417175, 0.49899572134017944, 0.03459380567073822, 0.20715196430683136, 0.09971391409635544, 0.6465145945549011, 0.09722080081701279, 0.41332292556762695, 0.029958076775074005, 0.18912091851234436, 0.5491819977760315, 0.18755215406417847, 0.28837621212005615, 0.14356082677841187, 0.21884271502494812, 0.08405187726020813, 0.058998022228479385, 0.20760193467140198, 0.18043892085552216, 0.3202509582042694, 0.24792970716953278, 0.5878704786300659, 0.21267235279083252, 0.45335865020751953, 0.07511556148529053, 0.10898978263139725, 0.12451909482479095, 0.4231773316860199, 0.24581323564052582, 0.045695338398218155, 0.07032201439142227, 0.29725930094718933, 0.04494846239686012, 0.0544256828725338, 0.4870600700378418, 0.023188794031739235, 0.13228662312030792, 0.014496192336082458, 0.07117670774459839, 0.17238037288188934, 0.12103339284658432, 0.35153281688690186, 0.08739423006772995, 0.1866857409477234, 0.5271868705749512, 0.1470140665769577, 0.10880938917398453, 0.1718982756137848, 0.409736692905426, 0.12095827609300613, 0.1853942573070526, 0.062394000589847565, 0.025198031216859818, 0.44609367847442627, 0.1400400698184967, 0.049235790967941284, 0.21027536690235138, 0.2810312807559967, 0.1551496684551239, 0.11893966048955917, 0.06303361058235168, 0.038025159388780594, 0.12830685079097748, 0.05457685515284538, 0.16053315997123718, 0.2929629981517792, 0.6227152347564697, 0.15585431456565857, 0.4773162603378296, 0.21818630397319794, 0.08452615141868591, 0.4079282879829407, 0.37077638506889343, 0.05771126225590706, 0.06383240222930908, 0.12218676507472992, 0.2553095519542694, 0.11178278177976608, 0.611088216304779, 0.01052763219922781, 0.1587902307510376, 0.10535894334316254, 0.13746283948421478, 0.2979843318462372, 0.39624398946762085, 0.08964353799819946, 0.15632516145706177, 0.050361040979623795, 0.22532585263252258, 0.13085967302322388, 0.1786133050918579, 0.8620728850364685, 0.04750381037592888, 0.02569243125617504, 0.3318908214569092, 0.10109314322471619, 0.1966964602470398, 0.11962756514549255, 0.06450465321540833, 0.06122260540723801, 0.11680494248867035, 0.2929266095161438, 0.3466119170188904, 0.22556743025779724, 0.1769513040781021, 0.021564148366451263, 0.09065064787864685, 0.228292778134346, 0.15034447610378265, 0.21840697526931763, 0.29988211393356323, 0.21453748643398285, 0.020567914471030235, 0.042729876935482025, 0.24681656062602997, 0.3856155574321747, 0.0845479667186737, 0.16056126356124878, 0.618349552154541, 0.04960969462990761, 0.08236196637153625, 0.2333584725856781, 0.1772698014974594, 0.3938968777656555, 0.05170217901468277, 0.019421176984906197, 0.17365609109401703, 0.23400376737117767, 0.08389358967542648, 0.7533856630325317, 0.08443517237901688, 0.2536042630672455, 0.28358083963394165, 0.30872443318367004, 0.02223288267850876, 0.2304181158542633, 0.09168863296508789, 0.12646807730197906, 0.3624248802661896, 0.18723729252815247, 0.1747332662343979, 0.5145285725593567, 0.2542807459831238, 0.08125438541173935, 0.1753523349761963, 0.06393548101186752, 0.20990028977394104, 0.1358131468296051, 0.18521927297115326, 0.1925361007452011, 0.20015983283519745, 0.35110151767730713, 0.02439289353787899, 0.03611419349908829, 0.05184049904346466, 0.23242945969104767, 0.31161800026893616, 0.05048264190554619, 0.0780702531337738, 0.19060207903385162, 0.016070185229182243, 0.21997599303722382, 0.0912686139345169, 0.3330620527267456, 0.2423916757106781, 0.30681535601615906, 0.3433385193347931, 0.3392319083213806, 0.14630986750125885, 0.13301897048950195, 0.04826509207487106, 0.1801735907793045, 0.5252646803855896, 0.2772412598133087, 0.48128488659858704, 0.04740678146481514, 0.165552020072937, 0.030802611261606216, 0.028355173766613007, 0.06240566074848175, 0.15139944851398468, 0.09063325822353363, 0.41294828057289124, 0.042225904762744904, 0.1933150589466095, 0.028033502399921417, 0.17443116009235382, 0.058327097445726395, 0.15704621374607086, 0.2522751986980438, 0.6753284335136414, 0.3616264760494232, 0.03126758337020874, 0.066130131483078, 0.21012204885482788, 0.17910237610340118, 0.06691502034664154, 0.0907471776008606, 0.10089699178934097, 0.16227805614471436, 0.0845746323466301, 0.26312538981437683, 0.21625010669231415, 0.26735416054725647, 0.15382029116153717, 0.6729638576507568, 0.09280902147293091, 0.3856763541698456, 0.07396752387285233, 0.06868042796850204, 0.08803591132164001, 0.06616324186325073, 0.5529040694236755, 0.11668196320533752, 0.10336059331893921, 0.0798061341047287, 0.20197360217571259, 0.255474716424942, 0.09742293506860733, 0.10016097128391266, 0.1372154802083969, 0.4441956579685211, 0.06145431101322174, 0.43131113052368164, 0.31458356976509094, 0.08428052067756653, 0.566224217414856, 0.059727828949689865, 0.07353414595127106, 0.051341235637664795, 0.020761821419000626, 0.24289070069789886, 0.024996226653456688, 0.2821435034275055, 0.08859436959028244, 0.0126741798594594, 0.4604152739048004, 0.0724383145570755, 0.2110481709241867, 0.029430219903588295, 0.612504780292511, 0.19046299159526825, 0.04142303019762039, 0.4101414084434509, 0.23519235849380493, 0.23135977983474731, 0.3129712641239166, 0.4054858386516571, 0.23330684006214142, 0.20205651223659515, 0.7115120887756348, 0.038539204746484756, 0.51376873254776, 0.34596800804138184, 0.18794435262680054, 0.11462094634771347, 0.031323712319135666, 0.35859420895576477, 0.06389859318733215, 0.1452714055776596, 0.09218721091747284, 0.38172003626823425, 0.1498751938343048, 0.0598396472632885, 0.03828342258930206, 0.04904557392001152, 0.10086239129304886, 0.5997769832611084, 0.13909396529197693, 0.18186070024967194, 0.0180601067841053, 0.25048843026161194, 0.2131488174200058, 0.055022526532411575, 0.18114110827445984, 0.2493637651205063, 0.2415214329957962, 0.6354385614395142, 0.1840846836566925, 0.12823480367660522, 0.18300309777259827, 0.04712653532624245, 0.2363092601299286, 0.061761755496263504, 0.09055346250534058, 0.017613744363188744, 0.19151046872138977, 0.050062328577041626, 0.045664943754673004, 0.17046603560447693, 0.3473551571369171, 0.18946492671966553, 0.05476656183600426, 0.5894067883491516, 0.027535876259207726, 0.09963924437761307, 0.020345935598015785, 0.0868096798658371, 0.2407396137714386, 0.2070273607969284, 0.05536530166864395, 0.034997183829545975, 0.11527112126350403, 0.052304718643426895, 0.4766397476196289, 0.06625208258628845, 0.0295015349984169, 0.04901111498475075, 0.01431015133857727, 0.14277517795562744, 0.08707977086305618, 0.10927341878414154, 0.08446002006530762, 0.017434636130928993, 0.425160676240921, 0.08741618692874908, 0.06211056560277939, 0.6511057019233704, 0.013042127713561058, 0.03543626144528389, 0.01349346898496151, 0.03754371404647827, 0.11616562306880951, 0.0168628953397274, 0.014915586449205875, 0.07172108441591263, 0.23888111114501953, 0.16692356765270233, 0.16774320602416992, 0.04464411363005638, 0.028765464201569557, 0.02576945163309574, 0.18745511770248413, 0.26889196038246155, 0.4767884910106659, 0.10435732454061508, 0.08220189064741135, 0.48730406165122986, 0.08633776754140854, 0.09395867586135864, 0.05847025662660599, 0.3682034909725189, 0.018429184332489967, 0.27387261390686035, 0.337474524974823, 0.08022739738225937, 0.20453336834907532, 0.0540226548910141, 0.07848343998193741, 0.20454175770282745, 0.4438680112361908, 0.05785851925611496, 0.1673978567123413, 0.02824823372066021, 0.2608901262283325, 0.34551095962524414, 0.045477401465177536, 0.1772923618555069, 0.07911981642246246, 0.03425513580441475, 0.21005471050739288, 0.012913297861814499, 0.12333393096923828, 0.019194720312952995, 0.04511771723628044, 0.023478087037801743, 0.15873046219348907, 0.06847351044416428, 0.05565816909074783, 0.20816411077976227, 0.015446043573319912, 0.2607553005218506, 0.3362601399421692, 0.16702838242053986, 0.02942134253680706, 0.5116084218025208, 0.3413289487361908, 0.8411182761192322, 0.06877443194389343, 0.06057565286755562, 0.015132569707930088, 0.05277480557560921, 0.5765036344528198, 0.1871655136346817, 0.11251193284988403, 0.02106897532939911, 0.22409771382808685, 0.04516664147377014, 0.40336355566978455, 0.4856260418891907, 0.009118163026869297, 0.07085622847080231, 0.1935010701417923, 0.031231854110956192, 0.3475577235221863, 0.036146651953458786, 0.2102079689502716, 0.4680722653865814, 0.1103837788105011, 0.1209946796298027, 0.7470863461494446, 0.081378273665905, 0.20643047988414764, 0.010364213958382607, 0.3184956908226013, 0.6236300468444824, 0.0436776801943779, 0.33561286330223083, 0.1158200353384018, 0.052541639655828476, 0.24166959524154663, 0.42766138911247253, 0.5360517501831055, 0.09935078769922256, 0.19239990413188934, 0.2857392728328705, 0.5829787254333496, 0.7949699759483337, 0.03316771611571312, 0.02932119555771351, 0.29125872254371643, 0.04005063697695732, 0.10989420861005783, 0.6217441558837891, 0.5402299761772156, 0.1455000936985016, 0.5849222540855408, 0.0638003796339035, 0.09515510499477386, 0.047255441546440125, 0.08191484212875366, 0.3632817268371582, 0.012553749606013298, 0.12647324800491333, 0.2454472780227661, 0.15809036791324615, 0.24808736145496368, 0.12258756905794144, 0.14910387992858887, 0.057892829179763794, 0.21641765534877777, 0.36427485942840576, 0.31226304173469543, 0.14616741240024567, 0.04885454103350639, 0.01729532517492771, 0.029855545610189438, 0.014735560864210129, 0.053821831941604614, 0.3935288190841675, 0.8321101665496826, 0.2894112765789032, 0.12879879772663116, 0.07677091658115387, 0.25191324949264526, 0.1462741196155548, 0.892536997795105, 0.23985569179058075, 0.06126360595226288, 0.030276404693722725, 0.028367280960083008, 0.24358013272285461, 0.11367255449295044, 0.43811914324760437, 0.04399427771568298, 0.038048725575208664, 0.3059718906879425, 0.05743074417114258, 0.07826048880815506, 0.03172169253230095, tensor(1.2163e-05, device='cuda:0', grad_fn=<DivBackward0>), 0.049927424639463425, 0.1178768202662468, 0.28396910429000854, 0.05496063828468323, 0.018053589388728142, 0.11853533983230591, 0.052496325224637985, 0.11121771484613419, 0.11413891613483429, 0.11630973219871521, 0.046019263565540314, 0.06530824303627014, 0.12715643644332886, 0.1291113942861557, 0.1097426488995552, 0.03244374319911003, 0.02226494811475277, 0.12084756046533585, 0.029377667233347893, 0.015652285888791084, 0.008540647104382515, 0.01799745298922062, 0.17797623574733734, 0.019909963011741638, 0.10838713496923447, 0.01851591467857361, 0.22772981226444244, 0.05539175495505333, 0.02773292548954487, 0.04363781586289406, 0.018473036587238312, 0.05141899362206459, 0.08381184190511703, 0.021387025713920593, 0.01360504049807787, 0.09541164338588715, 0.20459184050559998, 0.028689678758382797, 0.004885821603238583, 0.442609965801239, 0.02227921225130558, 0.009147166274487972, 0.036979082971811295, 0.04515084996819496, 0.1811055690050125, 0.020926952362060547, 0.013630758970975876, 0.11594771593809128, 0.008700489066541195, 0.1203310415148735, 0.005881614983081818, 0.011231502518057823, 0.02614765614271164, 0.050911955535411835, 0.1514616757631302, 0.047640420496463776, 0.07057119905948639, 0.06190583482384682, 0.020762935280799866, 0.03571582958102226, 0.18700766563415527, 0.2686822712421417, 0.243256613612175, 0.014678987674415112, 0.31221726536750793, 0.1461022049188614, 0.354397177696228, 0.10325510054826736, 0.19163894653320312, 0.031094353646039963, 0.057463742792606354, 0.4467540979385376, 0.07659055292606354, 0.02799396961927414, 0.030592480674386024, 0.3201361894607544, 0.031173374503850937, 0.027846327051520348, 0.02670208550989628, 0.04492742940783501, 0.06245685741305351, 0.43140003085136414, 0.24099254608154297, 0.05110907927155495, 0.00900246761739254, 0.19040966033935547, 0.009718820452690125, 0.011821390129625797, 0.019815359264612198, 0.03277488052845001, 0.14735069870948792, 0.05959273502230644, 0.02326054498553276, 0.05743168294429779, 0.055353473871946335, 0.01610523834824562, 0.015018662437796593, 0.122980497777462, 0.027122722938656807, 0.1310819834470749, 0.253375768661499, 0.36631491780281067, 0.023334044963121414, 0.23484179377555847, 0.01808253675699234, 0.07845855504274368, 0.11713766306638718, 0.168886199593544, 0.092148557305336, 0.13008683919906616, 0.08249709755182266, 0.33416134119033813, 0.10015186667442322, 0.34850066900253296, 0.01375958975404501, 0.12292061001062393, 0.11881894618272781, 0.027309475466609, 0.024459028616547585, 0.09407210350036621, 0.07687843590974808, 0.042699847370386124, 0.03848278895020485, 0.012489470653235912, 0.022151198238134384, 0.028519397601485252, 0.12606345117092133, 0.03529660403728485, 0.328583300113678, 0.1308477520942688, 0.014895882457494736, 0.030859772115945816, 0.024848485365509987, 0.01701236516237259, 0.031730398535728455, 0.04613927751779556, 0.3422713279724121, 0.097602479159832, 0.05702662840485573, 0.11799890547990799, 0.044797830283641815, 0.014011283405125141, 0.016980376094579697, 0.08907575160264969, 0.03029804863035679, 0.27301275730133057, 0.2957984507083893, 0.006064440123736858, 0.10352752357721329, 0.016875745728611946, 0.0643913596868515, 0.3618699312210083, 0.28843796253204346, 0.042301759123802185, 0.03114883415400982, 0.017096269875764847, 0.24724912643432617, 0.40251484513282776, 0.013334954157471657, 0.008554629050195217, 0.018389083445072174, 0.026827119290828705, 0.014465989544987679, 0.0719258114695549, 0.17855370044708252, 0.16017590463161469, 0.015991542488336563, 0.2434099018573761, 0.02997017651796341, 0.06830322742462158, 0.011392594315111637, 0.019409475848078728, 0.2957957983016968, 0.2657652795314789, 0.05427886173129082, 0.13756348192691803, 0.0393516980111599, 0.01113117951899767, 0.5458955764770508, 0.019013769924640656, 0.016944216564297676, 0.250637948513031, 0.02838240936398506, 0.025644803419709206, 0.09262965619564056, 0.1310616135597229, 0.2415083795785904, 0.03176179528236389, 0.2639826238155365, 0.028605375438928604, 0.0466887429356575, 0.13453291356563568, 0.11139195412397385, 0.21677783131599426, 0.11713727563619614, 0.3695535659790039, 0.07135096192359924, 0.01914391666650772, 0.14971807599067688, 0.15609794855117798, 0.4666813015937805, 0.3106563985347748, 0.04790166765451431, 0.017059629783034325, 0.01622803322970867, 0.05261038988828659, 0.024137137457728386, 0.07861017435789108, 0.4476257860660553, 0.11759990453720093, 0.298917293548584, 0.007569877430796623, 0.027905099093914032, 0.04812916740775108, 0.011203792877495289, 0.005943618714809418, 0.04146421700716019, 0.1259905993938446, 0.4710598886013031, 0.041377875953912735, 0.24731840193271637, 0.023347439244389534, 0.01897604949772358, 0.1908540576696396, 0.053828950971364975, 0.028790615499019623, 0.04590088129043579, 0.2626475393772125, 0.08041826635599136, 0.1507311463356018, 0.5491733551025391, 0.10641053318977356, 0.0515696220099926, 0.012340066023170948, 0.09334929287433624, 0.09473080188035965, 0.04594375193119049, 0.02238461934030056, 0.01979062892496586, 0.04315317049622536, 0.2267557680606842, 0.30101504921913147, 0.38364624977111816, 0.16004660725593567, 0.026870032772421837, 0.04741741716861725, 0.053955722600221634, 0.03187046945095062, 0.014559101313352585, 0.012418859638273716, 0.01057139877229929, 0.2531348168849945, 0.014565154910087585, 0.05257270857691765, 0.04735735058784485, 0.042761851102113724, 0.05502667650580406, 0.013028768822550774, 0.0676947757601738, 0.021904021501541138, 0.01908414252102375, 0.11490121483802795, 0.0288285780698061, 0.03505915030837059, 0.07533501088619232, 0.012388245202600956, 0.014847341924905777, 0.15547266602516174, 0.03723037987947464, 0.01405484788119793, 0.36563196778297424, 0.11715181916952133, 0.027576982975006104, 0.10808569192886353, 0.03241145238280296, 0.23868192732334137, 0.02268397994339466, 0.017242971807718277, 0.02654297463595867, 0.009609612636268139, 0.021599894389510155, 0.15678776800632477, 0.037769462913274765, 0.015232361853122711, 0.1034051775932312, 0.4164169728755951, 0.08911118656396866, 0.3544647693634033, 0.15747065842151642, 0.06313256174325943, 0.06597334891557693, 0.12295608222484589, 0.0386485792696476, 0.027751345187425613, 0.05629616975784302, 0.5452319383621216, 0.10564962029457092, 0.0500689297914505, 0.025317519903182983, 0.020358357578516006, 0.007235639728605747, 0.3889339566230774, 0.07872998714447021, 0.15198370814323425, 0.11782459914684296, 0.007738370448350906, 0.14815178513526917, 0.02130126953125, 0.5081605911254883, 0.06799443066120148, 0.04198585823178291, 0.03873779997229576, 0.31893840432167053, 0.1242428794503212, 0.16569606959819794, 0.15048792958259583, 0.2882416546344757, 0.20301692187786102, 0.42923739552497864, 0.01647612825036049, 0.29200199246406555, 0.192448228597641, 0.37526533007621765, 0.24911879003047943, 0.06950271874666214, 0.046862803399562836, 0.13801726698875427, 0.13125194609165192, 0.5947580933570862, 0.06820311397314072, 0.4505612254142761, 0.09329265356063843, 0.22175917029380798, 0.30638086795806885, 0.09682205319404602, 0.01565743051469326, 0.010771411471068859, 0.11091575771570206, 0.07851618528366089, 0.05800703540444374, 0.05160384625196457, 0.10434963554143906, 0.1443863809108734, 0.04451802372932434, 0.041288893669843674, 0.02857208251953125, 0.020451625809073448, 0.09682969748973846, 0.06978775560855865, 0.03256743401288986, 0.0037032028194516897, 0.04156937450170517, 0.02845732495188713, 0.22185362875461578, 0.016042593866586685, 0.24220672249794006, 0.13772091269493103, 0.02100939117372036, 0.015324234031140804, 0.3619672656059265, 0.08122599124908447, 0.024002939462661743, 0.07253803312778473, 0.02166483923792839, 0.015521783381700516, 0.019760990515351295, 0.12502676248550415, 0.01037098839879036, 0.012746928259730339, 0.4576490819454193, 0.04441554471850395, 0.011302994564175606, 0.43650153279304504, 0.008990678936243057, 0.08154013752937317, 0.4654586613178253, 0.6041778326034546, 0.12853923439979553, 0.08341287821531296, 0.03317331150174141, 0.07399827241897583, 0.0131660932675004, 0.3541327118873596, 0.008614439517259598, 0.10260319709777832, 0.03792791813611984, 0.4330175518989563, 0.1238289624452591, 0.01563621312379837, 0.18290171027183533, 0.23881155252456665, 0.132398322224617, 0.0646718218922615, 0.1839623898267746, 0.021716585382819176, 0.27583441138267517, 0.013815880753099918, 0.026385264471173286, 0.13417133688926697, 0.12026885896921158, 0.01383476797491312, 0.06416147947311401, 0.23297762870788574, 0.2425251007080078, 0.015843139961361885, 0.012971876189112663, 0.011430403217673302, 0.08739461749792099, 0.0600057914853096, 0.3289506435394287, 0.006340338848531246, 0.01229225192219019, 0.15489540994167328, 0.0466204509139061, 0.040164168924093246, 0.0768234059214592, 0.03480809926986694, 0.023153988644480705, 0.435208261013031, 0.008158886805176735, 0.14882183074951172, 0.09676612913608551, 0.04079185426235199, 0.031192248687148094, 0.4676305651664734, 0.0675937831401825, 0.037370964884757996, 0.05165622755885124, 0.4321433901786804, 0.02828632853925228, 0.1527617871761322, 0.343661367893219, 0.02535971626639366, 0.17267391085624695, 0.017673281952738762, 0.0645381510257721, 0.020758802071213722, 0.22847548127174377, 0.3478780686855316, 0.019662104547023773, 0.01543576642870903, 0.2494046688079834, 0.07422196865081787, 0.15498751401901245, 0.007004037965089083, 0.2026611715555191, 0.021139677613973618, 0.02199057675898075, 0.016925448551774025, 0.027472708374261856, 0.06870367377996445, 0.04402538016438484, 0.02871750481426716, 0.3254871964454651, 0.028614595532417297, 0.007441941183060408, 0.01048216037452221, 0.06999281793832779, 0.05812717229127884, 0.24280200898647308, 0.42113378643989563, 0.14599129557609558, 0.05340953171253204, 0.06159653514623642, 0.05879558250308037, 0.20374135673046112, 0.09568683058023453, 0.014368446543812752, 0.1077810600399971, 0.010969823226332664, 0.34473633766174316, 0.2385670691728592, 0.019543908536434174, 0.06084749475121498, 0.00729938130825758, 0.06220439821481705, 0.08174127340316772, 0.0678667202591896, 0.1029156818985939, 0.05334782972931862, 0.010479596443474293, 0.23695115745067596, 0.027289072051644325, 0.03956884518265724, 0.012382314540445805, 0.060658540576696396, 0.025142868980765343, 0.057269491255283356, 0.08301866054534912, 0.18952195346355438, 0.17508023977279663, 0.26163172721862793, 0.018427774310112, 0.146860271692276, 0.3059385418891907, 0.006112323608249426, 0.035713281482458115, 0.19515840709209442, 0.03408880531787872, 0.03805471956729889, 0.18282344937324524, 0.018304195255041122, 0.04469406232237816, 0.014629581943154335, 0.018165485933423042, 0.05925682932138443, 0.4687631130218506, 0.017516162246465683, 0.013082744553685188, 0.007919608615338802, 0.12958088517189026, 0.15365372598171234, 0.04742206633090973, 0.007079175673425198, 0.013067025691270828, 0.028121620416641235, 0.13083037734031677, 0.08325978368520737, 0.007242647930979729, 0.0713343471288681, 0.017367763444781303, 0.22983171045780182, 0.3101970851421356, 0.012094677425920963, 0.007981049828231335, 0.0106223588809371, 0.21265430748462677, 0.18355679512023926, 0.5380140542984009, 0.09873270988464355, 0.06092005968093872, 0.5264376401901245, 0.02334430068731308, 0.066014863550663, 0.013250661082565784, 0.27760058641433716, 0.10183238983154297, 0.02911274880170822, 0.06537669897079468, 0.059969462454319, 0.14706380665302277, 0.2854215204715729, 0.05295069143176079, 0.009177224710583687, 0.04252641648054123, 0.05130968987941742, 0.024019166827201843, 0.023590542376041412, 0.21350012719631195, 0.09705092012882233, 0.006333467550575733, 0.03448629751801491, 0.1488218605518341, 0.02005399763584137, 0.056648630648851395, 0.013404348865151405, 0.011416621506214142, 0.00994139164686203, 0.018785132095217705, 0.13878604769706726, 0.09377260506153107, 0.021444421261548996, 0.038368109613657, 0.03287704661488533, 0.045840512961149216, 0.23970690369606018, 0.015764009207487106, 0.11677931249141693, 0.01708226464688778, 0.04477699473500252, 0.027223065495491028, 0.04368210211396217, 0.06171829253435135, 0.033162686973810196, 0.4649512469768524, 0.022932881489396095, 0.005893150810152292, 0.09804688394069672, 0.048967521637678146, 0.08154027163982391, 0.07965100556612015, 0.06296387314796448, 0.16127091646194458, 0.021541686728596687, 0.010221624746918678, 0.021372096613049507, 0.05431331694126129, 0.08061331510543823, 0.09610765427350998, 0.1958474963903427, 0.6305394172668457, 0.004583751782774925, 0.009677252732217312, 0.19974005222320557, 0.05879717320203781, 0.14546316862106323, 0.2564588189125061, 0.006947111338376999, 0.6732583045959473, 0.06511202454566956, 0.42454013228416443, 0.02645993046462536, 0.052149198949337006, 0.16000346839427948, 0.049890533089637756, 0.28284507989883423, 0.10888540744781494, 0.02872038260102272, 0.11205866187810898, 0.12041342258453369, 0.12149961292743683, 0.05941919982433319, 0.027650346979498863, 0.03446129709482193, 0.32047685980796814, 0.02832660637795925, 0.19723589718341827, 0.2620408236980438, 0.03917984664440155, 0.32943519949913025, 0.060793597251176834, 0.13801495730876923, 0.04309286177158356, 0.00794267188757658, 0.2635122537612915, 0.049407683312892914, 0.008724265731871128, 0.033921144902706146, 0.012822665274143219, 0.015734612941741943, 0.025739606469869614, 0.11763884127140045, 0.36945977807044983, 0.05999185889959335, 0.05534552410244942, 0.33434218168258667, 0.1110948994755745, 0.017364228144288063, 0.032171472907066345, 0.020099231973290443, 0.09531477838754654, 0.06482309848070145, 0.009773826226592064, 0.02379445731639862, 0.21065612137317657, 0.30947065353393555, 0.11604859679937363, 0.015795381739735603, 0.01885198801755905, 0.14061206579208374, 0.03405275568366051, 0.06803598999977112, 0.26801908016204834, 0.19823810458183289, 0.22839172184467316, 0.042739350348711014, 0.18116474151611328, 0.24444623291492462, 0.027774345129728317, 0.08145971596240997, 0.006899023894220591, 0.4518236815929413, 0.11261443048715591, 0.1954095959663391, 0.0661238506436348, 0.032962147146463394, 0.06390201300382614, 0.03451591730117798, 0.14003148674964905, 0.0058653755113482475, 0.019306296482682228, 0.026357267051935196, 0.031733978539705276, 0.06907675415277481, 0.05869755148887634, 0.013607680797576904, 0.0055812569335103035, 0.01646439917385578, 0.07708524912595749, 0.03600802645087242, 0.026660332456231117, 0.006267718970775604, 0.19822213053703308, 0.03295868635177612, 0.3750377893447876, 0.3933980464935303, 0.07158403843641281, 0.05303160101175308, 0.007676230277866125, 0.009796904399991035, 0.04306170344352722, 0.04485471919178963, 0.3503185212612152, 0.017845377326011658, 0.04265664145350456, 0.014837049879133701, 0.24847839772701263, 0.12401481717824936, 0.019291028380393982, 0.06889168918132782, 0.04572058096528053, 0.037768568843603134, 0.012456029653549194, 0.07475987076759338, 0.010474251583218575, 0.03045746684074402, 0.03206891939043999, 0.004361547529697418, 0.013291300274431705, 0.007346119731664658, 0.22593742609024048, 0.03171733766794205, 0.030374199151992798, 0.029327405616641045, 0.17159460484981537, 0.00706880446523428, 0.03008429706096649, 0.03821391612291336, 0.06838009506464005, 0.037331558763980865, 0.10849802196025848, 0.08085767924785614, 0.1787126064300537, 0.07646830379962921, 0.0177354346960783, 0.09278731793165207, 0.09102127701044083, 0.022029010578989983, 0.07952772080898285, 0.043373968452215195, 0.20978792011737823, 0.16240201890468597, 0.04387746378779411, 0.1089276373386383, 0.08381522446870804, 0.009845065884292126, 0.012712721712887287, 0.09487910568714142, 0.40874090790748596, 0.3581204414367676, 0.05661608278751373, 0.023381240665912628, 0.036207523196935654, 0.02787218615412712, 0.006839035078883171, 0.032536715269088745, 0.033352240920066833, 0.00683149229735136, 0.1434604972600937, 0.015244582667946815, 0.08286682516336441, 0.47927671670913696, 0.02780737727880478, 0.10942316800355911, 0.4817599952220917, 0.337398886680603, 0.009036415256559849, 0.011296525597572327, 0.018262898549437523, 0.08675063401460648, 0.016885560005903244, 0.03783312439918518, 0.06500283628702164, 0.10253515094518661, 0.4255908727645874, 0.5286838412284851, 0.033570848405361176, 0.09899681061506271, 0.03572006896138191, 0.4265305697917938, 0.271721214056015, 0.27673882246017456, 0.4963758885860443, 0.011651835404336452, 0.009064333513379097, 0.06781607121229172, 0.01517912745475769, 0.03172728791832924, 0.18532167375087738, 0.4216635525226593, 0.067461758852005, 0.033494848757982254, 0.03355906158685684, 0.03536415845155716, 0.1884147971868515, 0.0269556175917387, 0.01609024591743946, 0.13131029903888702, 0.08910971879959106, 0.024269428104162216, 0.2648199796676636, 0.01894819736480713, 0.04849667847156525, 0.09327143430709839, 0.01137648057192564, 0.019210975617170334, 0.05654536932706833, 0.031479764729738235, 0.08024841547012329, 0.01572244055569172, 0.1793099343776703, 0.13852855563163757, 0.13713087141513824, 0.07530195266008377, 0.09276586771011353, 0.02150745689868927, 0.21947325766086578, 0.15804344415664673, 0.01148936152458191, 0.05434247478842735, 0.14170889556407928, 0.44310450553894043, 0.008688387461006641, 0.2961721122264862, 0.08280449360609055, 0.01144435629248619, 0.02767881006002426, 0.012571224011480808, 0.020597044378519058, 0.027189459651708603, 0.16636547446250916, 0.03308553993701935, 0.06598258763551712, 0.07217417657375336, 0.216847762465477, 0.020745590329170227, 0.02847915142774582, 0.015411178581416607, 0.3358112871646881, 0.06151871010661125, 0.386253297328949, 0.004651899915188551, 0.12930342555046082, 0.01471034251153469, 0.03610804304480553, 0.11787941306829453, 0.04097423329949379, 0.29069042205810547, 0.09219764173030853, 0.04659685492515564, 0.028593672439455986, 0.019787613302469254, 0.1759520173072815, 0.11318407952785492, 0.12571567296981812, 0.021246260032057762, 0.016645872965455055, 0.1757970154285431, 0.37550491094589233, 0.010157638229429722, 0.35780593752861023, 0.05965949222445488, 0.054213542491197586, 0.02442188560962677, 0.24673797190189362, 0.016660325229167938, 0.018588438630104065, 0.11697865277528763, 0.0354420430958271, 0.0426466204226017, 0.11309721320867538, 0.024659594520926476, 0.20122580230236053, 0.20223011076450348, 0.18336020410060883, 0.009972965344786644, 0.005169527605175972, 0.07132037729024887, 0.0181097611784935, 0.31507450342178345, 0.009694104082882404, 0.2355460375547409, 0.05365431308746338, 0.03516710549592972, 0.012284708209335804, 0.09537310898303986, 0.27299535274505615, 0.0222172774374485, 0.20938599109649658, 0.1451229602098465, 0.11086511611938477, 0.2738967835903168, 0.0056196232326328754, 0.016905445605516434, 0.0435146763920784, 0.05025694891810417, 0.17316028475761414, 0.019487161189317703, 0.36661168932914734, 0.10514859110116959, 0.020291024819016457, 0.007135859690606594, 0.00837076548486948, 0.009330866858363152, 0.12585850059986115, 0.0189015232026577, 0.18247732520103455, 0.10632389783859253, 0.0757671371102333, 0.03943214192986488, 0.11737266182899475, 0.45534396171569824, 0.039021823555231094, 0.20447085797786713, 0.03662576526403427, 0.16491670906543732, 0.02830238826572895, 0.004849837627261877, 0.11491570621728897, 0.0870833545923233, 0.1278195083141327, 0.020516717806458473, 0.015556637197732925, 0.05425529181957245, 0.033937036991119385, 0.0068478635512292385, 0.21226446330547333, 0.1263812929391861, 0.02955440804362297, 0.029717929661273956, 0.0933530330657959, 0.00850246287882328, 0.00945631880313158, 0.08796292543411255, 0.1849384307861328, 0.07956944406032562, 0.16208288073539734, 0.449806272983551, 0.05543786287307739, 0.02486213855445385, 0.17102651298046112, 0.3836993873119354, 0.3702937364578247, 0.024554410949349403, 0.05819503590464592, 0.06551223248243332, 0.011721467599272728, 0.025133861228823662, 0.006750328466296196, 0.450979083776474, 0.01098755095154047, 0.055541690438985825, 0.017345009371638298, 0.03973758965730667, 0.07542822510004044, 0.01608949713408947, 0.516269326210022, 0.057459756731987, 0.013527467846870422, 0.03224954754114151, 0.03466721624135971, 0.00775101175531745, 0.023456798866391182, 0.014379184693098068, 0.24432559311389923, 0.2995297312736511, 0.3659180998802185, 0.0675053596496582, 0.058841146528720856, 0.5006139874458313, 0.010264023207128048, 0.026236001402139664, 0.0047829728573560715, 0.5489853024482727, 0.008029405027627945, 0.09221084415912628, 0.36353978514671326, 0.04891451820731163, 0.0471535287797451, 0.1892429143190384, 0.024340080097317696, 0.19855399429798126, 0.02977071888744831, 0.39162859320640564, 0.012344692833721638, 0.1417408138513565, 0.024811115115880966, 0.013064078986644745, 0.041022635996341705, 0.017581691965460777, 0.6012082099914551, 0.015481967478990555, 0.07727870345115662, 0.014623631723225117, 0.22465118765830994, 0.018010079860687256, 0.04588666930794716, 0.05482006445527077, 0.19458356499671936, 0.026776408776640892, 0.004031137563288212, 0.5613099932670593, 0.369823157787323, 0.01913745328783989, 0.017834031954407692, 0.49620434641838074, 0.007777801249176264, 0.026127979159355164, 0.09988099336624146, 0.5676105618476868, 0.32489046454429626, 0.026347646489739418, 0.2493104636669159, 0.022637546062469482, 0.6656311750411987, 0.20931535959243774, 0.0783420205116272, 0.06659284979104996, 0.06900771707296371, 0.12414248287677765, 0.05438994988799095, 0.17968009412288666, 0.2130797952413559, 0.14416146278381348, 0.018616145476698875, 0.06009334698319435, 0.1649671196937561, 0.36042726039886475, 0.13788990676403046, 0.08499880135059357, 0.12258173525333405, 0.03785117715597153, 0.44912323355674744, 0.04187093675136566, 0.06699356436729431, 0.4226579964160919, 0.39132219552993774, 0.12291369587182999, 0.41675153374671936, 0.03465796634554863, 0.0300369281321764, 0.12771961092948914, 0.05553026497364044, 0.07736209034919739, 0.01486253459006548, 0.027060292661190033, 0.04260968044400215, 0.01787649653851986, 0.018452368676662445, 0.06607311964035034, 0.01705862767994404, 0.03322456032037735, 0.01390391681343317, 0.012494831345975399, 0.17526109516620636, 0.1723075956106186, 0.04152342677116394, 0.008950157091021538, 0.062107913196086884, 0.04050733894109726, 0.1895330846309662, 0.28502288460731506, 0.007442305330187082, 0.059012994170188904, 0.007917581126093864, 1.0041126012802124, 0.007012111600488424, 0.012606377713382244, 0.15000560879707336, 0.023146839812397957, 0.13421308994293213, 0.014674791134893894, 0.025310931727290154, 0.04852969944477081, 0.037349551916122437, 0.7101017236709595, 0.03276820480823517, 0.10457617044448853, 0.02844102494418621, 0.08396557718515396, 0.04074862599372864, 0.029314382001757622, 0.16227664053440094, 0.08790691941976547, 0.06697488576173782, 0.15143775939941406, 0.012645270675420761, 0.015098251402378082, 0.016343943774700165, 0.08788229525089264, 0.028855254873633385, 0.013245416805148125, 0.4138431251049042, 0.055583152920007706, 0.012106050737202168, 0.4182620346546173, 0.011060688644647598, 0.4368370473384857, 0.027533678337931633, 0.011181546375155449, 0.028045110404491425, 0.03596208244562149, 0.016935523599386215, 0.35098469257354736, 0.24581071734428406, 0.23969650268554688, 0.19404970109462738, 0.33990323543548584, 0.050687722861766815, 0.047410748898983, 0.04455247521400452, 0.11416575312614441, 0.0170451570302248, 0.14404703676700592, 0.007963517680764198, 0.03636624291539192, 0.03588449954986572, 0.04394614323973656, 0.01773323491215706, 0.31573837995529175, 0.03380061686038971, 0.041625916957855225, 0.02617163583636284, 0.027862343937158585, 0.08218944072723389, 0.03240164369344711, 0.01606045663356781, 0.009441272355616093, 0.4647892415523529, 0.17660391330718994, 0.29330506920814514, 0.16212952136993408, 0.05041860044002533, 0.21061043441295624, 0.07167074084281921, 0.037666261196136475, 0.03409631550312042, 0.19082145392894745, 0.03380139172077179, 0.10756821185350418, 0.1713188737630844, 0.011337842792272568, 0.042786043137311935, 0.22052477300167084, 0.06067770719528198, 0.3634354770183563, 0.18677690625190735, 0.09281143546104431, 0.08029010891914368, 0.017906980589032173, 0.4409937262535095, 0.03307722508907318, 0.10501953214406967, 0.3679676949977875, 0.4939559996128082, 0.010141754522919655, 0.013276170007884502, 0.06197524443268776, 0.18523861467838287, 0.015187164768576622, 0.5064018368721008, 0.1096305400133133, 0.11936639994382858, 0.15486718714237213, 0.08789391070604324, 0.16184444725513458, 0.09893181920051575, 0.15117737650871277, 0.039406295865774155, 0.08993765711784363, 0.015003368258476257, 0.005254720337688923, 0.035014476627111435, 0.5776321291923523, 0.08590871840715408, 0.02727075107395649, 0.051720231771469116, 0.14072932302951813, 0.033182915300130844, 0.05886293202638626, 0.20658263564109802, 0.11175456643104553, 0.2869876027107239, 0.008826822973787785, 0.14302918314933777, 0.30258941650390625, 0.029924139380455017, 0.012323200702667236, 0.08079429715871811, 0.020896216854453087, 0.11925166100263596, 0.15554334223270416, 0.040899429470300674, 0.42996546626091003, 0.06392021477222443, 0.02837490104138851, 0.03629788011312485, 0.007223452441394329, 0.23084419965744019, 0.04233192652463913, 0.02068305015563965, 0.02458583004772663, 0.1371918022632599, 0.18162603676319122, 0.030085992068052292, 0.03333256021142006, 0.09505251049995422, 0.09082357585430145, 0.060908567160367966, 0.05264068767428398, 0.10473967343568802, 0.025159871205687523, 0.06800009310245514, 0.008177818730473518, 0.31892481446266174, 0.01856386289000511, 0.13473686575889587, 0.010765689425170422, 0.02090492472052574, 0.6041719317436218, 0.0360744334757328, 0.0900401845574379, 0.008660164661705494, 0.0026108704041689634, 0.34111258387565613, 0.010400443337857723, 0.0038642785511910915, 0.015119758434593678, 0.13328129053115845, 0.030031409114599228, 0.09952236711978912, 0.29282915592193604, 0.005008647218346596, 0.006465116050094366, 0.025699183344841003, 0.47376441955566406, 0.21277673542499542, 0.0900888741016388, 0.006198015995323658, 0.060371942818164825, 0.1089378073811531, 0.17333780229091644, 0.010557720437645912, 0.021454162895679474, 0.010832283645868301, 0.15404251217842102, 0.15936358273029327, 0.04840956628322601, 0.00458594411611557, 0.40754082798957825, 0.012722698971629143, 0.5336193442344666, 0.007106466218829155, 0.2470383197069168, 0.08796283602714539, 0.02451939880847931, 0.746928870677948, 0.21778644621372223, 0.3204273283481598, 0.10958711057901382, 0.06481937319040298, 0.5541574954986572, 0.30354294180870056, 0.41523635387420654, 0.4782126247882843, 0.01573796197772026, 0.07857581228017807, 0.0595194548368454, 0.06611562520265579, 0.28242066502571106, 0.01636873185634613, 0.1451646387577057, 0.033927347511053085, 0.03073088638484478, 0.7649348378181458, 0.12779009342193604, 0.15343733131885529, 0.010677780024707317, 0.181484654545784, 0.49276667833328247, 0.021286409348249435, 0.015739649534225464, 0.04270324856042862, 0.48948967456817627, 0.05852511525154114, 0.2234833985567093, 0.01956179179251194, 0.20186854898929596, 0.43018245697021484, 0.02448493242263794, 0.12538088858127594, 0.019502440467476845, 0.051237672567367554, 0.10028915107250214, 0.06428124755620956, 0.04919905588030815, 0.08027645945549011, 0.04874441400170326, 0.14998847246170044, 0.23147059977054596, 0.480255126953125, 0.18013982474803925, 0.13626441359519958, 0.5296552777290344, 0.058451466262340546, 0.010290765203535557, 0.11485224217176437, 0.12393341958522797, 0.01158000249415636, 0.04900404065847397, 0.10622353106737137, 0.7776479721069336, 0.13513149321079254, 0.20648255944252014, tensor(7.9173e-05, device='cuda:0', grad_fn=<DivBackward0>)]\n",
            "Train Accuracy: [0.0003834355828220859, 0.00028757668711656444, 0.0003834355828220859, 0.0003834355828220859]\n"
          ],
          "name": "stdout"
        },
        {
          "output_type": "stream",
          "text": [
            "Epoch: 100%|██████████| 4/4 [35:09<00:00, 527.31s/it]"
          ],
          "name": "stderr"
        },
        {
          "output_type": "stream",
          "text": [
            "Validation Accuracy: 0.739658273381295\n"
          ],
          "name": "stdout"
        },
        {
          "output_type": "stream",
          "text": [
            "\n"
          ],
          "name": "stderr"
        }
      ]
    },
    {
      "cell_type": "code",
      "metadata": {
        "id": "TLv-EMEBWSy3",
        "colab": {
          "base_uri": "https://localhost:8080/",
          "height": 513
        },
        "outputId": "471377ea-a7c3-4b29-d960-e436d11609db"
      },
      "source": [
        "%matplotlib inline\n",
        "import matplotlib.pyplot as plt\n",
        "\n",
        "plt.figure(figsize=(15,8))\n",
        "plt.title(\"Training loss\")\n",
        "plt.xlabel(\"Batch\")\n",
        "plt.ylabel(\"Loss\")\n",
        "plt.plot(train_loss_set)\n",
        "plt.show()"
      ],
      "execution_count": null,
      "outputs": [
        {
          "output_type": "display_data",
          "data": {
            "image/png": "[encoded data removed]",
            "text/plain": [
              "<Figure size 1080x576 with 1 Axes>"
            ]
          },
          "metadata": {
            "tags": [],
            "needs_background": "light"
          }
        }
      ]
    },
    {
      "cell_type": "code",
      "metadata": {
        "id": "V5A3tPBykVai",
        "colab": {
          "base_uri": "https://localhost:8080/",
          "height": 499
        },
        "outputId": "067719f6-e182-4ddf-c421-3e1d457d90d2"
      },
      "source": [
        "plt.figure(figsize=(15,8))\n",
        "plt.title(\"Training accuracy vs Validation accuracy\")\n",
        "# plt.xlabel(\"Batch\")\n",
        "# plt.ylabel(\"Loss\")\n",
        "plt.plot(train_loss_set)\n",
        "plt.show()"
      ],
      "execution_count": null,
      "outputs": [
        {
          "output_type": "display_data",
          "data": {
            "image/png": "[encoded data removed]",
            "text/plain": [
              "<Figure size 1080x576 with 1 Axes>"
            ]
          },
          "metadata": {
            "tags": [],
            "needs_background": "light"
          }
        }
      ]
    },
    {
      "cell_type": "code",
      "metadata": {
        "id": "2JAPrkdyKZwm",
        "colab": {
          "base_uri": "https://localhost:8080/",
          "height": 196
        },
        "outputId": "5a299a3f-7c69-47c4-9510-2d07912bbe92"
      },
      "source": [
        "devset.head()"
      ],
      "execution_count": null,
      "outputs": [
        {
          "output_type": "execute_result",
          "data": {
            "text/html": [
              "<div>\n",
              "<style scoped>\n",
              "    .dataframe tbody tr th:only-of-type {\n",
              "        vertical-align: middle;\n",
              "    }\n",
              "\n",
              "    .dataframe tbody tr th {\n",
              "        vertical-align: top;\n",
              "    }\n",
              "\n",
              "    .dataframe thead th {\n",
              "        text-align: right;\n",
              "    }\n",
              "</style>\n",
              "<table border=\"1\" class=\"dataframe\">\n",
              "  <thead>\n",
              "    <tr style=\"text-align: right;\">\n",
              "      <th></th>\n",
              "      <th>Label</th>\n",
              "      <th>Text</th>\n",
              "    </tr>\n",
              "  </thead>\n",
              "  <tbody>\n",
              "    <tr>\n",
              "      <th>0</th>\n",
              "      <td>__label__ht</td>\n",
              "      <td>Chances are you have huge amounts of LEGO lyin...</td>\n",
              "    </tr>\n",
              "    <tr>\n",
              "      <th>1</th>\n",
              "      <td>__label__ht</td>\n",
              "      <td>Being a successful employee is similar to runn...</td>\n",
              "    </tr>\n",
              "    <tr>\n",
              "      <th>2</th>\n",
              "      <td>__label__ht</td>\n",
              "      <td>How would one go about making this song the of...</td>\n",
              "    </tr>\n",
              "    <tr>\n",
              "      <th>3</th>\n",
              "      <td>__label__ht</td>\n",
              "      <td>Tips for Storing Cookies  How to Store and Kee...</td>\n",
              "    </tr>\n",
              "    <tr>\n",
              "      <th>4</th>\n",
              "      <td>__label__ht</td>\n",
              "      <td>Surviving the Sucker Punch  Written by Mannie ...</td>\n",
              "    </tr>\n",
              "  </tbody>\n",
              "</table>\n",
              "</div>"
            ],
            "text/plain": [
              "         Label                                               Text\n",
              "0  __label__ht  Chances are you have huge amounts of LEGO lyin...\n",
              "1  __label__ht  Being a successful employee is similar to runn...\n",
              "2  __label__ht  How would one go about making this song the of...\n",
              "3  __label__ht  Tips for Storing Cookies  How to Store and Kee...\n",
              "4  __label__ht  Surviving the Sucker Punch  Written by Mannie ..."
            ]
          },
          "metadata": {
            "tags": []
          },
          "execution_count": 81
        }
      ]
    },
    {
      "cell_type": "markdown",
      "metadata": {
        "id": "utXxrOZmYgf5"
      },
      "source": [
        "### Predict and Evaluate on Holdout Set\n"
      ]
    },
    {
      "cell_type": "code",
      "metadata": {
        "id": "sJ0hlUD7XEuK"
      },
      "source": [
        "\n",
        "# Create sentence and label lists\n",
        "sentence_dev = devset.Text.values\n",
        "\n",
        "# We need to add special tokens at the beginning and end of each sentence for XLNet to work properly\n",
        "sentence_dev = [sentence + \" [SEP] [CLS]\" for sentence in sentence_dev]\n",
        "labels_ = label_encoder.fit_transform(devset.Label.values)\n",
        "\n",
        "\n",
        "tokenized_texts = [tokenizer.tokenize(sent) for sent in sentence_dev]\n",
        "\n",
        "\n",
        "MAX_LEN = 128\n",
        "# Use the XLNet tokenizer to convert the tokens to their index numbers in the XLNet vocabulary\n",
        "input_ids = [tokenizer.convert_tokens_to_ids(x) for x in tokenized_texts]\n",
        "# Pad our input tokens\n",
        "input_ids = pad_sequences(input_ids, maxlen=MAX_LEN, dtype=\"long\", truncating=\"post\", padding=\"post\")\n",
        "# Create attention masks\n",
        "attention_masks = []\n",
        "\n",
        "# Create a mask of 1s for each token followed by 0s for padding\n",
        "for seq in input_ids:\n",
        "  seq_mask = [float(i>0) for i in seq]\n",
        "  attention_masks.append(seq_mask) \n",
        "\n",
        "prediction_inputs = torch.tensor(input_ids)\n",
        "prediction_masks = torch.tensor(attention_masks)\n",
        "prediction_labels = torch.tensor(labels_)\n",
        "  \n",
        "batch_size = 16  \n",
        "\n",
        "\n",
        "prediction_data = TensorDataset(prediction_inputs, prediction_masks, prediction_labels)\n",
        "prediction_sampler = SequentialSampler(prediction_data)\n",
        "prediction_dataloader = DataLoader(prediction_data, sampler=prediction_sampler, batch_size=batch_size)"
      ],
      "execution_count": null,
      "outputs": []
    },
    {
      "cell_type": "code",
      "metadata": {
        "id": "BwDKQrOCbZjO"
      },
      "source": [
        "# Prediction on test set\n",
        "\n",
        "# Put model in evaluation mode\n",
        "model.eval()\n",
        "\n",
        "# Tracking variables \n",
        "predictions , true_labels = [], []\n",
        "\n",
        "# Predict \n",
        "for batch in prediction_dataloader:\n",
        "  # Add batch to GPU\n",
        "  batch = tuple(t.to(device) for t in batch)\n",
        "  # Unpack the inputs from our dataloader\n",
        "  b_input_ids, b_input_mask, b_labels = batch\n",
        "  # Telling the model not to compute or store gradients, saving memory and speeding up prediction\n",
        "  with torch.no_grad():\n",
        "    # Forward pass, calculate logit predictions\n",
        "    outputs = model(b_input_ids, token_type_ids=None, attention_mask=b_input_mask)\n",
        "    logits = outputs[0]\n",
        "\n",
        "  # Move logits and labels to CPU\n",
        "  logits = logits.detach().cpu().numpy()\n",
        "  label_ids = b_labels.to('cpu').numpy()\n",
        "  \n",
        "  # Store predictions and true labels\n",
        "  predictions.append(logits)\n",
        "  true_labels.append(label_ids)"
      ],
      "execution_count": null,
      "outputs": []
    },
    {
      "cell_type": "code",
      "metadata": {
        "id": "zl9Fj076_9wF",
        "colab": {
          "base_uri": "https://localhost:8080/"
        },
        "outputId": "02e5bb4f-615b-4f06-93d3-47b139c7c09e"
      },
      "source": [
        "# for pred in predictions:\n",
        "#   print(np.argmax(pred,axis=1))\n",
        "\n",
        "print(true_labels)"
      ],
      "execution_count": null,
      "outputs": [
        {
          "output_type": "stream",
          "text": [
            "[array([9, 9, 9, 9, 9, 9, 9, 9, 9, 9, 9, 9, 9, 9, 9, 9]), array([9, 9, 9, 9, 9, 9, 9, 9, 9, 9, 9, 9, 9, 9, 9, 9]), array([9, 9, 9, 9, 9, 9, 9, 9, 9, 9, 9, 9, 9, 9, 9, 9]), array([9, 9, 9, 9, 9, 9, 9, 9, 9, 9, 9, 9, 9, 9, 9, 9]), array([9, 9, 9, 9, 9, 9, 9, 9, 9, 9, 9, 9, 9, 9, 9, 9]), array([ 9,  9, 18, 18, 18, 18, 18, 18, 18, 18, 18, 18, 18, 18,  1,  1]), array([1, 1, 1, 1, 1, 1, 1, 1, 1, 1, 1, 1, 1, 1, 1, 1]), array([1, 1, 1, 1, 1, 1, 1, 1, 1, 1, 1, 1, 1, 1, 1, 1]), array([1, 1, 1, 1, 1, 1, 1, 1, 1, 1, 1, 1, 1, 1, 1, 1]), array([1, 1, 1, 1, 1, 1, 1, 1, 1, 1, 1, 1, 1, 1, 1, 1]), array([1, 1, 1, 1, 1, 1, 1, 1, 1, 1, 1, 1, 1, 1, 1, 1]), array([1, 1, 1, 1, 1, 1, 1, 1, 1, 1, 1, 1, 1, 1, 1, 1]), array([1, 1, 1, 1, 1, 1, 1, 1, 1, 1, 1, 1, 1, 1, 1, 1]), array([1, 1, 1, 1, 1, 1, 1, 1, 1, 1, 1, 1, 1, 1, 1, 1]), array([1, 1, 1, 1, 1, 1, 1, 1, 1, 1, 1, 1, 1, 1, 1, 1]), array([1, 1, 1, 1, 1, 1, 1, 1, 1, 1, 1, 1, 1, 1, 1, 1]), array([1, 1, 1, 1, 1, 1, 1, 1, 1, 1, 1, 1, 1, 1, 1, 1]), array([ 1, 16, 16, 16, 16, 16, 16, 16, 16, 16, 16, 16, 16, 16, 16, 16]), array([16, 16, 16, 16, 16, 16, 16, 16, 16, 16, 16, 16, 16, 16, 16, 16]), array([16, 16, 16, 16, 16, 16, 16, 16, 16, 16, 16, 16, 16, 16, 16, 16]), array([16, 16, 16, 16, 16, 16, 16, 16, 16, 16, 16, 16, 16, 16, 16, 16]), array([16, 16, 16, 16, 16, 16, 16, 16, 16, 16, 16, 16, 16, 16, 16, 16]), array([16, 16, 16, 16, 16, 16, 16, 16, 16, 16, 16,  2,  2,  2,  2,  2]), array([2, 2, 2, 2, 2, 2, 2, 2, 2, 2, 2, 2, 2, 2, 2, 2]), array([2, 2, 2, 2, 2, 2, 2, 2, 4, 4, 4, 4, 4, 4, 4, 4]), array([4, 4, 4, 4, 4, 4, 4, 4, 4, 4, 4, 4, 4, 4, 4, 4]), array([4, 4, 4, 4, 4, 4, 4, 4, 4, 4, 4, 4, 4, 4, 4, 4]), array([4, 4, 4, 4, 4, 4, 4, 4, 4, 4, 4, 4, 4, 4, 4, 4]), array([4, 4, 4, 4, 4, 4, 4, 4, 4, 4, 4, 4, 4, 4, 4, 4]), array([4, 4, 4, 4, 4, 4, 4, 4, 4, 4, 4, 4, 4, 4, 4, 4]), array([4, 4, 4, 4, 4, 4, 4, 4, 4, 4, 4, 4, 4, 4, 4, 4]), array([4, 4, 4, 4, 4, 4, 4, 4, 4, 4, 4, 4, 4, 4, 4, 4]), array([4, 4, 4, 4, 4, 4, 4, 4, 4, 4, 4, 4, 4, 4, 4, 4]), array([4, 4, 4, 4, 4, 4, 4, 4, 4, 4, 4, 4, 4, 4, 4, 4]), array([4, 4, 4, 4, 4, 5, 5, 5, 5, 5, 5, 5, 5, 5, 5, 5]), array([5, 5, 5, 5, 5, 5, 5, 5, 5, 5, 5, 5, 5, 5, 5, 5]), array([5, 5, 5, 5, 5, 5, 5, 5, 5, 5, 5, 5, 5, 5, 5, 5]), array([ 5,  5,  5,  6,  6,  6,  6,  6,  6,  6,  6,  6,  6, 10, 10, 10]), array([10, 10, 10, 10, 10, 10, 10, 10, 10, 10, 10, 10, 10, 10, 10, 10]), array([10, 10, 10, 10, 10, 10, 10, 10, 10, 10, 10, 10, 10, 10, 17, 17]), array([17, 17, 17, 17, 17, 17, 17, 17, 17, 17, 17, 17, 17, 17, 17, 17]), array([17, 17, 17, 17, 17, 17, 17, 17, 17, 17, 17, 17, 17, 17, 17, 17]), array([17, 17, 17, 17, 17, 17, 17,  3,  3,  3,  3,  3,  3,  3,  3,  3]), array([3, 3, 3, 3, 3, 3, 3, 3, 3, 3, 3, 3, 3, 3, 3, 3]), array([3, 3, 3, 3, 3, 3, 3, 3, 3, 3, 3, 3, 3, 3, 3, 3]), array([3, 3, 3, 3, 3, 3, 3, 3, 3, 3, 3, 3, 3, 3, 3, 3]), array([ 3,  3,  3,  3,  3,  3,  3,  3,  3,  3,  3,  3, 15, 15, 15, 15]), array([15, 21, 21, 21, 21, 21, 21, 21, 21, 21, 21, 21, 21, 21, 21, 21]), array([21, 21, 21, 21, 21, 21, 21, 21, 21, 21, 21, 21, 21, 21, 21, 21]), array([21, 21, 21, 21, 21, 21, 21, 21, 21, 21, 21, 21, 21, 21, 21, 21]), array([21, 21, 21, 21, 21,  2,  8,  8,  8,  8,  8,  8,  8,  8,  8,  8]), array([ 8,  8,  8,  8,  8,  8,  8,  8,  8,  8, 12, 12, 12, 12, 12, 12]), array([12, 12, 12, 12, 12, 12, 12, 12, 12, 12, 12, 12, 12, 12, 12, 12]), array([12, 12, 12, 12, 12, 12, 12, 12, 12, 12, 12, 12, 12, 12, 12, 12]), array([12, 12, 12, 12, 12, 12, 12, 12, 12, 12, 12, 12, 12, 12, 12, 12]), array([12, 12, 12, 12, 12, 12, 12, 12, 12, 12, 12, 12, 12, 12, 12, 12]), array([12, 12, 12, 12, 12, 12, 12, 12, 12, 12, 12, 12, 12, 12, 12, 12]), array([12, 12, 12, 12, 12, 12, 12, 12, 12, 12, 12, 12, 12, 12, 12, 12]), array([12, 12, 12, 12, 12, 12, 12, 12, 12, 12, 12, 12, 12, 12, 12, 12]), array([12, 12, 12, 12, 12, 12, 12, 12, 12, 12, 12, 12, 12, 12, 12, 12]), array([12, 12, 12, 12, 12, 12, 12, 12, 12, 12, 12, 12, 12, 12, 12, 12]), array([12, 12, 12, 12, 12, 12, 12, 12, 12, 12, 12, 12, 12, 12, 12, 12]), array([12, 12, 12, 12, 12, 12, 12, 12, 12, 12, 12, 12, 12, 12, 12, 12]), array([12, 12, 12, 12, 12, 12, 12, 12, 12, 12, 12, 12, 12, 12, 12, 12]), array([12, 12, 12, 12, 12, 12, 12, 12, 12, 12, 12, 12, 12, 12, 12, 12]), array([12, 12, 12, 12, 12, 12, 12, 12, 12, 12, 12, 12, 12, 12, 12, 12]), array([12, 12, 12, 12, 12, 12, 12, 12, 12, 12, 12, 12, 12, 12, 12, 12]), array([12, 12, 12, 12, 12, 12, 12, 12, 12, 12, 12, 12, 12, 12, 12, 12]), array([12, 12, 12, 12, 12, 12, 12, 12, 12, 12, 12, 12, 12, 12, 12, 12]), array([12, 12, 12, 12, 12, 12, 12, 12, 12, 12, 12, 12, 12, 12, 12, 12]), array([12, 12, 12, 12, 12, 12, 12, 12, 12, 12, 12, 12, 12, 12, 12, 12]), array([12, 12, 12, 12, 12, 12, 12, 12, 12, 12, 12, 12, 12, 12, 12, 12]), array([12, 12, 12, 12, 12, 12, 12, 12, 12, 12, 12, 12, 12, 12, 12, 12]), array([12, 12, 12, 12, 12, 12, 12, 12, 12, 12, 12, 12, 12, 12, 12, 12]), array([12, 12, 12, 12, 12, 12, 12, 12, 12, 12, 12, 12, 12, 12, 12, 12]), array([12, 12, 12, 12, 12, 12, 12, 12, 12, 12, 12, 12, 12, 12, 12, 12]), array([12, 12, 12, 12, 12, 12, 12, 12, 12, 12, 12, 12, 12, 12, 12, 12]), array([12, 12, 12, 12, 12, 12, 12, 12, 12, 12, 12, 12, 12, 12, 12, 12]), array([12, 12, 12, 12, 12, 12, 12, 12, 12, 12, 12, 12, 12, 12, 12, 12]), array([12, 12, 12, 12, 12, 12, 12, 12, 12, 12, 12, 12, 12, 12, 12, 12]), array([12, 12, 12, 12, 12, 12, 12, 12, 12, 12, 12, 12, 12, 12, 12, 12]), array([12, 12, 12, 12, 12, 12, 12, 12, 12, 12, 12, 12, 12, 12, 12, 12]), array([12, 12, 12, 12, 12, 12, 12, 12, 12, 12, 12, 12, 12, 12, 12, 12]), array([12, 12, 12, 12, 12, 12, 12, 12, 12, 12, 12, 12, 12, 12, 12, 12]), array([12, 12, 12, 12, 12, 12, 12, 12, 12, 12, 12, 12, 12, 12, 12, 12]), array([12, 12, 12, 12, 12, 12, 12, 12, 12, 12, 12, 12, 12, 12, 12, 12]), array([12, 12, 12, 12, 12, 12, 12, 12, 12, 12, 12, 12, 12, 12, 12, 12]), array([12, 12, 12, 12, 12, 12, 12, 12, 12, 12, 12, 12, 12, 12, 12, 12]), array([12, 12, 12, 12, 12, 12, 12, 12, 12, 12, 12, 12, 12, 12, 12, 12]), array([12, 12, 12, 12, 12, 12, 12, 12, 12, 12, 12, 12, 12, 12, 12, 12]), array([12, 12, 12, 12, 12, 12, 12, 12, 12, 12, 12, 12, 12, 12, 12, 12]), array([12, 12, 12, 12, 12, 12, 12, 12, 12, 12, 12, 12, 12, 12, 12, 12]), array([12, 12, 12, 12, 12, 12, 12, 12, 12, 12, 12, 12, 12, 12, 12, 12]), array([12, 12, 12, 12, 12, 12, 12, 12, 12, 12, 12, 12, 12, 12, 12, 12]), array([12, 12, 12, 12, 12, 12, 12, 12, 12, 12, 12, 12, 12, 12, 12, 12]), array([12, 12, 12, 12, 12, 12, 12, 12, 12, 12, 12, 12, 12, 12, 12, 12]), array([12, 12, 12, 12, 12, 12, 12, 12, 12, 12, 12, 12, 12, 12, 12, 12]), array([12, 12, 12, 12, 12, 12, 12, 12, 12, 12, 12, 12, 12, 12, 12, 12]), array([12, 12, 12, 12, 12, 12, 12, 12, 12, 12, 12, 12, 12, 12, 12, 12]), array([12, 12, 12, 12, 12, 12, 12, 12, 12, 12, 12, 12, 12, 12, 12, 12]), array([12, 12, 12, 12, 12, 12, 12, 12, 12, 12, 12, 12, 12, 12, 12, 12]), array([14, 14, 14, 14, 14, 14, 14, 14, 14, 14, 14, 14, 14, 14, 14, 14]), array([14, 14, 14, 14, 14, 14, 14, 14, 14, 14, 14, 14, 14, 14, 14, 14]), array([14, 14, 14, 14, 14, 14, 14, 14, 14, 14, 14, 14, 14, 14, 14, 14]), array([14, 14, 14, 14, 14, 14, 14, 14, 14, 14, 14, 14, 14, 14, 14, 14]), array([14, 14, 14, 14, 14, 14, 14, 14, 14, 14, 14, 14, 14, 14, 14, 14]), array([14, 14, 14, 14, 14, 14, 14, 14, 14, 14, 14, 14, 14, 14, 14, 14]), array([14, 14, 14, 14, 14, 14, 14, 14, 14, 14, 14, 14, 14, 14, 14, 14]), array([14, 14, 14, 14, 14, 14, 14, 14, 14, 14, 14, 14, 14, 14, 14, 14]), array([14, 14, 14, 14, 14, 14, 14, 14, 14, 14, 14, 14, 14, 14, 14, 14]), array([14, 14, 14, 14, 14, 14, 14, 14, 14, 14, 14, 14, 14, 14, 14, 14]), array([14, 14, 14, 14, 14, 14, 14, 14, 14, 14, 14, 22, 22, 22, 22, 22]), array([22, 22, 22, 22, 22, 22, 22, 22, 22, 22, 22, 22, 22, 22, 22, 22]), array([22, 22, 22, 22, 22, 22, 22, 22, 22, 22, 22, 22, 22, 22, 22, 22]), array([22, 22, 22, 22, 22, 22, 22, 22, 22, 22, 22, 22, 22, 22, 22, 22]), array([22, 22, 22, 22, 22, 22, 22, 22, 22, 22, 22, 22, 22, 22, 22, 22]), array([22, 22, 22, 22, 22, 22, 22, 22, 22, 22, 22, 22, 22, 22, 22, 22]), array([22, 22, 22, 22, 22, 22, 22, 22, 22, 22, 22, 22, 22, 22, 22, 22]), array([22, 22, 22, 22, 22, 22, 22, 22, 22, 22, 22, 22, 22, 22, 22, 22]), array([22, 22, 22, 22, 22, 22, 22, 22, 22, 22, 22, 22, 22, 22, 22, 22]), array([22, 22, 22, 22, 22, 22, 22, 22, 22, 22, 22, 22, 22, 22, 22, 22]), array([22, 22, 22, 22, 22, 22, 22, 22, 22, 22, 22, 22, 22, 22, 22, 22]), array([22, 22, 22, 22, 22, 22, 22, 22, 22, 22, 22, 22, 22, 22, 22, 22]), array([22, 22, 22, 22, 22, 22, 22, 22, 22, 22, 22, 22, 22, 22, 22, 22]), array([22, 22, 22, 22, 22, 22, 22, 22, 22, 22, 22, 22, 22, 22, 22, 22]), array([22, 22, 22, 22, 22, 22, 22, 22, 22, 22, 22, 22, 22, 22, 22, 22]), array([22, 22, 22, 22, 22, 22, 22, 22, 22, 22, 22, 22, 22, 22, 23, 23]), array([23, 23, 23, 23, 23, 23, 23, 23, 23, 23, 23, 23, 23, 23, 23, 24]), array([24, 24, 24, 24, 24, 24, 24, 24, 24, 24, 24,  0,  0,  0,  0,  0]), array([0, 0, 0, 0, 0, 0, 0, 0, 0, 0, 0, 0, 0, 0, 0, 0]), array([ 0,  0,  0,  0,  0,  0,  0,  0,  0,  0, 13, 13, 13, 13, 13, 13]), array([13, 13, 13, 13, 13, 13, 13, 13, 13, 13, 13, 13, 13, 13, 13, 13]), array([13, 13, 13, 13, 13, 13, 13, 13, 13, 13, 13, 13, 13, 13, 13, 13]), array([13, 13, 13, 13, 13, 13, 13, 13, 13, 13, 13, 13, 13, 13, 13, 13]), array([13, 13, 13, 13, 13, 13, 13, 13, 13, 13, 13, 13, 13, 13, 13, 13]), array([13, 13, 13, 13, 13, 13, 13, 13, 13, 13, 13, 13, 13, 13, 13, 13]), array([13, 13, 13, 13, 13, 13, 13, 13, 13, 13, 13, 13, 13, 13, 13, 13]), array([13, 13, 13, 13, 13, 13, 13, 13, 13, 13, 13, 13, 13, 13, 13, 13]), array([13, 13, 13, 13, 13, 13, 13, 13, 13, 13, 13, 13, 13, 13, 13, 13]), array([13, 13, 13, 13, 13, 13, 13, 13, 13, 13, 13, 13, 13, 13, 13, 13]), array([13, 13, 13, 13, 13, 13, 13, 13, 13, 13, 13, 13, 13, 13, 13, 13]), array([13, 13, 13, 13, 13, 13, 13, 13, 13, 13, 13, 13, 13, 13, 13, 13]), array([13, 13, 13, 13, 13, 13, 13, 13, 13, 13, 13, 13, 13, 13, 13, 13]), array([13, 13, 13, 13, 13, 13, 13, 13, 19, 19, 19, 19, 19, 19, 19, 19]), array([19, 19, 19, 19, 19, 19, 19, 19, 19, 19, 19, 19, 19, 19, 19, 19]), array([19, 19, 19, 19, 19, 19, 19, 19, 19, 19, 19, 19, 19, 19, 19, 19]), array([19, 19, 19, 19, 19, 19, 20, 20, 20, 20, 20, 20, 20, 20, 20, 20]), array([20, 20, 20, 20, 20, 20, 20, 20, 20, 20, 20, 20, 20, 20, 20, 20]), array([20, 20, 20, 20, 20, 20, 20, 20, 20, 20, 20, 20, 20, 20, 20, 20]), array([20, 20, 20, 20, 20, 20, 20, 20, 20, 20, 20, 20, 20, 20, 20, 20]), array([20, 20, 20, 20, 20, 20, 20, 20, 20, 20, 20, 20, 20, 20, 20, 20]), array([20, 20, 20, 20, 20, 20, 20, 20, 20, 20, 20, 20, 20, 20, 20, 20]), array([20, 20, 20, 20, 20, 20, 20, 20, 20, 20, 20, 20, 20, 20, 20, 20]), array([20, 20, 20, 20, 20, 20, 20,  7,  7, 11, 11, 11, 11, 11, 11, 11]), array([11, 11, 11, 11, 11, 11, 11, 11, 11, 11, 11, 11, 11, 11, 11, 11]), array([11, 11, 11, 11, 25])]\n"
          ],
          "name": "stdout"
        }
      ]
    },
    {
      "cell_type": "code",
      "metadata": {
        "id": "F9tJgG_f_x2Q"
      },
      "source": [
        "# from sklearn.metrics import classification_report\n",
        "# y_true = true_labels\n",
        "# y_pred = np.argmax(predictions)\n",
        "# print(classification_report(y_true, y_pred))"
      ],
      "execution_count": null,
      "outputs": []
    },
    {
      "cell_type": "code",
      "metadata": {
        "id": "e5z7SfQocTa5",
        "colab": {
          "base_uri": "https://localhost:8080/"
        },
        "outputId": "b1845cff-6ffd-4a04-a5d3-1fc255706d6f"
      },
      "source": [
        "# Import and evaluate each test batch using Matthew's correlation coefficient\n",
        "from sklearn.metrics import matthews_corrcoef\n",
        "matthews_set = []\n",
        "\n",
        "for i in range(len(true_labels)):\n",
        "  matthews = matthews_corrcoef(true_labels[i],\n",
        "                 np.argmax(predictions[i], axis=1).flatten())\n",
        "  matthews_set.append(matthews)"
      ],
      "execution_count": null,
      "outputs": [
        {
          "output_type": "stream",
          "text": [
            "/usr/local/lib/python3.6/dist-packages/sklearn/metrics/_classification.py:900: RuntimeWarning: invalid value encountered in double_scalars\n",
            "  mcc = cov_ytyp / np.sqrt(cov_ytyt * cov_ypyp)\n"
          ],
          "name": "stderr"
        }
      ]
    },
    {
      "cell_type": "code",
      "metadata": {
        "id": "et8eqj0fI82x",
        "colab": {
          "base_uri": "https://localhost:8080/"
        },
        "outputId": "561a14d3-a645-4d7f-c3b6-18f630802454"
      },
      "source": [
        "matthews_set"
      ],
      "execution_count": null,
      "outputs": [
        {
          "output_type": "execute_result",
          "data": {
            "text/plain": [
              "[0.0,\n",
              " 0.0,\n",
              " 0.0,\n",
              " 0.0,\n",
              " 0.0,\n",
              " 0.7453783886776517,\n",
              " 0.0,\n",
              " 0.0,\n",
              " 0.0,\n",
              " 0.0,\n",
              " 0.0,\n",
              " 0.0,\n",
              " 0.0,\n",
              " 0.0,\n",
              " 0.0,\n",
              " 0.0,\n",
              " 0.0,\n",
              " 0.6831300510639733,\n",
              " 0.0,\n",
              " 0.0,\n",
              " 0.0,\n",
              " 0.0,\n",
              " 0.4958204282224728,\n",
              " 0.0,\n",
              " 0.5050762722761054,\n",
              " 0.0,\n",
              " 0.0,\n",
              " 0.0,\n",
              " 0.0,\n",
              " 0.0,\n",
              " 0.0,\n",
              " 0.0,\n",
              " 0.0,\n",
              " 0.0,\n",
              " 0.6801088261189652,\n",
              " 0.0,\n",
              " 0.0,\n",
              " 0.2548509505142025,\n",
              " 0.0,\n",
              " 0.2923136380967478,\n",
              " 0.0,\n",
              " 0.0,\n",
              " 0.6483527187784863,\n",
              " 0.0,\n",
              " 0.0,\n",
              " 0.0,\n",
              " 0.300964632714423,\n",
              " 0.25896619868911863,\n",
              " 0.0,\n",
              " 0.0,\n",
              " 0.5820908754086792,\n",
              " 1.0,\n",
              " 0.0,\n",
              " 0.0,\n",
              " 0.0,\n",
              " 0.0,\n",
              " 0.0,\n",
              " 0.0,\n",
              " 0.0,\n",
              " 0.0,\n",
              " 0.0,\n",
              " 0.0,\n",
              " 0.0,\n",
              " 0.0,\n",
              " 0.0,\n",
              " 0.0,\n",
              " 0.0,\n",
              " 0.0,\n",
              " 0.0,\n",
              " 0.0,\n",
              " 0.0,\n",
              " 0.0,\n",
              " 0.0,\n",
              " 0.0,\n",
              " 0.0,\n",
              " 0.0,\n",
              " 0.0,\n",
              " 0.0,\n",
              " 0.0,\n",
              " 0.0,\n",
              " 0.0,\n",
              " 0.0,\n",
              " 0.0,\n",
              " 0.0,\n",
              " 0.0,\n",
              " 0.0,\n",
              " 0.0,\n",
              " 0.0,\n",
              " 0.0,\n",
              " 0.0,\n",
              " 0.0,\n",
              " 0.0,\n",
              " 0.0,\n",
              " 0.0,\n",
              " 0.0,\n",
              " 0.0,\n",
              " 0.0,\n",
              " 0.0,\n",
              " 0.0,\n",
              " 0.0,\n",
              " 0.0,\n",
              " 0.0,\n",
              " 0.0,\n",
              " 0.0,\n",
              " 0.0,\n",
              " 0.0,\n",
              " 0.0,\n",
              " 0.0,\n",
              " 0.0,\n",
              " 0.0,\n",
              " 0.0,\n",
              " 0.5608750963198337,\n",
              " 0.0,\n",
              " 0.0,\n",
              " 0.0,\n",
              " 0.0,\n",
              " 0.0,\n",
              " 0.0,\n",
              " 0.0,\n",
              " 0.0,\n",
              " 0.0,\n",
              " 0.0,\n",
              " 0.0,\n",
              " 0.0,\n",
              " 0.0,\n",
              " 0.0,\n",
              " 0.7968798037362896,\n",
              " 0.31652708247382866,\n",
              " 0.4336616683635956,\n",
              " 0.0,\n",
              " 0.5200115239287747,\n",
              " 0.0,\n",
              " 0.0,\n",
              " 0.0,\n",
              " 0.0,\n",
              " 0.0,\n",
              " 0.0,\n",
              " 0.0,\n",
              " 0.0,\n",
              " 0.0,\n",
              " 0.0,\n",
              " 0.0,\n",
              " 0.0,\n",
              " 0.5642880936468347,\n",
              " 0.0,\n",
              " 0.0,\n",
              " 0.6985757869274463,\n",
              " 0.0,\n",
              " 0.0,\n",
              " 0.0,\n",
              " 0.0,\n",
              " 0.0,\n",
              " 0.0,\n",
              " 0.6606041270788445,\n",
              " 0.0,\n",
              " 0.16666666666666666]"
            ]
          },
          "metadata": {
            "tags": []
          },
          "execution_count": 87
        }
      ]
    },
    {
      "cell_type": "code",
      "metadata": {
        "id": "nW-0lFwBJBkg"
      },
      "source": [
        "# Flatten the predictions and true values for aggregate Matthew's evaluation on the whole dataset\n",
        "flat_predictions = [item for sublist in predictions for item in sublist]\n",
        "flat_predictions = np.argmax(flat_predictions, axis=1).flatten()\n",
        "flat_true_labels = [item for sublist in true_labels for item in sublist]\n"
      ],
      "execution_count": null,
      "outputs": []
    },
    {
      "cell_type": "code",
      "metadata": {
        "id": "5xo5XU5ALxEL",
        "colab": {
          "base_uri": "https://localhost:8080/"
        },
        "outputId": "b6da4675-6f80-469d-d8c8-f38823d983e1"
      },
      "source": [
        "matthews_corrcoef(flat_true_labels, flat_predictions)\n"
      ],
      "execution_count": null,
      "outputs": [
        {
          "output_type": "execute_result",
          "data": {
            "text/plain": [
              "0.6793025714748516"
            ]
          },
          "metadata": {
            "tags": []
          },
          "execution_count": 89
        }
      ]
    },
    {
      "cell_type": "code",
      "metadata": {
        "id": "fYHR-t6nLzYB",
        "colab": {
          "base_uri": "https://localhost:8080/"
        },
        "outputId": "762b93e3-1d11-4dc5-d51e-081852de75a7"
      },
      "source": [
        "from sklearn.metrics import classification_report\n",
        "print(classification_report(flat_true_labels, flat_predictions))"
      ],
      "execution_count": null,
      "outputs": [
        {
          "output_type": "stream",
          "text": [
            "              precision    recall  f1-score   support\n",
            "\n",
            "           0       0.37      0.61      0.46        31\n",
            "           1       0.84      0.64      0.72       179\n",
            "           2       0.39      0.40      0.39        30\n",
            "           3       0.62      0.70      0.65        69\n",
            "           4       0.49      0.64      0.55       157\n",
            "           5       0.84      0.78      0.81        46\n",
            "           6       0.44      0.40      0.42        10\n",
            "           7       0.33      0.50      0.40         2\n",
            "           8       0.62      0.80      0.70        20\n",
            "           9       0.67      0.73      0.70        82\n",
            "          10       0.09      0.09      0.09        33\n",
            "          11       0.61      0.70      0.66        27\n",
            "          12       0.94      0.70      0.80       790\n",
            "          13       0.55      0.60      0.57       206\n",
            "          14       0.60      0.67      0.63       171\n",
            "          15       0.50      0.20      0.29         5\n",
            "          16       0.73      0.89      0.80        90\n",
            "          17       0.87      0.98      0.92        41\n",
            "          18       0.69      0.92      0.79        12\n",
            "          19       0.81      0.85      0.83        46\n",
            "          20       0.66      0.77      0.71       113\n",
            "          21       0.92      0.90      0.91        52\n",
            "          22       0.76      0.95      0.85       243\n",
            "          23       0.62      0.59      0.61        17\n",
            "          24       0.28      0.42      0.33        12\n",
            "          25       0.00      0.00      0.00         1\n",
            "\n",
            "    accuracy                           0.71      2485\n",
            "   macro avg       0.59      0.63      0.60      2485\n",
            "weighted avg       0.74      0.71      0.72      2485\n",
            "\n"
          ],
          "name": "stdout"
        },
        {
          "output_type": "stream",
          "text": [
            "/usr/local/lib/python3.6/dist-packages/sklearn/metrics/_classification.py:1272: UndefinedMetricWarning: Precision and F-score are ill-defined and being set to 0.0 in labels with no predicted samples. Use `zero_division` parameter to control this behavior.\n",
            "  _warn_prf(average, modifier, msg_start, len(result))\n"
          ],
          "name": "stderr"
        }
      ]
    },
    {
      "cell_type": "code",
      "metadata": {
        "id": "Nck65wniZ1nV"
      },
      "source": [
        ""
      ],
      "execution_count": null,
      "outputs": []
    }
  ]
}